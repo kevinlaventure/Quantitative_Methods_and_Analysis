{
 "cells": [
  {
   "cell_type": "markdown",
   "metadata": {},
   "source": [
    "### __Option Pricing on S&P 500 Daily Risk Control 10% Index__"
   ]
  },
  {
   "cell_type": "markdown",
   "metadata": {},
   "source": [
    "__The S&P 500 Daily Risk Control 10% Index (SPXT10UE) is part of S&P Dow Jones Risk Control Indices familly and use the below parameters__"
   ]
  },
  {
   "cell_type": "markdown",
   "metadata": {},
   "source": [
    "| ***Index Name*** | ***Underlying Risk Index*** | ***Risk Control Level*** | ***Maximum Leverage*** | ***Interest Rate*** | ***Volatility Calculation*** | ***Return Frequency for Volatility*** | ***Lag to Rebalancing Date*** | ***Decay Factor (Short-Term)*** | ***Decay Factor (Long-Term)*** | ***Rebalancing Frequency*** | ***Launch Date*** | ***Bloomberg Tickers***                                                           |\n",
    "|------------------------------------------------|------------------------------------------------------|------------------------|----------------------|-------------------------|----------------------------|--------------------------------------|-----------------------------|-------------------------------|------------------------------|---------------------------|---------------|---------------------------------------------------------------------------------|\n",
    "| S&P 500 Daily Risk Control 10% Index|S&P 500 Total Return: SPTR (USD) | 10% | 150%                 | SOFR + 0.02963*         | Exponentially weighted    | Daily                                | 2 days                      | 94%                           | 97%                          | Daily                     | 10-Sep-09     | ***Excess Return:*** SPXT10UE (USD)|\n"
   ]
  },
  {
   "cell_type": "markdown",
   "metadata": {},
   "source": [
    "__The S&P 500 Daily Risk Control indices are computed using the below methodology__"
   ]
  },
  {
   "cell_type": "markdown",
   "metadata": {},
   "source": [
    "$$\n",
    "\\text{Risk Control ER Index Value}_t \n",
    "= \n",
    "\\text{RiskControlERIndexValue}_{rb}\n",
    "\\,\\times\\,\n",
    "\\Biggl[\n",
    "1\n",
    "\\;+\\;\n",
    "K_{rb}\\,\\biggl(\\frac{\\text{UnderlyingIndex}_t}{\\text{UnderlyingIndex}_{t-1}} \\;-\\; 1\\biggr)\n",
    "\\;-\\;\n",
    "K_{rb}\\,\\Bigl(\n",
    "  \\prod_{i=rb+1}^{t}\\bigl(1 + \\text{InterestRate}_{i-1} \\times \\frac{D_{i-1,i}}{360}\\bigr)\n",
    "  \\;-\\; 1\n",
    "\\Bigr)\n",
    "\\Biggr]\n",
    "$$\n"
   ]
  },
  {
   "cell_type": "markdown",
   "metadata": {},
   "source": [
    "$$\n",
    "K_{rb} \n",
    "= \n",
    "\\min\\!\\Bigl(\\text{Max }K,\\;\\frac{\\text{Target Volatility}}{\\text{Realized Volatility}_{rb-d}}\\Bigr)\n",
    "$$\n"
   ]
  },
  {
   "cell_type": "markdown",
   "metadata": {},
   "source": [
    "$$\n",
    "\\text{RealizedVolatility}_t \n",
    "  = \\max\\bigl(\\text{RealizedVolatility}_{S,t}, \\text{RealizedVolatility}_{L,t}\\bigr)\n",
    "$$"
   ]
  },
  {
   "cell_type": "markdown",
   "metadata": {},
   "source": [
    "$$\n",
    "\\text{RealizedVolatility}_{S,t} \n",
    "  = \\sqrt{\\frac{252}{n}\\,\\text{Variance}_{S,t}}\n",
    "$$"
   ]
  },
  {
   "cell_type": "markdown",
   "metadata": {},
   "source": [
    "$$\n",
    "\\text{RealizedVolatility}_{L,t}\n",
    "  = \\sqrt{\\frac{252}{n}\\,\\text{Variance}_{L,t}}\n",
    "$$"
   ]
  },
  {
   "cell_type": "markdown",
   "metadata": {},
   "source": [
    "$$\n",
    "\\text{Variance}_{S,t}\n",
    "  = \\lambda_S\\,\\text{Variance}_{S,t-1}\n",
    "   + \\bigl(1 - \\lambda_S\\bigr)\\,\\left[\n",
    "       \\ln\\!\\Bigl(\\frac{\\text{UnderlyingIndex}_t}{\\text{UnderlyingIndex}_{t-n}}\\Bigr)\n",
    "     \\right]^2\n",
    "$$"
   ]
  },
  {
   "cell_type": "markdown",
   "metadata": {},
   "source": [
    "$$\n",
    "\\text{Variance}_{L,t}\n",
    "  = \\lambda_L\\,\\text{Variance}_{L,t-1}\n",
    "   + \\bigl(1 - \\lambda_L\\bigr)\\,\\left[\n",
    "       \\ln\\!\\Bigl(\\frac{\\text{UnderlyingIndex}_t}{\\text{UnderlyingIndex}_{t-n}}\\Bigr)\n",
    "     \\right]^2\n",
    "$$"
   ]
  },
  {
   "cell_type": "markdown",
   "metadata": {},
   "source": [
    "__Excess Return Volatility Target SDE with SABR Model__"
   ]
  },
  {
   "cell_type": "markdown",
   "metadata": {},
   "source": [
    "\n",
    "\\begin{aligned}\n",
    "\\frac{dV_t}{V_t} &= K_{rb}\\Bigl(g \\cdot dt + \\frac{dF_t}{F_t}\\Bigr)\n",
    "\\end{aligned}\n",
    "\n",
    "\\begin{aligned}\n",
    "\\frac{dF_t}{F_t}&= \\alpha_t dW_t\n",
    "\\end{aligned}\n",
    "\n",
    "\\begin{aligned}\n",
    "d\\alpha_t &= \\nu\\, \\alpha_t\\, dZ_t\n",
    "\\end{aligned}\n",
    "\n",
    "\\begin{aligned}\n",
    "\\mathrm{corr}(dW_t,dZ_t) &= \\rho\n",
    "\\end{aligned}\n",
    "\n",
    "\\begin{aligned}\n",
    "\\frac{dS_t}{S_t}&= (r+g)\\cdot dt + \\frac{dF_t}{F_t}\n",
    "\\end{aligned}"
   ]
  },
  {
   "cell_type": "code",
   "execution_count": 2,
   "metadata": {},
   "outputs": [],
   "source": [
    "# -------\n",
    "# IMPORT\n",
    "# -------\n",
    "import numpy as np\n",
    "import pandas as pd\n",
    "import plotly.express as px\n",
    "from python_module.pricing_model import BlackScholesModel, SABRModel"
   ]
  },
  {
   "cell_type": "code",
   "execution_count": 18,
   "metadata": {},
   "outputs": [],
   "source": [
    "# -------\n",
    "# INPUTS\n",
    "# -------\n",
    "F = 100\n",
    "T = 1\n",
    "alpha = 0.2 \n",
    "beta = 1 \n",
    "rho = -0.9\n",
    "nu = 0.9\n",
    "n_steps = 250\n",
    "n_paths = 1\n",
    "seed = True\n",
    "r = 0.03\n",
    "g = 0.0020\n",
    "dt = T / n_steps\n",
    "vol_target = 0.10\n",
    "max_leverage = 1.5"
   ]
  },
  {
   "cell_type": "code",
   "execution_count": null,
   "metadata": {},
   "outputs": [],
   "source": [
    "eq_process, iv_process = SABRModel.compute_montecarlo(F=F, T=T, alpha=alpha, beta=beta, rho=rho, nu=nu, n_steps=n_steps, n_paths=n_paths, seed=seed)\n",
    "risky_asset = (eq_process.pct_change() + r*dt + g*dt).fillna(0).add(1).cumprod() * F"
   ]
  },
  {
   "cell_type": "code",
   "execution_count": null,
   "metadata": {},
   "outputs": [],
   "source": []
  },
  {
   "cell_type": "code",
   "execution_count": null,
   "metadata": {},
   "outputs": [],
   "source": []
  }
 ],
 "metadata": {
  "kernelspec": {
   "display_name": "base",
   "language": "python",
   "name": "python3"
  },
  "language_info": {
   "codemirror_mode": {
    "name": "ipython",
    "version": 3
   },
   "file_extension": ".py",
   "mimetype": "text/x-python",
   "name": "python",
   "nbconvert_exporter": "python",
   "pygments_lexer": "ipython3",
   "version": "3.12.4"
  }
 },
 "nbformat": 4,
 "nbformat_minor": 2
}
