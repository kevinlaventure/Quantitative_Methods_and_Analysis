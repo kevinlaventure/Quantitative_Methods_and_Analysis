{
 "cells": [
  {
   "cell_type": "markdown",
   "metadata": {},
   "source": [
    "### __Option Pricing on S&P 500 Daily Risk Control 10% Index__"
   ]
  },
  {
   "cell_type": "markdown",
   "metadata": {},
   "source": [
    "__The S&P 500 Daily Risk Control 10% Index (SPXT10UE) is part of S&P Dow Jones Risk Control Indices familly and use the below parameters__"
   ]
  },
  {
   "cell_type": "markdown",
   "metadata": {},
   "source": [
    "| ***Index Name*** | ***Underlying Risk Index*** | ***Risk Control Level*** | ***Maximum Leverage*** | ***Interest Rate*** | ***Volatility Calculation*** | ***Return Frequency for Volatility*** | ***Lag to Rebalancing Date*** | ***Decay Factor (Short-Term)*** | ***Decay Factor (Long-Term)*** | ***Rebalancing Frequency*** | ***Launch Date*** | ***Bloomberg Tickers***                                                           |\n",
    "|------------------------------------------------|------------------------------------------------------|------------------------|----------------------|-------------------------|----------------------------|--------------------------------------|-----------------------------|-------------------------------|------------------------------|---------------------------|---------------|---------------------------------------------------------------------------------|\n",
    "| S&P 500 Daily Risk Control 10% Index|S&P 500 Total Return: SPTR (USD) | 10% | 150%                 | SOFR + 0.02963*         | Exponentially weighted    | Daily                                | 2 days                      | 94%                           | 97%                          | Daily                     | 10-Sep-09     | ***Excess Return:*** SPXT10UE (USD)|\n"
   ]
  },
  {
   "cell_type": "markdown",
   "metadata": {},
   "source": [
    "__The S&P 500 Daily Risk Control indices are computed using the below methodology__"
   ]
  },
  {
   "cell_type": "markdown",
   "metadata": {},
   "source": [
    "$$\n",
    "\\text{Risk Control ER Index Value}_t \n",
    "= \n",
    "\\text{RiskControlERIndexValue}_{rb}\n",
    "\\,\\times\\,\n",
    "\\Biggl[\n",
    "1\n",
    "\\;+\\;\n",
    "K_{rb}\\,\\biggl(\\frac{\\text{UnderlyingIndex}_t}{\\text{UnderlyingIndex}_{t-1}} \\;-\\; 1\\biggr)\n",
    "\\;-\\;\n",
    "K_{rb}\\,\\Bigl(\n",
    "  \\prod_{i=rb+1}^{t}\\bigl(1 + \\text{InterestRate}_{i-1} \\times \\frac{D_{i-1,i}}{360}\\bigr)\n",
    "  \\;-\\; 1\n",
    "\\Bigr)\n",
    "\\Biggr]\n",
    "$$\n"
   ]
  },
  {
   "cell_type": "markdown",
   "metadata": {},
   "source": [
    "$$\n",
    "K_{rb} \n",
    "= \n",
    "\\min\\!\\Bigl(\\text{Max }K,\\;\\frac{\\text{Target Volatility}}{\\text{Realized Volatility}_{rb-d}}\\Bigr)\n",
    "$$\n"
   ]
  },
  {
   "cell_type": "markdown",
   "metadata": {},
   "source": [
    "$$\n",
    "\\text{RealizedVolatility}_t \n",
    "  = \\max\\bigl(\\text{RealizedVolatility}_{S,t}, \\text{RealizedVolatility}_{L,t}\\bigr)\n",
    "$$"
   ]
  },
  {
   "cell_type": "markdown",
   "metadata": {},
   "source": [
    "$$\n",
    "\\text{RealizedVolatility}_{S,t} \n",
    "  = \\sqrt{\\frac{252}{n}\\,\\text{Variance}_{S,t}}\n",
    "$$"
   ]
  },
  {
   "cell_type": "markdown",
   "metadata": {},
   "source": [
    "$$\n",
    "\\text{RealizedVolatility}_{L,t}\n",
    "  = \\sqrt{\\frac{252}{n}\\,\\text{Variance}_{L,t}}\n",
    "$$"
   ]
  },
  {
   "cell_type": "markdown",
   "metadata": {},
   "source": [
    "$$\n",
    "\\text{Variance}_{S,t}\n",
    "  = \\lambda_S\\,\\text{Variance}_{S,t-1}\n",
    "   + \\bigl(1 - \\lambda_S\\bigr)\\,\\left[\n",
    "       \\ln\\!\\Bigl(\\frac{\\text{UnderlyingIndex}_t}{\\text{UnderlyingIndex}_{t-n}}\\Bigr)\n",
    "     \\right]^2\n",
    "$$"
   ]
  },
  {
   "cell_type": "markdown",
   "metadata": {},
   "source": [
    "$$\n",
    "\\text{Variance}_{L,t}\n",
    "  = \\lambda_L\\,\\text{Variance}_{L,t-1}\n",
    "   + \\bigl(1 - \\lambda_L\\bigr)\\,\\left[\n",
    "       \\ln\\!\\Bigl(\\frac{\\text{UnderlyingIndex}_t}{\\text{UnderlyingIndex}_{t-n}}\\Bigr)\n",
    "     \\right]^2\n",
    "$$"
   ]
  },
  {
   "cell_type": "markdown",
   "metadata": {},
   "source": [
    "__Excess Return Volatility Target SDE with SABR Model__"
   ]
  },
  {
   "cell_type": "markdown",
   "metadata": {},
   "source": [
    "\n",
    "\\begin{aligned}\n",
    "\\frac{dV_t}{V_t} &= K_{rb}\\Bigl(g \\cdot dt + \\frac{dF_t}{F_t}\\Bigr)\n",
    "\\end{aligned}\n",
    "\n",
    "\\begin{aligned}\n",
    "\\frac{dF_t}{F_t}&= \\alpha_t dW_t\n",
    "\\end{aligned}\n",
    "\n",
    "\\begin{aligned}\n",
    "d\\alpha_t &= \\nu\\, \\alpha_t\\, dZ_t\n",
    "\\end{aligned}\n",
    "\n",
    "\\begin{aligned}\n",
    "\\mathrm{corr}(dW_t,dZ_t) &= \\rho\n",
    "\\end{aligned}\n",
    "\n",
    "\\begin{aligned}\n",
    "\\frac{dS_t}{S_t}&= (r+g)\\cdot dt + \\frac{dF_t}{F_t}\n",
    "\\end{aligned}"
   ]
  },
  {
   "cell_type": "code",
   "execution_count": 2,
   "metadata": {},
   "outputs": [],
   "source": [
    "# -------\n",
    "# IMPORT\n",
    "# -------\n",
    "import numpy as np\n",
    "import pandas as pd\n",
    "import plotly.express as px\n",
    "from python_module.pricing_model import BlackScholesModel, SABRModel"
   ]
  },
  {
   "cell_type": "code",
   "execution_count": 7,
   "metadata": {},
   "outputs": [],
   "source": [
    "# -------\n",
    "# INPUTS\n",
    "# -------\n",
    "F = 100\n",
    "T = 1\n",
    "alpha = 0.2 \n",
    "beta = 1 \n",
    "rho = -0.9\n",
    "nu = 0.9\n",
    "n_steps = 250\n",
    "n_paths = 1\n",
    "seed = True"
   ]
  },
  {
   "cell_type": "code",
   "execution_count": 9,
   "metadata": {},
   "outputs": [],
   "source": [
    "asset_process, vol_process = SABRModel.compute_montecarlo(F=F, T=T, alpha=alpha, beta=beta, rho=rho, nu=nu, n_steps=n_steps, n_paths=n_paths, seed=seed)"
   ]
  },
  {
   "cell_type": "code",
   "execution_count": 10,
   "metadata": {},
   "outputs": [
    {
     "data": {
      "text/html": [
       "<div>\n",
       "<style scoped>\n",
       "    .dataframe tbody tr th:only-of-type {\n",
       "        vertical-align: middle;\n",
       "    }\n",
       "\n",
       "    .dataframe tbody tr th {\n",
       "        vertical-align: top;\n",
       "    }\n",
       "\n",
       "    .dataframe thead th {\n",
       "        text-align: right;\n",
       "    }\n",
       "</style>\n",
       "<table border=\"1\" class=\"dataframe\">\n",
       "  <thead>\n",
       "    <tr style=\"text-align: right;\">\n",
       "      <th></th>\n",
       "      <th>0</th>\n",
       "    </tr>\n",
       "  </thead>\n",
       "  <tbody>\n",
       "    <tr>\n",
       "      <th>0</th>\n",
       "      <td>100.000000</td>\n",
       "    </tr>\n",
       "    <tr>\n",
       "      <th>1</th>\n",
       "      <td>99.050539</td>\n",
       "    </tr>\n",
       "    <tr>\n",
       "      <th>2</th>\n",
       "      <td>100.762805</td>\n",
       "    </tr>\n",
       "    <tr>\n",
       "      <th>3</th>\n",
       "      <td>102.311702</td>\n",
       "    </tr>\n",
       "    <tr>\n",
       "      <th>4</th>\n",
       "      <td>100.433048</td>\n",
       "    </tr>\n",
       "    <tr>\n",
       "      <th>...</th>\n",
       "      <td>...</td>\n",
       "    </tr>\n",
       "    <tr>\n",
       "      <th>246</th>\n",
       "      <td>93.570927</td>\n",
       "    </tr>\n",
       "    <tr>\n",
       "      <th>247</th>\n",
       "      <td>93.724163</td>\n",
       "    </tr>\n",
       "    <tr>\n",
       "      <th>248</th>\n",
       "      <td>95.146604</td>\n",
       "    </tr>\n",
       "    <tr>\n",
       "      <th>249</th>\n",
       "      <td>94.649050</td>\n",
       "    </tr>\n",
       "    <tr>\n",
       "      <th>250</th>\n",
       "      <td>90.930231</td>\n",
       "    </tr>\n",
       "  </tbody>\n",
       "</table>\n",
       "<p>251 rows × 1 columns</p>\n",
       "</div>"
      ],
      "text/plain": [
       "              0\n",
       "0    100.000000\n",
       "1     99.050539\n",
       "2    100.762805\n",
       "3    102.311702\n",
       "4    100.433048\n",
       "..          ...\n",
       "246   93.570927\n",
       "247   93.724163\n",
       "248   95.146604\n",
       "249   94.649050\n",
       "250   90.930231\n",
       "\n",
       "[251 rows x 1 columns]"
      ]
     },
     "execution_count": 10,
     "metadata": {},
     "output_type": "execute_result"
    }
   ],
   "source": [
    "asset_process"
   ]
  },
  {
   "cell_type": "code",
   "execution_count": null,
   "metadata": {},
   "outputs": [],
   "source": []
  }
 ],
 "metadata": {
  "kernelspec": {
   "display_name": "base",
   "language": "python",
   "name": "python3"
  },
  "language_info": {
   "codemirror_mode": {
    "name": "ipython",
    "version": 3
   },
   "file_extension": ".py",
   "mimetype": "text/x-python",
   "name": "python",
   "nbconvert_exporter": "python",
   "pygments_lexer": "ipython3",
   "version": "3.12.4"
  }
 },
 "nbformat": 4,
 "nbformat_minor": 2
}
