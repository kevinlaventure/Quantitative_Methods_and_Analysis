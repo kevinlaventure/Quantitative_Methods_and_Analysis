{
 "cells": [
  {
   "cell_type": "markdown",
   "metadata": {},
   "source": [
    "### __Option Pricing on S&P 500 Daily Risk Control 10% Index__"
   ]
  },
  {
   "cell_type": "markdown",
   "metadata": {},
   "source": [
    "__The S&P 500 Daily Risk Control 10% Index (SPXT10UE) is part of S&P Dow Jones Risk Control Indices familly and use the below parameters__"
   ]
  },
  {
   "cell_type": "markdown",
   "metadata": {},
   "source": [
    "| ***Index Name*** | ***Underlying Risk Index*** | ***Risk Control Level*** | ***Maximum Leverage*** | ***Interest Rate*** | ***Volatility Calculation*** | ***Return Frequency for Volatility*** | ***Lag to Rebalancing Date*** | ***Decay Factor (Short-Term)*** | ***Decay Factor (Long-Term)*** | ***Rebalancing Frequency*** | ***Launch Date*** | ***Bloomberg Tickers***                                                           |\n",
    "|------------------------------------------------|------------------------------------------------------|------------------------|----------------------|-------------------------|----------------------------|--------------------------------------|-----------------------------|-------------------------------|------------------------------|---------------------------|---------------|---------------------------------------------------------------------------------|\n",
    "| S&P 500 Daily Risk Control 10% Index|S&P 500 Total Return: SPTR (USD) | 10% | 150%                 | SOFR + 0.02963*         | Exponentially weighted    | Daily                                | 2 days                      | 94%                           | 97%                          | Daily                     | 10-Sep-09     | ***Excess Return:*** SPXT10UE (USD)|\n"
   ]
  },
  {
   "cell_type": "markdown",
   "metadata": {},
   "source": [
    "__The S&P 500 Daily Risk Control indices are computed using the below methodology__"
   ]
  },
  {
   "cell_type": "markdown",
   "metadata": {},
   "source": [
    "$$\n",
    "\\text{Risk Control ER Index Value}_t \n",
    "= \n",
    "\\text{RiskControlERIndexValue}_{rb}\n",
    "\\,\\times\\,\n",
    "\\Biggl[\n",
    "1\n",
    "\\;+\\;\n",
    "K_{rb}\\,\\biggl(\\frac{\\text{UnderlyingIndex}_t}{\\text{UnderlyingIndex}_{t-1}} \\;-\\; 1\\biggr)\n",
    "\\;-\\;\n",
    "K_{rb}\\,\\Bigl(\n",
    "  \\prod_{i=rb+1}^{t}\\bigl(1 + \\text{InterestRate}_{i-1} \\times \\frac{D_{i-1,i}}{360}\\bigr)\n",
    "  \\;-\\; 1\n",
    "\\Bigr)\n",
    "\\Biggr]\n",
    "$$\n"
   ]
  },
  {
   "cell_type": "markdown",
   "metadata": {},
   "source": [
    "$$\n",
    "K_{rb} \n",
    "= \n",
    "\\min\\!\\Bigl(\\text{Max }K,\\;\\frac{\\text{Target Volatility}}{\\text{Realized Volatility}_{rb-d}}\\Bigr)\n",
    "$$\n"
   ]
  },
  {
   "cell_type": "markdown",
   "metadata": {},
   "source": [
    "$$\n",
    "\\text{RealizedVolatility}_{S,t} \n",
    "  = \\sqrt{\\frac{252}{n}\\,\\text{Variance}_{S,t}}\n",
    "$$"
   ]
  },
  {
   "cell_type": "markdown",
   "metadata": {},
   "source": [
    "$$\n",
    "\\text{RealizedVolatility}_{L,t}\n",
    "  = \\sqrt{\\frac{252}{n}\\,\\text{Variance}_{L,t}}\n",
    "$$"
   ]
  },
  {
   "cell_type": "markdown",
   "metadata": {},
   "source": [
    "$$\n",
    "\\text{Variance}_{S,t}\n",
    "  = \\lambda_S\\,\\text{Variance}_{S,t-1}\n",
    "   + \\bigl(1 - \\lambda_S\\bigr)\\,\\left[\n",
    "       \\ln\\!\\Bigl(\\frac{\\text{UnderlyingIndex}_t}{\\text{UnderlyingIndex}_{t-n}}\\Bigr)\n",
    "     \\right]^2\n",
    "$$"
   ]
  },
  {
   "cell_type": "markdown",
   "metadata": {},
   "source": [
    "$$\n",
    "\\text{Variance}_{L,t}\n",
    "  = \\lambda_L\\,\\text{Variance}_{L,t-1}\n",
    "   + \\bigl(1 - \\lambda_L\\bigr)\\,\\left[\n",
    "       \\ln\\!\\Bigl(\\frac{\\text{UnderlyingIndex}_t}{\\text{UnderlyingIndex}_{t-n}}\\Bigr)\n",
    "     \\right]^2\n",
    "$$"
   ]
  },
  {
   "cell_type": "code",
   "execution_count": 13,
   "metadata": {},
   "outputs": [],
   "source": [
    "# -------\n",
    "# IMPORT\n",
    "# -------\n",
    "import numpy as np\n",
    "import pandas as pd\n",
    "import plotly.express as px\n",
    "from python_module.pricing_model import BSMModel, SABRModel, HestonHullWhiteModel\n",
    "\n",
    "pd.options.display.max_rows = 30\n",
    "pd.options.display.max_columns = 30\n",
    "pd.options.display.float_format = '{:,.4f}'.format"
   ]
  },
  {
   "cell_type": "code",
   "execution_count": 107,
   "metadata": {},
   "outputs": [],
   "source": [
    "def compute_voltarget_price(\n",
    "        F0, S0, K,\n",
    "        v0, r0, b0,\n",
    "        kappa_v, theta_v, sigma_v,\n",
    "        kappa_r, theta_r, sigma_r,\n",
    "        rho_sv, rho_sr, rho_vr,\n",
    "        T, M, N,\n",
    "        seed, seed_value,\n",
    "        init_r_var,\n",
    "        lambda_l, lambda_s,\n",
    "        target_vol, max_beta,\n",
    "        lag,\n",
    "        excess_return,\n",
    "        get_extra_outputs):\n",
    "    S, v, r = HestonHullWhiteModel.compute_montecarlo(\n",
    "    S0=S0, v0=v0, r0=r0, b0=b0,\n",
    "    kappa_v=kappa_v, theta_v=theta_v, sigma_v=sigma_v,\n",
    "    kappa_r=kappa_r, theta_r=theta_r, sigma_r=sigma_r,\n",
    "    rho_sv=rho_sv, rho_sr=rho_sr, rho_vr=rho_vr,\n",
    "    T=T, N=N, M=M,\n",
    "    seed=seed, seed_value=seed_value)\n",
    "\n",
    "    S_df = pd.DataFrame(S)\n",
    "    r_df = pd.DataFrame(r)\n",
    "\n",
    "    S_df.iloc[0, :] = F0\n",
    "\n",
    "    log_returns = np.log(S_df / S_df.shift(1)).pow(2).fillna(init_r_var)\n",
    "\n",
    "    alpha_l = 1 - lambda_l\n",
    "    variance_l = log_returns.ewm(alpha=alpha_l, adjust=False).mean()\n",
    "\n",
    "    alpha_s = 1 - lambda_s\n",
    "    variance_s = log_returns.ewm(alpha=alpha_s, adjust=False).mean()\n",
    "\n",
    "    r_vol_l = np.sqrt(variance_l * 252)\n",
    "    r_vol_s = np.sqrt(variance_s * 252)\n",
    "\n",
    "    realized_vol = r_vol_l.combine(r_vol_s, np.maximum)\n",
    "\n",
    "    beta = (target_vol / realized_vol.shift(lag)).clip(upper=max_beta).bfill()\n",
    "\n",
    "    vt_returns = (S_df.pct_change().fillna(0) * beta)\n",
    "    if excess_return:\n",
    "        risk_free = beta * (r_df * (T / M))\n",
    "        vt_returns -= risk_free\n",
    "\n",
    "    vt_price = vt_returns.add(1).cumprod() * 100\n",
    "    vt_call_price = (vt_price.iloc[-1].add(-K).clip(lower=0).multiply(np.exp(-pd.DataFrame(r).multiply((T / M)).sum()))).mean()\n",
    "\n",
    "    if get_extra_outputs:\n",
    "        return {'call_price': vt_call_price,\n",
    "                'average_beta': beta.mean().mean(),\n",
    "                'vt_forrward': vt_price.iloc[-1].mean(),\n",
    "                'average_realized_vol': np.sqrt(vt_returns.pow(2).mean().mean() * 252)}\n",
    "    else:\n",
    "        return vt_call_price"
   ]
  },
  {
   "cell_type": "code",
   "execution_count": 112,
   "metadata": {},
   "outputs": [],
   "source": [
    "def compute_numeric_derivative(pricing_fun, base_params, param_names, h=None):\n",
    "    \"\"\"\n",
    "    Numerically compute derivative(s) of pricing_fun at base_params.\n",
    "\n",
    "    - pricing_fun: callable(**kwargs) -> scalar price\n",
    "    - base_params: dict of parameters to pass to pricing_fun\n",
    "    - param_names: str or (str, str)\n",
    "        * If str -> first derivative w.r.t that parameter (central difference)\n",
    "        * If (p, p) -> second derivative w.r.t p (second central difference)\n",
    "        * If (p, q) with p != q -> mixed second partial d2/dp dq (central)\n",
    "    - h: optional bump size (scalar or dict mapping param->h). If None, automatic h used.\n",
    "\n",
    "    Returns numeric derivative (float).\n",
    "    \"\"\"\n",
    "    import numpy as np\n",
    "\n",
    "    def safe_eval(params):\n",
    "        val = pricing_fun(**params)\n",
    "        a = np.asarray(val)\n",
    "        if a.size != 1:\n",
    "            raise ValueError(\"pricing_fun must return a scalar-like value\")\n",
    "        return float(a.item())\n",
    "\n",
    "    eps = np.finfo(float).eps\n",
    "    # normalize param_names to tuple\n",
    "    if isinstance(param_names, str):\n",
    "        params = (param_names,)\n",
    "    else:\n",
    "        params = tuple(param_names)\n",
    "\n",
    "    # helper to compute adaptive h for a single param\n",
    "    def get_h_for(name, x):\n",
    "        if h is None:\n",
    "            return (eps ** (1/3)) * (abs(x) + 1.0)\n",
    "        if isinstance(h, dict):\n",
    "            return float(h.get(name, (eps ** (1/3)) * (abs(x) + 1.0)))\n",
    "        return float(h)\n",
    "\n",
    "    # single derivative (first)\n",
    "    if len(params) == 1:\n",
    "        p = params[0]\n",
    "        x0 = float(base_params[p])\n",
    "        hh = get_h_for(p, x0)\n",
    "        p_plus = dict(base_params); p_plus[p] = x0 + hh\n",
    "        p_minus = dict(base_params); p_minus[p] = x0 - hh\n",
    "        f_plus = safe_eval(p_plus)\n",
    "        f_minus = safe_eval(p_minus)\n",
    "        return (f_plus - f_minus) / (2.0 * hh)\n",
    "\n",
    "    # two params -> second derivative or mixed partial\n",
    "    if len(params) == 2:\n",
    "        p, q = params\n",
    "        x_p = float(base_params[p])\n",
    "        x_q = float(base_params[q])\n",
    "        h_p = get_h_for(p, x_p)\n",
    "        h_q = get_h_for(q, x_q)\n",
    "\n",
    "        if p == q:\n",
    "            # second derivative w.r.t same parameter\n",
    "            p_plus = dict(base_params); p_plus[p] = x_p + h_p\n",
    "            p_minus = dict(base_params); p_minus[p] = x_p - h_p\n",
    "            f_plus = safe_eval(p_plus)\n",
    "            f0 = safe_eval(base_params)\n",
    "            f_minus = safe_eval(p_minus)\n",
    "            return (f_plus - 2.0 * f0 + f_minus) / (h_p ** 2)\n",
    "        else:\n",
    "            # mixed partial: central 4-point formula\n",
    "            pp = dict(base_params); pp[p] = x_p + h_p; pp[q] = x_q + h_q\n",
    "            pm = dict(base_params); pm[p] = x_p + h_p; pm[q] = x_q - h_q\n",
    "            mp = dict(base_params); mp[p] = x_p - h_p; mp[q] = x_q + h_q\n",
    "            mm = dict(base_params); mm[p] = x_p - h_p; mm[q] = x_q - h_q\n",
    "            f_pp = safe_eval(pp)\n",
    "            f_pm = safe_eval(pm)\n",
    "            f_mp = safe_eval(mp)\n",
    "            f_mm = safe_eval(mm)\n",
    "            return (f_pp - f_pm - f_mp + f_mm) / (4.0 * h_p * h_q)\n",
    "\n",
    "    raise ValueError(\"param_names must be a string or a tuple/list of two strings\")"
   ]
  },
  {
   "cell_type": "code",
   "execution_count": null,
   "metadata": {},
   "outputs": [],
   "source": [
    "# Default Parameters\n",
    "params = {\n",
    "    # Initial values\n",
    "    \"F0\": 100,                   # Initial Fixing\n",
    "    \"K\": 100,                    # Strike\n",
    "    \"S0\": 100.0,                 # Initial stock price\n",
    "    \"v0\": 0.17**2,               # Initial variance\n",
    "    \"r0\": 0.036,                 # Initial short rate\n",
    "    \"b0\": 0.0033,                # Initial gross spread\n",
    "\n",
    "    # Variance process parameters\n",
    "    \"kappa_v\": 2.5,              # Mean reversion speed for variance\n",
    "    \"theta_v\": 0.17**2,           # Long-term variance\n",
    "    \"sigma_v\": 0.35,              # Volatility of variance\n",
    "\n",
    "    # Interest rate process parameters\n",
    "    \"kappa_r\": 1.0,             # Mean reversion speed for rates\n",
    "    \"theta_r\": 0.025,             # Long-term interest rate\n",
    "    \"sigma_r\": 0.015,          # Volatility of interest rate\n",
    "\n",
    "    # Correlation parameters\n",
    "    \"rho_sv\": -0.6,              # Stock-variance correlation\n",
    "    \"rho_sr\": 0.2,               # Stock-rate correlation\n",
    "    \"rho_vr\": -0.2,              # Variance-rate correlation\n",
    "\n",
    "    # Simulation parameters\n",
    "    \"T\": 1.0,                    # Time horizon in years\n",
    "    \"M\": 252,                    # Number of simulations\n",
    "    \"N\": 10000,                  # Number of time steps\n",
    "    \"seed\": True,                # Use seed for reproducibility\n",
    "    \"seed_value\": 44,            # Seed value\n",
    "\n",
    "    \"init_r_var\": (0.17**2) / 252,\n",
    "\n",
    "    # Risk control parameters\n",
    "    \"lambda_l\": 0.97,\n",
    "    \"lambda_s\": 0.94,\n",
    "    \"target_vol\": 0.1,\n",
    "    \"max_beta\": 1.5,\n",
    "    \"lag\": 2,\n",
    "\n",
    "    \"excess_return\": True,\n",
    "\n",
    "    'get_extra_outputs': False,\n",
    "}"
   ]
  },
  {
   "cell_type": "code",
   "execution_count": 153,
   "metadata": {},
   "outputs": [
    {
     "name": "stdout",
     "output_type": "stream",
     "text": [
      "delta 0.31089663440690846\n",
      "gamma -0.017112437658429167\n",
      "theta -0.0009032922045717681\n"
     ]
    }
   ],
   "source": [
    "delta = compute_numeric_derivative(compute_voltarget_price, params, 'S0')\n",
    "gamma = compute_numeric_derivative(compute_voltarget_price, params, ('S0','S0'))\n",
    "theta = compute_numeric_derivative(compute_voltarget_price, params, ('T'))\n",
    "print('delta', delta)\n",
    "print('gamma', gamma)\n",
    "print('theta', theta/-250)"
   ]
  },
  {
   "cell_type": "code",
   "execution_count": 155,
   "metadata": {},
   "outputs": [
    {
     "data": {
      "text/plain": [
       "{'call_price': 3.9744069397599087,\n",
       " 'average_beta': 0.6765143202676414,\n",
       " 'vt_forrward': 100.38080382175526,\n",
       " 'average_realized_vol': 0.09696662372964951}"
      ]
     },
     "execution_count": 155,
     "metadata": {},
     "output_type": "execute_result"
    }
   ],
   "source": [
    "params_ = {**params}\n",
    "params_['get_extra_outputs'] = True\n",
    "compute_voltarget_price(**params_)"
   ]
  },
  {
   "cell_type": "code",
   "execution_count": 161,
   "metadata": {},
   "outputs": [
    {
     "data": {
      "text/plain": [
       "{'call_price': 3.9833370963150774,\n",
       " 'average_beta': 0.6343657660947094,\n",
       " 'vt_forrward': 100.37436596208128,\n",
       " 'average_realized_vol': 0.09729273574808975}"
      ]
     },
     "execution_count": 161,
     "metadata": {},
     "output_type": "execute_result"
    }
   ],
   "source": [
    "params_ = {**params}\n",
    "params_['v0'] = 0.2**2\n",
    "params_['get_extra_outputs'] = True\n",
    "compute_voltarget_price(**params_)"
   ]
  },
  {
   "cell_type": "code",
   "execution_count": 159,
   "metadata": {},
   "outputs": [
    {
     "data": {
      "text/plain": [
       "{'call_price': 4.063077832002311,\n",
       " 'average_beta': 0.566025845862799,\n",
       " 'vt_forrward': 100.35644571884563,\n",
       " 'average_realized_vol': 0.09959483181129497}"
      ]
     },
     "execution_count": 159,
     "metadata": {},
     "output_type": "execute_result"
    }
   ],
   "source": [
    "params_ = {**params}\n",
    "params_['v0'] = 0.2**2\n",
    "params_['theta_v'] = 0.2**2\n",
    "params_['get_extra_outputs'] = True\n",
    "compute_voltarget_price(**params_)"
   ]
  },
  {
   "cell_type": "code",
   "execution_count": 167,
   "metadata": {},
   "outputs": [
    {
     "data": {
      "text/plain": [
       "{'call_price': 4.220322827360221,\n",
       " 'average_beta': 0.7142957004357975,\n",
       " 'vt_forrward': 100.41300938197651,\n",
       " 'average_realized_vol': 0.10272849165363304}"
      ]
     },
     "execution_count": 167,
     "metadata": {},
     "output_type": "execute_result"
    }
   ],
   "source": [
    "params_ = {**params}\n",
    "params_['init_r_var'] = (0.1**2) / 252\n",
    "params_['get_extra_outputs'] = True\n",
    "compute_voltarget_price(**params_)"
   ]
  }
 ],
 "metadata": {
  "kernelspec": {
   "display_name": "base",
   "language": "python",
   "name": "python3"
  },
  "language_info": {
   "codemirror_mode": {
    "name": "ipython",
    "version": 3
   },
   "file_extension": ".py",
   "mimetype": "text/x-python",
   "name": "python",
   "nbconvert_exporter": "python",
   "pygments_lexer": "ipython3",
   "version": "3.12.4"
  }
 },
 "nbformat": 4,
 "nbformat_minor": 2
}
