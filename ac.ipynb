{
 "cells": [
  {
   "cell_type": "code",
   "execution_count": 1,
   "id": "7c3fa57c",
   "metadata": {},
   "outputs": [],
   "source": [
    "import numpy as np\n",
    "import pandas as pd\n",
    "from tqdm import tqdm\n",
    "import plotly.express as px\n",
    "from python_module.pricing_model import BSMModel"
   ]
  },
  {
   "cell_type": "code",
   "execution_count": 8,
   "id": "5b8367b5",
   "metadata": {},
   "outputs": [],
   "source": [
    "df = BSMModel.compute_montecarlo(S=100, T=1, r=0, g=0, q=0, sigma=0.1, n_steps=252, n_paths=10000, seed=True, seed_value=42)"
   ]
  },
  {
   "cell_type": "code",
   "execution_count": 29,
   "id": "d47f8225",
   "metadata": {},
   "outputs": [
    {
     "name": "stderr",
     "output_type": "stream",
     "text": [
      "100%|██████████| 10000/10000 [00:02<00:00, 3445.60it/s]\n"
     ]
    }
   ],
   "source": [
    "payoff_return_df = dict()\n",
    "\n",
    "for col in tqdm(df.columns):\n",
    "\n",
    "    autocalled = False\n",
    "    payoff_return = dict()\n",
    "\n",
    "    for index in df[col].index:\n",
    "\n",
    "        if index == df[col].index[0]:\n",
    "            payoff_return[index] = 0\n",
    "            continue\n",
    "\n",
    "        if autocalled:\n",
    "            payoff_return[index] = 0\n",
    "\n",
    "        else:\n",
    "\n",
    "            if df[col][index] > 100:\n",
    "                payoff_return[index] = 0.5/252\n",
    "                autocalled = True\n",
    "\n",
    "            if index == df[col].index[-1] and df[col][index] <= 50:\n",
    "                payoff_return[index] = max([-1, ((df[col][index]/100) - 1)*3])\n",
    "\n",
    "            elif df[col][index] > 90 and df[col][index] < 100:\n",
    "                payoff_return[index] = 0.04/252\n",
    "\n",
    "            else:\n",
    "                payoff_return[index] = 0\n",
    "\n",
    "    payoff_return_df[col] = payoff_return"
   ]
  },
  {
   "cell_type": "code",
   "execution_count": 30,
   "id": "dd57aef0",
   "metadata": {},
   "outputs": [],
   "source": [
    "payoff_return_df = pd.DataFrame(payoff_return_df)"
   ]
  },
  {
   "cell_type": "code",
   "execution_count": 31,
   "id": "15bf85b2",
   "metadata": {},
   "outputs": [
    {
     "data": {
      "text/plain": [
       "count    10000.000000\n",
       "mean         0.002232\n",
       "std          0.006602\n",
       "min          0.000000\n",
       "25%          0.000000\n",
       "50%          0.000159\n",
       "75%          0.000635\n",
       "max          0.040807\n",
       "dtype: float64"
      ]
     },
     "execution_count": 31,
     "metadata": {},
     "output_type": "execute_result"
    }
   ],
   "source": [
    "((payoff_return_df.add(1).prod() / 1) - 1).describe()"
   ]
  },
  {
   "cell_type": "code",
   "execution_count": 28,
   "id": "72de961a",
   "metadata": {},
   "outputs": [
    {
     "data": {
      "text/plain": [
       "0       0.000000\n",
       "4650    0.000000\n",
       "4647    0.000000\n",
       "4646    0.000000\n",
       "4645    0.000000\n",
       "          ...   \n",
       "8113    0.051266\n",
       "7516    0.051266\n",
       "3834    0.051266\n",
       "3754    0.051266\n",
       "6847    0.051266\n",
       "Length: 10000, dtype: float64"
      ]
     },
     "execution_count": 28,
     "metadata": {},
     "output_type": "execute_result"
    }
   ],
   "source": [
    "((payoff_return_df.add(1).prod() / 1) - 1).sort_values()"
   ]
  },
  {
   "cell_type": "code",
   "execution_count": null,
   "id": "47152f43",
   "metadata": {},
   "outputs": [],
   "source": [
    "payoff_return_df"
   ]
  },
  {
   "cell_type": "code",
   "execution_count": null,
   "id": "337c5f1f",
   "metadata": {},
   "outputs": [],
   "source": [
    "px.line(df[19])"
   ]
  },
  {
   "cell_type": "code",
   "execution_count": null,
   "id": "da03e67f",
   "metadata": {},
   "outputs": [],
   "source": [
    "px.line(payoff_return_df[19].add(1).cumprod())"
   ]
  },
  {
   "cell_type": "code",
   "execution_count": null,
   "id": "dac8126e",
   "metadata": {},
   "outputs": [],
   "source": []
  },
  {
   "cell_type": "code",
   "execution_count": null,
   "id": "887dfdb7",
   "metadata": {},
   "outputs": [],
   "source": [
    "np.round(payoff_return_df.mean().mean(), 4)"
   ]
  },
  {
   "cell_type": "code",
   "execution_count": null,
   "id": "8d671777",
   "metadata": {},
   "outputs": [],
   "source": [
    "0.3/252"
   ]
  },
  {
   "cell_type": "code",
   "execution_count": null,
   "id": "0b4ed4a8",
   "metadata": {},
   "outputs": [],
   "source": [
    "payoff_return_df[88]"
   ]
  },
  {
   "cell_type": "code",
   "execution_count": null,
   "id": "edb5a282",
   "metadata": {},
   "outputs": [],
   "source": [
    "df[88]"
   ]
  },
  {
   "cell_type": "code",
   "execution_count": null,
   "id": "cff1014e",
   "metadata": {},
   "outputs": [],
   "source": [
    "px.line(df)"
   ]
  },
  {
   "cell_type": "code",
   "execution_count": null,
   "id": "1692f33d",
   "metadata": {},
   "outputs": [],
   "source": []
  }
 ],
 "metadata": {
  "kernelspec": {
   "display_name": "base",
   "language": "python",
   "name": "python3"
  },
  "language_info": {
   "codemirror_mode": {
    "name": "ipython",
    "version": 3
   },
   "file_extension": ".py",
   "mimetype": "text/x-python",
   "name": "python",
   "nbconvert_exporter": "python",
   "pygments_lexer": "ipython3",
   "version": "3.12.4"
  }
 },
 "nbformat": 4,
 "nbformat_minor": 5
}
