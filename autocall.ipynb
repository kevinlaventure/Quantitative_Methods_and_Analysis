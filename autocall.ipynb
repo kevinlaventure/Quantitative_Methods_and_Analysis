{
 "cells": [
  {
   "cell_type": "code",
   "execution_count": 1,
   "id": "7c3fa57c",
   "metadata": {},
   "outputs": [],
   "source": [
    "import numpy as np\n",
    "import pandas as pd\n",
    "from tqdm import tqdm\n",
    "import plotly.express as px\n",
    "from python_module.pricing_model import BSMModel\n",
    "\n",
    "pd.options.display.max_rows = 30\n",
    "pd.options.display.max_columns = 30\n",
    "pd.options.display.float_format = '{:,.4f}'.format"
   ]
  },
  {
   "cell_type": "code",
   "execution_count": 2,
   "id": "5b8367b5",
   "metadata": {},
   "outputs": [],
   "source": [
    "df = BSMModel.compute_montecarlo(S=100, T=5, r=0, g=0, q=0, sigma=0.1, n_steps=252*5, n_paths=10000, seed=True, seed_value=42)"
   ]
  },
  {
   "cell_type": "code",
   "execution_count": 5,
   "id": "d47f8225",
   "metadata": {},
   "outputs": [
    {
     "name": "stderr",
     "output_type": "stream",
     "text": [
      "100%|██████████| 10000/10000 [00:02<00:00, 3786.79it/s]\n"
     ]
    }
   ],
   "source": [
    "payoff_return_df = dict()\n",
    "\n",
    "for col in tqdm(df.columns):\n",
    "\n",
    "    autocalled = False\n",
    "    payoff_return = dict()\n",
    "\n",
    "    for index in df[col].index:\n",
    "\n",
    "        if autocalled:\n",
    "            payoff_return[index] = np.nan\n",
    "\n",
    "        else:\n",
    "\n",
    "            if df[col][index] > 100:\n",
    "                payoff_return[index] = 0.1/252\n",
    "                autocalled = True\n",
    "\n",
    "            elif index == df[col].index[-1] and df[col][index] <= 60:\n",
    "                payoff_return[index] = max([-1, ((df[col][index]/100) - 1)])\n",
    "\n",
    "            elif df[col][index] > 90 and df[col][index] < 100:\n",
    "                payoff_return[index] = 0 #0.3/252\n",
    "\n",
    "            else:\n",
    "                payoff_return[index] = 0\n",
    "\n",
    "    payoff_return_df[col] = payoff_return"
   ]
  },
  {
   "cell_type": "code",
   "execution_count": 6,
   "id": "dd57aef0",
   "metadata": {},
   "outputs": [
    {
     "data": {
      "text/plain": [
       "count   10,000.0000\n",
       "mean        -0.0002\n",
       "std          0.0162\n",
       "min         -0.4965\n",
       "25%          0.0004\n",
       "50%          0.0004\n",
       "75%          0.0004\n",
       "max          0.0004\n",
       "dtype: float64"
      ]
     },
     "execution_count": 6,
     "metadata": {},
     "output_type": "execute_result"
    }
   ],
   "source": [
    "payoff_return_df = pd.DataFrame(payoff_return_df)\n",
    "((payoff_return_df.add(1).prod() / 1) - 1).describe()"
   ]
  },
  {
   "cell_type": "code",
   "execution_count": null,
   "id": "1692f33d",
   "metadata": {},
   "outputs": [],
   "source": []
  }
 ],
 "metadata": {
  "kernelspec": {
   "display_name": "base",
   "language": "python",
   "name": "python3"
  },
  "language_info": {
   "codemirror_mode": {
    "name": "ipython",
    "version": 3
   },
   "file_extension": ".py",
   "mimetype": "text/x-python",
   "name": "python",
   "nbconvert_exporter": "python",
   "pygments_lexer": "ipython3",
   "version": "3.12.4"
  }
 },
 "nbformat": 4,
 "nbformat_minor": 5
}
