{
 "cells": [
  {
   "cell_type": "code",
   "execution_count": null,
   "id": "162eebfa-5a1d-4d5e-a2e1-1bba7cdac2aa",
   "metadata": {},
   "outputs": [],
   "source": [
    "import math\n",
    "import numpy as np\n",
    "import pandas as pd\n",
    "from typing import Optional\n",
    "import plotly.graph_objects as go\n",
    "from dataclasses import dataclass\n",
    "from sklearn.linear_model import LinearRegression\n",
    "from sklearn.preprocessing import PolynomialFeatures\n",
    "from sklearn.metrics import mean_squared_error, r2_score\n",
    "\n",
    "\n",
    "@dataclass\n",
    "class HestonBatesParams:\n",
    "    \"\"\"Parameters for the Heston-Bates model\"\"\"\n",
    "    kappa: float     # Mean reversion speed of variance\n",
    "    theta: float     # Long-term variance\n",
    "    sigma: float     # Volatility of variance\n",
    "    rho: float       # Correlation between asset and variance\n",
    "    v0: float        # Initial variance\n",
    "    lambda_: float   # Jump intensity\n",
    "    mu_j: float      # Mean jump size\n",
    "    sigma_j: float   # Jump size volatility\n",
    "\n",
    "class HestonBatesMC:\n",
    "    def __init__(\n",
    "        self,\n",
    "        S0: float,                 # Initial stock price\n",
    "        K: float,                  # Strike price\n",
    "        T: float,                  # Time to maturity\n",
    "        r: float,                  # Risk-free rate\n",
    "        params: HestonBatesParams, # Heston Jump parameters\n",
    "        n_paths: int = 100_000,    # Number of simulation paths\n",
    "        n_steps: int = 252         # Number of time steps\n",
    "    ):\n",
    "        self.S0 = S0\n",
    "        self.K = K\n",
    "        self.T = T\n",
    "        self.r = r\n",
    "        self.params = params\n",
    "        self.n_paths = n_paths\n",
    "        self.n_steps = n_steps\n",
    "        self.dt = T / n_steps\n",
    "        self.simulated_paths = None\n",
    "\n",
    "    def simulate_paths(self) -> np.ndarray:\n",
    "        \"\"\"\n",
    "        Simulate stock price paths using the Heston-Bates model\n",
    "        Returns: array of shape (n_paths, n_steps + 1)\n",
    "        \"\"\"\n",
    "        # Initialize arrays\n",
    "        S = np.zeros((self.n_paths, self.n_steps + 1))\n",
    "        V = np.zeros((self.n_paths, self.n_steps + 1))\n",
    "        S[:, 0] = self.S0\n",
    "        V[:, 0] = self.params.v0\n",
    "\n",
    "        # Generate correlated random numbers\n",
    "        np.random.seed(0)\n",
    "        z1 = np.random.standard_normal((self.n_paths, self.n_steps))\n",
    "        np.random.seed(1)\n",
    "        z2 = self.params.rho * z1 + np.sqrt(1 - self.params.rho**2) * \\\n",
    "             np.random.standard_normal((self.n_paths, self.n_steps))\n",
    "\n",
    "        # Generate jump process\n",
    "        np.random.seed(2)\n",
    "        N = np.random.poisson(self.params.lambda_ * self.dt, (self.n_paths, self.n_steps))\n",
    "        np.random.seed(3)\n",
    "        J = np.random.normal(self.params.mu_j, self.params.sigma_j, (self.n_paths, self.n_steps))\n",
    "\n",
    "        # Simulate paths\n",
    "        for t in range(self.n_steps):\n",
    "            # Variance process\n",
    "            V[:, t] = np.maximum(V[:, t], 0)  # Ensure positive variance\n",
    "            dV = self.params.kappa * (self.params.theta - V[:, t]) * self.dt + \\\n",
    "                 self.params.sigma * np.sqrt(V[:, t] * self.dt) * z2[:, t]\n",
    "            V[:, t + 1] = V[:, t] + dV\n",
    "\n",
    "            # Price process with jumps\n",
    "            dS = (self.r - 0.5 * V[:, t]) * self.dt + \\\n",
    "                 np.sqrt(V[:, t] * self.dt) * z1[:, t] + \\\n",
    "                 J[:, t] * N[:, t]\n",
    "            S[:, t + 1] = S[:, t] * np.exp(dS)\n",
    "\n",
    "        self.simulated_paths = S\n",
    "        \n",
    "        return S\n",
    "\n",
    "    def price_european_option(self, option_type: str = 'call') -> tuple[float, float]:\n",
    "        \"\"\"\n",
    "        Price European options using Monte Carlo simulation\n",
    "        Args:\n",
    "            option_type: 'call' or 'put'\n",
    "        Returns:\n",
    "            tuple of (option price, standard error)\n",
    "        \"\"\"\n",
    "        if self.simulated_paths is None:\n",
    "            print('new simulation')\n",
    "            S = self.simulate_paths()\n",
    "        else:\n",
    "            S = self.simulated_paths\n",
    "        ST = S[:, -1]  # Terminal stock prices\n",
    "\n",
    "        # Calculate payoffs\n",
    "        if option_type.lower() == 'call':\n",
    "            payoffs = np.maximum(ST - self.K, 0)\n",
    "        else:  # put\n",
    "            payoffs = np.maximum(self.K - ST, 0)\n",
    "\n",
    "        # Discount payoffs\n",
    "        discount_factor = np.exp(-self.r * self.T)\n",
    "        discounted_payoffs = payoffs * discount_factor\n",
    "\n",
    "        # Calculate price and standard error\n",
    "        option_price = np.mean(discounted_payoffs)\n",
    "        std_error = np.std(discounted_payoffs) / np.sqrt(self.n_paths)\n",
    "\n",
    "        return option_price, std_error\n",
    "\n",
    "def _phi(x: float) -> float:\n",
    "    \"\"\"\n",
    "    Standard normal probability density function (PDF).\n",
    "    \"\"\"\n",
    "    return 1.0 / math.sqrt(2.0 * math.pi) * math.exp(-0.5 * x * x)\n",
    "\n",
    "def _Phi(z: float) -> float:\n",
    "    \"\"\"\n",
    "    Cumulative distribution function (CDF) for the standard normal distribution.\n",
    "\n",
    "    We can use math.erf for a more direct implementation:\n",
    "        Phi(z) = 0.5 * [1 + erf(z / sqrt(2))]\n",
    "    \"\"\"\n",
    "    return 0.5 * (1.0 + math.erf(z / math.sqrt(2.0)))\n",
    "\n",
    "def black_scholes_price(S: float,\n",
    "                        K: float,\n",
    "                        T: float,\n",
    "                        r: float,\n",
    "                        sigma: float,\n",
    "                        option_type: str = 'call') -> float:\n",
    "    \"\"\"\n",
    "    Returns the Black–Scholes price of a European call or put.\n",
    "\n",
    "    :param S: Current underlying price\n",
    "    :param K: Strike price\n",
    "    :param T: Time to maturity (in years)\n",
    "    :param r: Risk-free interest rate (annualized)\n",
    "    :param sigma: Volatility (annualized)\n",
    "    :param option_type: 'call' or 'put'\n",
    "    :return: Theoretical option price\n",
    "    \"\"\"\n",
    "    if T <= 0:\n",
    "        # Edge case: if T = 0, payoff is max(S-K, 0) or max(K-S, 0)\n",
    "        if option_type.lower() == 'call':\n",
    "            return max(S - K, 0)\n",
    "        else:\n",
    "            return max(K - S, 0)\n",
    "\n",
    "    d1 = (math.log(S / K) + (r + 0.5 * sigma * sigma) * T) / (sigma * math.sqrt(T))\n",
    "    d2 = d1 - sigma * math.sqrt(T)\n",
    "\n",
    "    if option_type.lower() == 'call':\n",
    "        price = S * _Phi(d1) - K * math.exp(-r * T) * _Phi(d2)\n",
    "    else:  # put\n",
    "        price = K * math.exp(-r * T) * _Phi(-d2) - S * _Phi(-d1)\n",
    "\n",
    "    return price\n",
    "\n",
    "def implied_volatility(S: float,\n",
    "                       K: float,\n",
    "                       T: float,\n",
    "                       r: float,\n",
    "                       option_market_price: float,\n",
    "                       option_type: str = 'call',\n",
    "                       tol: float = 1e-8,\n",
    "                       max_iterations: int = 200) -> float:\n",
    "    \"\"\"\n",
    "    Computes the implied volatility (sigma) given market parameters and an observed market price\n",
    "    for a European call or put using a bisection method.\n",
    "\n",
    "    :param S: Current underlying price\n",
    "    :param K: Strike price\n",
    "    :param T: Time to maturity (in years)\n",
    "    :param r: Risk-free interest rate (annualized)\n",
    "    :param option_market_price: Observed market price of the option\n",
    "    :param option_type: 'call' or 'put'\n",
    "    :param tol: Tolerance for the bisection search\n",
    "    :param max_iterations: Maximum number of iterations in the bisection search\n",
    "    :return: Implied volatility (annualized)\n",
    "    \"\"\"\n",
    "\n",
    "    # Some boundary checks:\n",
    "    # If the market price is 0, implied vol is technically 0, but let's just return 0\n",
    "    if option_market_price < 1e-15:\n",
    "        return 0.0\n",
    "\n",
    "    # Similarly, if the market price is so large it's above intrinsic + time value, \n",
    "    # we might guess volatility is quite large. We'll just start with an upper bound guess.\n",
    "    \n",
    "    # Lower and upper bounds for sigma\n",
    "    vol_lower = 1e-10\n",
    "    vol_upper = 5.0  # 500% annual volatility is often a large enough upper bound\n",
    "\n",
    "    # Bisection method\n",
    "    for i in range(max_iterations):\n",
    "        vol_mid = 0.5 * (vol_lower + vol_upper)\n",
    "        price_mid = black_scholes_price(S, K, T, r, vol_mid, option_type)\n",
    "\n",
    "        # Check how close we are to the target price\n",
    "        if abs(price_mid - option_market_price) < tol:\n",
    "            return vol_mid\n",
    "\n",
    "        # If price_mid is too high, we reduce volatility\n",
    "        if price_mid > option_market_price:\n",
    "            vol_upper = vol_mid\n",
    "        else:\n",
    "            vol_lower = vol_mid\n",
    "\n",
    "    # If we exit the loop without converging, return the midpoint anyway\n",
    "    return vol_mid\n"
   ]
  },
  {
   "cell_type": "code",
   "execution_count": 72,
   "id": "b6c69f9c-cc50-4b2c-acb8-960421a8985e",
   "metadata": {},
   "outputs": [],
   "source": [
    "\n",
    "# Option parameters\n",
    "S0 = 100.0     # Initial stock price\n",
    "K = 100.0      # Strike price\n",
    "T = 1.0        # Time to maturity (1 year)\n",
    "r = 0.05       # Risk-free rate\n",
    "\n",
    "# Create model instance\n",
    "model = HestonBatesMC(S0, K, T, r, params)\n",
    "\n",
    "model.simulate_paths()\n",
    "\n",
    "# Price call and put options\n",
    "call_price, call_se = model.price_european_option('call')\n",
    "put_price, put_se = model.price_european_option('put')"
   ]
  },
  {
   "cell_type": "code",
   "execution_count": null,
   "id": "e5b513b2",
   "metadata": {},
   "outputs": [],
   "source": [
    "params = HestonBatesParams(\n",
    "    kappa=2.0,      # Mean reversion speed\n",
    "    theta=0.04,     # Long-term variance\n",
    "    sigma=0.3,      # Volatility of variance\n",
    "    rho=-0.7,       # Correlation\n",
    "    v0=0.02,        # Initial variance\n",
    "    lambda_=0.4,    # Jump intensity\n",
    "    mu_j=-0.05,     # Mean jump size\n",
    "    sigma_j=0.05     # Jump size volatility\n",
    ")\n",
    "\n",
    "# Option parameters\n",
    "S0 = 100.0     # Initial stock price\n",
    "r = 0.05       # Risk-free rate\n",
    "\n",
    "market_data = list()\n",
    "for T in [5/250, 20/250, 60/250, 250/250]:\n",
    "\n",
    "    model = HestonBatesMC(S0, K, T, r, params)\n",
    "    model.simulate_paths()\n",
    "\n",
    "    for K in np.linspace(start=90, stop=100, num=30):\n",
    "        model.K = K\n",
    "        put_price, put_se = model.price_european_option('put')\n",
    "\n",
    "        iv = implied_volatility(S0, K, T, r, put_price, option_type='put')\n",
    "\n",
    "        market_data.append((T, K, put_price, iv))\n",
    "market_data_df = pd.DataFrame(market_data, columns=['T', 'K', 'P', 'IV'])"
   ]
  },
  {
   "cell_type": "code",
   "execution_count": 122,
   "id": "40e61929",
   "metadata": {},
   "outputs": [
    {
     "data": {
      "application/vnd.plotly.v1+json": {
       "config": {
        "plotlyServerURL": "https://plot.ly"
       },
       "data": [
        {
         "type": "surface",
         "x": [
          90,
          90.34482758620689,
          90.6896551724138,
          91.03448275862068,
          91.37931034482759,
          91.72413793103448,
          92.06896551724138,
          92.41379310344827,
          92.75862068965517,
          93.10344827586206,
          93.44827586206897,
          93.79310344827586,
          94.13793103448276,
          94.48275862068965,
          94.82758620689656,
          95.17241379310344,
          95.51724137931035,
          95.86206896551724,
          96.20689655172414,
          96.55172413793103,
          96.89655172413794,
          97.24137931034483,
          97.58620689655173,
          97.93103448275862,
          98.27586206896552,
          98.62068965517241,
          98.96551724137932,
          99.3103448275862,
          99.65517241379311,
          100
         ],
         "y": [
          0.004,
          0.02,
          0.08,
          0.24,
          1
         ],
         "z": [
          [
           0.0005012961309359109,
           0.0006056875769774728,
           0.0007211941615255936,
           0.0008406042642814991,
           0.0009645223181111586,
           0.0010955764167855004,
           0.0012379718804870236,
           0.0013916009250453621,
           0.0015604319141208555,
           0.0017438366646713086,
           0.0019441200583832099,
           0.0021534097986317725,
           0.002370388753342738,
           0.0026048018991177554,
           0.00285636040780947,
           0.003130640364314722,
           0.0034323870237850237,
           0.0037542681027185653,
           0.004103182638907006,
           0.004490173275728228,
           0.00495350209617898,
           0.005632804048738912,
           0.0070182731485021205,
           0.010123592413660175,
           0.017318601821759115,
           0.033045505192927004,
           0.06432166217583836,
           0.12118114680605435,
           0.21438453331178098,
           0.35475365156594807
          ],
          [
           0.002824916393391754,
           0.003283692749132591,
           0.0038053512845167507,
           0.004376454701150063,
           0.005017167848553775,
           0.0057201353493920954,
           0.0065122414005761116,
           0.007383295769871848,
           0.0083680045798927,
           0.009487884675755622,
           0.010818985589464349,
           0.012457435536252294,
           0.014527225554489601,
           0.017154445956436875,
           0.02059464623220176,
           0.025150177682073595,
           0.03124093943049736,
           0.0396383289444366,
           0.050957387169779565,
           0.0661385747984981,
           0.08635117033353529,
           0.11302808153161759,
           0.14784591461487032,
           0.19265716705103078,
           0.249585180607191,
           0.32061396936657566,
           0.4078386755331757,
           0.5133833542950406,
           0.6396788145577016,
           0.788367975028456
          ],
          [
           0.04533858299489783,
           0.05206312487148196,
           0.05984281166691677,
           0.06876850829293629,
           0.07897716644320875,
           0.09068062168930113,
           0.10398163091303754,
           0.11909530724030372,
           0.13623039525187405,
           0.15555267308188475,
           0.17741903065155668,
           0.20214049654708224,
           0.23002009863379475,
           0.26128090105635005,
           0.2963079383030477,
           0.3355855075632669,
           0.379394822081998,
           0.4282574273296119,
           0.4825633954523598,
           0.5428022333476108,
           0.6094465503966532,
           0.6827825430134573,
           0.7634017441754037,
           0.8518412552158761,
           0.9485660743614509,
           1.0541293403152028,
           1.1689976814733865,
           1.2938167319840068,
           1.4288881579329815,
           1.5746231236261594
          ],
          [
           0.45510285607342194,
           0.4886247534671227,
           0.5242158034949457,
           0.5620319616780277,
           0.6021954738160754,
           0.6446839626760497,
           0.6897117903550094,
           0.7374564511992073,
           0.7880113612760554,
           0.8414904913860232,
           0.8978974280663735,
           0.9575545478286293,
           1.0205987209894956,
           1.0870090007437803,
           1.1569723555232716,
           1.2306319091439935,
           1.3081235296921316,
           1.3895188242838625,
           1.4749506183107757,
           1.5645871439369712,
           1.6586090823701383,
           1.7571908192496046,
           1.8604961018374786,
           1.968677792235944,
           2.081835765988368,
           2.2001806030281603,
           2.3239325267317525,
           2.4531089191903286,
           2.5877521765617644,
           2.7280955161003186
          ],
          [
           2.5330700508700073,
           2.6077782494444857,
           2.6841184262079953,
           2.7622434761275865,
           2.84213475839522,
           2.923806067113846,
           3.0072282230756255,
           3.0924847562198963,
           3.179606442454019,
           3.2686025329982944,
           3.3594755342931264,
           3.4524100416883297,
           3.5473715460815107,
           3.644335573213824,
           3.7433888553662813,
           3.8445224023389457,
           3.9478174324693858,
           4.053339645645222,
           4.1610048069827315,
           4.270773929555042,
           4.382722489155827,
           4.496819485143157,
           4.6131463090143985,
           4.731764574787256,
           4.8526174931132475,
           4.975772602737487,
           5.101224429568874,
           5.228931107711314,
           5.359006134579862,
           5.491359591772766
          ]
         ]
        }
       ],
       "layout": {
        "height": 1000,
        "scene": {
         "xaxis": {
          "title": {
           "text": "X Axis"
          }
         },
         "yaxis": {
          "title": {
           "text": "Y Axis"
          }
         },
         "zaxis": {
          "title": {
           "text": "Z Axis"
          }
         }
        },
        "template": {
         "data": {
          "bar": [
           {
            "error_x": {
             "color": "#2a3f5f"
            },
            "error_y": {
             "color": "#2a3f5f"
            },
            "marker": {
             "line": {
              "color": "#E5ECF6",
              "width": 0.5
             },
             "pattern": {
              "fillmode": "overlay",
              "size": 10,
              "solidity": 0.2
             }
            },
            "type": "bar"
           }
          ],
          "barpolar": [
           {
            "marker": {
             "line": {
              "color": "#E5ECF6",
              "width": 0.5
             },
             "pattern": {
              "fillmode": "overlay",
              "size": 10,
              "solidity": 0.2
             }
            },
            "type": "barpolar"
           }
          ],
          "carpet": [
           {
            "aaxis": {
             "endlinecolor": "#2a3f5f",
             "gridcolor": "white",
             "linecolor": "white",
             "minorgridcolor": "white",
             "startlinecolor": "#2a3f5f"
            },
            "baxis": {
             "endlinecolor": "#2a3f5f",
             "gridcolor": "white",
             "linecolor": "white",
             "minorgridcolor": "white",
             "startlinecolor": "#2a3f5f"
            },
            "type": "carpet"
           }
          ],
          "choropleth": [
           {
            "colorbar": {
             "outlinewidth": 0,
             "ticks": ""
            },
            "type": "choropleth"
           }
          ],
          "contour": [
           {
            "colorbar": {
             "outlinewidth": 0,
             "ticks": ""
            },
            "colorscale": [
             [
              0,
              "#0d0887"
             ],
             [
              0.1111111111111111,
              "#46039f"
             ],
             [
              0.2222222222222222,
              "#7201a8"
             ],
             [
              0.3333333333333333,
              "#9c179e"
             ],
             [
              0.4444444444444444,
              "#bd3786"
             ],
             [
              0.5555555555555556,
              "#d8576b"
             ],
             [
              0.6666666666666666,
              "#ed7953"
             ],
             [
              0.7777777777777778,
              "#fb9f3a"
             ],
             [
              0.8888888888888888,
              "#fdca26"
             ],
             [
              1,
              "#f0f921"
             ]
            ],
            "type": "contour"
           }
          ],
          "contourcarpet": [
           {
            "colorbar": {
             "outlinewidth": 0,
             "ticks": ""
            },
            "type": "contourcarpet"
           }
          ],
          "heatmap": [
           {
            "colorbar": {
             "outlinewidth": 0,
             "ticks": ""
            },
            "colorscale": [
             [
              0,
              "#0d0887"
             ],
             [
              0.1111111111111111,
              "#46039f"
             ],
             [
              0.2222222222222222,
              "#7201a8"
             ],
             [
              0.3333333333333333,
              "#9c179e"
             ],
             [
              0.4444444444444444,
              "#bd3786"
             ],
             [
              0.5555555555555556,
              "#d8576b"
             ],
             [
              0.6666666666666666,
              "#ed7953"
             ],
             [
              0.7777777777777778,
              "#fb9f3a"
             ],
             [
              0.8888888888888888,
              "#fdca26"
             ],
             [
              1,
              "#f0f921"
             ]
            ],
            "type": "heatmap"
           }
          ],
          "heatmapgl": [
           {
            "colorbar": {
             "outlinewidth": 0,
             "ticks": ""
            },
            "colorscale": [
             [
              0,
              "#0d0887"
             ],
             [
              0.1111111111111111,
              "#46039f"
             ],
             [
              0.2222222222222222,
              "#7201a8"
             ],
             [
              0.3333333333333333,
              "#9c179e"
             ],
             [
              0.4444444444444444,
              "#bd3786"
             ],
             [
              0.5555555555555556,
              "#d8576b"
             ],
             [
              0.6666666666666666,
              "#ed7953"
             ],
             [
              0.7777777777777778,
              "#fb9f3a"
             ],
             [
              0.8888888888888888,
              "#fdca26"
             ],
             [
              1,
              "#f0f921"
             ]
            ],
            "type": "heatmapgl"
           }
          ],
          "histogram": [
           {
            "marker": {
             "pattern": {
              "fillmode": "overlay",
              "size": 10,
              "solidity": 0.2
             }
            },
            "type": "histogram"
           }
          ],
          "histogram2d": [
           {
            "colorbar": {
             "outlinewidth": 0,
             "ticks": ""
            },
            "colorscale": [
             [
              0,
              "#0d0887"
             ],
             [
              0.1111111111111111,
              "#46039f"
             ],
             [
              0.2222222222222222,
              "#7201a8"
             ],
             [
              0.3333333333333333,
              "#9c179e"
             ],
             [
              0.4444444444444444,
              "#bd3786"
             ],
             [
              0.5555555555555556,
              "#d8576b"
             ],
             [
              0.6666666666666666,
              "#ed7953"
             ],
             [
              0.7777777777777778,
              "#fb9f3a"
             ],
             [
              0.8888888888888888,
              "#fdca26"
             ],
             [
              1,
              "#f0f921"
             ]
            ],
            "type": "histogram2d"
           }
          ],
          "histogram2dcontour": [
           {
            "colorbar": {
             "outlinewidth": 0,
             "ticks": ""
            },
            "colorscale": [
             [
              0,
              "#0d0887"
             ],
             [
              0.1111111111111111,
              "#46039f"
             ],
             [
              0.2222222222222222,
              "#7201a8"
             ],
             [
              0.3333333333333333,
              "#9c179e"
             ],
             [
              0.4444444444444444,
              "#bd3786"
             ],
             [
              0.5555555555555556,
              "#d8576b"
             ],
             [
              0.6666666666666666,
              "#ed7953"
             ],
             [
              0.7777777777777778,
              "#fb9f3a"
             ],
             [
              0.8888888888888888,
              "#fdca26"
             ],
             [
              1,
              "#f0f921"
             ]
            ],
            "type": "histogram2dcontour"
           }
          ],
          "mesh3d": [
           {
            "colorbar": {
             "outlinewidth": 0,
             "ticks": ""
            },
            "type": "mesh3d"
           }
          ],
          "parcoords": [
           {
            "line": {
             "colorbar": {
              "outlinewidth": 0,
              "ticks": ""
             }
            },
            "type": "parcoords"
           }
          ],
          "pie": [
           {
            "automargin": true,
            "type": "pie"
           }
          ],
          "scatter": [
           {
            "fillpattern": {
             "fillmode": "overlay",
             "size": 10,
             "solidity": 0.2
            },
            "type": "scatter"
           }
          ],
          "scatter3d": [
           {
            "line": {
             "colorbar": {
              "outlinewidth": 0,
              "ticks": ""
             }
            },
            "marker": {
             "colorbar": {
              "outlinewidth": 0,
              "ticks": ""
             }
            },
            "type": "scatter3d"
           }
          ],
          "scattercarpet": [
           {
            "marker": {
             "colorbar": {
              "outlinewidth": 0,
              "ticks": ""
             }
            },
            "type": "scattercarpet"
           }
          ],
          "scattergeo": [
           {
            "marker": {
             "colorbar": {
              "outlinewidth": 0,
              "ticks": ""
             }
            },
            "type": "scattergeo"
           }
          ],
          "scattergl": [
           {
            "marker": {
             "colorbar": {
              "outlinewidth": 0,
              "ticks": ""
             }
            },
            "type": "scattergl"
           }
          ],
          "scattermapbox": [
           {
            "marker": {
             "colorbar": {
              "outlinewidth": 0,
              "ticks": ""
             }
            },
            "type": "scattermapbox"
           }
          ],
          "scatterpolar": [
           {
            "marker": {
             "colorbar": {
              "outlinewidth": 0,
              "ticks": ""
             }
            },
            "type": "scatterpolar"
           }
          ],
          "scatterpolargl": [
           {
            "marker": {
             "colorbar": {
              "outlinewidth": 0,
              "ticks": ""
             }
            },
            "type": "scatterpolargl"
           }
          ],
          "scatterternary": [
           {
            "marker": {
             "colorbar": {
              "outlinewidth": 0,
              "ticks": ""
             }
            },
            "type": "scatterternary"
           }
          ],
          "surface": [
           {
            "colorbar": {
             "outlinewidth": 0,
             "ticks": ""
            },
            "colorscale": [
             [
              0,
              "#0d0887"
             ],
             [
              0.1111111111111111,
              "#46039f"
             ],
             [
              0.2222222222222222,
              "#7201a8"
             ],
             [
              0.3333333333333333,
              "#9c179e"
             ],
             [
              0.4444444444444444,
              "#bd3786"
             ],
             [
              0.5555555555555556,
              "#d8576b"
             ],
             [
              0.6666666666666666,
              "#ed7953"
             ],
             [
              0.7777777777777778,
              "#fb9f3a"
             ],
             [
              0.8888888888888888,
              "#fdca26"
             ],
             [
              1,
              "#f0f921"
             ]
            ],
            "type": "surface"
           }
          ],
          "table": [
           {
            "cells": {
             "fill": {
              "color": "#EBF0F8"
             },
             "line": {
              "color": "white"
             }
            },
            "header": {
             "fill": {
              "color": "#C8D4E3"
             },
             "line": {
              "color": "white"
             }
            },
            "type": "table"
           }
          ]
         },
         "layout": {
          "annotationdefaults": {
           "arrowcolor": "#2a3f5f",
           "arrowhead": 0,
           "arrowwidth": 1
          },
          "autotypenumbers": "strict",
          "coloraxis": {
           "colorbar": {
            "outlinewidth": 0,
            "ticks": ""
           }
          },
          "colorscale": {
           "diverging": [
            [
             0,
             "#8e0152"
            ],
            [
             0.1,
             "#c51b7d"
            ],
            [
             0.2,
             "#de77ae"
            ],
            [
             0.3,
             "#f1b6da"
            ],
            [
             0.4,
             "#fde0ef"
            ],
            [
             0.5,
             "#f7f7f7"
            ],
            [
             0.6,
             "#e6f5d0"
            ],
            [
             0.7,
             "#b8e186"
            ],
            [
             0.8,
             "#7fbc41"
            ],
            [
             0.9,
             "#4d9221"
            ],
            [
             1,
             "#276419"
            ]
           ],
           "sequential": [
            [
             0,
             "#0d0887"
            ],
            [
             0.1111111111111111,
             "#46039f"
            ],
            [
             0.2222222222222222,
             "#7201a8"
            ],
            [
             0.3333333333333333,
             "#9c179e"
            ],
            [
             0.4444444444444444,
             "#bd3786"
            ],
            [
             0.5555555555555556,
             "#d8576b"
            ],
            [
             0.6666666666666666,
             "#ed7953"
            ],
            [
             0.7777777777777778,
             "#fb9f3a"
            ],
            [
             0.8888888888888888,
             "#fdca26"
            ],
            [
             1,
             "#f0f921"
            ]
           ],
           "sequentialminus": [
            [
             0,
             "#0d0887"
            ],
            [
             0.1111111111111111,
             "#46039f"
            ],
            [
             0.2222222222222222,
             "#7201a8"
            ],
            [
             0.3333333333333333,
             "#9c179e"
            ],
            [
             0.4444444444444444,
             "#bd3786"
            ],
            [
             0.5555555555555556,
             "#d8576b"
            ],
            [
             0.6666666666666666,
             "#ed7953"
            ],
            [
             0.7777777777777778,
             "#fb9f3a"
            ],
            [
             0.8888888888888888,
             "#fdca26"
            ],
            [
             1,
             "#f0f921"
            ]
           ]
          },
          "colorway": [
           "#636efa",
           "#EF553B",
           "#00cc96",
           "#ab63fa",
           "#FFA15A",
           "#19d3f3",
           "#FF6692",
           "#B6E880",
           "#FF97FF",
           "#FECB52"
          ],
          "font": {
           "color": "#2a3f5f"
          },
          "geo": {
           "bgcolor": "white",
           "lakecolor": "white",
           "landcolor": "#E5ECF6",
           "showlakes": true,
           "showland": true,
           "subunitcolor": "white"
          },
          "hoverlabel": {
           "align": "left"
          },
          "hovermode": "closest",
          "mapbox": {
           "style": "light"
          },
          "paper_bgcolor": "white",
          "plot_bgcolor": "#E5ECF6",
          "polar": {
           "angularaxis": {
            "gridcolor": "white",
            "linecolor": "white",
            "ticks": ""
           },
           "bgcolor": "#E5ECF6",
           "radialaxis": {
            "gridcolor": "white",
            "linecolor": "white",
            "ticks": ""
           }
          },
          "scene": {
           "xaxis": {
            "backgroundcolor": "#E5ECF6",
            "gridcolor": "white",
            "gridwidth": 2,
            "linecolor": "white",
            "showbackground": true,
            "ticks": "",
            "zerolinecolor": "white"
           },
           "yaxis": {
            "backgroundcolor": "#E5ECF6",
            "gridcolor": "white",
            "gridwidth": 2,
            "linecolor": "white",
            "showbackground": true,
            "ticks": "",
            "zerolinecolor": "white"
           },
           "zaxis": {
            "backgroundcolor": "#E5ECF6",
            "gridcolor": "white",
            "gridwidth": 2,
            "linecolor": "white",
            "showbackground": true,
            "ticks": "",
            "zerolinecolor": "white"
           }
          },
          "shapedefaults": {
           "line": {
            "color": "#2a3f5f"
           }
          },
          "ternary": {
           "aaxis": {
            "gridcolor": "white",
            "linecolor": "white",
            "ticks": ""
           },
           "baxis": {
            "gridcolor": "white",
            "linecolor": "white",
            "ticks": ""
           },
           "bgcolor": "#E5ECF6",
           "caxis": {
            "gridcolor": "white",
            "linecolor": "white",
            "ticks": ""
           }
          },
          "title": {
           "x": 0.05
          },
          "xaxis": {
           "automargin": true,
           "gridcolor": "white",
           "linecolor": "white",
           "ticks": "",
           "title": {
            "standoff": 15
           },
           "zerolinecolor": "white",
           "zerolinewidth": 2
          },
          "yaxis": {
           "automargin": true,
           "gridcolor": "white",
           "linecolor": "white",
           "ticks": "",
           "title": {
            "standoff": 15
           },
           "zerolinecolor": "white",
           "zerolinewidth": 2
          }
         }
        },
        "title": {
         "text": "3D Surface Plot"
        },
        "width": 1000
       }
      }
     },
     "metadata": {},
     "output_type": "display_data"
    }
   ],
   "source": [
    "# Reshape data for the surface plot\n",
    "x = sorted(market_data_df['K'].unique())\n",
    "y = sorted(market_data_df['T'].unique())\n",
    "z = market_data_df.pivot(index='T', columns='K', values='P').values\n",
    "\n",
    "# Create the 3D surface plot\n",
    "fig = go.Figure(data=[go.Surface(z=z, x=x, y=y)])\n",
    "\n",
    "# Add titles\n",
    "fig.update_layout(\n",
    "    title=\"3D Surface Plot\",\n",
    "    scene=dict(\n",
    "        xaxis_title=\"X Axis\",\n",
    "        yaxis_title=\"Y Axis\",\n",
    "        zaxis_title=\"Z Axis\"\n",
    "    ),\n",
    "    width=1000, height=1000,\n",
    ")\n",
    "\n",
    "# Show the plot\n",
    "fig.show()"
   ]
  },
  {
   "cell_type": "code",
   "execution_count": 123,
   "id": "0b312c9a",
   "metadata": {},
   "outputs": [],
   "source": [
    "X = np.log(market_data_df['K']/S0).to_frame('log_strike')\n",
    "X['sqrt_T'] = np.sqrt(market_data_df['T'])\n",
    "y = market_data_df['P']#.pow(2)\n",
    "\n",
    "# Transform features to polynomial terms\n",
    "degree = 2  # Degree of the polynomial\n",
    "poly_features = PolynomialFeatures(degree=degree)\n",
    "X_poly = poly_features.fit_transform(X)\n",
    "X_poly = pd.DataFrame(X_poly)"
   ]
  },
  {
   "cell_type": "code",
   "execution_count": 124,
   "id": "927b85f7",
   "metadata": {},
   "outputs": [],
   "source": [
    "# Fit a linear regression model on the transformed features\n",
    "model = LinearRegression()\n",
    "model.fit(X_poly, y)\n",
    "Y_pred = model.predict(X_poly)"
   ]
  },
  {
   "cell_type": "code",
   "execution_count": 125,
   "id": "72bbb472",
   "metadata": {},
   "outputs": [
    {
     "data": {
      "text/plain": [
       "0.9936286939881162"
      ]
     },
     "execution_count": 125,
     "metadata": {},
     "output_type": "execute_result"
    }
   ],
   "source": [
    "r2 = r2_score(y, Y_pred)\n",
    "r2"
   ]
  },
  {
   "cell_type": "code",
   "execution_count": 126,
   "id": "404bc481",
   "metadata": {},
   "outputs": [
    {
     "data": {
      "text/plain": [
       "array([  0.        ,  15.28465551,   3.27707449, 120.87078992,\n",
       "        27.96779637,   2.19401974])"
      ]
     },
     "execution_count": 126,
     "metadata": {},
     "output_type": "execute_result"
    }
   ],
   "source": [
    "model.coef_"
   ]
  },
  {
   "cell_type": "code",
   "execution_count": 128,
   "id": "37f33708",
   "metadata": {},
   "outputs": [],
   "source": [
    "plot_df = market_data_df.copy()\n",
    "plot_df['poly'] = Y_pred"
   ]
  },
  {
   "cell_type": "code",
   "execution_count": 129,
   "id": "b767deec",
   "metadata": {},
   "outputs": [
    {
     "data": {
      "application/vnd.plotly.v1+json": {
       "config": {
        "plotlyServerURL": "https://plot.ly"
       },
       "data": [
        {
         "type": "surface",
         "x": [
          90,
          90.34482758620689,
          90.6896551724138,
          91.03448275862068,
          91.37931034482759,
          91.72413793103448,
          92.06896551724138,
          92.41379310344827,
          92.75862068965517,
          93.10344827586206,
          93.44827586206897,
          93.79310344827586,
          94.13793103448276,
          94.48275862068965,
          94.82758620689656,
          95.17241379310344,
          95.51724137931035,
          95.86206896551724,
          96.20689655172414,
          96.55172413793103,
          96.89655172413794,
          97.24137931034483,
          97.58620689655173,
          97.93103448275862,
          98.27586206896552,
          98.62068965517241,
          98.96551724137932,
          99.3103448275862,
          99.65517241379311,
          100
         ],
         "y": [
          0.004,
          0.02,
          0.08,
          0.24,
          1
         ],
         "z": [
          [
           -0.034002220902943886,
           -0.06442023764835358,
           -0.09120739164119879,
           -0.1144045560462944,
           -0.13405203995068138,
           -0.15018959799531734,
           -0.16285643980910103,
           -0.1720912392499408,
           -0.17793214345752412,
           -0.18041678172225195,
           -0.1795822741747261,
           -0.17546524030003374,
           -0.16810180728096458,
           -0.15752761817418626,
           -0.1437778399232928,
           -0.12688717121253412,
           -0.10688985016493718,
           -0.08381966188842715,
           -0.057709945873455015,
           -0.02859360324557164,
           0.0034968961237586416,
           0.038529506644813166,
           0.07647260017263632,
           0.1172949593022956,
           0.16096577079344504,
           0.20745461912120255,
           0.2567314801505829,
           0.30876671493162844,
           0.36353106361263765,
           0.42099563946876073
          ],
          [
           0.026929273122943048,
           0.00487227972408294,
           -0.013585702516911047,
           -0.0284853050061466,
           -0.03986659781403307,
           -0.04776909926566458,
           -0.05223178533430256,
           -0.053293098842669806,
           -0.05099095847667695,
           -0.045362767616045685,
           -0.03644542298618869,
           -0.024275323135580562,
           -0.008888376742739623,
           0.009679989243171344,
           0.03139482162422208,
           0.05622163313427683,
           0.0841263947745456,
           0.11507552830052735,
           0.1490358988568554,
           0.18597480775661096,
           0.22585998540183555,
           0.2686595843419478,
           0.31434217246699414,
           0.3628767263325887,
           0.41423262461364796,
           0.46837964168391893,
           0.525287941318572,
           0.5849280705169941,
           0.6472709534432064,
           0.7122878854811739
          ],
          [
           0.20529226190230043,
           0.19836050182771423,
           0.19497013283488682,
           0.1950809608633204,
           0.1986533482277542,
           0.20564820410250725,
           0.21602697520133676,
           0.2297516366480969,
           0.24678468303364165,
           0.26708911965450766,
           0.2906284539290658,
           0.317366686986928,
           0.34726830542751674,
           0.3802982732438181,
           0.41642202390743965,
           0.4556054526112074,
           0.49781490866562966,
           0.5430171880456556,
           0.5911795260842632,
           0.64226959030946,
           0.6962554734214625,
           0.7531056864067637,
           0.8127891517860597,
           0.8752751969928904,
           0.9405335478801429,
           1.0085343223514118,
           1.0792480241145324,
           1.1526455365544157,
           1.228698116722653,
           1.3073773894411498
          ],
          [
           0.6247408898451507,
           0.6399540083099691,
           0.6586241562100532,
           0.6807117798033195,
           0.7061778744603008,
           0.7349839752578978,
           0.7670921477666143,
           0.8024649790265626,
           0.8410655687077759,
           0.8828575204503601,
           0.9278049333802526,
           0.9758723937963977,
           1.0270249670252887,
           1.081228189438944,
           1.1384480606324652,
           1.1986510357574627,
           1.2618040180076993,
           1.327874351253425,
           1.3968298128209724,
           1.4686386064142125,
           1.5432693551747068,
           1.6206910948772462,
           1.7008732672578346,
           1.7837857134709496,
           1.8693986676733056,
           1.9576827507311019,
           2.048608964048138,
           2.1421486835119135,
           2.2382736535552494,
           2.3369559813306715
          ],
          [
           2.4607198634679595,
           2.530489187251053,
           2.603507706802641,
           2.6797374458714707,
           2.759140959426688,
           2.8416813245211285,
           2.9273221313430824,
           3.016027474451837,
           3.107761944192748,
           3.202490618287367,
           3.300179053594599,
           3.400793278038736,
           3.5042997827004427,
           3.6106655140668513,
           3.7198578664370183,
           3.8318446744790977,
           3.946594205935706,
           4.064075154473999,
           4.1842566326771555,
           4.307108165173905,
           4.432599681903082,
           4.560701511509885,
           4.691384374871086,
           4.82461937874598,
           4.9603780095504835,
           5.098632127251345,
           5.239353959377998,
           5.382516095149152,
           5.528091479711843,
           5.6760534084901115
          ]
         ]
        }
       ],
       "layout": {
        "height": 1000,
        "scene": {
         "xaxis": {
          "title": {
           "text": "X Axis"
          }
         },
         "yaxis": {
          "title": {
           "text": "Y Axis"
          }
         },
         "zaxis": {
          "title": {
           "text": "Z Axis"
          }
         }
        },
        "template": {
         "data": {
          "bar": [
           {
            "error_x": {
             "color": "#2a3f5f"
            },
            "error_y": {
             "color": "#2a3f5f"
            },
            "marker": {
             "line": {
              "color": "#E5ECF6",
              "width": 0.5
             },
             "pattern": {
              "fillmode": "overlay",
              "size": 10,
              "solidity": 0.2
             }
            },
            "type": "bar"
           }
          ],
          "barpolar": [
           {
            "marker": {
             "line": {
              "color": "#E5ECF6",
              "width": 0.5
             },
             "pattern": {
              "fillmode": "overlay",
              "size": 10,
              "solidity": 0.2
             }
            },
            "type": "barpolar"
           }
          ],
          "carpet": [
           {
            "aaxis": {
             "endlinecolor": "#2a3f5f",
             "gridcolor": "white",
             "linecolor": "white",
             "minorgridcolor": "white",
             "startlinecolor": "#2a3f5f"
            },
            "baxis": {
             "endlinecolor": "#2a3f5f",
             "gridcolor": "white",
             "linecolor": "white",
             "minorgridcolor": "white",
             "startlinecolor": "#2a3f5f"
            },
            "type": "carpet"
           }
          ],
          "choropleth": [
           {
            "colorbar": {
             "outlinewidth": 0,
             "ticks": ""
            },
            "type": "choropleth"
           }
          ],
          "contour": [
           {
            "colorbar": {
             "outlinewidth": 0,
             "ticks": ""
            },
            "colorscale": [
             [
              0,
              "#0d0887"
             ],
             [
              0.1111111111111111,
              "#46039f"
             ],
             [
              0.2222222222222222,
              "#7201a8"
             ],
             [
              0.3333333333333333,
              "#9c179e"
             ],
             [
              0.4444444444444444,
              "#bd3786"
             ],
             [
              0.5555555555555556,
              "#d8576b"
             ],
             [
              0.6666666666666666,
              "#ed7953"
             ],
             [
              0.7777777777777778,
              "#fb9f3a"
             ],
             [
              0.8888888888888888,
              "#fdca26"
             ],
             [
              1,
              "#f0f921"
             ]
            ],
            "type": "contour"
           }
          ],
          "contourcarpet": [
           {
            "colorbar": {
             "outlinewidth": 0,
             "ticks": ""
            },
            "type": "contourcarpet"
           }
          ],
          "heatmap": [
           {
            "colorbar": {
             "outlinewidth": 0,
             "ticks": ""
            },
            "colorscale": [
             [
              0,
              "#0d0887"
             ],
             [
              0.1111111111111111,
              "#46039f"
             ],
             [
              0.2222222222222222,
              "#7201a8"
             ],
             [
              0.3333333333333333,
              "#9c179e"
             ],
             [
              0.4444444444444444,
              "#bd3786"
             ],
             [
              0.5555555555555556,
              "#d8576b"
             ],
             [
              0.6666666666666666,
              "#ed7953"
             ],
             [
              0.7777777777777778,
              "#fb9f3a"
             ],
             [
              0.8888888888888888,
              "#fdca26"
             ],
             [
              1,
              "#f0f921"
             ]
            ],
            "type": "heatmap"
           }
          ],
          "heatmapgl": [
           {
            "colorbar": {
             "outlinewidth": 0,
             "ticks": ""
            },
            "colorscale": [
             [
              0,
              "#0d0887"
             ],
             [
              0.1111111111111111,
              "#46039f"
             ],
             [
              0.2222222222222222,
              "#7201a8"
             ],
             [
              0.3333333333333333,
              "#9c179e"
             ],
             [
              0.4444444444444444,
              "#bd3786"
             ],
             [
              0.5555555555555556,
              "#d8576b"
             ],
             [
              0.6666666666666666,
              "#ed7953"
             ],
             [
              0.7777777777777778,
              "#fb9f3a"
             ],
             [
              0.8888888888888888,
              "#fdca26"
             ],
             [
              1,
              "#f0f921"
             ]
            ],
            "type": "heatmapgl"
           }
          ],
          "histogram": [
           {
            "marker": {
             "pattern": {
              "fillmode": "overlay",
              "size": 10,
              "solidity": 0.2
             }
            },
            "type": "histogram"
           }
          ],
          "histogram2d": [
           {
            "colorbar": {
             "outlinewidth": 0,
             "ticks": ""
            },
            "colorscale": [
             [
              0,
              "#0d0887"
             ],
             [
              0.1111111111111111,
              "#46039f"
             ],
             [
              0.2222222222222222,
              "#7201a8"
             ],
             [
              0.3333333333333333,
              "#9c179e"
             ],
             [
              0.4444444444444444,
              "#bd3786"
             ],
             [
              0.5555555555555556,
              "#d8576b"
             ],
             [
              0.6666666666666666,
              "#ed7953"
             ],
             [
              0.7777777777777778,
              "#fb9f3a"
             ],
             [
              0.8888888888888888,
              "#fdca26"
             ],
             [
              1,
              "#f0f921"
             ]
            ],
            "type": "histogram2d"
           }
          ],
          "histogram2dcontour": [
           {
            "colorbar": {
             "outlinewidth": 0,
             "ticks": ""
            },
            "colorscale": [
             [
              0,
              "#0d0887"
             ],
             [
              0.1111111111111111,
              "#46039f"
             ],
             [
              0.2222222222222222,
              "#7201a8"
             ],
             [
              0.3333333333333333,
              "#9c179e"
             ],
             [
              0.4444444444444444,
              "#bd3786"
             ],
             [
              0.5555555555555556,
              "#d8576b"
             ],
             [
              0.6666666666666666,
              "#ed7953"
             ],
             [
              0.7777777777777778,
              "#fb9f3a"
             ],
             [
              0.8888888888888888,
              "#fdca26"
             ],
             [
              1,
              "#f0f921"
             ]
            ],
            "type": "histogram2dcontour"
           }
          ],
          "mesh3d": [
           {
            "colorbar": {
             "outlinewidth": 0,
             "ticks": ""
            },
            "type": "mesh3d"
           }
          ],
          "parcoords": [
           {
            "line": {
             "colorbar": {
              "outlinewidth": 0,
              "ticks": ""
             }
            },
            "type": "parcoords"
           }
          ],
          "pie": [
           {
            "automargin": true,
            "type": "pie"
           }
          ],
          "scatter": [
           {
            "fillpattern": {
             "fillmode": "overlay",
             "size": 10,
             "solidity": 0.2
            },
            "type": "scatter"
           }
          ],
          "scatter3d": [
           {
            "line": {
             "colorbar": {
              "outlinewidth": 0,
              "ticks": ""
             }
            },
            "marker": {
             "colorbar": {
              "outlinewidth": 0,
              "ticks": ""
             }
            },
            "type": "scatter3d"
           }
          ],
          "scattercarpet": [
           {
            "marker": {
             "colorbar": {
              "outlinewidth": 0,
              "ticks": ""
             }
            },
            "type": "scattercarpet"
           }
          ],
          "scattergeo": [
           {
            "marker": {
             "colorbar": {
              "outlinewidth": 0,
              "ticks": ""
             }
            },
            "type": "scattergeo"
           }
          ],
          "scattergl": [
           {
            "marker": {
             "colorbar": {
              "outlinewidth": 0,
              "ticks": ""
             }
            },
            "type": "scattergl"
           }
          ],
          "scattermapbox": [
           {
            "marker": {
             "colorbar": {
              "outlinewidth": 0,
              "ticks": ""
             }
            },
            "type": "scattermapbox"
           }
          ],
          "scatterpolar": [
           {
            "marker": {
             "colorbar": {
              "outlinewidth": 0,
              "ticks": ""
             }
            },
            "type": "scatterpolar"
           }
          ],
          "scatterpolargl": [
           {
            "marker": {
             "colorbar": {
              "outlinewidth": 0,
              "ticks": ""
             }
            },
            "type": "scatterpolargl"
           }
          ],
          "scatterternary": [
           {
            "marker": {
             "colorbar": {
              "outlinewidth": 0,
              "ticks": ""
             }
            },
            "type": "scatterternary"
           }
          ],
          "surface": [
           {
            "colorbar": {
             "outlinewidth": 0,
             "ticks": ""
            },
            "colorscale": [
             [
              0,
              "#0d0887"
             ],
             [
              0.1111111111111111,
              "#46039f"
             ],
             [
              0.2222222222222222,
              "#7201a8"
             ],
             [
              0.3333333333333333,
              "#9c179e"
             ],
             [
              0.4444444444444444,
              "#bd3786"
             ],
             [
              0.5555555555555556,
              "#d8576b"
             ],
             [
              0.6666666666666666,
              "#ed7953"
             ],
             [
              0.7777777777777778,
              "#fb9f3a"
             ],
             [
              0.8888888888888888,
              "#fdca26"
             ],
             [
              1,
              "#f0f921"
             ]
            ],
            "type": "surface"
           }
          ],
          "table": [
           {
            "cells": {
             "fill": {
              "color": "#EBF0F8"
             },
             "line": {
              "color": "white"
             }
            },
            "header": {
             "fill": {
              "color": "#C8D4E3"
             },
             "line": {
              "color": "white"
             }
            },
            "type": "table"
           }
          ]
         },
         "layout": {
          "annotationdefaults": {
           "arrowcolor": "#2a3f5f",
           "arrowhead": 0,
           "arrowwidth": 1
          },
          "autotypenumbers": "strict",
          "coloraxis": {
           "colorbar": {
            "outlinewidth": 0,
            "ticks": ""
           }
          },
          "colorscale": {
           "diverging": [
            [
             0,
             "#8e0152"
            ],
            [
             0.1,
             "#c51b7d"
            ],
            [
             0.2,
             "#de77ae"
            ],
            [
             0.3,
             "#f1b6da"
            ],
            [
             0.4,
             "#fde0ef"
            ],
            [
             0.5,
             "#f7f7f7"
            ],
            [
             0.6,
             "#e6f5d0"
            ],
            [
             0.7,
             "#b8e186"
            ],
            [
             0.8,
             "#7fbc41"
            ],
            [
             0.9,
             "#4d9221"
            ],
            [
             1,
             "#276419"
            ]
           ],
           "sequential": [
            [
             0,
             "#0d0887"
            ],
            [
             0.1111111111111111,
             "#46039f"
            ],
            [
             0.2222222222222222,
             "#7201a8"
            ],
            [
             0.3333333333333333,
             "#9c179e"
            ],
            [
             0.4444444444444444,
             "#bd3786"
            ],
            [
             0.5555555555555556,
             "#d8576b"
            ],
            [
             0.6666666666666666,
             "#ed7953"
            ],
            [
             0.7777777777777778,
             "#fb9f3a"
            ],
            [
             0.8888888888888888,
             "#fdca26"
            ],
            [
             1,
             "#f0f921"
            ]
           ],
           "sequentialminus": [
            [
             0,
             "#0d0887"
            ],
            [
             0.1111111111111111,
             "#46039f"
            ],
            [
             0.2222222222222222,
             "#7201a8"
            ],
            [
             0.3333333333333333,
             "#9c179e"
            ],
            [
             0.4444444444444444,
             "#bd3786"
            ],
            [
             0.5555555555555556,
             "#d8576b"
            ],
            [
             0.6666666666666666,
             "#ed7953"
            ],
            [
             0.7777777777777778,
             "#fb9f3a"
            ],
            [
             0.8888888888888888,
             "#fdca26"
            ],
            [
             1,
             "#f0f921"
            ]
           ]
          },
          "colorway": [
           "#636efa",
           "#EF553B",
           "#00cc96",
           "#ab63fa",
           "#FFA15A",
           "#19d3f3",
           "#FF6692",
           "#B6E880",
           "#FF97FF",
           "#FECB52"
          ],
          "font": {
           "color": "#2a3f5f"
          },
          "geo": {
           "bgcolor": "white",
           "lakecolor": "white",
           "landcolor": "#E5ECF6",
           "showlakes": true,
           "showland": true,
           "subunitcolor": "white"
          },
          "hoverlabel": {
           "align": "left"
          },
          "hovermode": "closest",
          "mapbox": {
           "style": "light"
          },
          "paper_bgcolor": "white",
          "plot_bgcolor": "#E5ECF6",
          "polar": {
           "angularaxis": {
            "gridcolor": "white",
            "linecolor": "white",
            "ticks": ""
           },
           "bgcolor": "#E5ECF6",
           "radialaxis": {
            "gridcolor": "white",
            "linecolor": "white",
            "ticks": ""
           }
          },
          "scene": {
           "xaxis": {
            "backgroundcolor": "#E5ECF6",
            "gridcolor": "white",
            "gridwidth": 2,
            "linecolor": "white",
            "showbackground": true,
            "ticks": "",
            "zerolinecolor": "white"
           },
           "yaxis": {
            "backgroundcolor": "#E5ECF6",
            "gridcolor": "white",
            "gridwidth": 2,
            "linecolor": "white",
            "showbackground": true,
            "ticks": "",
            "zerolinecolor": "white"
           },
           "zaxis": {
            "backgroundcolor": "#E5ECF6",
            "gridcolor": "white",
            "gridwidth": 2,
            "linecolor": "white",
            "showbackground": true,
            "ticks": "",
            "zerolinecolor": "white"
           }
          },
          "shapedefaults": {
           "line": {
            "color": "#2a3f5f"
           }
          },
          "ternary": {
           "aaxis": {
            "gridcolor": "white",
            "linecolor": "white",
            "ticks": ""
           },
           "baxis": {
            "gridcolor": "white",
            "linecolor": "white",
            "ticks": ""
           },
           "bgcolor": "#E5ECF6",
           "caxis": {
            "gridcolor": "white",
            "linecolor": "white",
            "ticks": ""
           }
          },
          "title": {
           "x": 0.05
          },
          "xaxis": {
           "automargin": true,
           "gridcolor": "white",
           "linecolor": "white",
           "ticks": "",
           "title": {
            "standoff": 15
           },
           "zerolinecolor": "white",
           "zerolinewidth": 2
          },
          "yaxis": {
           "automargin": true,
           "gridcolor": "white",
           "linecolor": "white",
           "ticks": "",
           "title": {
            "standoff": 15
           },
           "zerolinecolor": "white",
           "zerolinewidth": 2
          }
         }
        },
        "title": {
         "text": "3D Surface Plot"
        },
        "width": 1000
       }
      }
     },
     "metadata": {},
     "output_type": "display_data"
    }
   ],
   "source": [
    "# Reshape data for the surface plot\n",
    "x = sorted(plot_df['K'].unique())\n",
    "y = sorted(plot_df['T'].unique())\n",
    "z = plot_df.pivot(index='T', columns='K', values='poly').values\n",
    "\n",
    "# Create the 3D surface plot\n",
    "fig = go.Figure(data=[go.Surface(z=z, x=x, y=y)])\n",
    "\n",
    "# Add titles\n",
    "fig.update_layout(\n",
    "    title=\"3D Surface Plot\",\n",
    "    scene=dict(\n",
    "        xaxis_title=\"X Axis\",\n",
    "        yaxis_title=\"Y Axis\",\n",
    "        zaxis_title=\"Z Axis\"\n",
    "    ),\n",
    "    width=1000, height=1000,\n",
    ")\n",
    "\n",
    "# Show the plot\n",
    "fig.show()"
   ]
  },
  {
   "cell_type": "code",
   "execution_count": 130,
   "id": "6fe52f37",
   "metadata": {},
   "outputs": [
    {
     "data": {
      "text/html": [
       "<div>\n",
       "<style scoped>\n",
       "    .dataframe tbody tr th:only-of-type {\n",
       "        vertical-align: middle;\n",
       "    }\n",
       "\n",
       "    .dataframe tbody tr th {\n",
       "        vertical-align: top;\n",
       "    }\n",
       "\n",
       "    .dataframe thead th {\n",
       "        text-align: right;\n",
       "    }\n",
       "</style>\n",
       "<table border=\"1\" class=\"dataframe\">\n",
       "  <thead>\n",
       "    <tr style=\"text-align: right;\">\n",
       "      <th></th>\n",
       "      <th>T</th>\n",
       "      <th>K</th>\n",
       "      <th>P</th>\n",
       "      <th>IV</th>\n",
       "      <th>poly</th>\n",
       "    </tr>\n",
       "  </thead>\n",
       "  <tbody>\n",
       "    <tr>\n",
       "      <th>0</th>\n",
       "      <td>0.004</td>\n",
       "      <td>90.000000</td>\n",
       "      <td>0.000501</td>\n",
       "      <td>0.515784</td>\n",
       "      <td>-0.034002</td>\n",
       "    </tr>\n",
       "    <tr>\n",
       "      <th>1</th>\n",
       "      <td>0.004</td>\n",
       "      <td>90.344828</td>\n",
       "      <td>0.000606</td>\n",
       "      <td>0.505797</td>\n",
       "      <td>-0.064420</td>\n",
       "    </tr>\n",
       "    <tr>\n",
       "      <th>2</th>\n",
       "      <td>0.004</td>\n",
       "      <td>90.689655</td>\n",
       "      <td>0.000721</td>\n",
       "      <td>0.495090</td>\n",
       "      <td>-0.091207</td>\n",
       "    </tr>\n",
       "    <tr>\n",
       "      <th>3</th>\n",
       "      <td>0.004</td>\n",
       "      <td>91.034483</td>\n",
       "      <td>0.000841</td>\n",
       "      <td>0.483379</td>\n",
       "      <td>-0.114405</td>\n",
       "    </tr>\n",
       "    <tr>\n",
       "      <th>4</th>\n",
       "      <td>0.004</td>\n",
       "      <td>91.379310</td>\n",
       "      <td>0.000965</td>\n",
       "      <td>0.470874</td>\n",
       "      <td>-0.134052</td>\n",
       "    </tr>\n",
       "    <tr>\n",
       "      <th>...</th>\n",
       "      <td>...</td>\n",
       "      <td>...</td>\n",
       "      <td>...</td>\n",
       "      <td>...</td>\n",
       "      <td>...</td>\n",
       "    </tr>\n",
       "    <tr>\n",
       "      <th>145</th>\n",
       "      <td>1.000</td>\n",
       "      <td>98.620690</td>\n",
       "      <td>4.975773</td>\n",
       "      <td>0.198965</td>\n",
       "      <td>5.098632</td>\n",
       "    </tr>\n",
       "    <tr>\n",
       "      <th>146</th>\n",
       "      <td>1.000</td>\n",
       "      <td>98.965517</td>\n",
       "      <td>5.101224</td>\n",
       "      <td>0.198668</td>\n",
       "      <td>5.239354</td>\n",
       "    </tr>\n",
       "    <tr>\n",
       "      <th>147</th>\n",
       "      <td>1.000</td>\n",
       "      <td>99.310345</td>\n",
       "      <td>5.228931</td>\n",
       "      <td>0.198376</td>\n",
       "      <td>5.382516</td>\n",
       "    </tr>\n",
       "    <tr>\n",
       "      <th>148</th>\n",
       "      <td>1.000</td>\n",
       "      <td>99.655172</td>\n",
       "      <td>5.359006</td>\n",
       "      <td>0.198091</td>\n",
       "      <td>5.528091</td>\n",
       "    </tr>\n",
       "    <tr>\n",
       "      <th>149</th>\n",
       "      <td>1.000</td>\n",
       "      <td>100.000000</td>\n",
       "      <td>5.491360</td>\n",
       "      <td>0.197810</td>\n",
       "      <td>5.676053</td>\n",
       "    </tr>\n",
       "  </tbody>\n",
       "</table>\n",
       "<p>150 rows × 5 columns</p>\n",
       "</div>"
      ],
      "text/plain": [
       "         T           K         P        IV      poly\n",
       "0    0.004   90.000000  0.000501  0.515784 -0.034002\n",
       "1    0.004   90.344828  0.000606  0.505797 -0.064420\n",
       "2    0.004   90.689655  0.000721  0.495090 -0.091207\n",
       "3    0.004   91.034483  0.000841  0.483379 -0.114405\n",
       "4    0.004   91.379310  0.000965  0.470874 -0.134052\n",
       "..     ...         ...       ...       ...       ...\n",
       "145  1.000   98.620690  4.975773  0.198965  5.098632\n",
       "146  1.000   98.965517  5.101224  0.198668  5.239354\n",
       "147  1.000   99.310345  5.228931  0.198376  5.382516\n",
       "148  1.000   99.655172  5.359006  0.198091  5.528091\n",
       "149  1.000  100.000000  5.491360  0.197810  5.676053\n",
       "\n",
       "[150 rows x 5 columns]"
      ]
     },
     "execution_count": 130,
     "metadata": {},
     "output_type": "execute_result"
    }
   ],
   "source": [
    "plot_df"
   ]
  },
  {
   "cell_type": "code",
   "execution_count": 131,
   "id": "a46621af",
   "metadata": {},
   "outputs": [
    {
     "data": {
      "application/vnd.plotly.v1+json": {
       "config": {
        "plotlyServerURL": "https://plot.ly"
       },
       "data": [
        {
         "colorscale": [
          [
           0,
           "#440154"
          ],
          [
           0.1111111111111111,
           "#482878"
          ],
          [
           0.2222222222222222,
           "#3e4989"
          ],
          [
           0.3333333333333333,
           "#31688e"
          ],
          [
           0.4444444444444444,
           "#26828e"
          ],
          [
           0.5555555555555556,
           "#1f9e89"
          ],
          [
           0.6666666666666666,
           "#35b779"
          ],
          [
           0.7777777777777778,
           "#6ece58"
          ],
          [
           0.8888888888888888,
           "#b5de2b"
          ],
          [
           1,
           "#fde725"
          ]
         ],
         "name": "Surface 1",
         "type": "surface",
         "x": [
          1,
          2,
          3
         ],
         "y": [
          1,
          2,
          3
         ],
         "z": [
          [
           10,
           40,
           70
          ],
          [
           20,
           50,
           80
          ],
          [
           30,
           60,
           90
          ]
         ]
        },
        {
         "colorscale": [
          [
           0,
           "#00224e"
          ],
          [
           0.1111111111111111,
           "#123570"
          ],
          [
           0.2222222222222222,
           "#3b496c"
          ],
          [
           0.3333333333333333,
           "#575d6d"
          ],
          [
           0.4444444444444444,
           "#707173"
          ],
          [
           0.5555555555555556,
           "#8a8678"
          ],
          [
           0.6666666666666666,
           "#a59c74"
          ],
          [
           0.7777777777777778,
           "#c3b369"
          ],
          [
           0.8888888888888888,
           "#e1cc55"
          ],
          [
           1,
           "#fee838"
          ]
         ],
         "name": "Surface 2",
         "type": "surface",
         "x": [
          1,
          2,
          3
         ],
         "y": [
          1,
          2,
          3
         ],
         "z": [
          [
           15,
           45,
           75
          ],
          [
           25,
           55,
           85
          ],
          [
           35,
           65,
           95
          ]
         ]
        }
       ],
       "layout": {
        "scene": {
         "xaxis": {
          "title": {
           "text": "X Axis"
          }
         },
         "yaxis": {
          "title": {
           "text": "Y Axis"
          }
         },
         "zaxis": {
          "title": {
           "text": "Z Axis"
          }
         }
        },
        "template": {
         "data": {
          "bar": [
           {
            "error_x": {
             "color": "#2a3f5f"
            },
            "error_y": {
             "color": "#2a3f5f"
            },
            "marker": {
             "line": {
              "color": "#E5ECF6",
              "width": 0.5
             },
             "pattern": {
              "fillmode": "overlay",
              "size": 10,
              "solidity": 0.2
             }
            },
            "type": "bar"
           }
          ],
          "barpolar": [
           {
            "marker": {
             "line": {
              "color": "#E5ECF6",
              "width": 0.5
             },
             "pattern": {
              "fillmode": "overlay",
              "size": 10,
              "solidity": 0.2
             }
            },
            "type": "barpolar"
           }
          ],
          "carpet": [
           {
            "aaxis": {
             "endlinecolor": "#2a3f5f",
             "gridcolor": "white",
             "linecolor": "white",
             "minorgridcolor": "white",
             "startlinecolor": "#2a3f5f"
            },
            "baxis": {
             "endlinecolor": "#2a3f5f",
             "gridcolor": "white",
             "linecolor": "white",
             "minorgridcolor": "white",
             "startlinecolor": "#2a3f5f"
            },
            "type": "carpet"
           }
          ],
          "choropleth": [
           {
            "colorbar": {
             "outlinewidth": 0,
             "ticks": ""
            },
            "type": "choropleth"
           }
          ],
          "contour": [
           {
            "colorbar": {
             "outlinewidth": 0,
             "ticks": ""
            },
            "colorscale": [
             [
              0,
              "#0d0887"
             ],
             [
              0.1111111111111111,
              "#46039f"
             ],
             [
              0.2222222222222222,
              "#7201a8"
             ],
             [
              0.3333333333333333,
              "#9c179e"
             ],
             [
              0.4444444444444444,
              "#bd3786"
             ],
             [
              0.5555555555555556,
              "#d8576b"
             ],
             [
              0.6666666666666666,
              "#ed7953"
             ],
             [
              0.7777777777777778,
              "#fb9f3a"
             ],
             [
              0.8888888888888888,
              "#fdca26"
             ],
             [
              1,
              "#f0f921"
             ]
            ],
            "type": "contour"
           }
          ],
          "contourcarpet": [
           {
            "colorbar": {
             "outlinewidth": 0,
             "ticks": ""
            },
            "type": "contourcarpet"
           }
          ],
          "heatmap": [
           {
            "colorbar": {
             "outlinewidth": 0,
             "ticks": ""
            },
            "colorscale": [
             [
              0,
              "#0d0887"
             ],
             [
              0.1111111111111111,
              "#46039f"
             ],
             [
              0.2222222222222222,
              "#7201a8"
             ],
             [
              0.3333333333333333,
              "#9c179e"
             ],
             [
              0.4444444444444444,
              "#bd3786"
             ],
             [
              0.5555555555555556,
              "#d8576b"
             ],
             [
              0.6666666666666666,
              "#ed7953"
             ],
             [
              0.7777777777777778,
              "#fb9f3a"
             ],
             [
              0.8888888888888888,
              "#fdca26"
             ],
             [
              1,
              "#f0f921"
             ]
            ],
            "type": "heatmap"
           }
          ],
          "heatmapgl": [
           {
            "colorbar": {
             "outlinewidth": 0,
             "ticks": ""
            },
            "colorscale": [
             [
              0,
              "#0d0887"
             ],
             [
              0.1111111111111111,
              "#46039f"
             ],
             [
              0.2222222222222222,
              "#7201a8"
             ],
             [
              0.3333333333333333,
              "#9c179e"
             ],
             [
              0.4444444444444444,
              "#bd3786"
             ],
             [
              0.5555555555555556,
              "#d8576b"
             ],
             [
              0.6666666666666666,
              "#ed7953"
             ],
             [
              0.7777777777777778,
              "#fb9f3a"
             ],
             [
              0.8888888888888888,
              "#fdca26"
             ],
             [
              1,
              "#f0f921"
             ]
            ],
            "type": "heatmapgl"
           }
          ],
          "histogram": [
           {
            "marker": {
             "pattern": {
              "fillmode": "overlay",
              "size": 10,
              "solidity": 0.2
             }
            },
            "type": "histogram"
           }
          ],
          "histogram2d": [
           {
            "colorbar": {
             "outlinewidth": 0,
             "ticks": ""
            },
            "colorscale": [
             [
              0,
              "#0d0887"
             ],
             [
              0.1111111111111111,
              "#46039f"
             ],
             [
              0.2222222222222222,
              "#7201a8"
             ],
             [
              0.3333333333333333,
              "#9c179e"
             ],
             [
              0.4444444444444444,
              "#bd3786"
             ],
             [
              0.5555555555555556,
              "#d8576b"
             ],
             [
              0.6666666666666666,
              "#ed7953"
             ],
             [
              0.7777777777777778,
              "#fb9f3a"
             ],
             [
              0.8888888888888888,
              "#fdca26"
             ],
             [
              1,
              "#f0f921"
             ]
            ],
            "type": "histogram2d"
           }
          ],
          "histogram2dcontour": [
           {
            "colorbar": {
             "outlinewidth": 0,
             "ticks": ""
            },
            "colorscale": [
             [
              0,
              "#0d0887"
             ],
             [
              0.1111111111111111,
              "#46039f"
             ],
             [
              0.2222222222222222,
              "#7201a8"
             ],
             [
              0.3333333333333333,
              "#9c179e"
             ],
             [
              0.4444444444444444,
              "#bd3786"
             ],
             [
              0.5555555555555556,
              "#d8576b"
             ],
             [
              0.6666666666666666,
              "#ed7953"
             ],
             [
              0.7777777777777778,
              "#fb9f3a"
             ],
             [
              0.8888888888888888,
              "#fdca26"
             ],
             [
              1,
              "#f0f921"
             ]
            ],
            "type": "histogram2dcontour"
           }
          ],
          "mesh3d": [
           {
            "colorbar": {
             "outlinewidth": 0,
             "ticks": ""
            },
            "type": "mesh3d"
           }
          ],
          "parcoords": [
           {
            "line": {
             "colorbar": {
              "outlinewidth": 0,
              "ticks": ""
             }
            },
            "type": "parcoords"
           }
          ],
          "pie": [
           {
            "automargin": true,
            "type": "pie"
           }
          ],
          "scatter": [
           {
            "fillpattern": {
             "fillmode": "overlay",
             "size": 10,
             "solidity": 0.2
            },
            "type": "scatter"
           }
          ],
          "scatter3d": [
           {
            "line": {
             "colorbar": {
              "outlinewidth": 0,
              "ticks": ""
             }
            },
            "marker": {
             "colorbar": {
              "outlinewidth": 0,
              "ticks": ""
             }
            },
            "type": "scatter3d"
           }
          ],
          "scattercarpet": [
           {
            "marker": {
             "colorbar": {
              "outlinewidth": 0,
              "ticks": ""
             }
            },
            "type": "scattercarpet"
           }
          ],
          "scattergeo": [
           {
            "marker": {
             "colorbar": {
              "outlinewidth": 0,
              "ticks": ""
             }
            },
            "type": "scattergeo"
           }
          ],
          "scattergl": [
           {
            "marker": {
             "colorbar": {
              "outlinewidth": 0,
              "ticks": ""
             }
            },
            "type": "scattergl"
           }
          ],
          "scattermapbox": [
           {
            "marker": {
             "colorbar": {
              "outlinewidth": 0,
              "ticks": ""
             }
            },
            "type": "scattermapbox"
           }
          ],
          "scatterpolar": [
           {
            "marker": {
             "colorbar": {
              "outlinewidth": 0,
              "ticks": ""
             }
            },
            "type": "scatterpolar"
           }
          ],
          "scatterpolargl": [
           {
            "marker": {
             "colorbar": {
              "outlinewidth": 0,
              "ticks": ""
             }
            },
            "type": "scatterpolargl"
           }
          ],
          "scatterternary": [
           {
            "marker": {
             "colorbar": {
              "outlinewidth": 0,
              "ticks": ""
             }
            },
            "type": "scatterternary"
           }
          ],
          "surface": [
           {
            "colorbar": {
             "outlinewidth": 0,
             "ticks": ""
            },
            "colorscale": [
             [
              0,
              "#0d0887"
             ],
             [
              0.1111111111111111,
              "#46039f"
             ],
             [
              0.2222222222222222,
              "#7201a8"
             ],
             [
              0.3333333333333333,
              "#9c179e"
             ],
             [
              0.4444444444444444,
              "#bd3786"
             ],
             [
              0.5555555555555556,
              "#d8576b"
             ],
             [
              0.6666666666666666,
              "#ed7953"
             ],
             [
              0.7777777777777778,
              "#fb9f3a"
             ],
             [
              0.8888888888888888,
              "#fdca26"
             ],
             [
              1,
              "#f0f921"
             ]
            ],
            "type": "surface"
           }
          ],
          "table": [
           {
            "cells": {
             "fill": {
              "color": "#EBF0F8"
             },
             "line": {
              "color": "white"
             }
            },
            "header": {
             "fill": {
              "color": "#C8D4E3"
             },
             "line": {
              "color": "white"
             }
            },
            "type": "table"
           }
          ]
         },
         "layout": {
          "annotationdefaults": {
           "arrowcolor": "#2a3f5f",
           "arrowhead": 0,
           "arrowwidth": 1
          },
          "autotypenumbers": "strict",
          "coloraxis": {
           "colorbar": {
            "outlinewidth": 0,
            "ticks": ""
           }
          },
          "colorscale": {
           "diverging": [
            [
             0,
             "#8e0152"
            ],
            [
             0.1,
             "#c51b7d"
            ],
            [
             0.2,
             "#de77ae"
            ],
            [
             0.3,
             "#f1b6da"
            ],
            [
             0.4,
             "#fde0ef"
            ],
            [
             0.5,
             "#f7f7f7"
            ],
            [
             0.6,
             "#e6f5d0"
            ],
            [
             0.7,
             "#b8e186"
            ],
            [
             0.8,
             "#7fbc41"
            ],
            [
             0.9,
             "#4d9221"
            ],
            [
             1,
             "#276419"
            ]
           ],
           "sequential": [
            [
             0,
             "#0d0887"
            ],
            [
             0.1111111111111111,
             "#46039f"
            ],
            [
             0.2222222222222222,
             "#7201a8"
            ],
            [
             0.3333333333333333,
             "#9c179e"
            ],
            [
             0.4444444444444444,
             "#bd3786"
            ],
            [
             0.5555555555555556,
             "#d8576b"
            ],
            [
             0.6666666666666666,
             "#ed7953"
            ],
            [
             0.7777777777777778,
             "#fb9f3a"
            ],
            [
             0.8888888888888888,
             "#fdca26"
            ],
            [
             1,
             "#f0f921"
            ]
           ],
           "sequentialminus": [
            [
             0,
             "#0d0887"
            ],
            [
             0.1111111111111111,
             "#46039f"
            ],
            [
             0.2222222222222222,
             "#7201a8"
            ],
            [
             0.3333333333333333,
             "#9c179e"
            ],
            [
             0.4444444444444444,
             "#bd3786"
            ],
            [
             0.5555555555555556,
             "#d8576b"
            ],
            [
             0.6666666666666666,
             "#ed7953"
            ],
            [
             0.7777777777777778,
             "#fb9f3a"
            ],
            [
             0.8888888888888888,
             "#fdca26"
            ],
            [
             1,
             "#f0f921"
            ]
           ]
          },
          "colorway": [
           "#636efa",
           "#EF553B",
           "#00cc96",
           "#ab63fa",
           "#FFA15A",
           "#19d3f3",
           "#FF6692",
           "#B6E880",
           "#FF97FF",
           "#FECB52"
          ],
          "font": {
           "color": "#2a3f5f"
          },
          "geo": {
           "bgcolor": "white",
           "lakecolor": "white",
           "landcolor": "#E5ECF6",
           "showlakes": true,
           "showland": true,
           "subunitcolor": "white"
          },
          "hoverlabel": {
           "align": "left"
          },
          "hovermode": "closest",
          "mapbox": {
           "style": "light"
          },
          "paper_bgcolor": "white",
          "plot_bgcolor": "#E5ECF6",
          "polar": {
           "angularaxis": {
            "gridcolor": "white",
            "linecolor": "white",
            "ticks": ""
           },
           "bgcolor": "#E5ECF6",
           "radialaxis": {
            "gridcolor": "white",
            "linecolor": "white",
            "ticks": ""
           }
          },
          "scene": {
           "xaxis": {
            "backgroundcolor": "#E5ECF6",
            "gridcolor": "white",
            "gridwidth": 2,
            "linecolor": "white",
            "showbackground": true,
            "ticks": "",
            "zerolinecolor": "white"
           },
           "yaxis": {
            "backgroundcolor": "#E5ECF6",
            "gridcolor": "white",
            "gridwidth": 2,
            "linecolor": "white",
            "showbackground": true,
            "ticks": "",
            "zerolinecolor": "white"
           },
           "zaxis": {
            "backgroundcolor": "#E5ECF6",
            "gridcolor": "white",
            "gridwidth": 2,
            "linecolor": "white",
            "showbackground": true,
            "ticks": "",
            "zerolinecolor": "white"
           }
          },
          "shapedefaults": {
           "line": {
            "color": "#2a3f5f"
           }
          },
          "ternary": {
           "aaxis": {
            "gridcolor": "white",
            "linecolor": "white",
            "ticks": ""
           },
           "baxis": {
            "gridcolor": "white",
            "linecolor": "white",
            "ticks": ""
           },
           "bgcolor": "#E5ECF6",
           "caxis": {
            "gridcolor": "white",
            "linecolor": "white",
            "ticks": ""
           }
          },
          "title": {
           "x": 0.05
          },
          "xaxis": {
           "automargin": true,
           "gridcolor": "white",
           "linecolor": "white",
           "ticks": "",
           "title": {
            "standoff": 15
           },
           "zerolinecolor": "white",
           "zerolinewidth": 2
          },
          "yaxis": {
           "automargin": true,
           "gridcolor": "white",
           "linecolor": "white",
           "ticks": "",
           "title": {
            "standoff": 15
           },
           "zerolinecolor": "white",
           "zerolinewidth": 2
          }
         }
        },
        "title": {
         "text": "3D Surface Plots"
        }
       }
      }
     },
     "metadata": {},
     "output_type": "display_data"
    }
   ],
   "source": [
    "import pandas as pd\n",
    "import numpy as np\n",
    "import plotly.graph_objects as go\n",
    "\n",
    "# Sample DataFrame for Surface 1\n",
    "data1 = {\n",
    "    'x': [1, 1, 1, 2, 2, 2, 3, 3, 3],\n",
    "    'y': [1, 2, 3, 1, 2, 3, 1, 2, 3],\n",
    "    'z': [10, 20, 30, 40, 50, 60, 70, 80, 90]\n",
    "}\n",
    "df1 = pd.DataFrame(data1)\n",
    "\n",
    "# Reshape data for Surface 1\n",
    "x1 = sorted(df1['x'].unique())\n",
    "y1 = sorted(df1['y'].unique())\n",
    "z1 = df1.pivot(index='y', columns='x', values='z').values\n",
    "\n",
    "# Sample DataFrame for Surface 2\n",
    "data2 = {\n",
    "    'x': [1, 1, 1, 2, 2, 2, 3, 3, 3],\n",
    "    'y': [1, 2, 3, 1, 2, 3, 1, 2, 3],\n",
    "    'z': [15, 25, 35, 45, 55, 65, 75, 85, 95]\n",
    "}\n",
    "df2 = pd.DataFrame(data2)\n",
    "\n",
    "# Reshape data for Surface 2\n",
    "x2 = sorted(df2['x'].unique())\n",
    "y2 = sorted(df2['y'].unique())\n",
    "z2 = df2.pivot(index='y', columns='x', values='z').values\n",
    "\n",
    "# Create the 3D surface plots\n",
    "fig = go.Figure()\n",
    "\n",
    "# Add Surface 1\n",
    "fig.add_trace(go.Surface(z=z1, x=x1, y=y1, colorscale=\"Viridis\", name=\"Surface 1\"))\n",
    "\n",
    "# Add Surface 2\n",
    "fig.add_trace(go.Surface(z=z2, x=x2, y=y2, colorscale=\"Cividis\", name=\"Surface 2\"))\n",
    "\n",
    "# Update layout\n",
    "fig.update_layout(\n",
    "    title=\"3D Surface Plots\",\n",
    "    scene=dict(\n",
    "        xaxis_title=\"X Axis\",\n",
    "        yaxis_title=\"Y Axis\",\n",
    "        zaxis_title=\"Z Axis\"\n",
    "    )\n",
    ")\n",
    "\n",
    "# Show the plot\n",
    "fig.show()\n"
   ]
  },
  {
   "cell_type": "code",
   "execution_count": null,
   "id": "a56de8d7",
   "metadata": {},
   "outputs": [],
   "source": []
  }
 ],
 "metadata": {
  "kernelspec": {
   "display_name": "base",
   "language": "python",
   "name": "python3"
  },
  "language_info": {
   "codemirror_mode": {
    "name": "ipython",
    "version": 3
   },
   "file_extension": ".py",
   "mimetype": "text/x-python",
   "name": "python",
   "nbconvert_exporter": "python",
   "pygments_lexer": "ipython3",
   "version": "3.12.4"
  }
 },
 "nbformat": 4,
 "nbformat_minor": 5
}
