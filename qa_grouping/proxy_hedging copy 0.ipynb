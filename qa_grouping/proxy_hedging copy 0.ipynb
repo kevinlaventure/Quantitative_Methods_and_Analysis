{
 "cells": [
  {
   "cell_type": "code",
   "execution_count": 104,
   "metadata": {},
   "outputs": [],
   "source": [
    "# -------\n",
    "# IMPORT LIBRAIRIES\n",
    "# -------\n",
    "import numpy as np\n",
    "import pandas as pd\n",
    "import plotly.express as px\n",
    "from python_module import sabr\n",
    "from python_module import blackscholes\n",
    "from sklearn.linear_model import LinearRegression\n",
    "from scipy.cluster.hierarchy import linkage, fcluster\n",
    "\n",
    "# -------\n",
    "# DISPLAY SETTINGS\n",
    "# -------\n",
    "pd.set_option('display.max_rows', 100)\n",
    "pd.set_option('display.max_columns', 100)\n",
    "pd.options.display.float_format = lambda x: f'{x:_.4f}'"
   ]
  },
  {
   "cell_type": "code",
   "execution_count": 120,
   "metadata": {},
   "outputs": [],
   "source": [
    "# -------\n",
    "# GENERATE MARKET DATA & PORTFOLIO\n",
    "# -------\n",
    "S = F = 100\n",
    "alpha = 0.2\n",
    "beta = 1\n",
    "rho = -0.4\n",
    "nu = 0.5\n",
    "market_data_list = list()\n",
    "for time_to_maturity in np.linspace(start=1, stop=250, num=10, dtype=int):\n",
    "    T = time_to_maturity / 250\n",
    "    for K in np.linspace(start=80, stop=100, num=10):\n",
    "        IV = sabr.compute_vol(F, K, T, alpha, beta, rho, nu)\n",
    "        pricing_results = blackscholes.compute_option(S, K, T, 0, IV, 'put', True)\n",
    "        market_data_list.append({'T': time_to_maturity, 'K': K, 'IV': IV, **pricing_results})\n",
    "market_data_df = pd.DataFrame(market_data_list)\n",
    "market_data_df['weights'] = abs(np.random.normal(size=market_data_df.shape[0]))\n",
    "market_data_df['abs_theta'] = abs(market_data_df['theta'])"
   ]
  },
  {
   "cell_type": "code",
   "execution_count": 121,
   "metadata": {},
   "outputs": [
    {
     "data": {
      "text/html": [
       "<div>\n",
       "<style scoped>\n",
       "    .dataframe tbody tr th:only-of-type {\n",
       "        vertical-align: middle;\n",
       "    }\n",
       "\n",
       "    .dataframe tbody tr th {\n",
       "        vertical-align: top;\n",
       "    }\n",
       "\n",
       "    .dataframe thead th {\n",
       "        text-align: right;\n",
       "    }\n",
       "</style>\n",
       "<table border=\"1\" class=\"dataframe\">\n",
       "  <thead>\n",
       "    <tr style=\"text-align: right;\">\n",
       "      <th></th>\n",
       "      <th>T</th>\n",
       "      <th>K</th>\n",
       "      <th>IV</th>\n",
       "      <th>price</th>\n",
       "      <th>delta</th>\n",
       "      <th>gamma</th>\n",
       "      <th>vega</th>\n",
       "      <th>theta</th>\n",
       "      <th>vanna</th>\n",
       "      <th>volga</th>\n",
       "      <th>weights</th>\n",
       "      <th>abs_theta</th>\n",
       "    </tr>\n",
       "  </thead>\n",
       "  <tbody>\n",
       "    <tr>\n",
       "      <th>95</th>\n",
       "      <td>250</td>\n",
       "      <td>91.1111</td>\n",
       "      <td>0.2117</td>\n",
       "      <td>4.3751</td>\n",
       "      <td>-0.2927</td>\n",
       "      <td>0.0162</td>\n",
       "      <td>0.3438</td>\n",
       "      <td>-0.0144</td>\n",
       "      <td>-0.5419</td>\n",
       "      <td>29.5622</td>\n",
       "      <td>0.4625</td>\n",
       "      <td>0.0144</td>\n",
       "    </tr>\n",
       "    <tr>\n",
       "      <th>96</th>\n",
       "      <td>250</td>\n",
       "      <td>93.3333</td>\n",
       "      <td>0.2088</td>\n",
       "      <td>5.1372</td>\n",
       "      <td>-0.3318</td>\n",
       "      <td>0.0174</td>\n",
       "      <td>0.3630</td>\n",
       "      <td>-0.0150</td>\n",
       "      <td>-0.3929</td>\n",
       "      <td>17.0855</td>\n",
       "      <td>0.4899</td>\n",
       "      <td>0.0150</td>\n",
       "    </tr>\n",
       "    <tr>\n",
       "      <th>97</th>\n",
       "      <td>250</td>\n",
       "      <td>95.5556</td>\n",
       "      <td>0.2060</td>\n",
       "      <td>5.9948</td>\n",
       "      <td>-0.3731</td>\n",
       "      <td>0.0184</td>\n",
       "      <td>0.3786</td>\n",
       "      <td>-0.0155</td>\n",
       "      <td>-0.2161</td>\n",
       "      <td>6.9943</td>\n",
       "      <td>0.8103</td>\n",
       "      <td>0.0155</td>\n",
       "    </tr>\n",
       "    <tr>\n",
       "      <th>98</th>\n",
       "      <td>250</td>\n",
       "      <td>97.7778</td>\n",
       "      <td>0.2035</td>\n",
       "      <td>6.9522</td>\n",
       "      <td>-0.4160</td>\n",
       "      <td>0.0192</td>\n",
       "      <td>0.3901</td>\n",
       "      <td>-0.0157</td>\n",
       "      <td>-0.0166</td>\n",
       "      <td>0.3529</td>\n",
       "      <td>0.6056</td>\n",
       "      <td>0.0157</td>\n",
       "    </tr>\n",
       "    <tr>\n",
       "      <th>99</th>\n",
       "      <td>250</td>\n",
       "      <td>100.0000</td>\n",
       "      <td>0.2012</td>\n",
       "      <td>8.0119</td>\n",
       "      <td>-0.4599</td>\n",
       "      <td>0.0197</td>\n",
       "      <td>0.3969</td>\n",
       "      <td>-0.0158</td>\n",
       "      <td>0.1985</td>\n",
       "      <td>-1.9962</td>\n",
       "      <td>0.3016</td>\n",
       "      <td>0.0158</td>\n",
       "    </tr>\n",
       "  </tbody>\n",
       "</table>\n",
       "</div>"
      ],
      "text/plain": [
       "      T        K     IV  price   delta  gamma   vega   theta   vanna   volga  \\\n",
       "95  250  91.1111 0.2117 4.3751 -0.2927 0.0162 0.3438 -0.0144 -0.5419 29.5622   \n",
       "96  250  93.3333 0.2088 5.1372 -0.3318 0.0174 0.3630 -0.0150 -0.3929 17.0855   \n",
       "97  250  95.5556 0.2060 5.9948 -0.3731 0.0184 0.3786 -0.0155 -0.2161  6.9943   \n",
       "98  250  97.7778 0.2035 6.9522 -0.4160 0.0192 0.3901 -0.0157 -0.0166  0.3529   \n",
       "99  250 100.0000 0.2012 8.0119 -0.4599 0.0197 0.3969 -0.0158  0.1985 -1.9962   \n",
       "\n",
       "    weights  abs_theta  \n",
       "95   0.4625     0.0144  \n",
       "96   0.4899     0.0150  \n",
       "97   0.8103     0.0155  \n",
       "98   0.6056     0.0157  \n",
       "99   0.3016     0.0158  "
      ]
     },
     "execution_count": 121,
     "metadata": {},
     "output_type": "execute_result"
    }
   ],
   "source": [
    "market_data_df.tail()"
   ]
  },
  {
   "cell_type": "code",
   "execution_count": 122,
   "metadata": {},
   "outputs": [],
   "source": [
    "maturities = market_data_df['T'].unique()\n",
    "for maturity in maturities:\n",
    "    maturity_index = market_data_df[market_data_df['T']==maturity].index\n",
    "    temp_df = market_data_df.loc[maturity_index]\n",
    "    X = temp_df[['gamma', 'vanna', 'volga']].to_numpy()\n",
    "    Y = temp_df['theta']\n",
    "    model = LinearRegression(fit_intercept=False)\n",
    "    model.fit(X, Y)\n",
    "    market_data_df.loc[maturity_index, 'theta_pred'] = model.predict(X)\n",
    "    market_data_df.loc[maturity_index, 'cost_of_gamma'] = temp_df[['gamma', 'vanna', 'volga']].multiply(model.coef_)['gamma'].to_numpy() * -1\n",
    "    market_data_df.loc[maturity_index, 'cost_of_vanna'] = temp_df[['gamma', 'vanna', 'volga']].multiply(model.coef_)['vanna'].to_numpy() * -1\n",
    "    market_data_df.loc[maturity_index, 'cost_of_volga'] = temp_df[['gamma', 'vanna', 'volga']].multiply(model.coef_)['volga'].to_numpy() * -1"
   ]
  },
  {
   "cell_type": "code",
   "execution_count": 123,
   "metadata": {},
   "outputs": [
    {
     "data": {
      "text/html": [
       "<div>\n",
       "<style scoped>\n",
       "    .dataframe tbody tr th:only-of-type {\n",
       "        vertical-align: middle;\n",
       "    }\n",
       "\n",
       "    .dataframe tbody tr th {\n",
       "        vertical-align: top;\n",
       "    }\n",
       "\n",
       "    .dataframe thead th {\n",
       "        text-align: right;\n",
       "    }\n",
       "</style>\n",
       "<table border=\"1\" class=\"dataframe\">\n",
       "  <thead>\n",
       "    <tr style=\"text-align: right;\">\n",
       "      <th></th>\n",
       "      <th>T</th>\n",
       "      <th>K</th>\n",
       "      <th>IV</th>\n",
       "      <th>price</th>\n",
       "      <th>delta</th>\n",
       "      <th>gamma</th>\n",
       "      <th>vega</th>\n",
       "      <th>theta</th>\n",
       "      <th>vanna</th>\n",
       "      <th>volga</th>\n",
       "      <th>weights</th>\n",
       "      <th>abs_theta</th>\n",
       "      <th>theta_pred</th>\n",
       "      <th>cost_of_gamma</th>\n",
       "      <th>cost_of_vanna</th>\n",
       "      <th>cost_of_volga</th>\n",
       "    </tr>\n",
       "  </thead>\n",
       "  <tbody>\n",
       "    <tr>\n",
       "      <th>95</th>\n",
       "      <td>250</td>\n",
       "      <td>91.1111</td>\n",
       "      <td>0.2117</td>\n",
       "      <td>4.3751</td>\n",
       "      <td>-0.2927</td>\n",
       "      <td>0.0162</td>\n",
       "      <td>0.3438</td>\n",
       "      <td>-0.0144</td>\n",
       "      <td>-0.5419</td>\n",
       "      <td>29.5622</td>\n",
       "      <td>0.4625</td>\n",
       "      <td>0.0144</td>\n",
       "      <td>-0.0144</td>\n",
       "      <td>0.0133</td>\n",
       "      <td>0.0008</td>\n",
       "      <td>0.0003</td>\n",
       "    </tr>\n",
       "    <tr>\n",
       "      <th>96</th>\n",
       "      <td>250</td>\n",
       "      <td>93.3333</td>\n",
       "      <td>0.2088</td>\n",
       "      <td>5.1372</td>\n",
       "      <td>-0.3318</td>\n",
       "      <td>0.0174</td>\n",
       "      <td>0.3630</td>\n",
       "      <td>-0.0150</td>\n",
       "      <td>-0.3929</td>\n",
       "      <td>17.0855</td>\n",
       "      <td>0.4899</td>\n",
       "      <td>0.0150</td>\n",
       "      <td>-0.0150</td>\n",
       "      <td>0.0143</td>\n",
       "      <td>0.0006</td>\n",
       "      <td>0.0002</td>\n",
       "    </tr>\n",
       "    <tr>\n",
       "      <th>97</th>\n",
       "      <td>250</td>\n",
       "      <td>95.5556</td>\n",
       "      <td>0.2060</td>\n",
       "      <td>5.9948</td>\n",
       "      <td>-0.3731</td>\n",
       "      <td>0.0184</td>\n",
       "      <td>0.3786</td>\n",
       "      <td>-0.0155</td>\n",
       "      <td>-0.2161</td>\n",
       "      <td>6.9943</td>\n",
       "      <td>0.8103</td>\n",
       "      <td>0.0155</td>\n",
       "      <td>-0.0155</td>\n",
       "      <td>0.0151</td>\n",
       "      <td>0.0003</td>\n",
       "      <td>0.0001</td>\n",
       "    </tr>\n",
       "    <tr>\n",
       "      <th>98</th>\n",
       "      <td>250</td>\n",
       "      <td>97.7778</td>\n",
       "      <td>0.2035</td>\n",
       "      <td>6.9522</td>\n",
       "      <td>-0.4160</td>\n",
       "      <td>0.0192</td>\n",
       "      <td>0.3901</td>\n",
       "      <td>-0.0157</td>\n",
       "      <td>-0.0166</td>\n",
       "      <td>0.3529</td>\n",
       "      <td>0.6056</td>\n",
       "      <td>0.0157</td>\n",
       "      <td>-0.0157</td>\n",
       "      <td>0.0157</td>\n",
       "      <td>0.0000</td>\n",
       "      <td>0.0000</td>\n",
       "    </tr>\n",
       "    <tr>\n",
       "      <th>99</th>\n",
       "      <td>250</td>\n",
       "      <td>100.0000</td>\n",
       "      <td>0.2012</td>\n",
       "      <td>8.0119</td>\n",
       "      <td>-0.4599</td>\n",
       "      <td>0.0197</td>\n",
       "      <td>0.3969</td>\n",
       "      <td>-0.0158</td>\n",
       "      <td>0.1985</td>\n",
       "      <td>-1.9962</td>\n",
       "      <td>0.3016</td>\n",
       "      <td>0.0158</td>\n",
       "      <td>-0.0158</td>\n",
       "      <td>0.0162</td>\n",
       "      <td>-0.0003</td>\n",
       "      <td>-0.0000</td>\n",
       "    </tr>\n",
       "  </tbody>\n",
       "</table>\n",
       "</div>"
      ],
      "text/plain": [
       "      T        K     IV  price   delta  gamma   vega   theta   vanna   volga  \\\n",
       "95  250  91.1111 0.2117 4.3751 -0.2927 0.0162 0.3438 -0.0144 -0.5419 29.5622   \n",
       "96  250  93.3333 0.2088 5.1372 -0.3318 0.0174 0.3630 -0.0150 -0.3929 17.0855   \n",
       "97  250  95.5556 0.2060 5.9948 -0.3731 0.0184 0.3786 -0.0155 -0.2161  6.9943   \n",
       "98  250  97.7778 0.2035 6.9522 -0.4160 0.0192 0.3901 -0.0157 -0.0166  0.3529   \n",
       "99  250 100.0000 0.2012 8.0119 -0.4599 0.0197 0.3969 -0.0158  0.1985 -1.9962   \n",
       "\n",
       "    weights  abs_theta  theta_pred  cost_of_gamma  cost_of_vanna  \\\n",
       "95   0.4625     0.0144     -0.0144         0.0133         0.0008   \n",
       "96   0.4899     0.0150     -0.0150         0.0143         0.0006   \n",
       "97   0.8103     0.0155     -0.0155         0.0151         0.0003   \n",
       "98   0.6056     0.0157     -0.0157         0.0157         0.0000   \n",
       "99   0.3016     0.0158     -0.0158         0.0162        -0.0003   \n",
       "\n",
       "    cost_of_volga  \n",
       "95         0.0003  \n",
       "96         0.0002  \n",
       "97         0.0001  \n",
       "98         0.0000  \n",
       "99        -0.0000  "
      ]
     },
     "execution_count": 123,
     "metadata": {},
     "output_type": "execute_result"
    }
   ],
   "source": [
    "market_data_df.tail()"
   ]
  },
  {
   "cell_type": "code",
   "execution_count": 134,
   "metadata": {},
   "outputs": [],
   "source": [
    "X = market_data_df[['cost_of_gamma', 'cost_of_vanna', 'cost_of_volga']].to_numpy()\n",
    "Z = linkage(X, method='ward', metric='euclidean')\n",
    "num_clusters = 10\n",
    "clusters = fcluster(Z, num_clusters, criterion='maxclust')\n",
    "market_data_df['cluster'] = [str(x) for x in clusters]"
   ]
  },
  {
   "cell_type": "code",
   "execution_count": 135,
   "metadata": {},
   "outputs": [
    {
     "data": {
      "application/vnd.plotly.v1+json": {
       "config": {
        "plotlyServerURL": "https://plot.ly"
       },
       "data": [
        {
         "hovertemplate": "cluster=5<br>K=%{x}<br>T=%{y}<br>gamma=%{marker.size}<extra></extra>",
         "legendgroup": "5",
         "marker": {
          "color": "#636efa",
          "size": [
           2.600431049277167e-53,
           1.029381558617767e-42,
           3.108039472802378e-33,
           6.548051154727106e-25,
           8.806461596421251e-18,
           6.93886602943916e-12,
           2.959688594282666e-7,
           0.0006382368423613436,
           0.0006534357067282568,
           0.0016074782843983682
          ],
          "sizemode": "area",
          "sizeref": 0.000788444745930753,
          "symbol": "circle"
         },
         "mode": "markers",
         "name": "5",
         "orientation": "v",
         "showlegend": true,
         "type": "scatter",
         "x": [
          80,
          82.22222222222223,
          84.44444444444444,
          86.66666666666667,
          88.88888888888889,
          91.11111111111111,
          93.33333333333333,
          95.55555555555556,
          80,
          82.22222222222223
         ],
         "xaxis": "x",
         "y": [
          1,
          1,
          1,
          1,
          1,
          1,
          1,
          1,
          28,
          28
         ],
         "yaxis": "y"
        },
        {
         "hovertemplate": "cluster=1<br>K=%{x}<br>T=%{y}<br>gamma=%{marker.size}<extra></extra>",
         "legendgroup": "1",
         "marker": {
          "color": "#EF553B",
          "size": [
           0.06594983191704694,
           0.05507450790199765,
           0.059531097560281306
          ],
          "sizemode": "area",
          "sizeref": 0.000788444745930753,
          "symbol": "circle"
         },
         "mode": "markers",
         "name": "1",
         "orientation": "v",
         "showlegend": true,
         "type": "scatter",
         "x": [
          97.77777777777777,
          97.77777777777777,
          100
         ],
         "xaxis": "x",
         "y": [
          1,
          28,
          28
         ],
         "yaxis": "y"
        },
        {
         "hovertemplate": "cluster=10<br>K=%{x}<br>T=%{y}<br>gamma=%{marker.size}<extra></extra>",
         "legendgroup": "10",
         "marker": {
          "color": "#00cc96",
          "size": [
           0.31537789837230124
          ],
          "sizemode": "area",
          "sizeref": 0.000788444745930753,
          "symbol": "circle"
         },
         "mode": "markers",
         "name": "10",
         "orientation": "v",
         "showlegend": true,
         "type": "scatter",
         "x": [
          100
         ],
         "xaxis": "x",
         "y": [
          1
         ],
         "yaxis": "y"
        },
        {
         "hovertemplate": "cluster=6<br>K=%{x}<br>T=%{y}<br>gamma=%{marker.size}<extra></extra>",
         "legendgroup": "6",
         "marker": {
          "color": "#ab63fa",
          "size": [
           0.003604477755166275,
           0.007343549086129518,
           0.003911224257871948,
           0.006226658675718185,
           0.0065023832939041055,
           0.007988978774859596
          ],
          "sizemode": "area",
          "sizeref": 0.000788444745930753,
          "symbol": "circle"
         },
         "mode": "markers",
         "name": "6",
         "orientation": "v",
         "showlegend": true,
         "type": "scatter",
         "x": [
          84.44444444444444,
          86.66666666666667,
          80,
          82.22222222222223,
          80,
          80
         ],
         "xaxis": "x",
         "y": [
          28,
          28,
          56,
          56,
          84,
          111
         ],
         "yaxis": "y"
        },
        {
         "hovertemplate": "cluster=9<br>K=%{x}<br>T=%{y}<br>gamma=%{marker.size}<extra></extra>",
         "legendgroup": "9",
         "marker": {
          "color": "#FFA15A",
          "size": [
           0.013550209308225468,
           0.009460259943822808,
           0.013694887869042166,
           0.0089541100368522,
           0.011948893604154333,
           0.010251833025611742,
           0.012844045690270619,
           0.008858762659029974,
           0.010876420795589908,
           0.013098327908347487,
           0.009324310422327352,
           0.011116640716928734,
           0.013040501200258538,
           0.009545733724919164,
           0.011152083741743937,
           0.012846860379712895,
           0.009632103535262912,
           0.011076378110535436,
           0.012580396184911188,
           0.009628185741951187,
           0.010936855702523741,
           0.012286363136187509,
           0.01364503239294201
          ],
          "sizemode": "area",
          "sizeref": 0.000788444745930753,
          "symbol": "circle"
         },
         "mode": "markers",
         "name": "9",
         "orientation": "v",
         "showlegend": true,
         "type": "scatter",
         "x": [
          88.88888888888889,
          84.44444444444444,
          86.66666666666667,
          82.22222222222223,
          84.44444444444444,
          82.22222222222223,
          84.44444444444444,
          80,
          82.22222222222223,
          84.44444444444444,
          80,
          82.22222222222223,
          84.44444444444444,
          80,
          82.22222222222223,
          84.44444444444444,
          80,
          82.22222222222223,
          84.44444444444444,
          80,
          82.22222222222223,
          84.44444444444444,
          86.66666666666667
         ],
         "xaxis": "x",
         "y": [
          28,
          56,
          56,
          84,
          84,
          111,
          111,
          139,
          139,
          139,
          167,
          167,
          167,
          194,
          194,
          194,
          222,
          222,
          222,
          250,
          250,
          250,
          250
         ],
         "yaxis": "y"
        },
        {
         "hovertemplate": "cluster=7<br>K=%{x}<br>T=%{y}<br>gamma=%{marker.size}<extra></extra>",
         "legendgroup": "7",
         "marker": {
          "color": "#19d3f3",
          "size": [
           0.022574604228710753,
           0.018859113171394604,
           0.024666895314037908,
           0.01928101877657971,
           0.02326493389283511,
           0.018700187775361858,
           0.02169623663142805,
           0.024497924022334486,
           0.020241713241181705,
           0.02241907830683668,
           0.024280887266957048,
           0.01899523363734406,
           0.02077071902794202,
           0.02228933531123783,
           0.023465412811754398,
           0.024229304980749947,
           0.01947048828839212,
           0.020761557288285267,
           0.021773446683666462,
           0.02245367264606641,
           0.01834214620623774,
           0.019461662974393668,
           0.020349364315846132,
           0.020964352445355886,
           0.018373513637334977,
           0.019167197122638265,
           0.01973136661411664
          ],
          "sizemode": "area",
          "sizeref": 0.000788444745930753,
          "symbol": "circle"
         },
         "mode": "markers",
         "name": "7",
         "orientation": "v",
         "showlegend": true,
         "type": "scatter",
         "x": [
          91.11111111111111,
          88.88888888888889,
          91.11111111111111,
          88.88888888888889,
          91.11111111111111,
          88.88888888888889,
          91.11111111111111,
          93.33333333333333,
          91.11111111111111,
          93.33333333333333,
          95.55555555555556,
          91.11111111111111,
          93.33333333333333,
          95.55555555555556,
          97.77777777777777,
          100,
          93.33333333333333,
          95.55555555555556,
          97.77777777777777,
          100,
          93.33333333333333,
          95.55555555555556,
          97.77777777777777,
          100,
          95.55555555555556,
          97.77777777777777,
          100
         ],
         "xaxis": "x",
         "y": [
          28,
          56,
          56,
          84,
          84,
          111,
          111,
          111,
          139,
          139,
          139,
          167,
          167,
          167,
          167,
          167,
          194,
          194,
          194,
          194,
          222,
          222,
          222,
          222,
          250,
          250,
          250
         ],
         "yaxis": "y"
        },
        {
         "hovertemplate": "cluster=3<br>K=%{x}<br>T=%{y}<br>gamma=%{marker.size}<extra></extra>",
         "legendgroup": "3",
         "marker": {
          "color": "#FF6692",
          "size": [
           0.033860234155560366,
           0.03595600684740413,
           0.032905555450582956,
           0.03428684860229086
          ],
          "sizemode": "area",
          "sizeref": 0.000788444745930753,
          "symbol": "circle"
         },
         "mode": "markers",
         "name": "3",
         "orientation": "v",
         "showlegend": true,
         "type": "scatter",
         "x": [
          93.33333333333333,
          95.55555555555556,
          97.77777777777777,
          100
         ],
         "xaxis": "x",
         "y": [
          28,
          56,
          84,
          84
         ],
         "yaxis": "y"
        },
        {
         "hovertemplate": "cluster=2<br>K=%{x}<br>T=%{y}<br>gamma=%{marker.size}<extra></extra>",
         "legendgroup": "2",
         "marker": {
          "color": "#B6E880",
          "size": [
           0.04561227823711406,
           0.03998177573582953,
           0.042043733200537566
          ],
          "sizemode": "area",
          "sizeref": 0.000788444745930753,
          "symbol": "circle"
         },
         "mode": "markers",
         "name": "2",
         "orientation": "v",
         "showlegend": true,
         "type": "scatter",
         "x": [
          95.55555555555556,
          97.77777777777777,
          100
         ],
         "xaxis": "x",
         "y": [
          28,
          56,
          56
         ],
         "yaxis": "y"
        },
        {
         "hovertemplate": "cluster=4<br>K=%{x}<br>T=%{y}<br>gamma=%{marker.size}<extra></extra>",
         "legendgroup": "4",
         "marker": {
          "color": "#FF97FF",
          "size": [
           0.030599367567513882,
           0.027090330841597083,
           0.030415881892757186,
           0.02690292625840144,
           0.028719151464159837,
           0.029791754609719556,
           0.02570433569751524,
           0.026590175815920342
          ],
          "sizemode": "area",
          "sizeref": 0.000788444745930753,
          "symbol": "circle"
         },
         "mode": "markers",
         "name": "4",
         "orientation": "v",
         "showlegend": true,
         "type": "scatter",
         "x": [
          93.33333333333333,
          93.33333333333333,
          95.55555555555556,
          95.55555555555556,
          97.77777777777777,
          100,
          97.77777777777777,
          100
         ],
         "xaxis": "x",
         "y": [
          56,
          84,
          84,
          111,
          111,
          111,
          139,
          139
         ],
         "yaxis": "y"
        },
        {
         "hovertemplate": "cluster=8<br>K=%{x}<br>T=%{y}<br>gamma=%{marker.size}<extra></extra>",
         "legendgroup": "8",
         "marker": {
          "color": "#FECB52",
          "size": [
           0.015435482552114401,
           0.01569769979703398,
           0.015462389364131154,
           0.017880526120018787,
           0.015043173970778178,
           0.017055632569996565,
           0.014585627189306763,
           0.01631290218038721,
           0.01796435922570279,
           0.014106808623468099,
           0.015610513044952857,
           0.01704041296753414,
           0.014975512677925873,
           0.01623619028002201,
           0.01738328116738559
          ],
          "sizemode": "area",
          "sizeref": 0.000788444745930753,
          "symbol": "circle"
         },
         "mode": "markers",
         "name": "8",
         "orientation": "v",
         "showlegend": true,
         "type": "scatter",
         "x": [
          86.66666666666667,
          86.66666666666667,
          86.66666666666667,
          88.88888888888889,
          86.66666666666667,
          88.88888888888889,
          86.66666666666667,
          88.88888888888889,
          91.11111111111111,
          86.66666666666667,
          88.88888888888889,
          91.11111111111111,
          88.88888888888889,
          91.11111111111111,
          93.33333333333333
         ],
         "xaxis": "x",
         "y": [
          84,
          111,
          139,
          139,
          167,
          167,
          194,
          194,
          194,
          222,
          222,
          222,
          250,
          250,
          250
         ],
         "yaxis": "y"
        }
       ],
       "layout": {
        "legend": {
         "itemsizing": "constant",
         "title": {
          "text": "cluster"
         },
         "tracegroupgap": 0
        },
        "margin": {
         "t": 60
        },
        "template": {
         "data": {
          "bar": [
           {
            "error_x": {
             "color": "#2a3f5f"
            },
            "error_y": {
             "color": "#2a3f5f"
            },
            "marker": {
             "line": {
              "color": "#E5ECF6",
              "width": 0.5
             },
             "pattern": {
              "fillmode": "overlay",
              "size": 10,
              "solidity": 0.2
             }
            },
            "type": "bar"
           }
          ],
          "barpolar": [
           {
            "marker": {
             "line": {
              "color": "#E5ECF6",
              "width": 0.5
             },
             "pattern": {
              "fillmode": "overlay",
              "size": 10,
              "solidity": 0.2
             }
            },
            "type": "barpolar"
           }
          ],
          "carpet": [
           {
            "aaxis": {
             "endlinecolor": "#2a3f5f",
             "gridcolor": "white",
             "linecolor": "white",
             "minorgridcolor": "white",
             "startlinecolor": "#2a3f5f"
            },
            "baxis": {
             "endlinecolor": "#2a3f5f",
             "gridcolor": "white",
             "linecolor": "white",
             "minorgridcolor": "white",
             "startlinecolor": "#2a3f5f"
            },
            "type": "carpet"
           }
          ],
          "choropleth": [
           {
            "colorbar": {
             "outlinewidth": 0,
             "ticks": ""
            },
            "type": "choropleth"
           }
          ],
          "contour": [
           {
            "colorbar": {
             "outlinewidth": 0,
             "ticks": ""
            },
            "colorscale": [
             [
              0,
              "#0d0887"
             ],
             [
              0.1111111111111111,
              "#46039f"
             ],
             [
              0.2222222222222222,
              "#7201a8"
             ],
             [
              0.3333333333333333,
              "#9c179e"
             ],
             [
              0.4444444444444444,
              "#bd3786"
             ],
             [
              0.5555555555555556,
              "#d8576b"
             ],
             [
              0.6666666666666666,
              "#ed7953"
             ],
             [
              0.7777777777777778,
              "#fb9f3a"
             ],
             [
              0.8888888888888888,
              "#fdca26"
             ],
             [
              1,
              "#f0f921"
             ]
            ],
            "type": "contour"
           }
          ],
          "contourcarpet": [
           {
            "colorbar": {
             "outlinewidth": 0,
             "ticks": ""
            },
            "type": "contourcarpet"
           }
          ],
          "heatmap": [
           {
            "colorbar": {
             "outlinewidth": 0,
             "ticks": ""
            },
            "colorscale": [
             [
              0,
              "#0d0887"
             ],
             [
              0.1111111111111111,
              "#46039f"
             ],
             [
              0.2222222222222222,
              "#7201a8"
             ],
             [
              0.3333333333333333,
              "#9c179e"
             ],
             [
              0.4444444444444444,
              "#bd3786"
             ],
             [
              0.5555555555555556,
              "#d8576b"
             ],
             [
              0.6666666666666666,
              "#ed7953"
             ],
             [
              0.7777777777777778,
              "#fb9f3a"
             ],
             [
              0.8888888888888888,
              "#fdca26"
             ],
             [
              1,
              "#f0f921"
             ]
            ],
            "type": "heatmap"
           }
          ],
          "heatmapgl": [
           {
            "colorbar": {
             "outlinewidth": 0,
             "ticks": ""
            },
            "colorscale": [
             [
              0,
              "#0d0887"
             ],
             [
              0.1111111111111111,
              "#46039f"
             ],
             [
              0.2222222222222222,
              "#7201a8"
             ],
             [
              0.3333333333333333,
              "#9c179e"
             ],
             [
              0.4444444444444444,
              "#bd3786"
             ],
             [
              0.5555555555555556,
              "#d8576b"
             ],
             [
              0.6666666666666666,
              "#ed7953"
             ],
             [
              0.7777777777777778,
              "#fb9f3a"
             ],
             [
              0.8888888888888888,
              "#fdca26"
             ],
             [
              1,
              "#f0f921"
             ]
            ],
            "type": "heatmapgl"
           }
          ],
          "histogram": [
           {
            "marker": {
             "pattern": {
              "fillmode": "overlay",
              "size": 10,
              "solidity": 0.2
             }
            },
            "type": "histogram"
           }
          ],
          "histogram2d": [
           {
            "colorbar": {
             "outlinewidth": 0,
             "ticks": ""
            },
            "colorscale": [
             [
              0,
              "#0d0887"
             ],
             [
              0.1111111111111111,
              "#46039f"
             ],
             [
              0.2222222222222222,
              "#7201a8"
             ],
             [
              0.3333333333333333,
              "#9c179e"
             ],
             [
              0.4444444444444444,
              "#bd3786"
             ],
             [
              0.5555555555555556,
              "#d8576b"
             ],
             [
              0.6666666666666666,
              "#ed7953"
             ],
             [
              0.7777777777777778,
              "#fb9f3a"
             ],
             [
              0.8888888888888888,
              "#fdca26"
             ],
             [
              1,
              "#f0f921"
             ]
            ],
            "type": "histogram2d"
           }
          ],
          "histogram2dcontour": [
           {
            "colorbar": {
             "outlinewidth": 0,
             "ticks": ""
            },
            "colorscale": [
             [
              0,
              "#0d0887"
             ],
             [
              0.1111111111111111,
              "#46039f"
             ],
             [
              0.2222222222222222,
              "#7201a8"
             ],
             [
              0.3333333333333333,
              "#9c179e"
             ],
             [
              0.4444444444444444,
              "#bd3786"
             ],
             [
              0.5555555555555556,
              "#d8576b"
             ],
             [
              0.6666666666666666,
              "#ed7953"
             ],
             [
              0.7777777777777778,
              "#fb9f3a"
             ],
             [
              0.8888888888888888,
              "#fdca26"
             ],
             [
              1,
              "#f0f921"
             ]
            ],
            "type": "histogram2dcontour"
           }
          ],
          "mesh3d": [
           {
            "colorbar": {
             "outlinewidth": 0,
             "ticks": ""
            },
            "type": "mesh3d"
           }
          ],
          "parcoords": [
           {
            "line": {
             "colorbar": {
              "outlinewidth": 0,
              "ticks": ""
             }
            },
            "type": "parcoords"
           }
          ],
          "pie": [
           {
            "automargin": true,
            "type": "pie"
           }
          ],
          "scatter": [
           {
            "fillpattern": {
             "fillmode": "overlay",
             "size": 10,
             "solidity": 0.2
            },
            "type": "scatter"
           }
          ],
          "scatter3d": [
           {
            "line": {
             "colorbar": {
              "outlinewidth": 0,
              "ticks": ""
             }
            },
            "marker": {
             "colorbar": {
              "outlinewidth": 0,
              "ticks": ""
             }
            },
            "type": "scatter3d"
           }
          ],
          "scattercarpet": [
           {
            "marker": {
             "colorbar": {
              "outlinewidth": 0,
              "ticks": ""
             }
            },
            "type": "scattercarpet"
           }
          ],
          "scattergeo": [
           {
            "marker": {
             "colorbar": {
              "outlinewidth": 0,
              "ticks": ""
             }
            },
            "type": "scattergeo"
           }
          ],
          "scattergl": [
           {
            "marker": {
             "colorbar": {
              "outlinewidth": 0,
              "ticks": ""
             }
            },
            "type": "scattergl"
           }
          ],
          "scattermapbox": [
           {
            "marker": {
             "colorbar": {
              "outlinewidth": 0,
              "ticks": ""
             }
            },
            "type": "scattermapbox"
           }
          ],
          "scatterpolar": [
           {
            "marker": {
             "colorbar": {
              "outlinewidth": 0,
              "ticks": ""
             }
            },
            "type": "scatterpolar"
           }
          ],
          "scatterpolargl": [
           {
            "marker": {
             "colorbar": {
              "outlinewidth": 0,
              "ticks": ""
             }
            },
            "type": "scatterpolargl"
           }
          ],
          "scatterternary": [
           {
            "marker": {
             "colorbar": {
              "outlinewidth": 0,
              "ticks": ""
             }
            },
            "type": "scatterternary"
           }
          ],
          "surface": [
           {
            "colorbar": {
             "outlinewidth": 0,
             "ticks": ""
            },
            "colorscale": [
             [
              0,
              "#0d0887"
             ],
             [
              0.1111111111111111,
              "#46039f"
             ],
             [
              0.2222222222222222,
              "#7201a8"
             ],
             [
              0.3333333333333333,
              "#9c179e"
             ],
             [
              0.4444444444444444,
              "#bd3786"
             ],
             [
              0.5555555555555556,
              "#d8576b"
             ],
             [
              0.6666666666666666,
              "#ed7953"
             ],
             [
              0.7777777777777778,
              "#fb9f3a"
             ],
             [
              0.8888888888888888,
              "#fdca26"
             ],
             [
              1,
              "#f0f921"
             ]
            ],
            "type": "surface"
           }
          ],
          "table": [
           {
            "cells": {
             "fill": {
              "color": "#EBF0F8"
             },
             "line": {
              "color": "white"
             }
            },
            "header": {
             "fill": {
              "color": "#C8D4E3"
             },
             "line": {
              "color": "white"
             }
            },
            "type": "table"
           }
          ]
         },
         "layout": {
          "annotationdefaults": {
           "arrowcolor": "#2a3f5f",
           "arrowhead": 0,
           "arrowwidth": 1
          },
          "autotypenumbers": "strict",
          "coloraxis": {
           "colorbar": {
            "outlinewidth": 0,
            "ticks": ""
           }
          },
          "colorscale": {
           "diverging": [
            [
             0,
             "#8e0152"
            ],
            [
             0.1,
             "#c51b7d"
            ],
            [
             0.2,
             "#de77ae"
            ],
            [
             0.3,
             "#f1b6da"
            ],
            [
             0.4,
             "#fde0ef"
            ],
            [
             0.5,
             "#f7f7f7"
            ],
            [
             0.6,
             "#e6f5d0"
            ],
            [
             0.7,
             "#b8e186"
            ],
            [
             0.8,
             "#7fbc41"
            ],
            [
             0.9,
             "#4d9221"
            ],
            [
             1,
             "#276419"
            ]
           ],
           "sequential": [
            [
             0,
             "#0d0887"
            ],
            [
             0.1111111111111111,
             "#46039f"
            ],
            [
             0.2222222222222222,
             "#7201a8"
            ],
            [
             0.3333333333333333,
             "#9c179e"
            ],
            [
             0.4444444444444444,
             "#bd3786"
            ],
            [
             0.5555555555555556,
             "#d8576b"
            ],
            [
             0.6666666666666666,
             "#ed7953"
            ],
            [
             0.7777777777777778,
             "#fb9f3a"
            ],
            [
             0.8888888888888888,
             "#fdca26"
            ],
            [
             1,
             "#f0f921"
            ]
           ],
           "sequentialminus": [
            [
             0,
             "#0d0887"
            ],
            [
             0.1111111111111111,
             "#46039f"
            ],
            [
             0.2222222222222222,
             "#7201a8"
            ],
            [
             0.3333333333333333,
             "#9c179e"
            ],
            [
             0.4444444444444444,
             "#bd3786"
            ],
            [
             0.5555555555555556,
             "#d8576b"
            ],
            [
             0.6666666666666666,
             "#ed7953"
            ],
            [
             0.7777777777777778,
             "#fb9f3a"
            ],
            [
             0.8888888888888888,
             "#fdca26"
            ],
            [
             1,
             "#f0f921"
            ]
           ]
          },
          "colorway": [
           "#636efa",
           "#EF553B",
           "#00cc96",
           "#ab63fa",
           "#FFA15A",
           "#19d3f3",
           "#FF6692",
           "#B6E880",
           "#FF97FF",
           "#FECB52"
          ],
          "font": {
           "color": "#2a3f5f"
          },
          "geo": {
           "bgcolor": "white",
           "lakecolor": "white",
           "landcolor": "#E5ECF6",
           "showlakes": true,
           "showland": true,
           "subunitcolor": "white"
          },
          "hoverlabel": {
           "align": "left"
          },
          "hovermode": "closest",
          "mapbox": {
           "style": "light"
          },
          "paper_bgcolor": "white",
          "plot_bgcolor": "#E5ECF6",
          "polar": {
           "angularaxis": {
            "gridcolor": "white",
            "linecolor": "white",
            "ticks": ""
           },
           "bgcolor": "#E5ECF6",
           "radialaxis": {
            "gridcolor": "white",
            "linecolor": "white",
            "ticks": ""
           }
          },
          "scene": {
           "xaxis": {
            "backgroundcolor": "#E5ECF6",
            "gridcolor": "white",
            "gridwidth": 2,
            "linecolor": "white",
            "showbackground": true,
            "ticks": "",
            "zerolinecolor": "white"
           },
           "yaxis": {
            "backgroundcolor": "#E5ECF6",
            "gridcolor": "white",
            "gridwidth": 2,
            "linecolor": "white",
            "showbackground": true,
            "ticks": "",
            "zerolinecolor": "white"
           },
           "zaxis": {
            "backgroundcolor": "#E5ECF6",
            "gridcolor": "white",
            "gridwidth": 2,
            "linecolor": "white",
            "showbackground": true,
            "ticks": "",
            "zerolinecolor": "white"
           }
          },
          "shapedefaults": {
           "line": {
            "color": "#2a3f5f"
           }
          },
          "ternary": {
           "aaxis": {
            "gridcolor": "white",
            "linecolor": "white",
            "ticks": ""
           },
           "baxis": {
            "gridcolor": "white",
            "linecolor": "white",
            "ticks": ""
           },
           "bgcolor": "#E5ECF6",
           "caxis": {
            "gridcolor": "white",
            "linecolor": "white",
            "ticks": ""
           }
          },
          "title": {
           "x": 0.05
          },
          "xaxis": {
           "automargin": true,
           "gridcolor": "white",
           "linecolor": "white",
           "ticks": "",
           "title": {
            "standoff": 15
           },
           "zerolinecolor": "white",
           "zerolinewidth": 2
          },
          "yaxis": {
           "automargin": true,
           "gridcolor": "white",
           "linecolor": "white",
           "ticks": "",
           "title": {
            "standoff": 15
           },
           "zerolinecolor": "white",
           "zerolinewidth": 2
          }
         }
        },
        "xaxis": {
         "anchor": "y",
         "domain": [
          0,
          1
         ],
         "title": {
          "text": "K"
         }
        },
        "yaxis": {
         "anchor": "x",
         "domain": [
          0,
          1
         ],
         "title": {
          "text": "T"
         }
        }
       }
      }
     },
     "metadata": {},
     "output_type": "display_data"
    }
   ],
   "source": [
    "px.scatter(data_frame=market_data_df, x='K', y='T', color='cluster', size='gamma')"
   ]
  },
  {
   "cell_type": "code",
   "execution_count": null,
   "metadata": {},
   "outputs": [],
   "source": []
  },
  {
   "cell_type": "code",
   "execution_count": null,
   "metadata": {},
   "outputs": [],
   "source": []
  },
  {
   "cell_type": "code",
   "execution_count": null,
   "metadata": {},
   "outputs": [],
   "source": []
  },
  {
   "cell_type": "code",
   "execution_count": null,
   "metadata": {},
   "outputs": [],
   "source": []
  },
  {
   "cell_type": "code",
   "execution_count": null,
   "metadata": {},
   "outputs": [],
   "source": []
  }
 ],
 "metadata": {
  "kernelspec": {
   "display_name": "base",
   "language": "python",
   "name": "python3"
  },
  "language_info": {
   "codemirror_mode": {
    "name": "ipython",
    "version": 3
   },
   "file_extension": ".py",
   "mimetype": "text/x-python",
   "name": "python",
   "nbconvert_exporter": "python",
   "pygments_lexer": "ipython3",
   "version": "3.12.4"
  }
 },
 "nbformat": 4,
 "nbformat_minor": 2
}
