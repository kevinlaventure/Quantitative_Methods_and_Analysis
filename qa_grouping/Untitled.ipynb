{
 "cells": [
  {
   "cell_type": "code",
   "execution_count": 1,
   "id": "1832fc43-ec4f-41ae-a07b-a1305a25a38a",
   "metadata": {},
   "outputs": [
    {
     "name": "stderr",
     "output_type": "stream",
     "text": [
      "/var/folders/5g/b4bpmvtn7tjcmrg4l2k_p_9r0000gn/T/ipykernel_51813/2717787580.py:92: IntegrationWarning: The integral is probably divergent, or slowly convergent.\n",
      "  integral_result, _ = quad(integrand, 0, 200)  # upper limit might need refinement\n",
      "/var/folders/5g/b4bpmvtn7tjcmrg4l2k_p_9r0000gn/T/ipykernel_51813/2717787580.py:92: IntegrationWarning: The maximum number of subdivisions (50) has been achieved.\n",
      "  If increasing the limit yields no improvement it is advised to analyze \n",
      "  the integrand in order to determine the difficulties.  If the position of a \n",
      "  local difficulty can be determined (singularity, discontinuity) one will \n",
      "  probably gain from splitting up the interval and calling the integrator \n",
      "  on the subranges.  Perhaps a special-purpose integrator should be used.\n",
      "  integral_result, _ = quad(integrand, 0, 200)  # upper limit might need refinement\n"
     ]
    },
    {
     "name": "stdout",
     "output_type": "stream",
     "text": [
      "Calibrated parameters:\n",
      "kappa=2.030208519925757, theta=0.04780202723196492, sigma_v=0.5025067131223329, rho=-0.5928308871687656,\n",
      "v0=0.03972341866806533, lambda_j=1.1443066097733838, mu_j=3.033474671340872, sigma_j=0.005123736620439857\n"
     ]
    }
   ],
   "source": [
    "import numpy as np\n",
    "from scipy.optimize import least_squares\n",
    "\n",
    "# ---------------------------------------------\n",
    "# Characteristic function of the Bates model\n",
    "# ---------------------------------------------\n",
    "def bates_characteristic_function(u, T, S0, r, q, kappa, theta, sigma_v, rho, v0, \n",
    "                                  lambda_j, mu_j, sigma_j):\n",
    "    \"\"\"\n",
    "    Bates model characteristic function for log(S_T).\n",
    "\n",
    "    Inputs:\n",
    "        u: complex argument\n",
    "        T: time to maturity\n",
    "        S0: initial underlying price\n",
    "        r: risk-free rate\n",
    "        q: continuous dividend yield\n",
    "        model parameters: kappa, theta, sigma_v, rho, v0, lambda_j, mu_j, sigma_j\n",
    "        \n",
    "    Returns:\n",
    "        phi(u): characteristic function value at u.\n",
    "    \"\"\"\n",
    "\n",
    "    # Decompose and define intermediates as per Bates model formula\n",
    "    \n",
    "    # The drift correction term for jumps under risk-neutral measure:\n",
    "    omega_j = np.exp(mu_j + 0.5 * sigma_j**2) - 1.0\n",
    "    \n",
    "    # Adjusted jump intensity for risk-neutral measure could be lambda_j,\n",
    "    # or if under Q measure it might differ. For standard Bates Q parameters,\n",
    "    # we assume lambda_j is already Q-measure intensity.\n",
    "    \n",
    "    # Heston part characteristic exponent:\n",
    "    # As per standard Heston, define d and g:\n",
    "    iu = 1j * u\n",
    "    alpha = -0.5 * (u*u + 1j*u)\n",
    "    beta = kappa - rho * sigma_v * iu\n",
    "    gamma = 0.5 * sigma_v**2\n",
    "    \n",
    "    d = np.sqrt(beta*beta - 4.0 * alpha * gamma)\n",
    "    g = (beta - d) / (beta + d)\n",
    "    \n",
    "    # Heston characteristic function for variance:\n",
    "    C = (1.0/gamma) * ( (beta - d) * (T) - 2.0 * np.log((1 - g * np.exp(-d*T)) / (1 - g)) )\n",
    "    D = (beta - d)/gamma * ( (1 - np.exp(-d*T)) / (1 - g*np.exp(-d*T)) )\n",
    "    \n",
    "    # Combine jump part:\n",
    "    # Jump characteristic exponent:\n",
    "    # Cf. Jump term: E[e^{iu * (sum of jumps)}] = exp(lambda * T * ((e^{iu * Y} - 1)))\n",
    "    # For Normal jumps: E[e^{iuY}] = exp(iu mu_j - 0.5 u^2 sigma_j^2)\n",
    "    # So jump part = exp(lambda_j * T * (exp(iu mu_j - 0.5 sigma_j^2 u^2) - 1))\n",
    "    jump_char = np.exp(lambda_j * T * (np.exp(iu * mu_j - 0.5 * sigma_j**2 * u**2) - 1.0))\n",
    "    \n",
    "    # Full characteristic function:\n",
    "    phi = np.exp(iu*(np.log(S0) + (r - q)*T) + C*theta - D*v0) * jump_char\n",
    "    \n",
    "    return phi\n",
    "\n",
    "# ---------------------------------------------\n",
    "# European Call Pricing Using a Fourier Approach (Lewis formula)\n",
    "# ---------------------------------------------\n",
    "def bates_call_price(S0, K, T, r, q, params):\n",
    "    \"\"\"\n",
    "    Price a European call using the Bates model characteristic function and\n",
    "    a Fourier integral approach (Lewis 2001 formula).\n",
    "    \"\"\"\n",
    "    # Unpack parameters:\n",
    "    kappa, theta, sigma_v, rho, v0, lambda_j, mu_j, sigma_j = params\n",
    "    \n",
    "    # For numerical integration, define integrand:\n",
    "    # Lewis formula for call price:\n",
    "    # C = S0 * exp(-qT) - K * exp(-rT)/π ∫_0^∞ Re[ (exp(-iu ln K) * phi(u - i)) / (i u * phi(-i)) ] du\n",
    "    # Here we adapt a commonly used integral representation. \n",
    "    # We'll implement the characteristic function shifted by -i for the integrand.\n",
    "    \n",
    "    # Characteristic function under transform u - i\n",
    "    def phi_transform(u):\n",
    "        return bates_characteristic_function(u - 1j, T, S0, r, q, kappa, theta, sigma_v, rho, v0, lambda_j, mu_j, sigma_j)\n",
    "\n",
    "    # The integral can be approximated using numerical integration (e.g., Simpson's rule or quad).\n",
    "    from scipy.integrate import quad\n",
    "\n",
    "    lnK = np.log(K)\n",
    "\n",
    "    def integrand(u):\n",
    "        u_complex = u + 0j\n",
    "        numerator = np.exp(-1j*u_complex*lnK)*phi_transform(u_complex)\n",
    "        denominator = 1j*u_complex * bates_characteristic_function(-1j, T, S0, r, q, kappa, theta, sigma_v, rho, v0, lambda_j, mu_j, sigma_j)\n",
    "        val = numerator/denominator\n",
    "        return val.real\n",
    "\n",
    "    integral_result, _ = quad(integrand, 0, 200)  # upper limit might need refinement\n",
    "\n",
    "    # Final price:\n",
    "    call_price = S0*np.exp(-q*T) - K*np.exp(-r*T)*integral_result/np.pi\n",
    "    return call_price\n",
    "\n",
    "# ---------------------------------------------\n",
    "# Objective Function for Calibration\n",
    "# ---------------------------------------------\n",
    "def calibration_error(params, market_data, S0, r, q):\n",
    "    # params: [kappa, theta, sigma_v, rho, v0, lambda_j, mu_j, sigma_j]\n",
    "    errors = []\n",
    "    for (K, T, market_price) in market_data:\n",
    "        model_price = bates_call_price(S0, K, T, r, q, params)\n",
    "        errors.append(model_price - market_price)\n",
    "    return errors\n",
    "\n",
    "# ---------------------------------------------\n",
    "# Example Calibration Routine\n",
    "# ---------------------------------------------\n",
    "if __name__ == \"__main__\":\n",
    "    # Example (dummy) market data: (K, T, market_call_price)\n",
    "    market_data = [\n",
    "        (100, 0.5, 5.0),\n",
    "        (110, 0.5, 2.5),\n",
    "        (90,  0.5, 10.0),\n",
    "        (100, 1.0, 7.0),\n",
    "        # ... add more data\n",
    "    ]\n",
    "    S0 = 100\n",
    "    r = 0.01\n",
    "    q = 0.00\n",
    "\n",
    "    # Initial guess for parameters\n",
    "    # [kappa, theta, sigma_v, rho, v0, lambda_j, mu_j, sigma_j]\n",
    "    initial_guess = [2.0, 0.04, 0.5, -0.5, 0.04, 0.1, -0.1, 0.2]\n",
    "\n",
    "    # Perform least squares calibration\n",
    "    result = least_squares(calibration_error, initial_guess, \n",
    "                           args=(market_data, S0, r, q),\n",
    "                           bounds=( [1e-5, 1e-5, 1e-5, -0.9999, 1e-5, 1e-5, -10, 1e-5],\n",
    "                                    [10, 1, 5, 0.9999, 1, 10, 10, 5] ))\n",
    "\n",
    "    calibrated_params = result.x\n",
    "    print(\"Calibrated parameters:\")\n",
    "    print(f\"kappa={calibrated_params[0]}, theta={calibrated_params[1]}, sigma_v={calibrated_params[2]}, rho={calibrated_params[3]},\")\n",
    "    print(f\"v0={calibrated_params[4]}, lambda_j={calibrated_params[5]}, mu_j={calibrated_params[6]}, sigma_j={calibrated_params[7]}\")\n"
   ]
  },
  {
   "cell_type": "code",
   "execution_count": 3,
   "id": "73526e4e-f7eb-47e8-9682-b8315a9648df",
   "metadata": {},
   "outputs": [
    {
     "data": {
      "text/plain": [
       "array([ 2.03020852,  0.04780203,  0.50250671, -0.59283089,  0.03972342,\n",
       "        1.14430661,  3.03347467,  0.00512374])"
      ]
     },
     "execution_count": 3,
     "metadata": {},
     "output_type": "execute_result"
    }
   ],
   "source": [
    "calibrated_params"
   ]
  },
  {
   "cell_type": "code",
   "execution_count": 7,
   "id": "dd408448-939c-4b49-9cc7-49545650adc6",
   "metadata": {},
   "outputs": [],
   "source": [
    "param = 5, 0.2**2, 0.001, 0, 0.2**2, 0.1, 0, 0.001 "
   ]
  },
  {
   "cell_type": "code",
   "execution_count": 9,
   "id": "4ca46c7e-c440-4aa2-93b9-880cc7b0fb22",
   "metadata": {},
   "outputs": [
    {
     "data": {
      "text/plain": [
       "3.5064202333200734e+25"
      ]
     },
     "execution_count": 9,
     "metadata": {},
     "output_type": "execute_result"
    }
   ],
   "source": [
    "bates_call_price(100, 100, 1, 0, 0, param)"
   ]
  },
  {
   "cell_type": "code",
   "execution_count": null,
   "id": "9857bf81-e742-42ca-b7b7-38c626f88c33",
   "metadata": {},
   "outputs": [],
   "source": []
  }
 ],
 "metadata": {
  "kernelspec": {
   "display_name": "Python 3 (ipykernel)",
   "language": "python",
   "name": "python3"
  },
  "language_info": {
   "codemirror_mode": {
    "name": "ipython",
    "version": 3
   },
   "file_extension": ".py",
   "mimetype": "text/x-python",
   "name": "python",
   "nbconvert_exporter": "python",
   "pygments_lexer": "ipython3",
   "version": "3.12.4"
  }
 },
 "nbformat": 4,
 "nbformat_minor": 5
}
