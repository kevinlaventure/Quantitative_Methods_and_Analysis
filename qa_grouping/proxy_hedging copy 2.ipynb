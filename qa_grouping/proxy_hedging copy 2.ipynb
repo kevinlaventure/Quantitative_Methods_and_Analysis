{
 "cells": [
  {
   "cell_type": "code",
   "execution_count": 176,
   "metadata": {},
   "outputs": [],
   "source": [
    "# -------\n",
    "# IMPORT LIBRAIRIES\n",
    "# -------\n",
    "import numpy as np\n",
    "import pandas as pd\n",
    "import plotly.express as px\n",
    "from python_module import sabr\n",
    "from python_module import blackscholes\n",
    "from sklearn.linear_model import LinearRegression\n",
    "from scipy.cluster.hierarchy import linkage, fcluster\n",
    "\n",
    "# -------\n",
    "# DISPLAY SETTINGS\n",
    "# -------\n",
    "pd.set_option('display.max_rows', 100)\n",
    "pd.set_option('display.max_columns', 100)\n",
    "pd.options.display.float_format = lambda x: f'{x:_.4f}'"
   ]
  },
  {
   "cell_type": "code",
   "execution_count": 177,
   "metadata": {},
   "outputs": [],
   "source": [
    "# -------\n",
    "# GENERATE MARKET DATA & PORTFOLIO\n",
    "# -------\n",
    "S = F = 100\n",
    "alpha = 0.2\n",
    "beta = 1\n",
    "rho = -0.4\n",
    "nu = 0.5\n",
    "market_data_list = list()\n",
    "for time_to_maturity in np.linspace(start=1, stop=250, num=10, dtype=int):\n",
    "    T = time_to_maturity / 250\n",
    "    for K in np.linspace(start=80, stop=100, num=10):\n",
    "        IV = sabr.compute_vol(F, K, T, alpha, beta, rho, nu)\n",
    "        pricing_results = blackscholes.compute_option(S, K, T, 0, IV, 'put', True)\n",
    "        market_data_list.append({'time_to_maturity': time_to_maturity, 'T': T, 'K': K, 'IV': IV, **pricing_results})\n",
    "market_data_df = pd.DataFrame(market_data_list)\n",
    "market_data_df['weights'] = abs(np.random.normal(size=market_data_df.shape[0]))"
   ]
  },
  {
   "cell_type": "code",
   "execution_count": 178,
   "metadata": {},
   "outputs": [
    {
     "data": {
      "text/html": [
       "<div>\n",
       "<style scoped>\n",
       "    .dataframe tbody tr th:only-of-type {\n",
       "        vertical-align: middle;\n",
       "    }\n",
       "\n",
       "    .dataframe tbody tr th {\n",
       "        vertical-align: top;\n",
       "    }\n",
       "\n",
       "    .dataframe thead th {\n",
       "        text-align: right;\n",
       "    }\n",
       "</style>\n",
       "<table border=\"1\" class=\"dataframe\">\n",
       "  <thead>\n",
       "    <tr style=\"text-align: right;\">\n",
       "      <th></th>\n",
       "      <th>time_to_maturity</th>\n",
       "      <th>T</th>\n",
       "      <th>K</th>\n",
       "      <th>IV</th>\n",
       "      <th>price</th>\n",
       "      <th>delta</th>\n",
       "      <th>gamma</th>\n",
       "      <th>vega</th>\n",
       "      <th>theta</th>\n",
       "      <th>vanna</th>\n",
       "      <th>volga</th>\n",
       "      <th>weights</th>\n",
       "    </tr>\n",
       "  </thead>\n",
       "  <tbody>\n",
       "    <tr>\n",
       "      <th>95</th>\n",
       "      <td>250</td>\n",
       "      <td>1.0000</td>\n",
       "      <td>91.1111</td>\n",
       "      <td>0.2117</td>\n",
       "      <td>4.3751</td>\n",
       "      <td>-0.2927</td>\n",
       "      <td>0.0162</td>\n",
       "      <td>0.3438</td>\n",
       "      <td>-0.0144</td>\n",
       "      <td>-0.5419</td>\n",
       "      <td>29.5622</td>\n",
       "      <td>0.2165</td>\n",
       "    </tr>\n",
       "    <tr>\n",
       "      <th>96</th>\n",
       "      <td>250</td>\n",
       "      <td>1.0000</td>\n",
       "      <td>93.3333</td>\n",
       "      <td>0.2088</td>\n",
       "      <td>5.1372</td>\n",
       "      <td>-0.3318</td>\n",
       "      <td>0.0174</td>\n",
       "      <td>0.3630</td>\n",
       "      <td>-0.0150</td>\n",
       "      <td>-0.3929</td>\n",
       "      <td>17.0855</td>\n",
       "      <td>0.7858</td>\n",
       "    </tr>\n",
       "    <tr>\n",
       "      <th>97</th>\n",
       "      <td>250</td>\n",
       "      <td>1.0000</td>\n",
       "      <td>95.5556</td>\n",
       "      <td>0.2060</td>\n",
       "      <td>5.9948</td>\n",
       "      <td>-0.3731</td>\n",
       "      <td>0.0184</td>\n",
       "      <td>0.3786</td>\n",
       "      <td>-0.0155</td>\n",
       "      <td>-0.2161</td>\n",
       "      <td>6.9943</td>\n",
       "      <td>0.8037</td>\n",
       "    </tr>\n",
       "    <tr>\n",
       "      <th>98</th>\n",
       "      <td>250</td>\n",
       "      <td>1.0000</td>\n",
       "      <td>97.7778</td>\n",
       "      <td>0.2035</td>\n",
       "      <td>6.9522</td>\n",
       "      <td>-0.4160</td>\n",
       "      <td>0.0192</td>\n",
       "      <td>0.3901</td>\n",
       "      <td>-0.0157</td>\n",
       "      <td>-0.0166</td>\n",
       "      <td>0.3529</td>\n",
       "      <td>0.3701</td>\n",
       "    </tr>\n",
       "    <tr>\n",
       "      <th>99</th>\n",
       "      <td>250</td>\n",
       "      <td>1.0000</td>\n",
       "      <td>100.0000</td>\n",
       "      <td>0.2012</td>\n",
       "      <td>8.0119</td>\n",
       "      <td>-0.4599</td>\n",
       "      <td>0.0197</td>\n",
       "      <td>0.3969</td>\n",
       "      <td>-0.0158</td>\n",
       "      <td>0.1985</td>\n",
       "      <td>-1.9962</td>\n",
       "      <td>0.0056</td>\n",
       "    </tr>\n",
       "  </tbody>\n",
       "</table>\n",
       "</div>"
      ],
      "text/plain": [
       "    time_to_maturity      T        K     IV  price   delta  gamma   vega  \\\n",
       "95               250 1.0000  91.1111 0.2117 4.3751 -0.2927 0.0162 0.3438   \n",
       "96               250 1.0000  93.3333 0.2088 5.1372 -0.3318 0.0174 0.3630   \n",
       "97               250 1.0000  95.5556 0.2060 5.9948 -0.3731 0.0184 0.3786   \n",
       "98               250 1.0000  97.7778 0.2035 6.9522 -0.4160 0.0192 0.3901   \n",
       "99               250 1.0000 100.0000 0.2012 8.0119 -0.4599 0.0197 0.3969   \n",
       "\n",
       "     theta   vanna   volga  weights  \n",
       "95 -0.0144 -0.5419 29.5622   0.2165  \n",
       "96 -0.0150 -0.3929 17.0855   0.7858  \n",
       "97 -0.0155 -0.2161  6.9943   0.8037  \n",
       "98 -0.0157 -0.0166  0.3529   0.3701  \n",
       "99 -0.0158  0.1985 -1.9962   0.0056  "
      ]
     },
     "execution_count": 178,
     "metadata": {},
     "output_type": "execute_result"
    }
   ],
   "source": [
    "market_data_df.tail()"
   ]
  },
  {
   "cell_type": "code",
   "execution_count": 192,
   "metadata": {},
   "outputs": [],
   "source": [
    "# -------\n",
    "# FEATURE ENGINEERING\n",
    "# -------\n",
    "market_data_df['sqrt_t'] = np.log(market_data_df['T'])\n",
    "\n",
    "# -------\n",
    "# MODEL FIT\n",
    "# -------\n",
    "X = market_data_df[['gamma', 'vanna', 'volga', 'sqrt_t']].to_numpy()\n",
    "Y = market_data_df['theta']\n",
    "model = LinearRegression(fit_intercept=False)\n",
    "model.fit(X, Y)\n",
    "\n",
    "# -------\n",
    "# MODEL PREDICTION\n",
    "# -------\n",
    "\n",
    "theta_breakdown = market_data_df[['gamma', 'vanna', 'volga', 'sqrt_t']].multiply(model.coef_)\n",
    "theta_breakdown.columns = ['cost_of_gamma', 'cost_of_vanna', 'cost_of_volga', 'cost_of_roll_down']\n",
    "market_data_df = pd.concat([market_data_df, theta_breakdown], axis=1)\n",
    "market_data_df.loc[:, 'theta_pred'] = model.predict(X)"
   ]
  },
  {
   "cell_type": "code",
   "execution_count": 193,
   "metadata": {},
   "outputs": [],
   "source": [
    "X = market_data_df[theta_breakdown.columns ].to_numpy()\n",
    "Z = linkage(X, method='complete', metric='correlation')\n",
    "num_clusters = 10\n",
    "clusters = fcluster(Z, num_clusters, criterion='maxclust')\n",
    "market_data_df['cluster'] = [str(x) for x in clusters]"
   ]
  },
  {
   "cell_type": "code",
   "execution_count": 194,
   "metadata": {},
   "outputs": [
    {
     "data": {
      "application/vnd.plotly.v1+json": {
       "config": {
        "plotlyServerURL": "https://plot.ly"
       },
       "data": [
        {
         "hovertemplate": "cluster=1<br>K=%{x}<br>time_to_maturity=%{y}<br>weights=%{marker.size}<extra></extra>",
         "legendgroup": "1",
         "marker": {
          "color": "#636efa",
          "size": [
           0.0149958345158857,
           0.9347820756741727,
           0.8774626835944037,
           0.37997067675707613,
           1.3259534301144533,
           0.30271066004142055,
           0.1211859585313702
          ],
          "sizemode": "area",
          "sizeref": 0.006519340518497765,
          "symbol": "circle"
         },
         "mode": "markers",
         "name": "1",
         "orientation": "v",
         "showlegend": true,
         "type": "scatter",
         "x": [
          80,
          82.22222222222223,
          84.44444444444444,
          86.66666666666667,
          88.88888888888889,
          91.11111111111111,
          93.33333333333333
         ],
         "xaxis": "x",
         "y": [
          1,
          1,
          1,
          1,
          1,
          1,
          1
         ],
         "yaxis": "y"
        },
        {
         "hovertemplate": "cluster=5<br>K=%{x}<br>time_to_maturity=%{y}<br>weights=%{marker.size}<extra></extra>",
         "legendgroup": "5",
         "marker": {
          "color": "#EF553B",
          "size": [
           0.2608707610302374
          ],
          "sizemode": "area",
          "sizeref": 0.006519340518497765,
          "symbol": "circle"
         },
         "mode": "markers",
         "name": "5",
         "orientation": "v",
         "showlegend": true,
         "type": "scatter",
         "x": [
          95.55555555555556
         ],
         "xaxis": "x",
         "y": [
          1
         ],
         "yaxis": "y"
        },
        {
         "hovertemplate": "cluster=7<br>K=%{x}<br>time_to_maturity=%{y}<br>weights=%{marker.size}<extra></extra>",
         "legendgroup": "7",
         "marker": {
          "color": "#00cc96",
          "size": [
           0.10337949240367378,
           0.7389506890164571,
           1.374981208087923,
           1.3068670854357631,
           0.5165360005519083,
           0.03482107124430376,
           0.7898072907846694,
           1.285661748056445,
           0.5056250958172607,
           0.13095917594753104,
           1.2023220554811969,
           2.607736207399106,
           1.4994870087478782,
           0.0198619227579935,
           0.7051934810020175,
           0.8037069548571524
          ],
          "sizemode": "area",
          "sizeref": 0.006519340518497765,
          "symbol": "circle"
         },
         "mode": "markers",
         "name": "7",
         "orientation": "v",
         "showlegend": true,
         "type": "scatter",
         "x": [
          97.77777777777777,
          100,
          97.77777777777777,
          100,
          97.77777777777777,
          100,
          97.77777777777777,
          100,
          97.77777777777777,
          97.77777777777777,
          95.55555555555556,
          97.77777777777777,
          95.55555555555556,
          97.77777777777777,
          95.55555555555556,
          95.55555555555556
         ],
         "xaxis": "x",
         "y": [
          1,
          1,
          28,
          28,
          56,
          56,
          84,
          84,
          111,
          139,
          167,
          167,
          194,
          194,
          222,
          250
         ],
         "yaxis": "y"
        },
        {
         "hovertemplate": "cluster=10<br>K=%{x}<br>time_to_maturity=%{y}<br>weights=%{marker.size}<extra></extra>",
         "legendgroup": "10",
         "marker": {
          "color": "#ab63fa",
          "size": [
           0.34724040445926774
          ],
          "sizemode": "area",
          "sizeref": 0.006519340518497765,
          "symbol": "circle"
         },
         "mode": "markers",
         "name": "10",
         "orientation": "v",
         "showlegend": true,
         "type": "scatter",
         "x": [
          80
         ],
         "xaxis": "x",
         "y": [
          28
         ],
         "yaxis": "y"
        },
        {
         "hovertemplate": "cluster=4<br>K=%{x}<br>time_to_maturity=%{y}<br>weights=%{marker.size}<extra></extra>",
         "legendgroup": "4",
         "marker": {
          "color": "#FFA15A",
          "size": [
           0.43078495197336464
          ],
          "sizemode": "area",
          "sizeref": 0.006519340518497765,
          "symbol": "circle"
         },
         "mode": "markers",
         "name": "4",
         "orientation": "v",
         "showlegend": true,
         "type": "scatter",
         "x": [
          82.22222222222223
         ],
         "xaxis": "x",
         "y": [
          28
         ],
         "yaxis": "y"
        },
        {
         "hovertemplate": "cluster=3<br>K=%{x}<br>time_to_maturity=%{y}<br>weights=%{marker.size}<extra></extra>",
         "legendgroup": "3",
         "marker": {
          "color": "#19d3f3",
          "size": [
           0.13235511318095927,
           0.8843592288036615,
           0.5994128555984849,
           0.6232674340083991,
           0.03352754763989262,
           0.18435697776018323,
           1.3767805406943314,
           1.952181223560748,
           2.3444921598178734,
           0.43472315347244705,
           1.66790527459991,
           0.1084304162693951,
           0.4523914464240572,
           1.7554973284668502,
           1.259298510529314,
           1.235393176179411,
           2.0876803221892595,
           0.5840805772354231,
           0.11673552912758627,
           0.15307374010874455,
           0.3559928061521228
          ],
          "sizemode": "area",
          "sizeref": 0.006519340518497765,
          "symbol": "circle"
         },
         "mode": "markers",
         "name": "3",
         "orientation": "v",
         "showlegend": true,
         "type": "scatter",
         "x": [
          84.44444444444444,
          86.66666666666667,
          82.22222222222223,
          84.44444444444444,
          86.66666666666667,
          82.22222222222223,
          84.44444444444444,
          86.66666666666667,
          82.22222222222223,
          84.44444444444444,
          82.22222222222223,
          84.44444444444444,
          82.22222222222223,
          84.44444444444444,
          80,
          82.22222222222223,
          84.44444444444444,
          80,
          82.22222222222223,
          80,
          82.22222222222223
         ],
         "xaxis": "x",
         "y": [
          28,
          28,
          56,
          56,
          56,
          84,
          84,
          84,
          111,
          111,
          139,
          139,
          167,
          167,
          194,
          194,
          194,
          222,
          222,
          250,
          250
         ],
         "yaxis": "y"
        },
        {
         "hovertemplate": "cluster=9<br>K=%{x}<br>time_to_maturity=%{y}<br>weights=%{marker.size}<extra></extra>",
         "legendgroup": "9",
         "marker": {
          "color": "#FF6692",
          "size": [
           0.9388335853875008,
           0.42893165000838124,
           0.7180353209982182,
           1.2340813191150914,
           2.0915224429523995,
           1.4829944647685707,
           0.05078006751438996,
           0.7954777206298146,
           0.6841763424599414,
           0.26127538747430346,
           0.3846955972188343,
           1.4838113018632058,
           0.48345876056498754,
           0.38348242958250467,
           0.918589395447017,
           1.1000840939552752,
           1.3487902915824181,
           0.47633451876720617,
           0.11491779697030495,
           0.18344100820427536,
           0.78253142466099,
           0.9255477498674097,
           0.9151837451521456,
           0.4187865289158931,
           0.9729999780847038
          ],
          "sizemode": "area",
          "sizeref": 0.006519340518497765,
          "symbol": "circle"
         },
         "mode": "markers",
         "name": "9",
         "orientation": "v",
         "showlegend": true,
         "type": "scatter",
         "x": [
          88.88888888888889,
          91.11111111111111,
          93.33333333333333,
          88.88888888888889,
          91.11111111111111,
          93.33333333333333,
          88.88888888888889,
          91.11111111111111,
          86.66666666666667,
          88.88888888888889,
          91.11111111111111,
          86.66666666666667,
          88.88888888888889,
          91.11111111111111,
          86.66666666666667,
          88.88888888888889,
          91.11111111111111,
          86.66666666666667,
          88.88888888888889,
          84.44444444444444,
          86.66666666666667,
          88.88888888888889,
          84.44444444444444,
          86.66666666666667,
          88.88888888888889
         ],
         "xaxis": "x",
         "y": [
          28,
          28,
          28,
          56,
          56,
          56,
          84,
          84,
          111,
          111,
          111,
          139,
          139,
          139,
          167,
          167,
          167,
          194,
          194,
          222,
          222,
          222,
          250,
          250,
          250
         ],
         "yaxis": "y"
        },
        {
         "hovertemplate": "cluster=8<br>K=%{x}<br>time_to_maturity=%{y}<br>weights=%{marker.size}<extra></extra>",
         "legendgroup": "8",
         "marker": {
          "color": "#B6E880",
          "size": [
           0.2748126915051869,
           0.04782668308885271,
           0.3039331283077584,
           1.0617537623891957,
           0.633888408902751,
           0.040019692127294115,
           0.9896812420445144,
           0.19837844214786643,
           1.3384999698482087,
           1.3929446484335293,
           0.0031559882457407465,
           0.2129088662852161,
           1.6186744412523781,
           0.21652828535710844,
           0.7857638529542655
          ],
          "sizemode": "area",
          "sizeref": 0.006519340518497765,
          "symbol": "circle"
         },
         "mode": "markers",
         "name": "8",
         "orientation": "v",
         "showlegend": true,
         "type": "scatter",
         "x": [
          95.55555555555556,
          95.55555555555556,
          93.33333333333333,
          95.55555555555556,
          93.33333333333333,
          95.55555555555556,
          93.33333333333333,
          95.55555555555556,
          93.33333333333333,
          91.11111111111111,
          93.33333333333333,
          91.11111111111111,
          93.33333333333333,
          91.11111111111111,
          93.33333333333333
         ],
         "xaxis": "x",
         "y": [
          28,
          56,
          84,
          84,
          111,
          111,
          139,
          139,
          167,
          194,
          194,
          222,
          222,
          250,
          250
         ],
         "yaxis": "y"
        },
        {
         "hovertemplate": "cluster=2<br>K=%{x}<br>time_to_maturity=%{y}<br>weights=%{marker.size}<extra></extra>",
         "legendgroup": "2",
         "marker": {
          "color": "#FF97FF",
          "size": [
           0.10865304156185891,
           0.1707701273015551,
           0.6421275882516851,
           0.9200336017001159,
           1.767282282590749
          ],
          "sizemode": "area",
          "sizeref": 0.006519340518497765,
          "symbol": "circle"
         },
         "mode": "markers",
         "name": "2",
         "orientation": "v",
         "showlegend": true,
         "type": "scatter",
         "x": [
          80,
          80,
          80,
          80,
          80
         ],
         "xaxis": "x",
         "y": [
          56,
          84,
          111,
          139,
          167
         ],
         "yaxis": "y"
        },
        {
         "hovertemplate": "cluster=6<br>K=%{x}<br>time_to_maturity=%{y}<br>weights=%{marker.size}<extra></extra>",
         "legendgroup": "6",
         "marker": {
          "color": "#FECB52",
          "size": [
           0.17298929596811874,
           1.0106792045653494,
           1.9918328556560716,
           0.39392489524110064,
           0.2699304566889361,
           0.2211161180393175,
           0.3701406037312511,
           0.005553712365421511
          ],
          "sizemode": "area",
          "sizeref": 0.006519340518497765,
          "symbol": "circle"
         },
         "mode": "markers",
         "name": "6",
         "orientation": "v",
         "showlegend": true,
         "type": "scatter",
         "x": [
          100,
          100,
          100,
          100,
          97.77777777777777,
          100,
          97.77777777777777,
          100
         ],
         "xaxis": "x",
         "y": [
          111,
          139,
          167,
          194,
          222,
          222,
          250,
          250
         ],
         "yaxis": "y"
        }
       ],
       "layout": {
        "legend": {
         "itemsizing": "constant",
         "title": {
          "text": "cluster"
         },
         "tracegroupgap": 0
        },
        "margin": {
         "t": 60
        },
        "template": {
         "data": {
          "bar": [
           {
            "error_x": {
             "color": "#2a3f5f"
            },
            "error_y": {
             "color": "#2a3f5f"
            },
            "marker": {
             "line": {
              "color": "#E5ECF6",
              "width": 0.5
             },
             "pattern": {
              "fillmode": "overlay",
              "size": 10,
              "solidity": 0.2
             }
            },
            "type": "bar"
           }
          ],
          "barpolar": [
           {
            "marker": {
             "line": {
              "color": "#E5ECF6",
              "width": 0.5
             },
             "pattern": {
              "fillmode": "overlay",
              "size": 10,
              "solidity": 0.2
             }
            },
            "type": "barpolar"
           }
          ],
          "carpet": [
           {
            "aaxis": {
             "endlinecolor": "#2a3f5f",
             "gridcolor": "white",
             "linecolor": "white",
             "minorgridcolor": "white",
             "startlinecolor": "#2a3f5f"
            },
            "baxis": {
             "endlinecolor": "#2a3f5f",
             "gridcolor": "white",
             "linecolor": "white",
             "minorgridcolor": "white",
             "startlinecolor": "#2a3f5f"
            },
            "type": "carpet"
           }
          ],
          "choropleth": [
           {
            "colorbar": {
             "outlinewidth": 0,
             "ticks": ""
            },
            "type": "choropleth"
           }
          ],
          "contour": [
           {
            "colorbar": {
             "outlinewidth": 0,
             "ticks": ""
            },
            "colorscale": [
             [
              0,
              "#0d0887"
             ],
             [
              0.1111111111111111,
              "#46039f"
             ],
             [
              0.2222222222222222,
              "#7201a8"
             ],
             [
              0.3333333333333333,
              "#9c179e"
             ],
             [
              0.4444444444444444,
              "#bd3786"
             ],
             [
              0.5555555555555556,
              "#d8576b"
             ],
             [
              0.6666666666666666,
              "#ed7953"
             ],
             [
              0.7777777777777778,
              "#fb9f3a"
             ],
             [
              0.8888888888888888,
              "#fdca26"
             ],
             [
              1,
              "#f0f921"
             ]
            ],
            "type": "contour"
           }
          ],
          "contourcarpet": [
           {
            "colorbar": {
             "outlinewidth": 0,
             "ticks": ""
            },
            "type": "contourcarpet"
           }
          ],
          "heatmap": [
           {
            "colorbar": {
             "outlinewidth": 0,
             "ticks": ""
            },
            "colorscale": [
             [
              0,
              "#0d0887"
             ],
             [
              0.1111111111111111,
              "#46039f"
             ],
             [
              0.2222222222222222,
              "#7201a8"
             ],
             [
              0.3333333333333333,
              "#9c179e"
             ],
             [
              0.4444444444444444,
              "#bd3786"
             ],
             [
              0.5555555555555556,
              "#d8576b"
             ],
             [
              0.6666666666666666,
              "#ed7953"
             ],
             [
              0.7777777777777778,
              "#fb9f3a"
             ],
             [
              0.8888888888888888,
              "#fdca26"
             ],
             [
              1,
              "#f0f921"
             ]
            ],
            "type": "heatmap"
           }
          ],
          "heatmapgl": [
           {
            "colorbar": {
             "outlinewidth": 0,
             "ticks": ""
            },
            "colorscale": [
             [
              0,
              "#0d0887"
             ],
             [
              0.1111111111111111,
              "#46039f"
             ],
             [
              0.2222222222222222,
              "#7201a8"
             ],
             [
              0.3333333333333333,
              "#9c179e"
             ],
             [
              0.4444444444444444,
              "#bd3786"
             ],
             [
              0.5555555555555556,
              "#d8576b"
             ],
             [
              0.6666666666666666,
              "#ed7953"
             ],
             [
              0.7777777777777778,
              "#fb9f3a"
             ],
             [
              0.8888888888888888,
              "#fdca26"
             ],
             [
              1,
              "#f0f921"
             ]
            ],
            "type": "heatmapgl"
           }
          ],
          "histogram": [
           {
            "marker": {
             "pattern": {
              "fillmode": "overlay",
              "size": 10,
              "solidity": 0.2
             }
            },
            "type": "histogram"
           }
          ],
          "histogram2d": [
           {
            "colorbar": {
             "outlinewidth": 0,
             "ticks": ""
            },
            "colorscale": [
             [
              0,
              "#0d0887"
             ],
             [
              0.1111111111111111,
              "#46039f"
             ],
             [
              0.2222222222222222,
              "#7201a8"
             ],
             [
              0.3333333333333333,
              "#9c179e"
             ],
             [
              0.4444444444444444,
              "#bd3786"
             ],
             [
              0.5555555555555556,
              "#d8576b"
             ],
             [
              0.6666666666666666,
              "#ed7953"
             ],
             [
              0.7777777777777778,
              "#fb9f3a"
             ],
             [
              0.8888888888888888,
              "#fdca26"
             ],
             [
              1,
              "#f0f921"
             ]
            ],
            "type": "histogram2d"
           }
          ],
          "histogram2dcontour": [
           {
            "colorbar": {
             "outlinewidth": 0,
             "ticks": ""
            },
            "colorscale": [
             [
              0,
              "#0d0887"
             ],
             [
              0.1111111111111111,
              "#46039f"
             ],
             [
              0.2222222222222222,
              "#7201a8"
             ],
             [
              0.3333333333333333,
              "#9c179e"
             ],
             [
              0.4444444444444444,
              "#bd3786"
             ],
             [
              0.5555555555555556,
              "#d8576b"
             ],
             [
              0.6666666666666666,
              "#ed7953"
             ],
             [
              0.7777777777777778,
              "#fb9f3a"
             ],
             [
              0.8888888888888888,
              "#fdca26"
             ],
             [
              1,
              "#f0f921"
             ]
            ],
            "type": "histogram2dcontour"
           }
          ],
          "mesh3d": [
           {
            "colorbar": {
             "outlinewidth": 0,
             "ticks": ""
            },
            "type": "mesh3d"
           }
          ],
          "parcoords": [
           {
            "line": {
             "colorbar": {
              "outlinewidth": 0,
              "ticks": ""
             }
            },
            "type": "parcoords"
           }
          ],
          "pie": [
           {
            "automargin": true,
            "type": "pie"
           }
          ],
          "scatter": [
           {
            "fillpattern": {
             "fillmode": "overlay",
             "size": 10,
             "solidity": 0.2
            },
            "type": "scatter"
           }
          ],
          "scatter3d": [
           {
            "line": {
             "colorbar": {
              "outlinewidth": 0,
              "ticks": ""
             }
            },
            "marker": {
             "colorbar": {
              "outlinewidth": 0,
              "ticks": ""
             }
            },
            "type": "scatter3d"
           }
          ],
          "scattercarpet": [
           {
            "marker": {
             "colorbar": {
              "outlinewidth": 0,
              "ticks": ""
             }
            },
            "type": "scattercarpet"
           }
          ],
          "scattergeo": [
           {
            "marker": {
             "colorbar": {
              "outlinewidth": 0,
              "ticks": ""
             }
            },
            "type": "scattergeo"
           }
          ],
          "scattergl": [
           {
            "marker": {
             "colorbar": {
              "outlinewidth": 0,
              "ticks": ""
             }
            },
            "type": "scattergl"
           }
          ],
          "scattermapbox": [
           {
            "marker": {
             "colorbar": {
              "outlinewidth": 0,
              "ticks": ""
             }
            },
            "type": "scattermapbox"
           }
          ],
          "scatterpolar": [
           {
            "marker": {
             "colorbar": {
              "outlinewidth": 0,
              "ticks": ""
             }
            },
            "type": "scatterpolar"
           }
          ],
          "scatterpolargl": [
           {
            "marker": {
             "colorbar": {
              "outlinewidth": 0,
              "ticks": ""
             }
            },
            "type": "scatterpolargl"
           }
          ],
          "scatterternary": [
           {
            "marker": {
             "colorbar": {
              "outlinewidth": 0,
              "ticks": ""
             }
            },
            "type": "scatterternary"
           }
          ],
          "surface": [
           {
            "colorbar": {
             "outlinewidth": 0,
             "ticks": ""
            },
            "colorscale": [
             [
              0,
              "#0d0887"
             ],
             [
              0.1111111111111111,
              "#46039f"
             ],
             [
              0.2222222222222222,
              "#7201a8"
             ],
             [
              0.3333333333333333,
              "#9c179e"
             ],
             [
              0.4444444444444444,
              "#bd3786"
             ],
             [
              0.5555555555555556,
              "#d8576b"
             ],
             [
              0.6666666666666666,
              "#ed7953"
             ],
             [
              0.7777777777777778,
              "#fb9f3a"
             ],
             [
              0.8888888888888888,
              "#fdca26"
             ],
             [
              1,
              "#f0f921"
             ]
            ],
            "type": "surface"
           }
          ],
          "table": [
           {
            "cells": {
             "fill": {
              "color": "#EBF0F8"
             },
             "line": {
              "color": "white"
             }
            },
            "header": {
             "fill": {
              "color": "#C8D4E3"
             },
             "line": {
              "color": "white"
             }
            },
            "type": "table"
           }
          ]
         },
         "layout": {
          "annotationdefaults": {
           "arrowcolor": "#2a3f5f",
           "arrowhead": 0,
           "arrowwidth": 1
          },
          "autotypenumbers": "strict",
          "coloraxis": {
           "colorbar": {
            "outlinewidth": 0,
            "ticks": ""
           }
          },
          "colorscale": {
           "diverging": [
            [
             0,
             "#8e0152"
            ],
            [
             0.1,
             "#c51b7d"
            ],
            [
             0.2,
             "#de77ae"
            ],
            [
             0.3,
             "#f1b6da"
            ],
            [
             0.4,
             "#fde0ef"
            ],
            [
             0.5,
             "#f7f7f7"
            ],
            [
             0.6,
             "#e6f5d0"
            ],
            [
             0.7,
             "#b8e186"
            ],
            [
             0.8,
             "#7fbc41"
            ],
            [
             0.9,
             "#4d9221"
            ],
            [
             1,
             "#276419"
            ]
           ],
           "sequential": [
            [
             0,
             "#0d0887"
            ],
            [
             0.1111111111111111,
             "#46039f"
            ],
            [
             0.2222222222222222,
             "#7201a8"
            ],
            [
             0.3333333333333333,
             "#9c179e"
            ],
            [
             0.4444444444444444,
             "#bd3786"
            ],
            [
             0.5555555555555556,
             "#d8576b"
            ],
            [
             0.6666666666666666,
             "#ed7953"
            ],
            [
             0.7777777777777778,
             "#fb9f3a"
            ],
            [
             0.8888888888888888,
             "#fdca26"
            ],
            [
             1,
             "#f0f921"
            ]
           ],
           "sequentialminus": [
            [
             0,
             "#0d0887"
            ],
            [
             0.1111111111111111,
             "#46039f"
            ],
            [
             0.2222222222222222,
             "#7201a8"
            ],
            [
             0.3333333333333333,
             "#9c179e"
            ],
            [
             0.4444444444444444,
             "#bd3786"
            ],
            [
             0.5555555555555556,
             "#d8576b"
            ],
            [
             0.6666666666666666,
             "#ed7953"
            ],
            [
             0.7777777777777778,
             "#fb9f3a"
            ],
            [
             0.8888888888888888,
             "#fdca26"
            ],
            [
             1,
             "#f0f921"
            ]
           ]
          },
          "colorway": [
           "#636efa",
           "#EF553B",
           "#00cc96",
           "#ab63fa",
           "#FFA15A",
           "#19d3f3",
           "#FF6692",
           "#B6E880",
           "#FF97FF",
           "#FECB52"
          ],
          "font": {
           "color": "#2a3f5f"
          },
          "geo": {
           "bgcolor": "white",
           "lakecolor": "white",
           "landcolor": "#E5ECF6",
           "showlakes": true,
           "showland": true,
           "subunitcolor": "white"
          },
          "hoverlabel": {
           "align": "left"
          },
          "hovermode": "closest",
          "mapbox": {
           "style": "light"
          },
          "paper_bgcolor": "white",
          "plot_bgcolor": "#E5ECF6",
          "polar": {
           "angularaxis": {
            "gridcolor": "white",
            "linecolor": "white",
            "ticks": ""
           },
           "bgcolor": "#E5ECF6",
           "radialaxis": {
            "gridcolor": "white",
            "linecolor": "white",
            "ticks": ""
           }
          },
          "scene": {
           "xaxis": {
            "backgroundcolor": "#E5ECF6",
            "gridcolor": "white",
            "gridwidth": 2,
            "linecolor": "white",
            "showbackground": true,
            "ticks": "",
            "zerolinecolor": "white"
           },
           "yaxis": {
            "backgroundcolor": "#E5ECF6",
            "gridcolor": "white",
            "gridwidth": 2,
            "linecolor": "white",
            "showbackground": true,
            "ticks": "",
            "zerolinecolor": "white"
           },
           "zaxis": {
            "backgroundcolor": "#E5ECF6",
            "gridcolor": "white",
            "gridwidth": 2,
            "linecolor": "white",
            "showbackground": true,
            "ticks": "",
            "zerolinecolor": "white"
           }
          },
          "shapedefaults": {
           "line": {
            "color": "#2a3f5f"
           }
          },
          "ternary": {
           "aaxis": {
            "gridcolor": "white",
            "linecolor": "white",
            "ticks": ""
           },
           "baxis": {
            "gridcolor": "white",
            "linecolor": "white",
            "ticks": ""
           },
           "bgcolor": "#E5ECF6",
           "caxis": {
            "gridcolor": "white",
            "linecolor": "white",
            "ticks": ""
           }
          },
          "title": {
           "x": 0.05
          },
          "xaxis": {
           "automargin": true,
           "gridcolor": "white",
           "linecolor": "white",
           "ticks": "",
           "title": {
            "standoff": 15
           },
           "zerolinecolor": "white",
           "zerolinewidth": 2
          },
          "yaxis": {
           "automargin": true,
           "gridcolor": "white",
           "linecolor": "white",
           "ticks": "",
           "title": {
            "standoff": 15
           },
           "zerolinecolor": "white",
           "zerolinewidth": 2
          }
         }
        },
        "xaxis": {
         "anchor": "y",
         "domain": [
          0,
          1
         ],
         "title": {
          "text": "K"
         }
        },
        "yaxis": {
         "anchor": "x",
         "domain": [
          0,
          1
         ],
         "title": {
          "text": "time_to_maturity"
         }
        }
       }
      }
     },
     "metadata": {},
     "output_type": "display_data"
    }
   ],
   "source": [
    "px.scatter(data_frame=market_data_df, x='K', y='time_to_maturity', color='cluster', size='weights')"
   ]
  },
  {
   "cell_type": "code",
   "execution_count": 191,
   "metadata": {},
   "outputs": [
    {
     "data": {
      "text/html": [
       "<div>\n",
       "<style scoped>\n",
       "    .dataframe tbody tr th:only-of-type {\n",
       "        vertical-align: middle;\n",
       "    }\n",
       "\n",
       "    .dataframe tbody tr th {\n",
       "        vertical-align: top;\n",
       "    }\n",
       "\n",
       "    .dataframe thead th {\n",
       "        text-align: right;\n",
       "    }\n",
       "</style>\n",
       "<table border=\"1\" class=\"dataframe\">\n",
       "  <thead>\n",
       "    <tr style=\"text-align: right;\">\n",
       "      <th></th>\n",
       "      <th>theta</th>\n",
       "      <th>theta_pred</th>\n",
       "    </tr>\n",
       "  </thead>\n",
       "  <tbody>\n",
       "    <tr>\n",
       "      <th>0</th>\n",
       "      <td>-0.0000</td>\n",
       "      <td>-0.0000</td>\n",
       "    </tr>\n",
       "    <tr>\n",
       "      <th>1</th>\n",
       "      <td>-0.0000</td>\n",
       "      <td>-0.0000</td>\n",
       "    </tr>\n",
       "    <tr>\n",
       "      <th>2</th>\n",
       "      <td>-0.0000</td>\n",
       "      <td>-0.0000</td>\n",
       "    </tr>\n",
       "    <tr>\n",
       "      <th>3</th>\n",
       "      <td>-0.0000</td>\n",
       "      <td>-0.0000</td>\n",
       "    </tr>\n",
       "    <tr>\n",
       "      <th>4</th>\n",
       "      <td>-0.0000</td>\n",
       "      <td>-0.0000</td>\n",
       "    </tr>\n",
       "    <tr>\n",
       "      <th>5</th>\n",
       "      <td>-0.0000</td>\n",
       "      <td>-0.0000</td>\n",
       "    </tr>\n",
       "    <tr>\n",
       "      <th>6</th>\n",
       "      <td>-0.0000</td>\n",
       "      <td>-0.0000</td>\n",
       "    </tr>\n",
       "    <tr>\n",
       "      <th>7</th>\n",
       "      <td>-0.0005</td>\n",
       "      <td>-0.0005</td>\n",
       "    </tr>\n",
       "    <tr>\n",
       "      <th>8</th>\n",
       "      <td>-0.0536</td>\n",
       "      <td>-0.0537</td>\n",
       "    </tr>\n",
       "    <tr>\n",
       "      <th>9</th>\n",
       "      <td>-0.2503</td>\n",
       "      <td>-0.2504</td>\n",
       "    </tr>\n",
       "    <tr>\n",
       "      <th>10</th>\n",
       "      <td>-0.0007</td>\n",
       "      <td>-0.0007</td>\n",
       "    </tr>\n",
       "    <tr>\n",
       "      <th>11</th>\n",
       "      <td>-0.0016</td>\n",
       "      <td>-0.0016</td>\n",
       "    </tr>\n",
       "    <tr>\n",
       "      <th>12</th>\n",
       "      <td>-0.0035</td>\n",
       "      <td>-0.0035</td>\n",
       "    </tr>\n",
       "    <tr>\n",
       "      <th>13</th>\n",
       "      <td>-0.0069</td>\n",
       "      <td>-0.0069</td>\n",
       "    </tr>\n",
       "    <tr>\n",
       "      <th>14</th>\n",
       "      <td>-0.0123</td>\n",
       "      <td>-0.0123</td>\n",
       "    </tr>\n",
       "    <tr>\n",
       "      <th>15</th>\n",
       "      <td>-0.0199</td>\n",
       "      <td>-0.0199</td>\n",
       "    </tr>\n",
       "    <tr>\n",
       "      <th>16</th>\n",
       "      <td>-0.0290</td>\n",
       "      <td>-0.0290</td>\n",
       "    </tr>\n",
       "    <tr>\n",
       "      <th>17</th>\n",
       "      <td>-0.0380</td>\n",
       "      <td>-0.0380</td>\n",
       "    </tr>\n",
       "    <tr>\n",
       "      <th>18</th>\n",
       "      <td>-0.0448</td>\n",
       "      <td>-0.0448</td>\n",
       "    </tr>\n",
       "    <tr>\n",
       "      <th>19</th>\n",
       "      <td>-0.0473</td>\n",
       "      <td>-0.0472</td>\n",
       "    </tr>\n",
       "    <tr>\n",
       "      <th>20</th>\n",
       "      <td>-0.0040</td>\n",
       "      <td>-0.0041</td>\n",
       "    </tr>\n",
       "    <tr>\n",
       "      <th>21</th>\n",
       "      <td>-0.0062</td>\n",
       "      <td>-0.0062</td>\n",
       "    </tr>\n",
       "    <tr>\n",
       "      <th>22</th>\n",
       "      <td>-0.0091</td>\n",
       "      <td>-0.0091</td>\n",
       "    </tr>\n",
       "    <tr>\n",
       "      <th>23</th>\n",
       "      <td>-0.0128</td>\n",
       "      <td>-0.0128</td>\n",
       "    </tr>\n",
       "    <tr>\n",
       "      <th>24</th>\n",
       "      <td>-0.0171</td>\n",
       "      <td>-0.0171</td>\n",
       "    </tr>\n",
       "    <tr>\n",
       "      <th>25</th>\n",
       "      <td>-0.0217</td>\n",
       "      <td>-0.0217</td>\n",
       "    </tr>\n",
       "    <tr>\n",
       "      <th>26</th>\n",
       "      <td>-0.0262</td>\n",
       "      <td>-0.0262</td>\n",
       "    </tr>\n",
       "    <tr>\n",
       "      <th>27</th>\n",
       "      <td>-0.0300</td>\n",
       "      <td>-0.0300</td>\n",
       "    </tr>\n",
       "    <tr>\n",
       "      <th>28</th>\n",
       "      <td>-0.0326</td>\n",
       "      <td>-0.0325</td>\n",
       "    </tr>\n",
       "    <tr>\n",
       "      <th>29</th>\n",
       "      <td>-0.0335</td>\n",
       "      <td>-0.0333</td>\n",
       "    </tr>\n",
       "    <tr>\n",
       "      <th>30</th>\n",
       "      <td>-0.0067</td>\n",
       "      <td>-0.0067</td>\n",
       "    </tr>\n",
       "    <tr>\n",
       "      <th>31</th>\n",
       "      <td>-0.0090</td>\n",
       "      <td>-0.0089</td>\n",
       "    </tr>\n",
       "    <tr>\n",
       "      <th>32</th>\n",
       "      <td>-0.0116</td>\n",
       "      <td>-0.0115</td>\n",
       "    </tr>\n",
       "    <tr>\n",
       "      <th>33</th>\n",
       "      <td>-0.0145</td>\n",
       "      <td>-0.0144</td>\n",
       "    </tr>\n",
       "    <tr>\n",
       "      <th>34</th>\n",
       "      <td>-0.0175</td>\n",
       "      <td>-0.0175</td>\n",
       "    </tr>\n",
       "    <tr>\n",
       "      <th>35</th>\n",
       "      <td>-0.0205</td>\n",
       "      <td>-0.0205</td>\n",
       "    </tr>\n",
       "    <tr>\n",
       "      <th>36</th>\n",
       "      <td>-0.0233</td>\n",
       "      <td>-0.0232</td>\n",
       "    </tr>\n",
       "    <tr>\n",
       "      <th>37</th>\n",
       "      <td>-0.0254</td>\n",
       "      <td>-0.0254</td>\n",
       "    </tr>\n",
       "    <tr>\n",
       "      <th>38</th>\n",
       "      <td>-0.0268</td>\n",
       "      <td>-0.0268</td>\n",
       "    </tr>\n",
       "    <tr>\n",
       "      <th>39</th>\n",
       "      <td>-0.0273</td>\n",
       "      <td>-0.0272</td>\n",
       "    </tr>\n",
       "    <tr>\n",
       "      <th>40</th>\n",
       "      <td>-0.0083</td>\n",
       "      <td>-0.0083</td>\n",
       "    </tr>\n",
       "    <tr>\n",
       "      <th>41</th>\n",
       "      <td>-0.0103</td>\n",
       "      <td>-0.0102</td>\n",
       "    </tr>\n",
       "    <tr>\n",
       "      <th>42</th>\n",
       "      <td>-0.0125</td>\n",
       "      <td>-0.0124</td>\n",
       "    </tr>\n",
       "    <tr>\n",
       "      <th>43</th>\n",
       "      <td>-0.0147</td>\n",
       "      <td>-0.0147</td>\n",
       "    </tr>\n",
       "    <tr>\n",
       "      <th>44</th>\n",
       "      <td>-0.0170</td>\n",
       "      <td>-0.0170</td>\n",
       "    </tr>\n",
       "    <tr>\n",
       "      <th>45</th>\n",
       "      <td>-0.0192</td>\n",
       "      <td>-0.0192</td>\n",
       "    </tr>\n",
       "    <tr>\n",
       "      <th>46</th>\n",
       "      <td>-0.0211</td>\n",
       "      <td>-0.0210</td>\n",
       "    </tr>\n",
       "    <tr>\n",
       "      <th>47</th>\n",
       "      <td>-0.0225</td>\n",
       "      <td>-0.0225</td>\n",
       "    </tr>\n",
       "    <tr>\n",
       "      <th>48</th>\n",
       "      <td>-0.0234</td>\n",
       "      <td>-0.0234</td>\n",
       "    </tr>\n",
       "    <tr>\n",
       "      <th>49</th>\n",
       "      <td>-0.0238</td>\n",
       "      <td>-0.0237</td>\n",
       "    </tr>\n",
       "    <tr>\n",
       "      <th>50</th>\n",
       "      <td>-0.0092</td>\n",
       "      <td>-0.0092</td>\n",
       "    </tr>\n",
       "    <tr>\n",
       "      <th>51</th>\n",
       "      <td>-0.0109</td>\n",
       "      <td>-0.0109</td>\n",
       "    </tr>\n",
       "    <tr>\n",
       "      <th>52</th>\n",
       "      <td>-0.0127</td>\n",
       "      <td>-0.0127</td>\n",
       "    </tr>\n",
       "    <tr>\n",
       "      <th>53</th>\n",
       "      <td>-0.0145</td>\n",
       "      <td>-0.0145</td>\n",
       "    </tr>\n",
       "    <tr>\n",
       "      <th>54</th>\n",
       "      <td>-0.0163</td>\n",
       "      <td>-0.0163</td>\n",
       "    </tr>\n",
       "    <tr>\n",
       "      <th>55</th>\n",
       "      <td>-0.0179</td>\n",
       "      <td>-0.0179</td>\n",
       "    </tr>\n",
       "    <tr>\n",
       "      <th>56</th>\n",
       "      <td>-0.0193</td>\n",
       "      <td>-0.0193</td>\n",
       "    </tr>\n",
       "    <tr>\n",
       "      <th>57</th>\n",
       "      <td>-0.0203</td>\n",
       "      <td>-0.0203</td>\n",
       "    </tr>\n",
       "    <tr>\n",
       "      <th>58</th>\n",
       "      <td>-0.0210</td>\n",
       "      <td>-0.0210</td>\n",
       "    </tr>\n",
       "    <tr>\n",
       "      <th>59</th>\n",
       "      <td>-0.0212</td>\n",
       "      <td>-0.0212</td>\n",
       "    </tr>\n",
       "    <tr>\n",
       "      <th>60</th>\n",
       "      <td>-0.0097</td>\n",
       "      <td>-0.0097</td>\n",
       "    </tr>\n",
       "    <tr>\n",
       "      <th>61</th>\n",
       "      <td>-0.0112</td>\n",
       "      <td>-0.0112</td>\n",
       "    </tr>\n",
       "    <tr>\n",
       "      <th>62</th>\n",
       "      <td>-0.0127</td>\n",
       "      <td>-0.0127</td>\n",
       "    </tr>\n",
       "    <tr>\n",
       "      <th>63</th>\n",
       "      <td>-0.0142</td>\n",
       "      <td>-0.0142</td>\n",
       "    </tr>\n",
       "    <tr>\n",
       "      <th>64</th>\n",
       "      <td>-0.0156</td>\n",
       "      <td>-0.0156</td>\n",
       "    </tr>\n",
       "    <tr>\n",
       "      <th>65</th>\n",
       "      <td>-0.0168</td>\n",
       "      <td>-0.0168</td>\n",
       "    </tr>\n",
       "    <tr>\n",
       "      <th>66</th>\n",
       "      <td>-0.0179</td>\n",
       "      <td>-0.0179</td>\n",
       "    </tr>\n",
       "    <tr>\n",
       "      <th>67</th>\n",
       "      <td>-0.0187</td>\n",
       "      <td>-0.0187</td>\n",
       "    </tr>\n",
       "    <tr>\n",
       "      <th>68</th>\n",
       "      <td>-0.0192</td>\n",
       "      <td>-0.0192</td>\n",
       "    </tr>\n",
       "    <tr>\n",
       "      <th>69</th>\n",
       "      <td>-0.0194</td>\n",
       "      <td>-0.0193</td>\n",
       "    </tr>\n",
       "    <tr>\n",
       "      <th>70</th>\n",
       "      <td>-0.0099</td>\n",
       "      <td>-0.0099</td>\n",
       "    </tr>\n",
       "    <tr>\n",
       "      <th>71</th>\n",
       "      <td>-0.0112</td>\n",
       "      <td>-0.0112</td>\n",
       "    </tr>\n",
       "    <tr>\n",
       "      <th>72</th>\n",
       "      <td>-0.0125</td>\n",
       "      <td>-0.0125</td>\n",
       "    </tr>\n",
       "    <tr>\n",
       "      <th>73</th>\n",
       "      <td>-0.0137</td>\n",
       "      <td>-0.0138</td>\n",
       "    </tr>\n",
       "    <tr>\n",
       "      <th>74</th>\n",
       "      <td>-0.0149</td>\n",
       "      <td>-0.0149</td>\n",
       "    </tr>\n",
       "    <tr>\n",
       "      <th>75</th>\n",
       "      <td>-0.0159</td>\n",
       "      <td>-0.0160</td>\n",
       "    </tr>\n",
       "    <tr>\n",
       "      <th>76</th>\n",
       "      <td>-0.0168</td>\n",
       "      <td>-0.0168</td>\n",
       "    </tr>\n",
       "    <tr>\n",
       "      <th>77</th>\n",
       "      <td>-0.0174</td>\n",
       "      <td>-0.0174</td>\n",
       "    </tr>\n",
       "    <tr>\n",
       "      <th>78</th>\n",
       "      <td>-0.0178</td>\n",
       "      <td>-0.0178</td>\n",
       "    </tr>\n",
       "    <tr>\n",
       "      <th>79</th>\n",
       "      <td>-0.0180</td>\n",
       "      <td>-0.0179</td>\n",
       "    </tr>\n",
       "    <tr>\n",
       "      <th>80</th>\n",
       "      <td>-0.0100</td>\n",
       "      <td>-0.0101</td>\n",
       "    </tr>\n",
       "    <tr>\n",
       "      <th>81</th>\n",
       "      <td>-0.0112</td>\n",
       "      <td>-0.0112</td>\n",
       "    </tr>\n",
       "    <tr>\n",
       "      <th>82</th>\n",
       "      <td>-0.0123</td>\n",
       "      <td>-0.0123</td>\n",
       "    </tr>\n",
       "    <tr>\n",
       "      <th>83</th>\n",
       "      <td>-0.0133</td>\n",
       "      <td>-0.0133</td>\n",
       "    </tr>\n",
       "    <tr>\n",
       "      <th>84</th>\n",
       "      <td>-0.0143</td>\n",
       "      <td>-0.0143</td>\n",
       "    </tr>\n",
       "    <tr>\n",
       "      <th>85</th>\n",
       "      <td>-0.0151</td>\n",
       "      <td>-0.0152</td>\n",
       "    </tr>\n",
       "    <tr>\n",
       "      <th>86</th>\n",
       "      <td>-0.0158</td>\n",
       "      <td>-0.0159</td>\n",
       "    </tr>\n",
       "    <tr>\n",
       "      <th>87</th>\n",
       "      <td>-0.0164</td>\n",
       "      <td>-0.0164</td>\n",
       "    </tr>\n",
       "    <tr>\n",
       "      <th>88</th>\n",
       "      <td>-0.0167</td>\n",
       "      <td>-0.0167</td>\n",
       "    </tr>\n",
       "    <tr>\n",
       "      <th>89</th>\n",
       "      <td>-0.0168</td>\n",
       "      <td>-0.0168</td>\n",
       "    </tr>\n",
       "    <tr>\n",
       "      <th>90</th>\n",
       "      <td>-0.0101</td>\n",
       "      <td>-0.0101</td>\n",
       "    </tr>\n",
       "    <tr>\n",
       "      <th>91</th>\n",
       "      <td>-0.0110</td>\n",
       "      <td>-0.0111</td>\n",
       "    </tr>\n",
       "    <tr>\n",
       "      <th>92</th>\n",
       "      <td>-0.0120</td>\n",
       "      <td>-0.0120</td>\n",
       "    </tr>\n",
       "    <tr>\n",
       "      <th>93</th>\n",
       "      <td>-0.0129</td>\n",
       "      <td>-0.0130</td>\n",
       "    </tr>\n",
       "    <tr>\n",
       "      <th>94</th>\n",
       "      <td>-0.0137</td>\n",
       "      <td>-0.0138</td>\n",
       "    </tr>\n",
       "    <tr>\n",
       "      <th>95</th>\n",
       "      <td>-0.0144</td>\n",
       "      <td>-0.0145</td>\n",
       "    </tr>\n",
       "    <tr>\n",
       "      <th>96</th>\n",
       "      <td>-0.0150</td>\n",
       "      <td>-0.0151</td>\n",
       "    </tr>\n",
       "    <tr>\n",
       "      <th>97</th>\n",
       "      <td>-0.0155</td>\n",
       "      <td>-0.0155</td>\n",
       "    </tr>\n",
       "    <tr>\n",
       "      <th>98</th>\n",
       "      <td>-0.0157</td>\n",
       "      <td>-0.0158</td>\n",
       "    </tr>\n",
       "    <tr>\n",
       "      <th>99</th>\n",
       "      <td>-0.0158</td>\n",
       "      <td>-0.0158</td>\n",
       "    </tr>\n",
       "  </tbody>\n",
       "</table>\n",
       "</div>"
      ],
      "text/plain": [
       "     theta  theta_pred\n",
       "0  -0.0000     -0.0000\n",
       "1  -0.0000     -0.0000\n",
       "2  -0.0000     -0.0000\n",
       "3  -0.0000     -0.0000\n",
       "4  -0.0000     -0.0000\n",
       "5  -0.0000     -0.0000\n",
       "6  -0.0000     -0.0000\n",
       "7  -0.0005     -0.0005\n",
       "8  -0.0536     -0.0537\n",
       "9  -0.2503     -0.2504\n",
       "10 -0.0007     -0.0007\n",
       "11 -0.0016     -0.0016\n",
       "12 -0.0035     -0.0035\n",
       "13 -0.0069     -0.0069\n",
       "14 -0.0123     -0.0123\n",
       "15 -0.0199     -0.0199\n",
       "16 -0.0290     -0.0290\n",
       "17 -0.0380     -0.0380\n",
       "18 -0.0448     -0.0448\n",
       "19 -0.0473     -0.0472\n",
       "20 -0.0040     -0.0041\n",
       "21 -0.0062     -0.0062\n",
       "22 -0.0091     -0.0091\n",
       "23 -0.0128     -0.0128\n",
       "24 -0.0171     -0.0171\n",
       "25 -0.0217     -0.0217\n",
       "26 -0.0262     -0.0262\n",
       "27 -0.0300     -0.0300\n",
       "28 -0.0326     -0.0325\n",
       "29 -0.0335     -0.0333\n",
       "30 -0.0067     -0.0067\n",
       "31 -0.0090     -0.0089\n",
       "32 -0.0116     -0.0115\n",
       "33 -0.0145     -0.0144\n",
       "34 -0.0175     -0.0175\n",
       "35 -0.0205     -0.0205\n",
       "36 -0.0233     -0.0232\n",
       "37 -0.0254     -0.0254\n",
       "38 -0.0268     -0.0268\n",
       "39 -0.0273     -0.0272\n",
       "40 -0.0083     -0.0083\n",
       "41 -0.0103     -0.0102\n",
       "42 -0.0125     -0.0124\n",
       "43 -0.0147     -0.0147\n",
       "44 -0.0170     -0.0170\n",
       "45 -0.0192     -0.0192\n",
       "46 -0.0211     -0.0210\n",
       "47 -0.0225     -0.0225\n",
       "48 -0.0234     -0.0234\n",
       "49 -0.0238     -0.0237\n",
       "50 -0.0092     -0.0092\n",
       "51 -0.0109     -0.0109\n",
       "52 -0.0127     -0.0127\n",
       "53 -0.0145     -0.0145\n",
       "54 -0.0163     -0.0163\n",
       "55 -0.0179     -0.0179\n",
       "56 -0.0193     -0.0193\n",
       "57 -0.0203     -0.0203\n",
       "58 -0.0210     -0.0210\n",
       "59 -0.0212     -0.0212\n",
       "60 -0.0097     -0.0097\n",
       "61 -0.0112     -0.0112\n",
       "62 -0.0127     -0.0127\n",
       "63 -0.0142     -0.0142\n",
       "64 -0.0156     -0.0156\n",
       "65 -0.0168     -0.0168\n",
       "66 -0.0179     -0.0179\n",
       "67 -0.0187     -0.0187\n",
       "68 -0.0192     -0.0192\n",
       "69 -0.0194     -0.0193\n",
       "70 -0.0099     -0.0099\n",
       "71 -0.0112     -0.0112\n",
       "72 -0.0125     -0.0125\n",
       "73 -0.0137     -0.0138\n",
       "74 -0.0149     -0.0149\n",
       "75 -0.0159     -0.0160\n",
       "76 -0.0168     -0.0168\n",
       "77 -0.0174     -0.0174\n",
       "78 -0.0178     -0.0178\n",
       "79 -0.0180     -0.0179\n",
       "80 -0.0100     -0.0101\n",
       "81 -0.0112     -0.0112\n",
       "82 -0.0123     -0.0123\n",
       "83 -0.0133     -0.0133\n",
       "84 -0.0143     -0.0143\n",
       "85 -0.0151     -0.0152\n",
       "86 -0.0158     -0.0159\n",
       "87 -0.0164     -0.0164\n",
       "88 -0.0167     -0.0167\n",
       "89 -0.0168     -0.0168\n",
       "90 -0.0101     -0.0101\n",
       "91 -0.0110     -0.0111\n",
       "92 -0.0120     -0.0120\n",
       "93 -0.0129     -0.0130\n",
       "94 -0.0137     -0.0138\n",
       "95 -0.0144     -0.0145\n",
       "96 -0.0150     -0.0151\n",
       "97 -0.0155     -0.0155\n",
       "98 -0.0157     -0.0158\n",
       "99 -0.0158     -0.0158"
      ]
     },
     "execution_count": 191,
     "metadata": {},
     "output_type": "execute_result"
    }
   ],
   "source": [
    "market_data_df[['theta', 'theta_pred']]"
   ]
  },
  {
   "cell_type": "code",
   "execution_count": null,
   "metadata": {},
   "outputs": [],
   "source": []
  }
 ],
 "metadata": {
  "kernelspec": {
   "display_name": "base",
   "language": "python",
   "name": "python3"
  },
  "language_info": {
   "codemirror_mode": {
    "name": "ipython",
    "version": 3
   },
   "file_extension": ".py",
   "mimetype": "text/x-python",
   "name": "python",
   "nbconvert_exporter": "python",
   "pygments_lexer": "ipython3",
   "version": "3.12.4"
  }
 },
 "nbformat": 4,
 "nbformat_minor": 2
}
