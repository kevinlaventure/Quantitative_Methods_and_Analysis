{
 "cells": [
  {
   "cell_type": "code",
   "execution_count": 1,
   "id": "ed2a521e-a477-412c-880f-f5e55f85a997",
   "metadata": {},
   "outputs": [
    {
     "ename": "error",
     "evalue": "(mx>kx) failed for hidden mx: regrid_smth:mx=3",
     "output_type": "error",
     "traceback": [
      "\u001b[0;31m---------------------------------------------------------------------------\u001b[0m",
      "\u001b[0;31merror\u001b[0m                                     Traceback (most recent call last)",
      "Cell \u001b[0;32mIn[1], line 15\u001b[0m\n\u001b[1;32m      8\u001b[0m sigma \u001b[38;5;241m=\u001b[39m np\u001b[38;5;241m.\u001b[39marray([\n\u001b[1;32m      9\u001b[0m     [\u001b[38;5;241m0.2\u001b[39m, \u001b[38;5;241m0.22\u001b[39m, \u001b[38;5;241m0.24\u001b[39m],  \u001b[38;5;66;03m# Volatilities for K=90\u001b[39;00m\n\u001b[1;32m     10\u001b[0m     [\u001b[38;5;241m0.25\u001b[39m, \u001b[38;5;241m0.27\u001b[39m, \u001b[38;5;241m0.28\u001b[39m], \u001b[38;5;66;03m# Volatilities for K=100\u001b[39;00m\n\u001b[1;32m     11\u001b[0m     [\u001b[38;5;241m0.3\u001b[39m, \u001b[38;5;241m0.31\u001b[39m, \u001b[38;5;241m0.32\u001b[39m]   \u001b[38;5;66;03m# Volatilities for K=110\u001b[39;00m\n\u001b[1;32m     12\u001b[0m ])\n\u001b[1;32m     14\u001b[0m \u001b[38;5;66;03m# Fit a 2D spline\u001b[39;00m\n\u001b[0;32m---> 15\u001b[0m spline \u001b[38;5;241m=\u001b[39m RectBivariateSpline(K, T, sigma)\n\u001b[1;32m     17\u001b[0m \u001b[38;5;66;03m# Generate new data points\u001b[39;00m\n\u001b[1;32m     18\u001b[0m K_new \u001b[38;5;241m=\u001b[39m np\u001b[38;5;241m.\u001b[39mlinspace(\u001b[38;5;241m85\u001b[39m, \u001b[38;5;241m115\u001b[39m, \u001b[38;5;241m50\u001b[39m)\n",
      "File \u001b[0;32m/opt/anaconda3/lib/python3.12/site-packages/scipy/interpolate/_fitpack2.py:1602\u001b[0m, in \u001b[0;36mRectBivariateSpline.__init__\u001b[0;34m(self, x, y, z, bbox, kx, ky, s)\u001b[0m\n\u001b[1;32m   1600\u001b[0m z \u001b[38;5;241m=\u001b[39m ravel(z)\n\u001b[1;32m   1601\u001b[0m xb, xe, yb, ye \u001b[38;5;241m=\u001b[39m bbox\n\u001b[0;32m-> 1602\u001b[0m nx, tx, ny, ty, c, fp, ier \u001b[38;5;241m=\u001b[39m dfitpack\u001b[38;5;241m.\u001b[39mregrid_smth(x, y, z, xb, xe, yb,\n\u001b[1;32m   1603\u001b[0m                                                   ye, kx, ky, s)\n\u001b[1;32m   1605\u001b[0m \u001b[38;5;28;01mif\u001b[39;00m ier \u001b[38;5;129;01mnot\u001b[39;00m \u001b[38;5;129;01min\u001b[39;00m [\u001b[38;5;241m0\u001b[39m, \u001b[38;5;241m-\u001b[39m\u001b[38;5;241m1\u001b[39m, \u001b[38;5;241m-\u001b[39m\u001b[38;5;241m2\u001b[39m]:\n\u001b[1;32m   1606\u001b[0m     msg \u001b[38;5;241m=\u001b[39m _surfit_messages\u001b[38;5;241m.\u001b[39mget(ier, \u001b[38;5;124m'\u001b[39m\u001b[38;5;124mier=\u001b[39m\u001b[38;5;132;01m%s\u001b[39;00m\u001b[38;5;124m'\u001b[39m \u001b[38;5;241m%\u001b[39m (ier))\n",
      "\u001b[0;31merror\u001b[0m: (mx>kx) failed for hidden mx: regrid_smth:mx=3"
     ]
    }
   ],
   "source": [
    "import numpy as np\n",
    "from scipy.interpolate import RectBivariateSpline\n",
    "import matplotlib.pyplot as plt\n",
    "\n",
    "# Example data: Strike prices (K), maturities (T), volatilities (sigma)\n",
    "K = np.array([90, 100, 110])   # Strikes\n",
    "T = np.array([0.5, 1.0, 1.5])  # Maturities\n",
    "sigma = np.array([\n",
    "    [0.2, 0.22, 0.24],  # Volatilities for K=90\n",
    "    [0.25, 0.27, 0.28], # Volatilities for K=100\n",
    "    [0.3, 0.31, 0.32]   # Volatilities for K=110\n",
    "])\n",
    "\n",
    "# Fit a 2D spline\n",
    "spline = RectBivariateSpline(K, T, sigma)\n",
    "\n",
    "# Generate new data points\n",
    "K_new = np.linspace(85, 115, 50)\n",
    "T_new = np.linspace(0.4, 2.0, 50)\n",
    "sigma_smooth = spline(K_new, T_new)\n",
    "\n",
    "# Plot the smoothed volatility surface\n",
    "K_grid, T_grid = np.meshgrid(K_new, T_new)\n",
    "fig = plt.figure(figsize=(10, 6))\n",
    "ax = fig.add_subplot(111, projection='3d')\n",
    "ax.plot_surface(K_grid, T_grid, sigma_smooth.T, cmap=\"viridis\")\n",
    "ax.set_title(\"Smoothed Volatility Surface (Spline Interpolation)\")\n",
    "ax.set_xlabel(\"Strike Price\")\n",
    "ax.set_ylabel(\"Time to Maturity\")\n",
    "ax.set_zlabel(\"Implied Volatility\")\n",
    "plt.show()\n"
   ]
  },
  {
   "cell_type": "code",
   "execution_count": null,
   "id": "435bf787-5c10-49de-89b0-a8300b023a44",
   "metadata": {},
   "outputs": [],
   "source": []
  }
 ],
 "metadata": {
  "kernelspec": {
   "display_name": "Python 3 (ipykernel)",
   "language": "python",
   "name": "python3"
  },
  "language_info": {
   "codemirror_mode": {
    "name": "ipython",
    "version": 3
   },
   "file_extension": ".py",
   "mimetype": "text/x-python",
   "name": "python",
   "nbconvert_exporter": "python",
   "pygments_lexer": "ipython3",
   "version": "3.12.4"
  }
 },
 "nbformat": 4,
 "nbformat_minor": 5
}
