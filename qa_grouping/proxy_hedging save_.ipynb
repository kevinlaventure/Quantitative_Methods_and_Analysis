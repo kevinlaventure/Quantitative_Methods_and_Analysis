{
 "cells": [
  {
   "cell_type": "code",
   "execution_count": 20,
   "metadata": {},
   "outputs": [],
   "source": [
    "# -------\n",
    "# IMPORT LIBRAIRIES\n",
    "# -------\n",
    "import numpy as np\n",
    "import pandas as pd\n",
    "import plotly.express as px\n",
    "from python_module import sabr\n",
    "from python_module import blackscholes\n",
    "from sklearn.linear_model import LinearRegression\n",
    "from sklearn.preprocessing import PolynomialFeatures\n",
    "from scipy.cluster.hierarchy import linkage, fcluster\n",
    "\n",
    "# -------\n",
    "# DISPLAY SETTINGS\n",
    "# -------\n",
    "pd.set_option('display.max_rows', 100)\n",
    "pd.set_option('display.max_columns', 100)\n",
    "pd.options.display.float_format = lambda x: f'{x:_.4f}'"
   ]
  },
  {
   "cell_type": "code",
   "execution_count": 21,
   "metadata": {},
   "outputs": [],
   "source": [
    "# -------\n",
    "# GENERATE MARKET DATA & PORTFOLIO\n",
    "# -------\n",
    "S = F = 100\n",
    "alpha = 0.2\n",
    "beta = 1\n",
    "rho = -0.4\n",
    "nu = 0.5\n",
    "market_data_list = list()\n",
    "for time_to_maturity in np.linspace(start=1, stop=250, num=10, dtype=int):\n",
    "    T = time_to_maturity / 250\n",
    "    for K in np.linspace(start=80, stop=100, num=10):\n",
    "        IV = sabr.compute_vol(F, K, T, alpha, beta, rho, nu)\n",
    "        pricing_results = blackscholes.compute_option(S, K, T, 0, IV, 'put', True)\n",
    "        market_data_list.append({'time_to_maturity': time_to_maturity, 'T': T, 'K': K, 'IV': IV, **pricing_results})\n",
    "market_data_df = pd.DataFrame(market_data_list)\n",
    "market_data_df['weights'] = abs(np.random.normal(size=market_data_df.shape[0]))"
   ]
  },
  {
   "cell_type": "code",
   "execution_count": 22,
   "metadata": {},
   "outputs": [
    {
     "data": {
      "text/html": [
       "<div>\n",
       "<style scoped>\n",
       "    .dataframe tbody tr th:only-of-type {\n",
       "        vertical-align: middle;\n",
       "    }\n",
       "\n",
       "    .dataframe tbody tr th {\n",
       "        vertical-align: top;\n",
       "    }\n",
       "\n",
       "    .dataframe thead th {\n",
       "        text-align: right;\n",
       "    }\n",
       "</style>\n",
       "<table border=\"1\" class=\"dataframe\">\n",
       "  <thead>\n",
       "    <tr style=\"text-align: right;\">\n",
       "      <th></th>\n",
       "      <th>time_to_maturity</th>\n",
       "      <th>T</th>\n",
       "      <th>K</th>\n",
       "      <th>IV</th>\n",
       "      <th>price</th>\n",
       "      <th>delta</th>\n",
       "      <th>gamma</th>\n",
       "      <th>vega</th>\n",
       "      <th>theta</th>\n",
       "      <th>vanna</th>\n",
       "      <th>volga</th>\n",
       "      <th>weights</th>\n",
       "    </tr>\n",
       "  </thead>\n",
       "  <tbody>\n",
       "    <tr>\n",
       "      <th>95</th>\n",
       "      <td>250</td>\n",
       "      <td>1.0000</td>\n",
       "      <td>91.1111</td>\n",
       "      <td>0.2117</td>\n",
       "      <td>4.3751</td>\n",
       "      <td>-0.2927</td>\n",
       "      <td>0.0162</td>\n",
       "      <td>0.3438</td>\n",
       "      <td>-0.0144</td>\n",
       "      <td>-0.5419</td>\n",
       "      <td>29.5622</td>\n",
       "      <td>2.6022</td>\n",
       "    </tr>\n",
       "    <tr>\n",
       "      <th>96</th>\n",
       "      <td>250</td>\n",
       "      <td>1.0000</td>\n",
       "      <td>93.3333</td>\n",
       "      <td>0.2088</td>\n",
       "      <td>5.1372</td>\n",
       "      <td>-0.3318</td>\n",
       "      <td>0.0174</td>\n",
       "      <td>0.3630</td>\n",
       "      <td>-0.0150</td>\n",
       "      <td>-0.3929</td>\n",
       "      <td>17.0855</td>\n",
       "      <td>0.2199</td>\n",
       "    </tr>\n",
       "    <tr>\n",
       "      <th>97</th>\n",
       "      <td>250</td>\n",
       "      <td>1.0000</td>\n",
       "      <td>95.5556</td>\n",
       "      <td>0.2060</td>\n",
       "      <td>5.9948</td>\n",
       "      <td>-0.3731</td>\n",
       "      <td>0.0184</td>\n",
       "      <td>0.3786</td>\n",
       "      <td>-0.0155</td>\n",
       "      <td>-0.2161</td>\n",
       "      <td>6.9943</td>\n",
       "      <td>0.1329</td>\n",
       "    </tr>\n",
       "    <tr>\n",
       "      <th>98</th>\n",
       "      <td>250</td>\n",
       "      <td>1.0000</td>\n",
       "      <td>97.7778</td>\n",
       "      <td>0.2035</td>\n",
       "      <td>6.9522</td>\n",
       "      <td>-0.4160</td>\n",
       "      <td>0.0192</td>\n",
       "      <td>0.3901</td>\n",
       "      <td>-0.0157</td>\n",
       "      <td>-0.0166</td>\n",
       "      <td>0.3529</td>\n",
       "      <td>0.8095</td>\n",
       "    </tr>\n",
       "    <tr>\n",
       "      <th>99</th>\n",
       "      <td>250</td>\n",
       "      <td>1.0000</td>\n",
       "      <td>100.0000</td>\n",
       "      <td>0.2012</td>\n",
       "      <td>8.0119</td>\n",
       "      <td>-0.4599</td>\n",
       "      <td>0.0197</td>\n",
       "      <td>0.3969</td>\n",
       "      <td>-0.0158</td>\n",
       "      <td>0.1985</td>\n",
       "      <td>-1.9962</td>\n",
       "      <td>1.1988</td>\n",
       "    </tr>\n",
       "  </tbody>\n",
       "</table>\n",
       "</div>"
      ],
      "text/plain": [
       "    time_to_maturity      T        K     IV  price   delta  gamma   vega  \\\n",
       "95               250 1.0000  91.1111 0.2117 4.3751 -0.2927 0.0162 0.3438   \n",
       "96               250 1.0000  93.3333 0.2088 5.1372 -0.3318 0.0174 0.3630   \n",
       "97               250 1.0000  95.5556 0.2060 5.9948 -0.3731 0.0184 0.3786   \n",
       "98               250 1.0000  97.7778 0.2035 6.9522 -0.4160 0.0192 0.3901   \n",
       "99               250 1.0000 100.0000 0.2012 8.0119 -0.4599 0.0197 0.3969   \n",
       "\n",
       "     theta   vanna   volga  weights  \n",
       "95 -0.0144 -0.5419 29.5622   2.6022  \n",
       "96 -0.0150 -0.3929 17.0855   0.2199  \n",
       "97 -0.0155 -0.2161  6.9943   0.1329  \n",
       "98 -0.0157 -0.0166  0.3529   0.8095  \n",
       "99 -0.0158  0.1985 -1.9962   1.1988  "
      ]
     },
     "execution_count": 22,
     "metadata": {},
     "output_type": "execute_result"
    }
   ],
   "source": [
    "market_data_df.tail()"
   ]
  },
  {
   "cell_type": "code",
   "execution_count": 23,
   "metadata": {},
   "outputs": [],
   "source": [
    "market_data_df['delta'] *= -1"
   ]
  },
  {
   "cell_type": "code",
   "execution_count": 24,
   "metadata": {},
   "outputs": [],
   "source": [
    "# -------\n",
    "# FEATURE ENGINEERING\n",
    "# -------\n",
    "market_data_df['log_K'] = np.log(market_data_df['K']/S)\n",
    "market_data_df['exp_t'] = np.log(market_data_df['T'])\n",
    "features = ['log_K', 'exp_t']\n",
    "\n",
    "# -------\n",
    "# MODEL FIT\n",
    "# -------\n",
    "degree = 2\n",
    "poly_features = PolynomialFeatures(degree=degree)\n",
    "X = market_data_df[features]\n",
    "X_poly = poly_features.fit_transform(X)\n",
    "Y = market_data_df['price']\n",
    "model = LinearRegression(fit_intercept=False)\n",
    "model.fit(X_poly, Y)\n",
    "\n",
    "# -------\n",
    "# MODEL PREDICTION\n",
    "# -------\n",
    "X = pd.DataFrame(X_poly).multiply(model.coef_)\n",
    "Z = linkage(X, method='complete', metric='euclidean')\n",
    "num_clusters = 10\n",
    "clusters = fcluster(Z, num_clusters, criterion='maxclust')\n",
    "market_data_df['cluster'] = [str(x) for x in clusters]"
   ]
  },
  {
   "cell_type": "code",
   "execution_count": 25,
   "metadata": {},
   "outputs": [
    {
     "data": {
      "application/vnd.plotly.v1+json": {
       "config": {
        "plotlyServerURL": "https://plot.ly"
       },
       "data": [
        {
         "hovertemplate": "cluster=2<br>K=%{x}<br>time_to_maturity=%{y}<br>delta=%{marker.size}<extra></extra>",
         "legendgroup": "2",
         "marker": {
          "color": "#636efa",
          "size": [
           0,
           0
          ],
          "sizemode": "area",
          "sizeref": 0.0012436920635671193,
          "symbol": "circle"
         },
         "mode": "markers",
         "name": "2",
         "orientation": "v",
         "showlegend": true,
         "type": "scatter",
         "x": [
          80,
          82.22222222222223
         ],
         "xaxis": "x",
         "y": [
          1,
          1
         ],
         "yaxis": "y"
        },
        {
         "hovertemplate": "cluster=3<br>K=%{x}<br>time_to_maturity=%{y}<br>delta=%{marker.size}<extra></extra>",
         "legendgroup": "3",
         "marker": {
          "color": "#EF553B",
          "size": [
           0,
           0,
           0,
           1.294631069015395e-12
          ],
          "sizemode": "area",
          "sizeref": 0.0012436920635671193,
          "symbol": "circle"
         },
         "mode": "markers",
         "name": "3",
         "orientation": "v",
         "showlegend": true,
         "type": "scatter",
         "x": [
          84.44444444444444,
          86.66666666666667,
          88.88888888888889,
          91.11111111111111
         ],
         "xaxis": "x",
         "y": [
          1,
          1,
          1,
          1
         ],
         "yaxis": "y"
        },
        {
         "hovertemplate": "cluster=1<br>K=%{x}<br>time_to_maturity=%{y}<br>delta=%{marker.size}<extra></extra>",
         "legendgroup": "1",
         "marker": {
          "color": "#00cc96",
          "size": [
           7.143236313567058e-8,
           0.00021958370476182765,
           0.03898587346896065,
           0.4974768254268477
          ],
          "sizemode": "area",
          "sizeref": 0.0012436920635671193,
          "symbol": "circle"
         },
         "mode": "markers",
         "name": "1",
         "orientation": "v",
         "showlegend": true,
         "type": "scatter",
         "x": [
          93.33333333333333,
          95.55555555555556,
          97.77777777777777,
          100
         ],
         "xaxis": "x",
         "y": [
          1,
          1,
          1,
          1
         ],
         "yaxis": "y"
        },
        {
         "hovertemplate": "cluster=7<br>K=%{x}<br>time_to_maturity=%{y}<br>delta=%{marker.size}<extra></extra>",
         "legendgroup": "7",
         "marker": {
          "color": "#ab63fa",
          "size": [
           0.001537235603542464,
           0.004082992475572089,
           0.017051202509981933,
           0.02899587702346429,
           0.039969139952444666,
           0.05836739977306249
          ],
          "sizemode": "area",
          "sizeref": 0.0012436920635671193,
          "symbol": "circle"
         },
         "mode": "markers",
         "name": "7",
         "orientation": "v",
         "showlegend": true,
         "type": "scatter",
         "x": [
          80,
          82.22222222222223,
          80,
          82.22222222222223,
          80,
          82.22222222222223
         ],
         "xaxis": "x",
         "y": [
          28,
          28,
          56,
          56,
          84,
          84
         ],
         "yaxis": "y"
        },
        {
         "hovertemplate": "cluster=10<br>K=%{x}<br>time_to_maturity=%{y}<br>delta=%{marker.size}<extra></extra>",
         "legendgroup": "10",
         "marker": {
          "color": "#FFA15A",
          "size": [
           0.009982644316143485,
           0.02243242297082404,
           0.04740851784066813,
           0.07448045084870447,
           0.08310596938028014,
           0.1153291659493918
          ],
          "sizemode": "area",
          "sizeref": 0.0012436920635671193,
          "symbol": "circle"
         },
         "mode": "markers",
         "name": "10",
         "orientation": "v",
         "showlegend": true,
         "type": "scatter",
         "x": [
          84.44444444444444,
          86.66666666666667,
          84.44444444444444,
          86.66666666666667,
          84.44444444444444,
          86.66666666666667
         ],
         "xaxis": "x",
         "y": [
          28,
          28,
          56,
          56,
          84,
          84
         ],
         "yaxis": "y"
        },
        {
         "hovertemplate": "cluster=9<br>K=%{x}<br>time_to_maturity=%{y}<br>delta=%{marker.size}<extra></extra>",
         "legendgroup": "9",
         "marker": {
          "color": "#19d3f3",
          "size": [
           0.0462771833644412,
           0.08759272261198381,
           0.11237873651119235,
           0.16280544280315312,
           0.15593797867809533,
           0.20539117924889383
          ],
          "sizemode": "area",
          "sizeref": 0.0012436920635671193,
          "symbol": "circle"
         },
         "mode": "markers",
         "name": "9",
         "orientation": "v",
         "showlegend": true,
         "type": "scatter",
         "x": [
          88.88888888888889,
          91.11111111111111,
          88.88888888888889,
          91.11111111111111,
          88.88888888888889,
          91.11111111111111
         ],
         "xaxis": "x",
         "y": [
          28,
          28,
          56,
          56,
          84,
          84
         ],
         "yaxis": "y"
        },
        {
         "hovertemplate": "cluster=5<br>K=%{x}<br>time_to_maturity=%{y}<br>delta=%{marker.size}<extra></extra>",
         "legendgroup": "5",
         "marker": {
          "color": "#FF6692",
          "size": [
           0.15215672010401005,
           0.2429017792781465,
           0.3573484639198763,
           0.4866426115692494,
           0.2264733955532221,
           0.3026363910093024,
           0.38884910149009433,
           0.4811010077721827,
           0.263518141059927,
           0.3293899161101925,
           0.4012941512837721,
           0.4768428033173667
          ],
          "sizemode": "area",
          "sizeref": 0.0012436920635671193,
          "symbol": "circle"
         },
         "mode": "markers",
         "name": "5",
         "orientation": "v",
         "showlegend": true,
         "type": "scatter",
         "x": [
          93.33333333333333,
          95.55555555555556,
          97.77777777777777,
          100,
          93.33333333333333,
          95.55555555555556,
          97.77777777777777,
          100,
          93.33333333333333,
          95.55555555555556,
          97.77777777777777,
          100
         ],
         "xaxis": "x",
         "y": [
          28,
          28,
          28,
          28,
          56,
          56,
          56,
          56,
          84,
          84,
          84,
          84
         ],
         "yaxis": "y"
        },
        {
         "hovertemplate": "cluster=6<br>K=%{x}<br>time_to_maturity=%{y}<br>delta=%{marker.size}<extra></extra>",
         "legendgroup": "6",
         "marker": {
          "color": "#B6E880",
          "size": [
           0.0616695976017726,
           0.08348532706902079,
           0.08175492216660918,
           0.10543775615419948,
           0.09919381315491926,
           0.12379143637253875,
           0.1137720909498704,
           0.13873845905553428,
           0.1269229522499723,
           0.15196051857828152,
           0.13839910811098233,
           0.16331916993281514
          ],
          "sizemode": "area",
          "sizeref": 0.0012436920635671193,
          "symbol": "circle"
         },
         "mode": "markers",
         "name": "6",
         "orientation": "v",
         "showlegend": true,
         "type": "scatter",
         "x": [
          80,
          82.22222222222223,
          80,
          82.22222222222223,
          80,
          82.22222222222223,
          80,
          82.22222222222223,
          80,
          82.22222222222223,
          80,
          82.22222222222223
         ],
         "xaxis": "x",
         "y": [
          111,
          111,
          139,
          139,
          167,
          167,
          194,
          194,
          222,
          222,
          250,
          250
         ],
         "yaxis": "y"
        },
        {
         "hovertemplate": "cluster=8<br>K=%{x}<br>time_to_maturity=%{y}<br>delta=%{marker.size}<extra></extra>",
         "legendgroup": "8",
         "marker": {
          "color": "#FF97FF",
          "size": [
           0.11092785688134899,
           0.14462208717977898,
           0.18496208408007142,
           0.23200976804373408,
           0.13400808952394938,
           0.16780924116790685,
           0.20699458332865128,
           0.2514713314006418,
           0.152650006451039,
           0.18595882747494885,
           0.22375381208266276,
           0.2658833034705499,
           0.16747024808335442,
           0.20007030589436858,
           0.23651565807672192,
           0.27663484226580914,
           0.18034328057410753,
           0.21211958899428818,
           0.24723381851163972,
           0.28551068436405436,
           0.191239651742106,
           0.22217504183263426,
           0.25605253448531085,
           0.2927006425083952
          ],
          "sizemode": "area",
          "sizeref": 0.0012436920635671193,
          "symbol": "circle"
         },
         "mode": "markers",
         "name": "8",
         "orientation": "v",
         "showlegend": true,
         "type": "scatter",
         "x": [
          84.44444444444444,
          86.66666666666667,
          88.88888888888889,
          91.11111111111111,
          84.44444444444444,
          86.66666666666667,
          88.88888888888889,
          91.11111111111111,
          84.44444444444444,
          86.66666666666667,
          88.88888888888889,
          91.11111111111111,
          84.44444444444444,
          86.66666666666667,
          88.88888888888889,
          91.11111111111111,
          84.44444444444444,
          86.66666666666667,
          88.88888888888889,
          91.11111111111111,
          84.44444444444444,
          86.66666666666667,
          88.88888888888889,
          91.11111111111111
         ],
         "xaxis": "x",
         "y": [
          111,
          111,
          111,
          111,
          139,
          139,
          139,
          139,
          167,
          167,
          167,
          167,
          194,
          194,
          194,
          194,
          222,
          222,
          222,
          222,
          250,
          250,
          250,
          250
         ],
         "yaxis": "y"
        },
        {
         "hovertemplate": "cluster=4<br>K=%{x}<br>time_to_maturity=%{y}<br>delta=%{marker.size}<extra></extra>",
         "legendgroup": "4",
         "marker": {
          "color": "#FECB52",
          "size": [
           0.28541101586958195,
           0.34434908146696497,
           0.4075526865055362,
           0.4733681110794816,
           0.3008583194258063,
           0.3544676140653592,
           0.4113179851566846,
           0.4701840374541937,
           0.311984379366514,
           0.36147522143336674,
           0.41356791413829586,
           0.4673035774087039,
           0.3200932159768872,
           0.36638979284100925,
           0.4148683252229677,
           0.4647437669475861,
           0.3266456860810094,
           0.3702040805760921,
           0.415630201093378,
           0.46226786810224585,
           0.33184262818741017,
           0.3730964773333707,
           0.4159827167431299,
           0.4599406138369829
          ],
          "sizemode": "area",
          "sizeref": 0.0012436920635671193,
          "symbol": "circle"
         },
         "mode": "markers",
         "name": "4",
         "orientation": "v",
         "showlegend": true,
         "type": "scatter",
         "x": [
          93.33333333333333,
          95.55555555555556,
          97.77777777777777,
          100,
          93.33333333333333,
          95.55555555555556,
          97.77777777777777,
          100,
          93.33333333333333,
          95.55555555555556,
          97.77777777777777,
          100,
          93.33333333333333,
          95.55555555555556,
          97.77777777777777,
          100,
          93.33333333333333,
          95.55555555555556,
          97.77777777777777,
          100,
          93.33333333333333,
          95.55555555555556,
          97.77777777777777,
          100
         ],
         "xaxis": "x",
         "y": [
          111,
          111,
          111,
          111,
          139,
          139,
          139,
          139,
          167,
          167,
          167,
          167,
          194,
          194,
          194,
          194,
          222,
          222,
          222,
          222,
          250,
          250,
          250,
          250
         ],
         "yaxis": "y"
        }
       ],
       "layout": {
        "legend": {
         "itemsizing": "constant",
         "title": {
          "text": "cluster"
         },
         "tracegroupgap": 0
        },
        "margin": {
         "t": 60
        },
        "template": {
         "data": {
          "bar": [
           {
            "error_x": {
             "color": "#2a3f5f"
            },
            "error_y": {
             "color": "#2a3f5f"
            },
            "marker": {
             "line": {
              "color": "#E5ECF6",
              "width": 0.5
             },
             "pattern": {
              "fillmode": "overlay",
              "size": 10,
              "solidity": 0.2
             }
            },
            "type": "bar"
           }
          ],
          "barpolar": [
           {
            "marker": {
             "line": {
              "color": "#E5ECF6",
              "width": 0.5
             },
             "pattern": {
              "fillmode": "overlay",
              "size": 10,
              "solidity": 0.2
             }
            },
            "type": "barpolar"
           }
          ],
          "carpet": [
           {
            "aaxis": {
             "endlinecolor": "#2a3f5f",
             "gridcolor": "white",
             "linecolor": "white",
             "minorgridcolor": "white",
             "startlinecolor": "#2a3f5f"
            },
            "baxis": {
             "endlinecolor": "#2a3f5f",
             "gridcolor": "white",
             "linecolor": "white",
             "minorgridcolor": "white",
             "startlinecolor": "#2a3f5f"
            },
            "type": "carpet"
           }
          ],
          "choropleth": [
           {
            "colorbar": {
             "outlinewidth": 0,
             "ticks": ""
            },
            "type": "choropleth"
           }
          ],
          "contour": [
           {
            "colorbar": {
             "outlinewidth": 0,
             "ticks": ""
            },
            "colorscale": [
             [
              0,
              "#0d0887"
             ],
             [
              0.1111111111111111,
              "#46039f"
             ],
             [
              0.2222222222222222,
              "#7201a8"
             ],
             [
              0.3333333333333333,
              "#9c179e"
             ],
             [
              0.4444444444444444,
              "#bd3786"
             ],
             [
              0.5555555555555556,
              "#d8576b"
             ],
             [
              0.6666666666666666,
              "#ed7953"
             ],
             [
              0.7777777777777778,
              "#fb9f3a"
             ],
             [
              0.8888888888888888,
              "#fdca26"
             ],
             [
              1,
              "#f0f921"
             ]
            ],
            "type": "contour"
           }
          ],
          "contourcarpet": [
           {
            "colorbar": {
             "outlinewidth": 0,
             "ticks": ""
            },
            "type": "contourcarpet"
           }
          ],
          "heatmap": [
           {
            "colorbar": {
             "outlinewidth": 0,
             "ticks": ""
            },
            "colorscale": [
             [
              0,
              "#0d0887"
             ],
             [
              0.1111111111111111,
              "#46039f"
             ],
             [
              0.2222222222222222,
              "#7201a8"
             ],
             [
              0.3333333333333333,
              "#9c179e"
             ],
             [
              0.4444444444444444,
              "#bd3786"
             ],
             [
              0.5555555555555556,
              "#d8576b"
             ],
             [
              0.6666666666666666,
              "#ed7953"
             ],
             [
              0.7777777777777778,
              "#fb9f3a"
             ],
             [
              0.8888888888888888,
              "#fdca26"
             ],
             [
              1,
              "#f0f921"
             ]
            ],
            "type": "heatmap"
           }
          ],
          "heatmapgl": [
           {
            "colorbar": {
             "outlinewidth": 0,
             "ticks": ""
            },
            "colorscale": [
             [
              0,
              "#0d0887"
             ],
             [
              0.1111111111111111,
              "#46039f"
             ],
             [
              0.2222222222222222,
              "#7201a8"
             ],
             [
              0.3333333333333333,
              "#9c179e"
             ],
             [
              0.4444444444444444,
              "#bd3786"
             ],
             [
              0.5555555555555556,
              "#d8576b"
             ],
             [
              0.6666666666666666,
              "#ed7953"
             ],
             [
              0.7777777777777778,
              "#fb9f3a"
             ],
             [
              0.8888888888888888,
              "#fdca26"
             ],
             [
              1,
              "#f0f921"
             ]
            ],
            "type": "heatmapgl"
           }
          ],
          "histogram": [
           {
            "marker": {
             "pattern": {
              "fillmode": "overlay",
              "size": 10,
              "solidity": 0.2
             }
            },
            "type": "histogram"
           }
          ],
          "histogram2d": [
           {
            "colorbar": {
             "outlinewidth": 0,
             "ticks": ""
            },
            "colorscale": [
             [
              0,
              "#0d0887"
             ],
             [
              0.1111111111111111,
              "#46039f"
             ],
             [
              0.2222222222222222,
              "#7201a8"
             ],
             [
              0.3333333333333333,
              "#9c179e"
             ],
             [
              0.4444444444444444,
              "#bd3786"
             ],
             [
              0.5555555555555556,
              "#d8576b"
             ],
             [
              0.6666666666666666,
              "#ed7953"
             ],
             [
              0.7777777777777778,
              "#fb9f3a"
             ],
             [
              0.8888888888888888,
              "#fdca26"
             ],
             [
              1,
              "#f0f921"
             ]
            ],
            "type": "histogram2d"
           }
          ],
          "histogram2dcontour": [
           {
            "colorbar": {
             "outlinewidth": 0,
             "ticks": ""
            },
            "colorscale": [
             [
              0,
              "#0d0887"
             ],
             [
              0.1111111111111111,
              "#46039f"
             ],
             [
              0.2222222222222222,
              "#7201a8"
             ],
             [
              0.3333333333333333,
              "#9c179e"
             ],
             [
              0.4444444444444444,
              "#bd3786"
             ],
             [
              0.5555555555555556,
              "#d8576b"
             ],
             [
              0.6666666666666666,
              "#ed7953"
             ],
             [
              0.7777777777777778,
              "#fb9f3a"
             ],
             [
              0.8888888888888888,
              "#fdca26"
             ],
             [
              1,
              "#f0f921"
             ]
            ],
            "type": "histogram2dcontour"
           }
          ],
          "mesh3d": [
           {
            "colorbar": {
             "outlinewidth": 0,
             "ticks": ""
            },
            "type": "mesh3d"
           }
          ],
          "parcoords": [
           {
            "line": {
             "colorbar": {
              "outlinewidth": 0,
              "ticks": ""
             }
            },
            "type": "parcoords"
           }
          ],
          "pie": [
           {
            "automargin": true,
            "type": "pie"
           }
          ],
          "scatter": [
           {
            "fillpattern": {
             "fillmode": "overlay",
             "size": 10,
             "solidity": 0.2
            },
            "type": "scatter"
           }
          ],
          "scatter3d": [
           {
            "line": {
             "colorbar": {
              "outlinewidth": 0,
              "ticks": ""
             }
            },
            "marker": {
             "colorbar": {
              "outlinewidth": 0,
              "ticks": ""
             }
            },
            "type": "scatter3d"
           }
          ],
          "scattercarpet": [
           {
            "marker": {
             "colorbar": {
              "outlinewidth": 0,
              "ticks": ""
             }
            },
            "type": "scattercarpet"
           }
          ],
          "scattergeo": [
           {
            "marker": {
             "colorbar": {
              "outlinewidth": 0,
              "ticks": ""
             }
            },
            "type": "scattergeo"
           }
          ],
          "scattergl": [
           {
            "marker": {
             "colorbar": {
              "outlinewidth": 0,
              "ticks": ""
             }
            },
            "type": "scattergl"
           }
          ],
          "scattermapbox": [
           {
            "marker": {
             "colorbar": {
              "outlinewidth": 0,
              "ticks": ""
             }
            },
            "type": "scattermapbox"
           }
          ],
          "scatterpolar": [
           {
            "marker": {
             "colorbar": {
              "outlinewidth": 0,
              "ticks": ""
             }
            },
            "type": "scatterpolar"
           }
          ],
          "scatterpolargl": [
           {
            "marker": {
             "colorbar": {
              "outlinewidth": 0,
              "ticks": ""
             }
            },
            "type": "scatterpolargl"
           }
          ],
          "scatterternary": [
           {
            "marker": {
             "colorbar": {
              "outlinewidth": 0,
              "ticks": ""
             }
            },
            "type": "scatterternary"
           }
          ],
          "surface": [
           {
            "colorbar": {
             "outlinewidth": 0,
             "ticks": ""
            },
            "colorscale": [
             [
              0,
              "#0d0887"
             ],
             [
              0.1111111111111111,
              "#46039f"
             ],
             [
              0.2222222222222222,
              "#7201a8"
             ],
             [
              0.3333333333333333,
              "#9c179e"
             ],
             [
              0.4444444444444444,
              "#bd3786"
             ],
             [
              0.5555555555555556,
              "#d8576b"
             ],
             [
              0.6666666666666666,
              "#ed7953"
             ],
             [
              0.7777777777777778,
              "#fb9f3a"
             ],
             [
              0.8888888888888888,
              "#fdca26"
             ],
             [
              1,
              "#f0f921"
             ]
            ],
            "type": "surface"
           }
          ],
          "table": [
           {
            "cells": {
             "fill": {
              "color": "#EBF0F8"
             },
             "line": {
              "color": "white"
             }
            },
            "header": {
             "fill": {
              "color": "#C8D4E3"
             },
             "line": {
              "color": "white"
             }
            },
            "type": "table"
           }
          ]
         },
         "layout": {
          "annotationdefaults": {
           "arrowcolor": "#2a3f5f",
           "arrowhead": 0,
           "arrowwidth": 1
          },
          "autotypenumbers": "strict",
          "coloraxis": {
           "colorbar": {
            "outlinewidth": 0,
            "ticks": ""
           }
          },
          "colorscale": {
           "diverging": [
            [
             0,
             "#8e0152"
            ],
            [
             0.1,
             "#c51b7d"
            ],
            [
             0.2,
             "#de77ae"
            ],
            [
             0.3,
             "#f1b6da"
            ],
            [
             0.4,
             "#fde0ef"
            ],
            [
             0.5,
             "#f7f7f7"
            ],
            [
             0.6,
             "#e6f5d0"
            ],
            [
             0.7,
             "#b8e186"
            ],
            [
             0.8,
             "#7fbc41"
            ],
            [
             0.9,
             "#4d9221"
            ],
            [
             1,
             "#276419"
            ]
           ],
           "sequential": [
            [
             0,
             "#0d0887"
            ],
            [
             0.1111111111111111,
             "#46039f"
            ],
            [
             0.2222222222222222,
             "#7201a8"
            ],
            [
             0.3333333333333333,
             "#9c179e"
            ],
            [
             0.4444444444444444,
             "#bd3786"
            ],
            [
             0.5555555555555556,
             "#d8576b"
            ],
            [
             0.6666666666666666,
             "#ed7953"
            ],
            [
             0.7777777777777778,
             "#fb9f3a"
            ],
            [
             0.8888888888888888,
             "#fdca26"
            ],
            [
             1,
             "#f0f921"
            ]
           ],
           "sequentialminus": [
            [
             0,
             "#0d0887"
            ],
            [
             0.1111111111111111,
             "#46039f"
            ],
            [
             0.2222222222222222,
             "#7201a8"
            ],
            [
             0.3333333333333333,
             "#9c179e"
            ],
            [
             0.4444444444444444,
             "#bd3786"
            ],
            [
             0.5555555555555556,
             "#d8576b"
            ],
            [
             0.6666666666666666,
             "#ed7953"
            ],
            [
             0.7777777777777778,
             "#fb9f3a"
            ],
            [
             0.8888888888888888,
             "#fdca26"
            ],
            [
             1,
             "#f0f921"
            ]
           ]
          },
          "colorway": [
           "#636efa",
           "#EF553B",
           "#00cc96",
           "#ab63fa",
           "#FFA15A",
           "#19d3f3",
           "#FF6692",
           "#B6E880",
           "#FF97FF",
           "#FECB52"
          ],
          "font": {
           "color": "#2a3f5f"
          },
          "geo": {
           "bgcolor": "white",
           "lakecolor": "white",
           "landcolor": "#E5ECF6",
           "showlakes": true,
           "showland": true,
           "subunitcolor": "white"
          },
          "hoverlabel": {
           "align": "left"
          },
          "hovermode": "closest",
          "mapbox": {
           "style": "light"
          },
          "paper_bgcolor": "white",
          "plot_bgcolor": "#E5ECF6",
          "polar": {
           "angularaxis": {
            "gridcolor": "white",
            "linecolor": "white",
            "ticks": ""
           },
           "bgcolor": "#E5ECF6",
           "radialaxis": {
            "gridcolor": "white",
            "linecolor": "white",
            "ticks": ""
           }
          },
          "scene": {
           "xaxis": {
            "backgroundcolor": "#E5ECF6",
            "gridcolor": "white",
            "gridwidth": 2,
            "linecolor": "white",
            "showbackground": true,
            "ticks": "",
            "zerolinecolor": "white"
           },
           "yaxis": {
            "backgroundcolor": "#E5ECF6",
            "gridcolor": "white",
            "gridwidth": 2,
            "linecolor": "white",
            "showbackground": true,
            "ticks": "",
            "zerolinecolor": "white"
           },
           "zaxis": {
            "backgroundcolor": "#E5ECF6",
            "gridcolor": "white",
            "gridwidth": 2,
            "linecolor": "white",
            "showbackground": true,
            "ticks": "",
            "zerolinecolor": "white"
           }
          },
          "shapedefaults": {
           "line": {
            "color": "#2a3f5f"
           }
          },
          "ternary": {
           "aaxis": {
            "gridcolor": "white",
            "linecolor": "white",
            "ticks": ""
           },
           "baxis": {
            "gridcolor": "white",
            "linecolor": "white",
            "ticks": ""
           },
           "bgcolor": "#E5ECF6",
           "caxis": {
            "gridcolor": "white",
            "linecolor": "white",
            "ticks": ""
           }
          },
          "title": {
           "x": 0.05
          },
          "xaxis": {
           "automargin": true,
           "gridcolor": "white",
           "linecolor": "white",
           "ticks": "",
           "title": {
            "standoff": 15
           },
           "zerolinecolor": "white",
           "zerolinewidth": 2
          },
          "yaxis": {
           "automargin": true,
           "gridcolor": "white",
           "linecolor": "white",
           "ticks": "",
           "title": {
            "standoff": 15
           },
           "zerolinecolor": "white",
           "zerolinewidth": 2
          }
         }
        },
        "xaxis": {
         "anchor": "y",
         "domain": [
          0,
          1
         ],
         "title": {
          "text": "K"
         }
        },
        "yaxis": {
         "anchor": "x",
         "domain": [
          0,
          1
         ],
         "title": {
          "text": "time_to_maturity"
         }
        }
       }
      }
     },
     "metadata": {},
     "output_type": "display_data"
    }
   ],
   "source": [
    "px.scatter(data_frame=market_data_df, x='K', y='time_to_maturity', color='cluster', size='delta')"
   ]
  },
  {
   "cell_type": "code",
   "execution_count": null,
   "metadata": {},
   "outputs": [],
   "source": []
  }
 ],
 "metadata": {
  "kernelspec": {
   "display_name": "base",
   "language": "python",
   "name": "python3"
  },
  "language_info": {
   "codemirror_mode": {
    "name": "ipython",
    "version": 3
   },
   "file_extension": ".py",
   "mimetype": "text/x-python",
   "name": "python",
   "nbconvert_exporter": "python",
   "pygments_lexer": "ipython3",
   "version": "3.12.4"
  }
 },
 "nbformat": 4,
 "nbformat_minor": 2
}
