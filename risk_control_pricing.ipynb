{
 "cells": [
  {
   "cell_type": "markdown",
   "metadata": {},
   "source": [
    "### __Option Pricing on S&P 500 Daily Risk Control 10% Index__"
   ]
  },
  {
   "cell_type": "markdown",
   "metadata": {},
   "source": [
    "__The S&P 500 Daily Risk Control 10% Index (SPXT10UE) is part of S&P Dow Jones Risk Control Indices familly and use the below parameters__"
   ]
  },
  {
   "cell_type": "markdown",
   "metadata": {},
   "source": [
    "| ***Index Name*** | ***Underlying Risk Index*** | ***Risk Control Level*** | ***Maximum Leverage*** | ***Interest Rate*** | ***Volatility Calculation*** | ***Return Frequency for Volatility*** | ***Lag to Rebalancing Date*** | ***Decay Factor (Short-Term)*** | ***Decay Factor (Long-Term)*** | ***Rebalancing Frequency*** | ***Launch Date*** | ***Bloomberg Tickers***                                                           |\n",
    "|------------------------------------------------|------------------------------------------------------|------------------------|----------------------|-------------------------|----------------------------|--------------------------------------|-----------------------------|-------------------------------|------------------------------|---------------------------|---------------|---------------------------------------------------------------------------------|\n",
    "| S&P 500 Daily Risk Control 10% Index|S&P 500 Total Return: SPTR (USD) | 10% | 150%                 | SOFR + 0.02963*         | Exponentially weighted    | Daily                                | 2 days                      | 94%                           | 97%                          | Daily                     | 10-Sep-09     | ***Excess Return:*** SPXT5UE (USD)|\n"
   ]
  },
  {
   "cell_type": "markdown",
   "metadata": {},
   "source": [
    "__The S&P 500 Daily Risk Control indices are computed using the below methodology__"
   ]
  },
  {
   "cell_type": "markdown",
   "metadata": {},
   "source": [
    "$$\n",
    "\\text{Risk Control ER Index Value}_t \n",
    "= \n",
    "\\text{RiskControlERIndexValue}_{rb}\n",
    "\\,\\times\\,\n",
    "\\Biggl[\n",
    "1\n",
    "\\;+\\;\n",
    "K_{rb}\\,\\biggl(\\frac{\\text{UnderlyingIndex}_t}{\\text{UnderlyingIndex}_{t-1}} \\;-\\; 1\\biggr)\n",
    "\\;-\\;\n",
    "K_{rb}\\,\\Bigl(\n",
    "  \\prod_{i=rb+1}^{t}\\bigl(1 + \\text{InterestRate}_{i-1} \\times \\frac{D_{i-1,i}}{360}\\bigr)\n",
    "  \\;-\\; 1\n",
    "\\Bigr)\n",
    "\\Biggr]\n",
    "$$\n"
   ]
  },
  {
   "cell_type": "markdown",
   "metadata": {},
   "source": [
    "$$\n",
    "K_{rb} \n",
    "= \n",
    "\\min\\!\\Bigl(\\text{Max }K,\\;\\frac{\\text{Target Volatility}}{\\text{Realized Volatility}_{rb-d}}\\Bigr)\n",
    "$$\n"
   ]
  },
  {
   "cell_type": "markdown",
   "metadata": {},
   "source": [
    "$$\n",
    "\\text{RealizedVolatility}_t \n",
    "  = \\max\\bigl(\\text{RealizedVolatility}_{S,t}, \\text{RealizedVolatility}_{L,t}\\bigr)\n",
    "$$"
   ]
  },
  {
   "cell_type": "markdown",
   "metadata": {},
   "source": [
    "$$\n",
    "\\text{RealizedVolatility}_{S,t} \n",
    "  = \\sqrt{\\frac{252}{n}\\,\\text{Variance}_{S,t}}\n",
    "$$"
   ]
  },
  {
   "cell_type": "markdown",
   "metadata": {},
   "source": [
    "$$\n",
    "\\text{RealizedVolatility}_{L,t}\n",
    "  = \\sqrt{\\frac{252}{n}\\,\\text{Variance}_{L,t}}\n",
    "$$"
   ]
  },
  {
   "cell_type": "markdown",
   "metadata": {},
   "source": [
    "$$\n",
    "\\text{Variance}_{S,t}\n",
    "  = \\lambda_S\\,\\text{Variance}_{S,t-1}\n",
    "   + \\bigl(1 - \\lambda_S\\bigr)\\,\\left[\n",
    "       \\ln\\!\\Bigl(\\frac{\\text{UnderlyingIndex}_t}{\\text{UnderlyingIndex}_{t-n}}\\Bigr)\n",
    "     \\right]^2\n",
    "$$"
   ]
  },
  {
   "cell_type": "markdown",
   "metadata": {},
   "source": [
    "$$\n",
    "\\text{Variance}_{L,t}\n",
    "  = \\lambda_L\\,\\text{Variance}_{L,t-1}\n",
    "   + \\bigl(1 - \\lambda_L\\bigr)\\,\\left[\n",
    "       \\ln\\!\\Bigl(\\frac{\\text{UnderlyingIndex}_t}{\\text{UnderlyingIndex}_{t-n}}\\Bigr)\n",
    "     \\right]^2\n",
    "$$"
   ]
  },
  {
   "cell_type": "code",
   "execution_count": 11,
   "metadata": {},
   "outputs": [],
   "source": [
    "# -------\n",
    "# IMPORT\n",
    "# -------\n",
    "import numpy as np\n",
    "import pandas as pd\n",
    "from tqdm import tqdm\n",
    "import plotly.express as px\n",
    "from python_module.pricing_model import BlackScholesModel, SABRModel"
   ]
  },
  {
   "cell_type": "code",
   "execution_count": null,
   "metadata": {},
   "outputs": [],
   "source": [
    "def compute_option(\n",
    "    option_type, strike, option_time_to_maturity, r,\n",
    "    convergence_time, lambda_s, lambda_l, target_volatility, max_k, lag,\n",
    "    alpha, rho, nu):\n",
    "\n",
    "    # -------\n",
    "    # GENERATE ASSET 0 MONTECARLO\n",
    "    # -------\n",
    "    n_steps = option_time_to_maturity+convergence_time\n",
    "    T = n_steps/250\n",
    "    forward_process, vol_process = SABRModel.compute_montecarlo(F=1, T=T, alpha=alpha, beta=1, rho=rho, nu=nu, n_steps=n_steps, n_paths=10_000, seed=True)\n",
    "\n",
    "    # -------\n",
    "    # COMPUTE LONG AND SHORT VARIANCE\n",
    "    # -------\n",
    "    risk_control_montecarlo = dict()\n",
    "    for path in forward_process:\n",
    "        \n",
    "        forward_price = forward_process[path]\n",
    "        forward_price.name = 'forward'\n",
    "        spot_var = np.log(forward_price / forward_price.shift()).pow(2).dropna()\n",
    "\n",
    "        variance_s = list()\n",
    "        variance_l = list()\n",
    "        for i in range(spot_var.shape[0]):\n",
    "\n",
    "            if len(variance_s) == 0 and len(variance_l) == 0:\n",
    "                variance_s.append(spot_var.iloc[0])\n",
    "                variance_l.append(spot_var.iloc[0])\n",
    "                \n",
    "            else:\n",
    "                variance_s_value = lambda_s * variance_s[-1] + (1 - lambda_s) * spot_var.loc[i]\n",
    "                variance_s.append(variance_s_value)\n",
    "\n",
    "                variance_l_value = lambda_l * variance_l[-1] + (1 - lambda_l) * spot_var.loc[i]\n",
    "                variance_l.append(variance_l_value)\n",
    "\n",
    "    df = spot_var.to_frame('daily_var')\n",
    "    df['variance_s'] = variance_s\n",
    "    df['variance_l'] = variance_l\n",
    "    df['realized_vol_s'] = np.sqrt(df['variance_s']*252)\n",
    "    df['realized_vol_l'] = np.sqrt(df['variance_l']*252)\n",
    "    df['realized_vol'] = df[['realized_vol_s', 'realized_vol_l']].max(axis=1)\n",
    "    df = pd.concat([forward_price, df], axis=1)\n",
    "\n",
    "    # -------\n",
    "    # COMPUTE VOLATILITY TARGET\n",
    "    # -------\n",
    "    df['leverage'] = (target_volatility / df['realized_vol']).clip(upper=max_k)\n",
    "    df['leverage_shifted'] = df['leverage'].shift(lag)\n",
    "    df_ = df.iloc[-250:].copy()\n",
    "    df_['daily_risk_control'] = (df_['forward'].pct_change() * df_['leverage_shifted']).fillna(0).add(1).cumprod()\n",
    "    risk_control_montecarlo[path] = df_['daily_risk_control'].to_dict()\n",
    "    risk_control_montecarlo = pd.DataFrame(risk_control_montecarlo).reset_index(drop=True)\n",
    "\n",
    "    # -------\n",
    "    # COMPUTE OPTION PRICE\n",
    "    # -------\n",
    "    if option_type == 'call':\n",
    "        option_price = (risk_control_montecarlo.iloc[-1]-strike).clip(lower=0).mean()\n",
    "    else:\n",
    "        option_price = (strike-risk_control_montecarlo.iloc[-1]).clip(lower=0).mean()\n",
    "    return option_price * np.exp(-r*T)\n"
   ]
  },
  {
   "cell_type": "code",
   "execution_count": 16,
   "metadata": {},
   "outputs": [],
   "source": [
    "# -------\n",
    "# INPUT\n",
    "# -------\n",
    "\n",
    "# Option contract sepcifications\n",
    "option_type = 'call'\n",
    "strike = 100\n",
    "option_time_to_maturity = 250\n",
    "\n",
    "# Volatility target settings\n",
    "convergence_time = 250\n",
    "lambda_s = 0.94\n",
    "lambda_l = 0.97\n",
    "target_volatility = 0.1\n",
    "max_k = 1.5\n",
    "lag = 2\n",
    "\n",
    "# Model settings\n",
    "alpha = 0.1\n",
    "rho = 0.5\n",
    "nu = 0.5"
   ]
  },
  {
   "cell_type": "code",
   "execution_count": null,
   "metadata": {},
   "outputs": [],
   "source": [
    "# -------\n",
    "# GENERATE ASSET 0 MONTECARLO\n",
    "# -------\n",
    "n_steps = option_time_to_maturity+convergence_time\n",
    "T = n_steps/250\n",
    "forward_process, vol_process = SABRModel.compute_montecarlo(F=1, T=T, alpha=alpha, beta=1, rho=rho, nu=nu, n_steps=n_steps, n_paths=10_000, seed=True)"
   ]
  },
  {
   "cell_type": "code",
   "execution_count": 14,
   "metadata": {},
   "outputs": [],
   "source": [
    "risk_control_montecarlo = dict()\n",
    "for path in forward_process:\n",
    "    \n",
    "    forward_price = forward_process[path]\n",
    "    forward_price.name = 'forward'\n",
    "    spot_var = np.log(forward_price / forward_price.shift()).pow(2).dropna()\n",
    "\n",
    "    variance_s = list()\n",
    "    variance_l = list()\n",
    "    for i in range(spot_var.shape[0]):\n",
    "\n",
    "        if len(variance_s) == 0 and len(variance_l) == 0:\n",
    "            variance_s.append(spot_var.iloc[0])\n",
    "            variance_l.append(spot_var.iloc[0])\n",
    "            \n",
    "        else:\n",
    "            variance_s_value = lambda_s * variance_s[-1] + (1 - lambda_s) * spot_var.loc[i]\n",
    "            variance_s.append(variance_s_value)\n",
    "\n",
    "            variance_l_value = lambda_l * variance_l[-1] + (1 - lambda_l) * spot_var.loc[i]\n",
    "            variance_l.append(variance_l_value)\n",
    "\n",
    "    df = spot_var.to_frame('daily_var')\n",
    "    df['variance_s'] = variance_s\n",
    "    df['variance_l'] = variance_l\n",
    "    df['realized_vol_s'] = np.sqrt(df['variance_s']*252)\n",
    "    df['realized_vol_l'] = np.sqrt(df['variance_l']*252)\n",
    "    df['realized_vol'] = df[['realized_vol_s', 'realized_vol_l']].max(axis=1)\n",
    "    df = pd.concat([forward_price, df], axis=1)\n",
    "    df['leverage'] = (target_volatility / df['realized_vol']).clip(upper=max_k)\n",
    "    df['leverage_shifted'] = df['leverage'].shift(lag)\n",
    "    df_ = df.iloc[-250:].copy()\n",
    "    df_['daily_risk_control'] = (df_['forward'].pct_change() * df_['leverage_shifted']).fillna(0).add(1).cumprod()\n",
    "    risk_control_montecarlo[path] = df_['daily_risk_control'].to_dict()\n",
    "risk_control_montecarlo = pd.DataFrame(risk_control_montecarlo).reset_index(drop=True)"
   ]
  },
  {
   "cell_type": "code",
   "execution_count": 15,
   "metadata": {},
   "outputs": [
    {
     "name": "stdout",
     "output_type": "stream",
     "text": [
      "CALL PRICE: 3.44%\n"
     ]
    }
   ],
   "source": [
    "call_price = (risk_control_montecarlo.iloc[-1]-1).clip(lower=0).mean()\n",
    "print(f'CALL PRICE: {call_price*100:.2F}%')"
   ]
  },
  {
   "cell_type": "raw",
   "metadata": {
    "vscode": {
     "languageId": "raw"
    }
   },
   "source": [
    "PRICE : 2.91 // PARAM 0.05 alpha \n",
    "PRICE : 3.88 price // PARAM : alpha=0.1 \n",
    "PRICE : 3.43 price // PARAM : alpha=0.1, nu=50%\n",
    "PRICE : 3.43 price // PARAM : alpha=0.1, nu=50%, rho=-50%"
   ]
  },
  {
   "cell_type": "markdown",
   "metadata": {},
   "source": []
  }
 ],
 "metadata": {
  "kernelspec": {
   "display_name": "base",
   "language": "python",
   "name": "python3"
  },
  "language_info": {
   "codemirror_mode": {
    "name": "ipython",
    "version": 3
   },
   "file_extension": ".py",
   "mimetype": "text/x-python",
   "name": "python",
   "nbconvert_exporter": "python",
   "pygments_lexer": "ipython3",
   "version": "3.12.4"
  }
 },
 "nbformat": 4,
 "nbformat_minor": 2
}
