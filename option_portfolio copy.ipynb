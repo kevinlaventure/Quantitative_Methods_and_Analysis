{
 "cells": [
  {
   "cell_type": "code",
   "execution_count": 14,
   "metadata": {},
   "outputs": [],
   "source": [
    "# -------\n",
    "# IMPORT LIBRAIRIES\n",
    "# -------\n",
    "import numpy as np\n",
    "import pandas as pd\n",
    "import plotly.express as px\n",
    "from python_module.pricing_model import SABRModel\n",
    "\n",
    "pd.options.display.max_rows = 999\n",
    "pd.options.display.max_columns = 999\n",
    "pd.options.display.float_format = '{:,.2f}'.format"
   ]
  },
  {
   "cell_type": "code",
   "execution_count": 98,
   "metadata": {},
   "outputs": [],
   "source": [
    "# -------\n",
    "# INPUTS\n",
    "# -------\n",
    "\n",
    "# Pricing parameters\n",
    "F     = 5000\n",
    "alpha = 0.25\n",
    "beta  = 1.0\n",
    "rho   = -0.\n",
    "nu    = 1.5\n",
    "r     = 0\n",
    "atm_bd = 20\n",
    "tail_bd = 20\n",
    "\n",
    "# Scenario parameters\n",
    "scenario_min = -0.3\n",
    "scenario_max = 0.3\n",
    "scenario_step = 0.05\n",
    "\n",
    "option_strikes = [-0.25, -0.2 , -0.15, -0.1 , -0.05, 0.05,  0.1 ,  0.15, 0.2 ,  0.25]"
   ]
  },
  {
   "cell_type": "code",
   "execution_count": 99,
   "metadata": {},
   "outputs": [],
   "source": [
    "# Scenario parameters\n",
    "num = int((scenario_max-scenario_min)/0.01 + 1)\n",
    "slide_to_compute = list(np.round(np.linspace(start=scenario_min, stop=scenario_max, num=num), 2))\n",
    "\n",
    "# Option portfolio\n",
    "market_data_list = list()\n",
    "\n",
    "# Option ATM\n",
    "K = F\n",
    "T = atm_bd / 250\n",
    "option_type = 'call' if K >= F else 'put'\n",
    "market_pricing_results = SABRModel.compute_option(F, K, T, alpha, beta, rho, nu, r, option_type, slide_list=slide_to_compute)\n",
    "market_data_list.append({\n",
    "    'symbol': f\"{atm_bd}T_{K}K_{option_type}\",\n",
    "    'option_type': option_type, \n",
    "    'time_to_maturity': atm_bd, \n",
    "    'F':F, 'r': r, 'K': K, 'T': T, 'K/F': (K/F) - 1 ,**market_pricing_results})\n",
    "\n",
    "for strike in option_strikes:\n",
    "    K = F * (1+strike)\n",
    "    T = tail_bd / 250\n",
    "    option_type = 'call' if K >= F else 'put'\n",
    "    market_pricing_results = SABRModel.compute_option(F, K, T, alpha, beta, rho, nu, r, option_type, slide_list=slide_to_compute)\n",
    "    market_data_list.append({\n",
    "        'symbol': f\"{tail_bd}T_{K}K_{option_type}\",\n",
    "        'option_type': option_type, \n",
    "        'time_to_maturity': tail_bd, \n",
    "        'F':F, 'r': r, 'K': K, 'T': T, 'K/F': (K/F) - 1 ,**market_pricing_results})\n",
    "\n",
    "market_data_df = pd.DataFrame(market_data_list)\n",
    "market_data_df = market_data_df.set_index('symbol')"
   ]
  },
  {
   "cell_type": "code",
   "execution_count": 100,
   "metadata": {},
   "outputs": [],
   "source": [
    "# ATM Scenarios\n",
    "atm_market_data = market_data_df.loc[market_data_df['F']==market_data_df['K']]\n",
    "atm_qty = -50000 / atm_market_data['theta']\n",
    "atm_scenario = atm_market_data.loc[:, ['theta'] + slide_to_compute]\n",
    "atm_scenario = atm_scenario.drop(0, axis=1)\n",
    "atm_scenario.rename(columns={'theta': 0}, inplace=True)\n",
    "atm_scenario = atm_scenario.sort_index(axis=1)\n",
    "atm_scenario = atm_scenario.multiply(atm_qty, axis=0)\n",
    "atm_scenario = atm_scenario.iloc[0].transpose()\n",
    "bins = np.arange(scenario_min, scenario_max+scenario_step, scenario_step)  # from -0.30 to +0.30, stepping by 0.05\n",
    "labels = [\"{:.0f}% to {:.0f}%\".format(bins[i]*100, bins[i+1]*100) for i in range(len(bins)-1)]\n",
    "atm_scenario_bucket = atm_scenario.groupby(pd.cut(atm_scenario.index, bins=bins, labels=labels), observed=False).sum().reset_index()\n",
    "atm_scenario_bucket.columns = [\"bucket\", \"sum\"]\n",
    "atm_scenario_bucket = atm_scenario_bucket.set_index('bucket')"
   ]
  },
  {
   "cell_type": "code",
   "execution_count": 101,
   "metadata": {},
   "outputs": [],
   "source": [
    "target_hedge_portfolio_scenario_bucket = atm_scenario_bucket*-1"
   ]
  },
  {
   "cell_type": "code",
   "execution_count": 102,
   "metadata": {},
   "outputs": [],
   "source": [
    "# OTM Scenarios\n",
    "otm_market_data = market_data_df.loc[market_data_df['F']!=market_data_df['K']]\n",
    "otm_scenario = otm_market_data.loc[:, ['theta'] + slide_to_compute]\n",
    "otm_scenario = otm_scenario.drop(0, axis=1)\n",
    "otm_scenario.rename(columns={'theta': 0}, inplace=True)\n",
    "otm_scenario = otm_scenario.sort_index(axis=1)\n",
    "otm_scenario = otm_scenario.transpose()\n",
    "bins = np.arange(scenario_min, scenario_max+scenario_step, scenario_step)  # from -0.30 to +0.30, stepping by 0.05\n",
    "labels = [\"{:.0f}% to {:.0f}%\".format(bins[i]*100, bins[i+1]*100) for i in range(len(bins)-1)]\n",
    "\n",
    "otm_scenario = otm_scenario.copy()  # if you don’t want to modify the original\n",
    "otm_scenario[\"bucket\"] = pd.cut(\n",
    "    otm_scenario.index,\n",
    "    bins=bins,\n",
    "    labels=labels,\n",
    "    include_lowest=True\n",
    ")\n",
    "\n",
    "# 2) group by that column\n",
    "otm_scenario_bucket = (\n",
    "    otm_scenario\n",
    "    .groupby(\"bucket\", as_index=False, observed=False)   # now \"bucket\" really is a column\n",
    "    .sum()\n",
    ")\n",
    "otm_scenario_bucket = otm_scenario_bucket.set_index('bucket')"
   ]
  },
  {
   "cell_type": "code",
   "execution_count": 103,
   "metadata": {},
   "outputs": [
    {
     "data": {
      "text/html": [
       "<div>\n",
       "<style scoped>\n",
       "    .dataframe tbody tr th:only-of-type {\n",
       "        vertical-align: middle;\n",
       "    }\n",
       "\n",
       "    .dataframe tbody tr th {\n",
       "        vertical-align: top;\n",
       "    }\n",
       "\n",
       "    .dataframe thead th {\n",
       "        text-align: right;\n",
       "    }\n",
       "</style>\n",
       "<table border=\"1\" class=\"dataframe\">\n",
       "  <thead>\n",
       "    <tr style=\"text-align: right;\">\n",
       "      <th></th>\n",
       "      <th>sum</th>\n",
       "    </tr>\n",
       "    <tr>\n",
       "      <th>bucket</th>\n",
       "      <th></th>\n",
       "    </tr>\n",
       "  </thead>\n",
       "  <tbody>\n",
       "    <tr>\n",
       "      <th>-30% to -25%</th>\n",
       "      <td>38,530,930.50</td>\n",
       "    </tr>\n",
       "    <tr>\n",
       "      <th>-25% to -20%</th>\n",
       "      <td>29,565,083.04</td>\n",
       "    </tr>\n",
       "    <tr>\n",
       "      <th>-20% to -15%</th>\n",
       "      <td>17,245,401.21</td>\n",
       "    </tr>\n",
       "    <tr>\n",
       "      <th>-15% to -10%</th>\n",
       "      <td>13,796,442.65</td>\n",
       "    </tr>\n",
       "    <tr>\n",
       "      <th>-10% to -5%</th>\n",
       "      <td>6,132,364.81</td>\n",
       "    </tr>\n",
       "    <tr>\n",
       "      <th>-5% to -0%</th>\n",
       "      <td>1,114,089.69</td>\n",
       "    </tr>\n",
       "    <tr>\n",
       "      <th>-0% to 5%</th>\n",
       "      <td>544,054.41</td>\n",
       "    </tr>\n",
       "    <tr>\n",
       "      <th>5% to 10%</th>\n",
       "      <td>4,567,799.01</td>\n",
       "    </tr>\n",
       "    <tr>\n",
       "      <th>10% to 15%</th>\n",
       "      <td>11,281,389.12</td>\n",
       "    </tr>\n",
       "    <tr>\n",
       "      <th>15% to 20%</th>\n",
       "      <td>19,160,011.53</td>\n",
       "    </tr>\n",
       "    <tr>\n",
       "      <th>20% to 25%</th>\n",
       "      <td>27,445,782.51</td>\n",
       "    </tr>\n",
       "    <tr>\n",
       "      <th>25% to 30%</th>\n",
       "      <td>35,864,581.13</td>\n",
       "    </tr>\n",
       "  </tbody>\n",
       "</table>\n",
       "</div>"
      ],
      "text/plain": [
       "                       sum\n",
       "bucket                    \n",
       "-30% to -25% 38,530,930.50\n",
       "-25% to -20% 29,565,083.04\n",
       "-20% to -15% 17,245,401.21\n",
       "-15% to -10% 13,796,442.65\n",
       "-10% to -5%   6,132,364.81\n",
       "-5% to -0%    1,114,089.69\n",
       "-0% to 5%       544,054.41\n",
       "5% to 10%     4,567,799.01\n",
       "10% to 15%   11,281,389.12\n",
       "15% to 20%   19,160,011.53\n",
       "20% to 25%   27,445,782.51\n",
       "25% to 30%   35,864,581.13"
      ]
     },
     "execution_count": 103,
     "metadata": {},
     "output_type": "execute_result"
    }
   ],
   "source": [
    "atm_scenario_bucket"
   ]
  },
  {
   "cell_type": "code",
   "execution_count": 104,
   "metadata": {},
   "outputs": [
    {
     "data": {
      "text/html": [
       "<div>\n",
       "<style scoped>\n",
       "    .dataframe tbody tr th:only-of-type {\n",
       "        vertical-align: middle;\n",
       "    }\n",
       "\n",
       "    .dataframe tbody tr th {\n",
       "        vertical-align: top;\n",
       "    }\n",
       "\n",
       "    .dataframe thead th {\n",
       "        text-align: right;\n",
       "    }\n",
       "</style>\n",
       "<table border=\"1\" class=\"dataframe\">\n",
       "  <thead>\n",
       "    <tr style=\"text-align: right;\">\n",
       "      <th>symbol</th>\n",
       "      <th>20T_3750.0K_put</th>\n",
       "      <th>20T_4000.0K_put</th>\n",
       "      <th>20T_4250.0K_put</th>\n",
       "      <th>20T_4500.0K_put</th>\n",
       "      <th>20T_4750.0K_put</th>\n",
       "      <th>20T_5250.0K_call</th>\n",
       "      <th>20T_5500.0K_call</th>\n",
       "      <th>20T_5750.0K_call</th>\n",
       "      <th>20T_6000.0K_call</th>\n",
       "      <th>20T_6250.0K_call</th>\n",
       "    </tr>\n",
       "    <tr>\n",
       "      <th>bucket</th>\n",
       "      <th></th>\n",
       "      <th></th>\n",
       "      <th></th>\n",
       "      <th></th>\n",
       "      <th></th>\n",
       "      <th></th>\n",
       "      <th></th>\n",
       "      <th></th>\n",
       "      <th></th>\n",
       "      <th></th>\n",
       "    </tr>\n",
       "  </thead>\n",
       "  <tbody>\n",
       "    <tr>\n",
       "      <th>-30% to -25%</th>\n",
       "      <td>1,103.57</td>\n",
       "      <td>2,298.67</td>\n",
       "      <td>3,583.90</td>\n",
       "      <td>4,534.04</td>\n",
       "      <td>4,555.07</td>\n",
       "      <td>1,834.24</td>\n",
       "      <td>790.73</td>\n",
       "      <td>305.11</td>\n",
       "      <td>114.84</td>\n",
       "      <td>44.19</td>\n",
       "    </tr>\n",
       "    <tr>\n",
       "      <th>-25% to -20%</th>\n",
       "      <td>265.70</td>\n",
       "      <td>840.96</td>\n",
       "      <td>1,725.14</td>\n",
       "      <td>2,531.51</td>\n",
       "      <td>2,742.12</td>\n",
       "      <td>1,167.36</td>\n",
       "      <td>507.94</td>\n",
       "      <td>196.97</td>\n",
       "      <td>74.35</td>\n",
       "      <td>28.66</td>\n",
       "    </tr>\n",
       "    <tr>\n",
       "      <th>-20% to -15%</th>\n",
       "      <td>57.25</td>\n",
       "      <td>248.64</td>\n",
       "      <td>696.96</td>\n",
       "      <td>1,256.04</td>\n",
       "      <td>1,516.94</td>\n",
       "      <td>698.52</td>\n",
       "      <td>307.85</td>\n",
       "      <td>120.20</td>\n",
       "      <td>45.55</td>\n",
       "      <td>17.60</td>\n",
       "    </tr>\n",
       "    <tr>\n",
       "      <th>-15% to -10%</th>\n",
       "      <td>17.53</td>\n",
       "      <td>90.57</td>\n",
       "      <td>333.07</td>\n",
       "      <td>776.26</td>\n",
       "      <td>1,109.59</td>\n",
       "      <td>584.15</td>\n",
       "      <td>263.27</td>\n",
       "      <td>104.05</td>\n",
       "      <td>39.72</td>\n",
       "      <td>15.42</td>\n",
       "    </tr>\n",
       "    <tr>\n",
       "      <th>-10% to -5%</th>\n",
       "      <td>2.64</td>\n",
       "      <td>15.49</td>\n",
       "      <td>71.73</td>\n",
       "      <td>224.84</td>\n",
       "      <td>416.69</td>\n",
       "      <td>285.05</td>\n",
       "      <td>135.10</td>\n",
       "      <td>54.95</td>\n",
       "      <td>21.35</td>\n",
       "      <td>8.38</td>\n",
       "    </tr>\n",
       "    <tr>\n",
       "      <th>-5% to -0%</th>\n",
       "      <td>0.04</td>\n",
       "      <td>0.68</td>\n",
       "      <td>4.86</td>\n",
       "      <td>21.99</td>\n",
       "      <td>57.48</td>\n",
       "      <td>62.34</td>\n",
       "      <td>33.17</td>\n",
       "      <td>14.52</td>\n",
       "      <td>5.92</td>\n",
       "      <td>2.41</td>\n",
       "    </tr>\n",
       "    <tr>\n",
       "      <th>-0% to 5%</th>\n",
       "      <td>0.23</td>\n",
       "      <td>1.05</td>\n",
       "      <td>4.19</td>\n",
       "      <td>13.52</td>\n",
       "      <td>30.04</td>\n",
       "      <td>27.48</td>\n",
       "      <td>11.50</td>\n",
       "      <td>3.23</td>\n",
       "      <td>0.57</td>\n",
       "      <td>-0.04</td>\n",
       "    </tr>\n",
       "    <tr>\n",
       "      <th>5% to 10%</th>\n",
       "      <td>1.20</td>\n",
       "      <td>5.53</td>\n",
       "      <td>23.11</td>\n",
       "      <td>80.51</td>\n",
       "      <td>204.34</td>\n",
       "      <td>309.06</td>\n",
       "      <td>184.96</td>\n",
       "      <td>80.90</td>\n",
       "      <td>29.87</td>\n",
       "      <td>10.33</td>\n",
       "    </tr>\n",
       "    <tr>\n",
       "      <th>10% to 15%</th>\n",
       "      <td>2.32</td>\n",
       "      <td>10.87</td>\n",
       "      <td>46.52</td>\n",
       "      <td>168.15</td>\n",
       "      <td>454.15</td>\n",
       "      <td>896.94</td>\n",
       "      <td>656.49</td>\n",
       "      <td>349.41</td>\n",
       "      <td>150.66</td>\n",
       "      <td>58.14</td>\n",
       "    </tr>\n",
       "    <tr>\n",
       "      <th>15% to 20%</th>\n",
       "      <td>3.51</td>\n",
       "      <td>16.51</td>\n",
       "      <td>71.34</td>\n",
       "      <td>262.13</td>\n",
       "      <td>729.50</td>\n",
       "      <td>1,680.04</td>\n",
       "      <td>1,425.89</td>\n",
       "      <td>907.66</td>\n",
       "      <td>462.76</td>\n",
       "      <td>202.07</td>\n",
       "    </tr>\n",
       "    <tr>\n",
       "      <th>20% to 25%</th>\n",
       "      <td>4.71</td>\n",
       "      <td>22.24</td>\n",
       "      <td>96.58</td>\n",
       "      <td>357.99</td>\n",
       "      <td>1,012.71</td>\n",
       "      <td>2,551.07</td>\n",
       "      <td>2,389.27</td>\n",
       "      <td>1,753.13</td>\n",
       "      <td>1,055.03</td>\n",
       "      <td>536.43</td>\n",
       "    </tr>\n",
       "    <tr>\n",
       "      <th>25% to 30%</th>\n",
       "      <td>5.92</td>\n",
       "      <td>28.00</td>\n",
       "      <td>121.96</td>\n",
       "      <td>454.45</td>\n",
       "      <td>1,298.38</td>\n",
       "      <td>3,454.80</td>\n",
       "      <td>3,444.68</td>\n",
       "      <td>2,790.98</td>\n",
       "      <td>1,924.54</td>\n",
       "      <td>1,141.92</td>\n",
       "    </tr>\n",
       "  </tbody>\n",
       "</table>\n",
       "</div>"
      ],
      "text/plain": [
       "symbol        20T_3750.0K_put  20T_4000.0K_put  20T_4250.0K_put  \\\n",
       "bucket                                                            \n",
       "-30% to -25%         1,103.57         2,298.67         3,583.90   \n",
       "-25% to -20%           265.70           840.96         1,725.14   \n",
       "-20% to -15%            57.25           248.64           696.96   \n",
       "-15% to -10%            17.53            90.57           333.07   \n",
       "-10% to -5%              2.64            15.49            71.73   \n",
       "-5% to -0%               0.04             0.68             4.86   \n",
       "-0% to 5%                0.23             1.05             4.19   \n",
       "5% to 10%                1.20             5.53            23.11   \n",
       "10% to 15%               2.32            10.87            46.52   \n",
       "15% to 20%               3.51            16.51            71.34   \n",
       "20% to 25%               4.71            22.24            96.58   \n",
       "25% to 30%               5.92            28.00           121.96   \n",
       "\n",
       "symbol        20T_4500.0K_put  20T_4750.0K_put  20T_5250.0K_call  \\\n",
       "bucket                                                             \n",
       "-30% to -25%         4,534.04         4,555.07          1,834.24   \n",
       "-25% to -20%         2,531.51         2,742.12          1,167.36   \n",
       "-20% to -15%         1,256.04         1,516.94            698.52   \n",
       "-15% to -10%           776.26         1,109.59            584.15   \n",
       "-10% to -5%            224.84           416.69            285.05   \n",
       "-5% to -0%              21.99            57.48             62.34   \n",
       "-0% to 5%               13.52            30.04             27.48   \n",
       "5% to 10%               80.51           204.34            309.06   \n",
       "10% to 15%             168.15           454.15            896.94   \n",
       "15% to 20%             262.13           729.50          1,680.04   \n",
       "20% to 25%             357.99         1,012.71          2,551.07   \n",
       "25% to 30%             454.45         1,298.38          3,454.80   \n",
       "\n",
       "symbol        20T_5500.0K_call  20T_5750.0K_call  20T_6000.0K_call  \\\n",
       "bucket                                                               \n",
       "-30% to -25%            790.73            305.11            114.84   \n",
       "-25% to -20%            507.94            196.97             74.35   \n",
       "-20% to -15%            307.85            120.20             45.55   \n",
       "-15% to -10%            263.27            104.05             39.72   \n",
       "-10% to -5%             135.10             54.95             21.35   \n",
       "-5% to -0%               33.17             14.52              5.92   \n",
       "-0% to 5%                11.50              3.23              0.57   \n",
       "5% to 10%               184.96             80.90             29.87   \n",
       "10% to 15%              656.49            349.41            150.66   \n",
       "15% to 20%            1,425.89            907.66            462.76   \n",
       "20% to 25%            2,389.27          1,753.13          1,055.03   \n",
       "25% to 30%            3,444.68          2,790.98          1,924.54   \n",
       "\n",
       "symbol        20T_6250.0K_call  \n",
       "bucket                          \n",
       "-30% to -25%             44.19  \n",
       "-25% to -20%             28.66  \n",
       "-20% to -15%             17.60  \n",
       "-15% to -10%             15.42  \n",
       "-10% to -5%               8.38  \n",
       "-5% to -0%                2.41  \n",
       "-0% to 5%                -0.04  \n",
       "5% to 10%                10.33  \n",
       "10% to 15%               58.14  \n",
       "15% to 20%              202.07  \n",
       "20% to 25%              536.43  \n",
       "25% to 30%            1,141.92  "
      ]
     },
     "execution_count": 104,
     "metadata": {},
     "output_type": "execute_result"
    }
   ],
   "source": [
    "otm_scenario_bucket"
   ]
  },
  {
   "cell_type": "code",
   "execution_count": 105,
   "metadata": {},
   "outputs": [
    {
     "data": {
      "text/html": [
       "<div>\n",
       "<style scoped>\n",
       "    .dataframe tbody tr th:only-of-type {\n",
       "        vertical-align: middle;\n",
       "    }\n",
       "\n",
       "    .dataframe tbody tr th {\n",
       "        vertical-align: top;\n",
       "    }\n",
       "\n",
       "    .dataframe thead th {\n",
       "        text-align: right;\n",
       "    }\n",
       "</style>\n",
       "<table border=\"1\" class=\"dataframe\">\n",
       "  <thead>\n",
       "    <tr style=\"text-align: right;\">\n",
       "      <th>symbol</th>\n",
       "      <th>20T_3750.0K_put</th>\n",
       "      <th>20T_4000.0K_put</th>\n",
       "      <th>20T_4250.0K_put</th>\n",
       "      <th>20T_4500.0K_put</th>\n",
       "      <th>20T_4750.0K_put</th>\n",
       "      <th>20T_5250.0K_call</th>\n",
       "      <th>20T_5500.0K_call</th>\n",
       "      <th>20T_5750.0K_call</th>\n",
       "      <th>20T_6000.0K_call</th>\n",
       "      <th>20T_6250.0K_call</th>\n",
       "    </tr>\n",
       "    <tr>\n",
       "      <th>bucket</th>\n",
       "      <th></th>\n",
       "      <th></th>\n",
       "      <th></th>\n",
       "      <th></th>\n",
       "      <th></th>\n",
       "      <th></th>\n",
       "      <th></th>\n",
       "      <th></th>\n",
       "      <th></th>\n",
       "      <th></th>\n",
       "    </tr>\n",
       "  </thead>\n",
       "  <tbody>\n",
       "    <tr>\n",
       "      <th>-30% to -25%</th>\n",
       "      <td>1,103.57</td>\n",
       "      <td>2,298.67</td>\n",
       "      <td>3,583.90</td>\n",
       "      <td>4,534.04</td>\n",
       "      <td>4,555.07</td>\n",
       "      <td>1,834.24</td>\n",
       "      <td>790.73</td>\n",
       "      <td>305.11</td>\n",
       "      <td>114.84</td>\n",
       "      <td>44.19</td>\n",
       "    </tr>\n",
       "    <tr>\n",
       "      <th>-25% to -20%</th>\n",
       "      <td>265.70</td>\n",
       "      <td>840.96</td>\n",
       "      <td>1,725.14</td>\n",
       "      <td>2,531.51</td>\n",
       "      <td>2,742.12</td>\n",
       "      <td>1,167.36</td>\n",
       "      <td>507.94</td>\n",
       "      <td>196.97</td>\n",
       "      <td>74.35</td>\n",
       "      <td>28.66</td>\n",
       "    </tr>\n",
       "    <tr>\n",
       "      <th>-20% to -15%</th>\n",
       "      <td>57.25</td>\n",
       "      <td>248.64</td>\n",
       "      <td>696.96</td>\n",
       "      <td>1,256.04</td>\n",
       "      <td>1,516.94</td>\n",
       "      <td>698.52</td>\n",
       "      <td>307.85</td>\n",
       "      <td>120.20</td>\n",
       "      <td>45.55</td>\n",
       "      <td>17.60</td>\n",
       "    </tr>\n",
       "    <tr>\n",
       "      <th>-15% to -10%</th>\n",
       "      <td>17.53</td>\n",
       "      <td>90.57</td>\n",
       "      <td>333.07</td>\n",
       "      <td>776.26</td>\n",
       "      <td>1,109.59</td>\n",
       "      <td>584.15</td>\n",
       "      <td>263.27</td>\n",
       "      <td>104.05</td>\n",
       "      <td>39.72</td>\n",
       "      <td>15.42</td>\n",
       "    </tr>\n",
       "    <tr>\n",
       "      <th>-10% to -5%</th>\n",
       "      <td>2.64</td>\n",
       "      <td>15.49</td>\n",
       "      <td>71.73</td>\n",
       "      <td>224.84</td>\n",
       "      <td>416.69</td>\n",
       "      <td>285.05</td>\n",
       "      <td>135.10</td>\n",
       "      <td>54.95</td>\n",
       "      <td>21.35</td>\n",
       "      <td>8.38</td>\n",
       "    </tr>\n",
       "    <tr>\n",
       "      <th>5% to 10%</th>\n",
       "      <td>1.20</td>\n",
       "      <td>5.53</td>\n",
       "      <td>23.11</td>\n",
       "      <td>80.51</td>\n",
       "      <td>204.34</td>\n",
       "      <td>309.06</td>\n",
       "      <td>184.96</td>\n",
       "      <td>80.90</td>\n",
       "      <td>29.87</td>\n",
       "      <td>10.33</td>\n",
       "    </tr>\n",
       "    <tr>\n",
       "      <th>10% to 15%</th>\n",
       "      <td>2.32</td>\n",
       "      <td>10.87</td>\n",
       "      <td>46.52</td>\n",
       "      <td>168.15</td>\n",
       "      <td>454.15</td>\n",
       "      <td>896.94</td>\n",
       "      <td>656.49</td>\n",
       "      <td>349.41</td>\n",
       "      <td>150.66</td>\n",
       "      <td>58.14</td>\n",
       "    </tr>\n",
       "    <tr>\n",
       "      <th>15% to 20%</th>\n",
       "      <td>3.51</td>\n",
       "      <td>16.51</td>\n",
       "      <td>71.34</td>\n",
       "      <td>262.13</td>\n",
       "      <td>729.50</td>\n",
       "      <td>1,680.04</td>\n",
       "      <td>1,425.89</td>\n",
       "      <td>907.66</td>\n",
       "      <td>462.76</td>\n",
       "      <td>202.07</td>\n",
       "    </tr>\n",
       "    <tr>\n",
       "      <th>20% to 25%</th>\n",
       "      <td>4.71</td>\n",
       "      <td>22.24</td>\n",
       "      <td>96.58</td>\n",
       "      <td>357.99</td>\n",
       "      <td>1,012.71</td>\n",
       "      <td>2,551.07</td>\n",
       "      <td>2,389.27</td>\n",
       "      <td>1,753.13</td>\n",
       "      <td>1,055.03</td>\n",
       "      <td>536.43</td>\n",
       "    </tr>\n",
       "    <tr>\n",
       "      <th>25% to 30%</th>\n",
       "      <td>5.92</td>\n",
       "      <td>28.00</td>\n",
       "      <td>121.96</td>\n",
       "      <td>454.45</td>\n",
       "      <td>1,298.38</td>\n",
       "      <td>3,454.80</td>\n",
       "      <td>3,444.68</td>\n",
       "      <td>2,790.98</td>\n",
       "      <td>1,924.54</td>\n",
       "      <td>1,141.92</td>\n",
       "    </tr>\n",
       "  </tbody>\n",
       "</table>\n",
       "</div>"
      ],
      "text/plain": [
       "symbol        20T_3750.0K_put  20T_4000.0K_put  20T_4250.0K_put  \\\n",
       "bucket                                                            \n",
       "-30% to -25%         1,103.57         2,298.67         3,583.90   \n",
       "-25% to -20%           265.70           840.96         1,725.14   \n",
       "-20% to -15%            57.25           248.64           696.96   \n",
       "-15% to -10%            17.53            90.57           333.07   \n",
       "-10% to -5%              2.64            15.49            71.73   \n",
       "5% to 10%                1.20             5.53            23.11   \n",
       "10% to 15%               2.32            10.87            46.52   \n",
       "15% to 20%               3.51            16.51            71.34   \n",
       "20% to 25%               4.71            22.24            96.58   \n",
       "25% to 30%               5.92            28.00           121.96   \n",
       "\n",
       "symbol        20T_4500.0K_put  20T_4750.0K_put  20T_5250.0K_call  \\\n",
       "bucket                                                             \n",
       "-30% to -25%         4,534.04         4,555.07          1,834.24   \n",
       "-25% to -20%         2,531.51         2,742.12          1,167.36   \n",
       "-20% to -15%         1,256.04         1,516.94            698.52   \n",
       "-15% to -10%           776.26         1,109.59            584.15   \n",
       "-10% to -5%            224.84           416.69            285.05   \n",
       "5% to 10%               80.51           204.34            309.06   \n",
       "10% to 15%             168.15           454.15            896.94   \n",
       "15% to 20%             262.13           729.50          1,680.04   \n",
       "20% to 25%             357.99         1,012.71          2,551.07   \n",
       "25% to 30%             454.45         1,298.38          3,454.80   \n",
       "\n",
       "symbol        20T_5500.0K_call  20T_5750.0K_call  20T_6000.0K_call  \\\n",
       "bucket                                                               \n",
       "-30% to -25%            790.73            305.11            114.84   \n",
       "-25% to -20%            507.94            196.97             74.35   \n",
       "-20% to -15%            307.85            120.20             45.55   \n",
       "-15% to -10%            263.27            104.05             39.72   \n",
       "-10% to -5%             135.10             54.95             21.35   \n",
       "5% to 10%               184.96             80.90             29.87   \n",
       "10% to 15%              656.49            349.41            150.66   \n",
       "15% to 20%            1,425.89            907.66            462.76   \n",
       "20% to 25%            2,389.27          1,753.13          1,055.03   \n",
       "25% to 30%            3,444.68          2,790.98          1,924.54   \n",
       "\n",
       "symbol        20T_6250.0K_call  \n",
       "bucket                          \n",
       "-30% to -25%             44.19  \n",
       "-25% to -20%             28.66  \n",
       "-20% to -15%             17.60  \n",
       "-15% to -10%             15.42  \n",
       "-10% to -5%               8.38  \n",
       "5% to 10%                10.33  \n",
       "10% to 15%               58.14  \n",
       "15% to 20%              202.07  \n",
       "20% to 25%              536.43  \n",
       "25% to 30%            1,141.92  "
      ]
     },
     "execution_count": 105,
     "metadata": {},
     "output_type": "execute_result"
    }
   ],
   "source": [
    "otm_scenario_bucket.drop(['-5% to -0%', '-0% to 5%'])"
   ]
  },
  {
   "cell_type": "code",
   "execution_count": 107,
   "metadata": {},
   "outputs": [],
   "source": [
    "X = otm_scenario_bucket.drop(['-5% to -0%', '-0% to 5%']).values\n",
    "b = target_hedge_portfolio_scenario_bucket.drop(['-5% to -0%', '-0% to 5%']).values\n",
    "\n",
    "w = np.linalg.solve(X, b)\n",
    "\n"
   ]
  },
  {
   "cell_type": "code",
   "execution_count": 108,
   "metadata": {},
   "outputs": [
    {
     "data": {
      "text/plain": [
       "array([[ 42906.51950287],\n",
       "       [-30544.63868064],\n",
       "       [ 11752.93932749],\n",
       "       [   261.59635231],\n",
       "       [ -8000.48422917],\n",
       "       [-19582.33524585],\n",
       "       [ 24547.02645314],\n",
       "       [-26532.77443382],\n",
       "       [ 21829.21821981],\n",
       "       [ -9887.21647222]])"
      ]
     },
     "execution_count": 108,
     "metadata": {},
     "output_type": "execute_result"
    }
   ],
   "source": [
    "w"
   ]
  },
  {
   "cell_type": "code",
   "execution_count": null,
   "metadata": {},
   "outputs": [],
   "source": [
    "\n",
    "weights = pd.Series(w, index=otm_market_data.index)\n",
    "\n",
    "print(weights)"
   ]
  },
  {
   "cell_type": "code",
   "execution_count": null,
   "metadata": {},
   "outputs": [],
   "source": []
  },
  {
   "cell_type": "code",
   "execution_count": 114,
   "metadata": {},
   "outputs": [],
   "source": [
    "otm_scenario = otm_market_data.loc[:, ['theta'] + slide_to_compute]\n",
    "otm_scenario = otm_scenario.drop(0, axis=1)\n",
    "otm_scenario.rename(columns={'theta': 0}, inplace=True)\n",
    "otm_scenario = otm_scenario.sort_index(axis=1)\n",
    "otm_scenario = otm_scenario.multiply(weights, axis=0)"
   ]
  },
  {
   "cell_type": "code",
   "execution_count": 115,
   "metadata": {},
   "outputs": [],
   "source": [
    "total_scenario = atm_scenario.sum() + otm_scenario.sum()"
   ]
  },
  {
   "cell_type": "code",
   "execution_count": 116,
   "metadata": {},
   "outputs": [
    {
     "data": {
      "application/vnd.plotly.v1+json": {
       "config": {
        "plotlyServerURL": "https://plot.ly"
       },
       "data": [
        {
         "hovertemplate": "variable=0<br>index=%{x}<br>value=%{y}<extra></extra>",
         "legendgroup": "0",
         "line": {
          "color": "#636efa",
          "dash": "solid"
         },
         "marker": {
          "symbol": "circle"
         },
         "mode": "lines",
         "name": "0",
         "orientation": "v",
         "showlegend": true,
         "type": "scatter",
         "x": [
          -0.3,
          -0.29,
          -0.28,
          -0.27,
          -0.26,
          -0.25,
          -0.24,
          -0.23,
          -0.22,
          -0.21,
          -0.2,
          -0.19,
          -0.18,
          -0.17,
          -0.16,
          -0.15,
          -0.14,
          -0.13,
          -0.12,
          -0.11,
          -0.1,
          -0.09,
          -0.08,
          -0.07,
          -0.06,
          -0.05,
          -0.04,
          -0.03,
          -0.02,
          -0.01,
          0,
          0.01,
          0.02,
          0.03,
          0.04,
          0.05,
          0.06,
          0.07,
          0.08,
          0.09,
          0.1,
          0.11,
          0.12,
          0.13,
          0.14,
          0.15,
          0.16,
          0.17,
          0.18,
          0.19,
          0.2,
          0.21,
          0.22,
          0.23,
          0.24,
          0.25,
          0.26,
          0.27,
          0.28,
          0.29,
          0.3
         ],
         "xaxis": "x",
         "y": [
          -3.725290298461914e-9,
          17651162.385478564,
          26762220.674382437,
          29323448.907136872,
          27577269.818046633,
          23412971.028193027,
          18167468.83347872,
          12714709.500337666,
          7632781.001872167,
          3314971.3014388755,
          -1.862645149230957e-9,
          -2235723.5811541397,
          -3470489.29483818,
          -3892441.875898638,
          -3733792.921525763,
          -3214459.551710988,
          -2512862.6904452643,
          -1761528.1600326574,
          -1054516.790094059,
          -455190.69303592946,
          2.3283064365386963e-10,
          299918.1806930979,
          455694.98282469355,
          494489.44911307836,
          451210.56484194484,
          360805.7334495669,
          253116.92269908494,
          150735.09442634927,
          69054.0299530909,
          17354.031034704207,
          -39417.74283033983,
          17274.748410666598,
          65717.37310450415,
          138052.7548157256,
          222944.31591875525,
          304928.5661987193,
          364974.73153839476,
          382071.5340723691,
          336001.5458023248,
          211051.86901944084,
          0,
          -292469.01769781904,
          -647608.5281007271,
          -1032057.1297256742,
          -1398934.584333063,
          -1690604.364151266,
          -1843281.8307718025,
          -1793736.0199737633,
          -1488048.2122757253,
          -891753.2553022811,
          -9.313225746154785e-10,
          1153986.2758587375,
          2493691.6090154406,
          3898376.7595902765,
          5206897.214001254,
          6226414.233595694,
          6745872.361775029,
          6553617.742386428,
          5457582.790237454,
          3305276.5044573937,
          -7.450580596923828e-9
         ],
         "yaxis": "y"
        }
       ],
       "layout": {
        "legend": {
         "title": {
          "text": "variable"
         },
         "tracegroupgap": 0
        },
        "margin": {
         "t": 60
        },
        "template": {
         "data": {
          "bar": [
           {
            "error_x": {
             "color": "#2a3f5f"
            },
            "error_y": {
             "color": "#2a3f5f"
            },
            "marker": {
             "line": {
              "color": "#E5ECF6",
              "width": 0.5
             },
             "pattern": {
              "fillmode": "overlay",
              "size": 10,
              "solidity": 0.2
             }
            },
            "type": "bar"
           }
          ],
          "barpolar": [
           {
            "marker": {
             "line": {
              "color": "#E5ECF6",
              "width": 0.5
             },
             "pattern": {
              "fillmode": "overlay",
              "size": 10,
              "solidity": 0.2
             }
            },
            "type": "barpolar"
           }
          ],
          "carpet": [
           {
            "aaxis": {
             "endlinecolor": "#2a3f5f",
             "gridcolor": "white",
             "linecolor": "white",
             "minorgridcolor": "white",
             "startlinecolor": "#2a3f5f"
            },
            "baxis": {
             "endlinecolor": "#2a3f5f",
             "gridcolor": "white",
             "linecolor": "white",
             "minorgridcolor": "white",
             "startlinecolor": "#2a3f5f"
            },
            "type": "carpet"
           }
          ],
          "choropleth": [
           {
            "colorbar": {
             "outlinewidth": 0,
             "ticks": ""
            },
            "type": "choropleth"
           }
          ],
          "contour": [
           {
            "colorbar": {
             "outlinewidth": 0,
             "ticks": ""
            },
            "colorscale": [
             [
              0,
              "#0d0887"
             ],
             [
              0.1111111111111111,
              "#46039f"
             ],
             [
              0.2222222222222222,
              "#7201a8"
             ],
             [
              0.3333333333333333,
              "#9c179e"
             ],
             [
              0.4444444444444444,
              "#bd3786"
             ],
             [
              0.5555555555555556,
              "#d8576b"
             ],
             [
              0.6666666666666666,
              "#ed7953"
             ],
             [
              0.7777777777777778,
              "#fb9f3a"
             ],
             [
              0.8888888888888888,
              "#fdca26"
             ],
             [
              1,
              "#f0f921"
             ]
            ],
            "type": "contour"
           }
          ],
          "contourcarpet": [
           {
            "colorbar": {
             "outlinewidth": 0,
             "ticks": ""
            },
            "type": "contourcarpet"
           }
          ],
          "heatmap": [
           {
            "colorbar": {
             "outlinewidth": 0,
             "ticks": ""
            },
            "colorscale": [
             [
              0,
              "#0d0887"
             ],
             [
              0.1111111111111111,
              "#46039f"
             ],
             [
              0.2222222222222222,
              "#7201a8"
             ],
             [
              0.3333333333333333,
              "#9c179e"
             ],
             [
              0.4444444444444444,
              "#bd3786"
             ],
             [
              0.5555555555555556,
              "#d8576b"
             ],
             [
              0.6666666666666666,
              "#ed7953"
             ],
             [
              0.7777777777777778,
              "#fb9f3a"
             ],
             [
              0.8888888888888888,
              "#fdca26"
             ],
             [
              1,
              "#f0f921"
             ]
            ],
            "type": "heatmap"
           }
          ],
          "heatmapgl": [
           {
            "colorbar": {
             "outlinewidth": 0,
             "ticks": ""
            },
            "colorscale": [
             [
              0,
              "#0d0887"
             ],
             [
              0.1111111111111111,
              "#46039f"
             ],
             [
              0.2222222222222222,
              "#7201a8"
             ],
             [
              0.3333333333333333,
              "#9c179e"
             ],
             [
              0.4444444444444444,
              "#bd3786"
             ],
             [
              0.5555555555555556,
              "#d8576b"
             ],
             [
              0.6666666666666666,
              "#ed7953"
             ],
             [
              0.7777777777777778,
              "#fb9f3a"
             ],
             [
              0.8888888888888888,
              "#fdca26"
             ],
             [
              1,
              "#f0f921"
             ]
            ],
            "type": "heatmapgl"
           }
          ],
          "histogram": [
           {
            "marker": {
             "pattern": {
              "fillmode": "overlay",
              "size": 10,
              "solidity": 0.2
             }
            },
            "type": "histogram"
           }
          ],
          "histogram2d": [
           {
            "colorbar": {
             "outlinewidth": 0,
             "ticks": ""
            },
            "colorscale": [
             [
              0,
              "#0d0887"
             ],
             [
              0.1111111111111111,
              "#46039f"
             ],
             [
              0.2222222222222222,
              "#7201a8"
             ],
             [
              0.3333333333333333,
              "#9c179e"
             ],
             [
              0.4444444444444444,
              "#bd3786"
             ],
             [
              0.5555555555555556,
              "#d8576b"
             ],
             [
              0.6666666666666666,
              "#ed7953"
             ],
             [
              0.7777777777777778,
              "#fb9f3a"
             ],
             [
              0.8888888888888888,
              "#fdca26"
             ],
             [
              1,
              "#f0f921"
             ]
            ],
            "type": "histogram2d"
           }
          ],
          "histogram2dcontour": [
           {
            "colorbar": {
             "outlinewidth": 0,
             "ticks": ""
            },
            "colorscale": [
             [
              0,
              "#0d0887"
             ],
             [
              0.1111111111111111,
              "#46039f"
             ],
             [
              0.2222222222222222,
              "#7201a8"
             ],
             [
              0.3333333333333333,
              "#9c179e"
             ],
             [
              0.4444444444444444,
              "#bd3786"
             ],
             [
              0.5555555555555556,
              "#d8576b"
             ],
             [
              0.6666666666666666,
              "#ed7953"
             ],
             [
              0.7777777777777778,
              "#fb9f3a"
             ],
             [
              0.8888888888888888,
              "#fdca26"
             ],
             [
              1,
              "#f0f921"
             ]
            ],
            "type": "histogram2dcontour"
           }
          ],
          "mesh3d": [
           {
            "colorbar": {
             "outlinewidth": 0,
             "ticks": ""
            },
            "type": "mesh3d"
           }
          ],
          "parcoords": [
           {
            "line": {
             "colorbar": {
              "outlinewidth": 0,
              "ticks": ""
             }
            },
            "type": "parcoords"
           }
          ],
          "pie": [
           {
            "automargin": true,
            "type": "pie"
           }
          ],
          "scatter": [
           {
            "fillpattern": {
             "fillmode": "overlay",
             "size": 10,
             "solidity": 0.2
            },
            "type": "scatter"
           }
          ],
          "scatter3d": [
           {
            "line": {
             "colorbar": {
              "outlinewidth": 0,
              "ticks": ""
             }
            },
            "marker": {
             "colorbar": {
              "outlinewidth": 0,
              "ticks": ""
             }
            },
            "type": "scatter3d"
           }
          ],
          "scattercarpet": [
           {
            "marker": {
             "colorbar": {
              "outlinewidth": 0,
              "ticks": ""
             }
            },
            "type": "scattercarpet"
           }
          ],
          "scattergeo": [
           {
            "marker": {
             "colorbar": {
              "outlinewidth": 0,
              "ticks": ""
             }
            },
            "type": "scattergeo"
           }
          ],
          "scattergl": [
           {
            "marker": {
             "colorbar": {
              "outlinewidth": 0,
              "ticks": ""
             }
            },
            "type": "scattergl"
           }
          ],
          "scattermapbox": [
           {
            "marker": {
             "colorbar": {
              "outlinewidth": 0,
              "ticks": ""
             }
            },
            "type": "scattermapbox"
           }
          ],
          "scatterpolar": [
           {
            "marker": {
             "colorbar": {
              "outlinewidth": 0,
              "ticks": ""
             }
            },
            "type": "scatterpolar"
           }
          ],
          "scatterpolargl": [
           {
            "marker": {
             "colorbar": {
              "outlinewidth": 0,
              "ticks": ""
             }
            },
            "type": "scatterpolargl"
           }
          ],
          "scatterternary": [
           {
            "marker": {
             "colorbar": {
              "outlinewidth": 0,
              "ticks": ""
             }
            },
            "type": "scatterternary"
           }
          ],
          "surface": [
           {
            "colorbar": {
             "outlinewidth": 0,
             "ticks": ""
            },
            "colorscale": [
             [
              0,
              "#0d0887"
             ],
             [
              0.1111111111111111,
              "#46039f"
             ],
             [
              0.2222222222222222,
              "#7201a8"
             ],
             [
              0.3333333333333333,
              "#9c179e"
             ],
             [
              0.4444444444444444,
              "#bd3786"
             ],
             [
              0.5555555555555556,
              "#d8576b"
             ],
             [
              0.6666666666666666,
              "#ed7953"
             ],
             [
              0.7777777777777778,
              "#fb9f3a"
             ],
             [
              0.8888888888888888,
              "#fdca26"
             ],
             [
              1,
              "#f0f921"
             ]
            ],
            "type": "surface"
           }
          ],
          "table": [
           {
            "cells": {
             "fill": {
              "color": "#EBF0F8"
             },
             "line": {
              "color": "white"
             }
            },
            "header": {
             "fill": {
              "color": "#C8D4E3"
             },
             "line": {
              "color": "white"
             }
            },
            "type": "table"
           }
          ]
         },
         "layout": {
          "annotationdefaults": {
           "arrowcolor": "#2a3f5f",
           "arrowhead": 0,
           "arrowwidth": 1
          },
          "autotypenumbers": "strict",
          "coloraxis": {
           "colorbar": {
            "outlinewidth": 0,
            "ticks": ""
           }
          },
          "colorscale": {
           "diverging": [
            [
             0,
             "#8e0152"
            ],
            [
             0.1,
             "#c51b7d"
            ],
            [
             0.2,
             "#de77ae"
            ],
            [
             0.3,
             "#f1b6da"
            ],
            [
             0.4,
             "#fde0ef"
            ],
            [
             0.5,
             "#f7f7f7"
            ],
            [
             0.6,
             "#e6f5d0"
            ],
            [
             0.7,
             "#b8e186"
            ],
            [
             0.8,
             "#7fbc41"
            ],
            [
             0.9,
             "#4d9221"
            ],
            [
             1,
             "#276419"
            ]
           ],
           "sequential": [
            [
             0,
             "#0d0887"
            ],
            [
             0.1111111111111111,
             "#46039f"
            ],
            [
             0.2222222222222222,
             "#7201a8"
            ],
            [
             0.3333333333333333,
             "#9c179e"
            ],
            [
             0.4444444444444444,
             "#bd3786"
            ],
            [
             0.5555555555555556,
             "#d8576b"
            ],
            [
             0.6666666666666666,
             "#ed7953"
            ],
            [
             0.7777777777777778,
             "#fb9f3a"
            ],
            [
             0.8888888888888888,
             "#fdca26"
            ],
            [
             1,
             "#f0f921"
            ]
           ],
           "sequentialminus": [
            [
             0,
             "#0d0887"
            ],
            [
             0.1111111111111111,
             "#46039f"
            ],
            [
             0.2222222222222222,
             "#7201a8"
            ],
            [
             0.3333333333333333,
             "#9c179e"
            ],
            [
             0.4444444444444444,
             "#bd3786"
            ],
            [
             0.5555555555555556,
             "#d8576b"
            ],
            [
             0.6666666666666666,
             "#ed7953"
            ],
            [
             0.7777777777777778,
             "#fb9f3a"
            ],
            [
             0.8888888888888888,
             "#fdca26"
            ],
            [
             1,
             "#f0f921"
            ]
           ]
          },
          "colorway": [
           "#636efa",
           "#EF553B",
           "#00cc96",
           "#ab63fa",
           "#FFA15A",
           "#19d3f3",
           "#FF6692",
           "#B6E880",
           "#FF97FF",
           "#FECB52"
          ],
          "font": {
           "color": "#2a3f5f"
          },
          "geo": {
           "bgcolor": "white",
           "lakecolor": "white",
           "landcolor": "#E5ECF6",
           "showlakes": true,
           "showland": true,
           "subunitcolor": "white"
          },
          "hoverlabel": {
           "align": "left"
          },
          "hovermode": "closest",
          "mapbox": {
           "style": "light"
          },
          "paper_bgcolor": "white",
          "plot_bgcolor": "#E5ECF6",
          "polar": {
           "angularaxis": {
            "gridcolor": "white",
            "linecolor": "white",
            "ticks": ""
           },
           "bgcolor": "#E5ECF6",
           "radialaxis": {
            "gridcolor": "white",
            "linecolor": "white",
            "ticks": ""
           }
          },
          "scene": {
           "xaxis": {
            "backgroundcolor": "#E5ECF6",
            "gridcolor": "white",
            "gridwidth": 2,
            "linecolor": "white",
            "showbackground": true,
            "ticks": "",
            "zerolinecolor": "white"
           },
           "yaxis": {
            "backgroundcolor": "#E5ECF6",
            "gridcolor": "white",
            "gridwidth": 2,
            "linecolor": "white",
            "showbackground": true,
            "ticks": "",
            "zerolinecolor": "white"
           },
           "zaxis": {
            "backgroundcolor": "#E5ECF6",
            "gridcolor": "white",
            "gridwidth": 2,
            "linecolor": "white",
            "showbackground": true,
            "ticks": "",
            "zerolinecolor": "white"
           }
          },
          "shapedefaults": {
           "line": {
            "color": "#2a3f5f"
           }
          },
          "ternary": {
           "aaxis": {
            "gridcolor": "white",
            "linecolor": "white",
            "ticks": ""
           },
           "baxis": {
            "gridcolor": "white",
            "linecolor": "white",
            "ticks": ""
           },
           "bgcolor": "#E5ECF6",
           "caxis": {
            "gridcolor": "white",
            "linecolor": "white",
            "ticks": ""
           }
          },
          "title": {
           "x": 0.05
          },
          "xaxis": {
           "automargin": true,
           "gridcolor": "white",
           "linecolor": "white",
           "ticks": "",
           "title": {
            "standoff": 15
           },
           "zerolinecolor": "white",
           "zerolinewidth": 2
          },
          "yaxis": {
           "automargin": true,
           "gridcolor": "white",
           "linecolor": "white",
           "ticks": "",
           "title": {
            "standoff": 15
           },
           "zerolinecolor": "white",
           "zerolinewidth": 2
          }
         }
        },
        "xaxis": {
         "anchor": "y",
         "domain": [
          0,
          1
         ],
         "title": {
          "text": "index"
         }
        },
        "yaxis": {
         "anchor": "x",
         "domain": [
          0,
          1
         ],
         "title": {
          "text": "value"
         }
        }
       }
      }
     },
     "metadata": {},
     "output_type": "display_data"
    }
   ],
   "source": [
    "px.line(total_scenario)"
   ]
  },
  {
   "cell_type": "code",
   "execution_count": null,
   "metadata": {},
   "outputs": [],
   "source": []
  }
 ],
 "metadata": {
  "kernelspec": {
   "display_name": "base",
   "language": "python",
   "name": "python3"
  },
  "language_info": {
   "codemirror_mode": {
    "name": "ipython",
    "version": 3
   },
   "file_extension": ".py",
   "mimetype": "text/x-python",
   "name": "python",
   "nbconvert_exporter": "python",
   "pygments_lexer": "ipython3",
   "version": "3.12.4"
  }
 },
 "nbformat": 4,
 "nbformat_minor": 2
}
