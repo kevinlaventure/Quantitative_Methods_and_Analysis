{
 "cells": [
  {
   "cell_type": "code",
   "execution_count": 35,
   "metadata": {},
   "outputs": [],
   "source": [
    "# -------\n",
    "# IMPORT LIBRAIRIES\n",
    "# -------\n",
    "import numpy as np\n",
    "import pandas as pd\n",
    "import plotly.express as px\n",
    "from python_module.pricing_model import SABRModel\n",
    "from python_module.tools import maximize_with_bounds\n",
    "\n",
    "pd.options.display.max_rows = 999\n",
    "pd.options.display.max_columns = 999\n",
    "pd.options.display.float_format = '{:,.2f}'.format"
   ]
  },
  {
   "cell_type": "code",
   "execution_count": 81,
   "metadata": {},
   "outputs": [],
   "source": [
    "# -------\n",
    "# GENERATE MARKET DATA AND GREEKS\n",
    "# -------\n",
    "\n",
    "# Pricing parameters\n",
    "F     = 5000\n",
    "alpha = 0.25\n",
    "beta  = 1.0\n",
    "rho   = -0.\n",
    "nu    = 1.5\n",
    "r     = 0\n",
    "bd    = 20\n",
    "T     = bd / 250\n",
    "\n",
    "# Scenario parameters\n",
    "slide_to_compute = list(np.round(np.linspace(start=-0.3, stop=0.3, num=61), 2))\n",
    "\n",
    "# Option portfolio\n",
    "market_data_list = list()\n",
    "\n",
    "# Option ATM\n",
    "K = F\n",
    "option_type = 'call' if K >= F else 'put'\n",
    "market_pricing_results = SABRModel.compute_option(F, K, T, alpha, beta, rho, nu, r, option_type, slide_list=slide_to_compute)\n",
    "market_data_list.append({\n",
    "    'symbol': f\"{bd}T_{K}K_{option_type}\",\n",
    "    'option_type': option_type, \n",
    "    'time_to_maturity': bd, \n",
    "    'F':F, 'r': r, 'K': K, 'T': T, 'K/F': (K/F) - 1 ,**market_pricing_results})\n",
    "\n",
    "# Option -30\n",
    "K = F * 0.71\n",
    "option_type = 'call' if K >= F else 'put'\n",
    "market_pricing_results = SABRModel.compute_option(F, K, T, alpha, beta, rho, nu, r, option_type, slide_list=slide_to_compute)\n",
    "market_data_list.append({\n",
    "    'symbol': f\"{bd}T_{K}K_{option_type}\",\n",
    "    'option_type': option_type, \n",
    "    'time_to_maturity': bd, \n",
    "    'F':F, 'r': r, 'K': K, 'T': T, 'K/F': (K/F) - 1 ,**market_pricing_results})\n",
    "\n",
    "# Option +30\n",
    "K = F * 1.29\n",
    "option_type = 'call' if K >= F else 'put'\n",
    "market_pricing_results = SABRModel.compute_option(F, K, T, alpha, beta, rho, nu, r, option_type, slide_list=slide_to_compute)\n",
    "market_data_list.append({\n",
    "    'symbol': f\"{bd}T_{K}K_{option_type}\",\n",
    "    'option_type': option_type, \n",
    "    'time_to_maturity': bd, \n",
    "    'F':F, 'r': r, 'K': K, 'T': T, 'K/F': (K/F) - 1 ,**market_pricing_results})\n",
    "\n",
    "market_data_df = pd.DataFrame(market_data_list)\n",
    "market_data_df = market_data_df.set_index('symbol')\n",
    "\n",
    "# Option -20\n",
    "K = F * 0.81\n",
    "option_type = 'call' if K >= F else 'put'\n",
    "market_pricing_results = SABRModel.compute_option(F, K, T, alpha, beta, rho, nu, r, option_type, slide_list=slide_to_compute)\n",
    "market_data_list.append({\n",
    "    'symbol': f\"{bd}T_{K}K_{option_type}\",\n",
    "    'option_type': option_type, \n",
    "    'time_to_maturity': bd, \n",
    "    'F':F, 'r': r, 'K': K, 'T': T, 'K/F': (K/F) - 1 ,**market_pricing_results})\n",
    "\n",
    "# Option +20\n",
    "K = F * 1.19\n",
    "option_type = 'call' if K >= F else 'put'\n",
    "market_pricing_results = SABRModel.compute_option(F, K, T, alpha, beta, rho, nu, r, option_type, slide_list=slide_to_compute)\n",
    "market_data_list.append({\n",
    "    'symbol': f\"{bd}T_{K}K_{option_type}\",\n",
    "    'option_type': option_type, \n",
    "    'time_to_maturity': bd, \n",
    "    'F':F, 'r': r, 'K': K, 'T': T, 'K/F': (K/F) - 1 ,**market_pricing_results})\n",
    "\n",
    "market_data_df = pd.DataFrame(market_data_list)\n",
    "market_data_df = market_data_df.set_index('symbol')"
   ]
  },
  {
   "cell_type": "code",
   "execution_count": 82,
   "metadata": {},
   "outputs": [
    {
     "data": {
      "text/html": [
       "<div>\n",
       "<style scoped>\n",
       "    .dataframe tbody tr th:only-of-type {\n",
       "        vertical-align: middle;\n",
       "    }\n",
       "\n",
       "    .dataframe tbody tr th {\n",
       "        vertical-align: top;\n",
       "    }\n",
       "\n",
       "    .dataframe thead th {\n",
       "        text-align: right;\n",
       "    }\n",
       "</style>\n",
       "<table border=\"1\" class=\"dataframe\">\n",
       "  <thead>\n",
       "    <tr style=\"text-align: right;\">\n",
       "      <th></th>\n",
       "      <th>option_type</th>\n",
       "      <th>time_to_maturity</th>\n",
       "      <th>F</th>\n",
       "      <th>r</th>\n",
       "      <th>K</th>\n",
       "      <th>T</th>\n",
       "      <th>K/F</th>\n",
       "      <th>IV</th>\n",
       "      <th>price</th>\n",
       "      <th>delta</th>\n",
       "      <th>gamma</th>\n",
       "      <th>vega</th>\n",
       "      <th>theta</th>\n",
       "      <th>vanna</th>\n",
       "      <th>volga</th>\n",
       "      <th>-0.30</th>\n",
       "      <th>-0.29</th>\n",
       "      <th>-0.28</th>\n",
       "      <th>-0.27</th>\n",
       "      <th>-0.26</th>\n",
       "      <th>-0.25</th>\n",
       "      <th>-0.24</th>\n",
       "      <th>-0.23</th>\n",
       "      <th>-0.22</th>\n",
       "      <th>-0.21</th>\n",
       "      <th>-0.20</th>\n",
       "      <th>-0.19</th>\n",
       "      <th>-0.18</th>\n",
       "      <th>-0.17</th>\n",
       "      <th>-0.16</th>\n",
       "      <th>-0.15</th>\n",
       "      <th>-0.14</th>\n",
       "      <th>-0.13</th>\n",
       "      <th>-0.12</th>\n",
       "      <th>-0.11</th>\n",
       "      <th>-0.10</th>\n",
       "      <th>-0.09</th>\n",
       "      <th>-0.08</th>\n",
       "      <th>-0.07</th>\n",
       "      <th>-0.06</th>\n",
       "      <th>-0.05</th>\n",
       "      <th>-0.04</th>\n",
       "      <th>-0.03</th>\n",
       "      <th>-0.02</th>\n",
       "      <th>-0.01</th>\n",
       "      <th>0.00</th>\n",
       "      <th>0.01</th>\n",
       "      <th>0.02</th>\n",
       "      <th>0.03</th>\n",
       "      <th>0.04</th>\n",
       "      <th>0.05</th>\n",
       "      <th>0.06</th>\n",
       "      <th>0.07</th>\n",
       "      <th>0.08</th>\n",
       "      <th>0.09</th>\n",
       "      <th>0.10</th>\n",
       "      <th>0.11</th>\n",
       "      <th>0.12</th>\n",
       "      <th>0.13</th>\n",
       "      <th>0.14</th>\n",
       "      <th>0.15</th>\n",
       "      <th>0.16</th>\n",
       "      <th>0.17</th>\n",
       "      <th>0.18</th>\n",
       "      <th>0.19</th>\n",
       "      <th>0.20</th>\n",
       "      <th>0.21</th>\n",
       "      <th>0.22</th>\n",
       "      <th>0.23</th>\n",
       "      <th>0.24</th>\n",
       "      <th>0.25</th>\n",
       "      <th>0.26</th>\n",
       "      <th>0.27</th>\n",
       "      <th>0.28</th>\n",
       "      <th>0.29</th>\n",
       "      <th>0.30</th>\n",
       "    </tr>\n",
       "    <tr>\n",
       "      <th>symbol</th>\n",
       "      <th></th>\n",
       "      <th></th>\n",
       "      <th></th>\n",
       "      <th></th>\n",
       "      <th></th>\n",
       "      <th></th>\n",
       "      <th></th>\n",
       "      <th></th>\n",
       "      <th></th>\n",
       "      <th></th>\n",
       "      <th></th>\n",
       "      <th></th>\n",
       "      <th></th>\n",
       "      <th></th>\n",
       "      <th></th>\n",
       "      <th></th>\n",
       "      <th></th>\n",
       "      <th></th>\n",
       "      <th></th>\n",
       "      <th></th>\n",
       "      <th></th>\n",
       "      <th></th>\n",
       "      <th></th>\n",
       "      <th></th>\n",
       "      <th></th>\n",
       "      <th></th>\n",
       "      <th></th>\n",
       "      <th></th>\n",
       "      <th></th>\n",
       "      <th></th>\n",
       "      <th></th>\n",
       "      <th></th>\n",
       "      <th></th>\n",
       "      <th></th>\n",
       "      <th></th>\n",
       "      <th></th>\n",
       "      <th></th>\n",
       "      <th></th>\n",
       "      <th></th>\n",
       "      <th></th>\n",
       "      <th></th>\n",
       "      <th></th>\n",
       "      <th></th>\n",
       "      <th></th>\n",
       "      <th></th>\n",
       "      <th></th>\n",
       "      <th></th>\n",
       "      <th></th>\n",
       "      <th></th>\n",
       "      <th></th>\n",
       "      <th></th>\n",
       "      <th></th>\n",
       "      <th></th>\n",
       "      <th></th>\n",
       "      <th></th>\n",
       "      <th></th>\n",
       "      <th></th>\n",
       "      <th></th>\n",
       "      <th></th>\n",
       "      <th></th>\n",
       "      <th></th>\n",
       "      <th></th>\n",
       "      <th></th>\n",
       "      <th></th>\n",
       "      <th></th>\n",
       "      <th></th>\n",
       "      <th></th>\n",
       "      <th></th>\n",
       "      <th></th>\n",
       "      <th></th>\n",
       "      <th></th>\n",
       "      <th></th>\n",
       "      <th></th>\n",
       "      <th></th>\n",
       "      <th></th>\n",
       "      <th></th>\n",
       "    </tr>\n",
       "  </thead>\n",
       "  <tbody>\n",
       "    <tr>\n",
       "      <th>20T_5000K_call</th>\n",
       "      <td>call</td>\n",
       "      <td>20</td>\n",
       "      <td>5000</td>\n",
       "      <td>0</td>\n",
       "      <td>5,000.00</td>\n",
       "      <td>0.08</td>\n",
       "      <td>0.00</td>\n",
       "      <td>0.25</td>\n",
       "      <td>143.13</td>\n",
       "      <td>0.51</td>\n",
       "      <td>0.00</td>\n",
       "      <td>5.64</td>\n",
       "      <td>-3.58</td>\n",
       "      <td>0.06</td>\n",
       "      <td>-2.86</td>\n",
       "      <td>628.36</td>\n",
       "      <td>602.66</td>\n",
       "      <td>576.96</td>\n",
       "      <td>551.26</td>\n",
       "      <td>525.57</td>\n",
       "      <td>499.89</td>\n",
       "      <td>474.22</td>\n",
       "      <td>448.58</td>\n",
       "      <td>422.95</td>\n",
       "      <td>397.37</td>\n",
       "      <td>371.83</td>\n",
       "      <td>346.36</td>\n",
       "      <td>320.98</td>\n",
       "      <td>295.71</td>\n",
       "      <td>270.61</td>\n",
       "      <td>245.72</td>\n",
       "      <td>221.12</td>\n",
       "      <td>196.90</td>\n",
       "      <td>173.15</td>\n",
       "      <td>150.04</td>\n",
       "      <td>127.71</td>\n",
       "      <td>106.38</td>\n",
       "      <td>86.26</td>\n",
       "      <td>67.62</td>\n",
       "      <td>50.72</td>\n",
       "      <td>35.84</td>\n",
       "      <td>23.26</td>\n",
       "      <td>13.21</td>\n",
       "      <td>5.91</td>\n",
       "      <td>1.48</td>\n",
       "      <td>0.00</td>\n",
       "      <td>1.46</td>\n",
       "      <td>5.79</td>\n",
       "      <td>12.84</td>\n",
       "      <td>22.40</td>\n",
       "      <td>34.26</td>\n",
       "      <td>48.15</td>\n",
       "      <td>63.82</td>\n",
       "      <td>81.02</td>\n",
       "      <td>99.51</td>\n",
       "      <td>119.10</td>\n",
       "      <td>139.58</td>\n",
       "      <td>160.80</td>\n",
       "      <td>182.62</td>\n",
       "      <td>204.93</td>\n",
       "      <td>227.63</td>\n",
       "      <td>250.65</td>\n",
       "      <td>273.92</td>\n",
       "      <td>297.39</td>\n",
       "      <td>321.03</td>\n",
       "      <td>344.79</td>\n",
       "      <td>368.66</td>\n",
       "      <td>392.60</td>\n",
       "      <td>416.62</td>\n",
       "      <td>440.68</td>\n",
       "      <td>464.79</td>\n",
       "      <td>488.93</td>\n",
       "      <td>513.10</td>\n",
       "      <td>537.29</td>\n",
       "      <td>561.49</td>\n",
       "      <td>585.71</td>\n",
       "    </tr>\n",
       "    <tr>\n",
       "      <th>20T_3550.0K_put</th>\n",
       "      <td>put</td>\n",
       "      <td>20</td>\n",
       "      <td>5000</td>\n",
       "      <td>0</td>\n",
       "      <td>3,550.00</td>\n",
       "      <td>0.08</td>\n",
       "      <td>-0.29</td>\n",
       "      <td>0.36</td>\n",
       "      <td>0.04</td>\n",
       "      <td>-0.00</td>\n",
       "      <td>0.00</td>\n",
       "      <td>0.01</td>\n",
       "      <td>-0.01</td>\n",
       "      <td>-0.01</td>\n",
       "      <td>46.54</td>\n",
       "      <td>127.55</td>\n",
       "      <td>101.20</td>\n",
       "      <td>78.98</td>\n",
       "      <td>60.71</td>\n",
       "      <td>46.05</td>\n",
       "      <td>34.53</td>\n",
       "      <td>25.65</td>\n",
       "      <td>18.91</td>\n",
       "      <td>13.86</td>\n",
       "      <td>10.11</td>\n",
       "      <td>7.36</td>\n",
       "      <td>5.34</td>\n",
       "      <td>3.87</td>\n",
       "      <td>2.79</td>\n",
       "      <td>2.01</td>\n",
       "      <td>1.45</td>\n",
       "      <td>1.03</td>\n",
       "      <td>0.73</td>\n",
       "      <td>0.51</td>\n",
       "      <td>0.35</td>\n",
       "      <td>0.24</td>\n",
       "      <td>0.16</td>\n",
       "      <td>0.10</td>\n",
       "      <td>0.06</td>\n",
       "      <td>0.03</td>\n",
       "      <td>0.01</td>\n",
       "      <td>-0.00</td>\n",
       "      <td>-0.01</td>\n",
       "      <td>-0.01</td>\n",
       "      <td>-0.00</td>\n",
       "      <td>0.00</td>\n",
       "      <td>0.01</td>\n",
       "      <td>0.01</td>\n",
       "      <td>0.02</td>\n",
       "      <td>0.03</td>\n",
       "      <td>0.04</td>\n",
       "      <td>0.06</td>\n",
       "      <td>0.07</td>\n",
       "      <td>0.08</td>\n",
       "      <td>0.09</td>\n",
       "      <td>0.10</td>\n",
       "      <td>0.12</td>\n",
       "      <td>0.13</td>\n",
       "      <td>0.14</td>\n",
       "      <td>0.16</td>\n",
       "      <td>0.17</td>\n",
       "      <td>0.18</td>\n",
       "      <td>0.20</td>\n",
       "      <td>0.21</td>\n",
       "      <td>0.22</td>\n",
       "      <td>0.24</td>\n",
       "      <td>0.25</td>\n",
       "      <td>0.26</td>\n",
       "      <td>0.28</td>\n",
       "      <td>0.29</td>\n",
       "      <td>0.30</td>\n",
       "      <td>0.32</td>\n",
       "      <td>0.33</td>\n",
       "      <td>0.34</td>\n",
       "      <td>0.36</td>\n",
       "      <td>0.37</td>\n",
       "    </tr>\n",
       "    <tr>\n",
       "      <th>20T_6450.0K_call</th>\n",
       "      <td>call</td>\n",
       "      <td>20</td>\n",
       "      <td>5000</td>\n",
       "      <td>0</td>\n",
       "      <td>6,450.00</td>\n",
       "      <td>0.08</td>\n",
       "      <td>0.29</td>\n",
       "      <td>0.32</td>\n",
       "      <td>0.38</td>\n",
       "      <td>0.00</td>\n",
       "      <td>0.00</td>\n",
       "      <td>0.12</td>\n",
       "      <td>-0.10</td>\n",
       "      <td>0.08</td>\n",
       "      <td>304.22</td>\n",
       "      <td>3.89</td>\n",
       "      <td>3.75</td>\n",
       "      <td>3.61</td>\n",
       "      <td>3.47</td>\n",
       "      <td>3.32</td>\n",
       "      <td>3.18</td>\n",
       "      <td>3.04</td>\n",
       "      <td>2.90</td>\n",
       "      <td>2.76</td>\n",
       "      <td>2.61</td>\n",
       "      <td>2.47</td>\n",
       "      <td>2.33</td>\n",
       "      <td>2.19</td>\n",
       "      <td>2.05</td>\n",
       "      <td>1.91</td>\n",
       "      <td>1.77</td>\n",
       "      <td>1.63</td>\n",
       "      <td>1.49</td>\n",
       "      <td>1.35</td>\n",
       "      <td>1.21</td>\n",
       "      <td>1.08</td>\n",
       "      <td>0.94</td>\n",
       "      <td>0.81</td>\n",
       "      <td>0.68</td>\n",
       "      <td>0.56</td>\n",
       "      <td>0.44</td>\n",
       "      <td>0.33</td>\n",
       "      <td>0.23</td>\n",
       "      <td>0.14</td>\n",
       "      <td>0.06</td>\n",
       "      <td>0.00</td>\n",
       "      <td>-0.04</td>\n",
       "      <td>-0.04</td>\n",
       "      <td>-0.01</td>\n",
       "      <td>0.07</td>\n",
       "      <td>0.22</td>\n",
       "      <td>0.44</td>\n",
       "      <td>0.75</td>\n",
       "      <td>1.19</td>\n",
       "      <td>1.79</td>\n",
       "      <td>2.58</td>\n",
       "      <td>3.60</td>\n",
       "      <td>4.91</td>\n",
       "      <td>6.59</td>\n",
       "      <td>8.70</td>\n",
       "      <td>11.34</td>\n",
       "      <td>14.62</td>\n",
       "      <td>18.65</td>\n",
       "      <td>23.57</td>\n",
       "      <td>29.52</td>\n",
       "      <td>36.66</td>\n",
       "      <td>45.17</td>\n",
       "      <td>55.19</td>\n",
       "      <td>66.91</td>\n",
       "      <td>80.48</td>\n",
       "      <td>96.03</td>\n",
       "      <td>113.70</td>\n",
       "      <td>133.57</td>\n",
       "      <td>155.71</td>\n",
       "      <td>180.13</td>\n",
       "      <td>206.84</td>\n",
       "    </tr>\n",
       "    <tr>\n",
       "      <th>20T_4050.0000000000005K_put</th>\n",
       "      <td>put</td>\n",
       "      <td>20</td>\n",
       "      <td>5000</td>\n",
       "      <td>0</td>\n",
       "      <td>4,050.00</td>\n",
       "      <td>0.08</td>\n",
       "      <td>-0.19</td>\n",
       "      <td>0.30</td>\n",
       "      <td>0.89</td>\n",
       "      <td>-0.01</td>\n",
       "      <td>0.00</td>\n",
       "      <td>0.25</td>\n",
       "      <td>-0.19</td>\n",
       "      <td>-0.14</td>\n",
       "      <td>495.70</td>\n",
       "      <td>543.59</td>\n",
       "      <td>495.64</td>\n",
       "      <td>448.40</td>\n",
       "      <td>402.12</td>\n",
       "      <td>357.09</td>\n",
       "      <td>313.67</td>\n",
       "      <td>272.27</td>\n",
       "      <td>233.31</td>\n",
       "      <td>197.20</td>\n",
       "      <td>164.30</td>\n",
       "      <td>134.88</td>\n",
       "      <td>109.08</td>\n",
       "      <td>86.92</td>\n",
       "      <td>68.25</td>\n",
       "      <td>52.82</td>\n",
       "      <td>40.31</td>\n",
       "      <td>30.33</td>\n",
       "      <td>22.49</td>\n",
       "      <td>16.42</td>\n",
       "      <td>11.79</td>\n",
       "      <td>8.29</td>\n",
       "      <td>5.68</td>\n",
       "      <td>3.77</td>\n",
       "      <td>2.39</td>\n",
       "      <td>1.42</td>\n",
       "      <td>0.75</td>\n",
       "      <td>0.32</td>\n",
       "      <td>0.07</td>\n",
       "      <td>-0.05</td>\n",
       "      <td>-0.06</td>\n",
       "      <td>0.00</td>\n",
       "      <td>0.12</td>\n",
       "      <td>0.28</td>\n",
       "      <td>0.48</td>\n",
       "      <td>0.70</td>\n",
       "      <td>0.95</td>\n",
       "      <td>1.21</td>\n",
       "      <td>1.48</td>\n",
       "      <td>1.76</td>\n",
       "      <td>2.04</td>\n",
       "      <td>2.34</td>\n",
       "      <td>2.63</td>\n",
       "      <td>2.93</td>\n",
       "      <td>3.23</td>\n",
       "      <td>3.54</td>\n",
       "      <td>3.85</td>\n",
       "      <td>4.15</td>\n",
       "      <td>4.46</td>\n",
       "      <td>4.77</td>\n",
       "      <td>5.08</td>\n",
       "      <td>5.39</td>\n",
       "      <td>5.71</td>\n",
       "      <td>6.02</td>\n",
       "      <td>6.33</td>\n",
       "      <td>6.64</td>\n",
       "      <td>6.95</td>\n",
       "      <td>7.27</td>\n",
       "      <td>7.58</td>\n",
       "      <td>7.89</td>\n",
       "      <td>8.21</td>\n",
       "      <td>8.52</td>\n",
       "    </tr>\n",
       "    <tr>\n",
       "      <th>20T_5950.0K_call</th>\n",
       "      <td>call</td>\n",
       "      <td>20</td>\n",
       "      <td>5000</td>\n",
       "      <td>0</td>\n",
       "      <td>5,950.00</td>\n",
       "      <td>0.08</td>\n",
       "      <td>0.19</td>\n",
       "      <td>0.29</td>\n",
       "      <td>2.76</td>\n",
       "      <td>0.02</td>\n",
       "      <td>0.00</td>\n",
       "      <td>0.65</td>\n",
       "      <td>-0.47</td>\n",
       "      <td>0.34</td>\n",
       "      <td>1,008.18</td>\n",
       "      <td>25.62</td>\n",
       "      <td>24.67</td>\n",
       "      <td>23.73</td>\n",
       "      <td>22.78</td>\n",
       "      <td>21.84</td>\n",
       "      <td>20.89</td>\n",
       "      <td>19.95</td>\n",
       "      <td>19.00</td>\n",
       "      <td>18.06</td>\n",
       "      <td>17.11</td>\n",
       "      <td>16.17</td>\n",
       "      <td>15.23</td>\n",
       "      <td>14.29</td>\n",
       "      <td>13.35</td>\n",
       "      <td>12.41</td>\n",
       "      <td>11.48</td>\n",
       "      <td>10.55</td>\n",
       "      <td>9.62</td>\n",
       "      <td>8.70</td>\n",
       "      <td>7.79</td>\n",
       "      <td>6.89</td>\n",
       "      <td>6.00</td>\n",
       "      <td>5.14</td>\n",
       "      <td>4.29</td>\n",
       "      <td>3.48</td>\n",
       "      <td>2.70</td>\n",
       "      <td>1.98</td>\n",
       "      <td>1.33</td>\n",
       "      <td>0.76</td>\n",
       "      <td>0.31</td>\n",
       "      <td>0.00</td>\n",
       "      <td>-0.13</td>\n",
       "      <td>-0.03</td>\n",
       "      <td>0.37</td>\n",
       "      <td>1.12</td>\n",
       "      <td>2.33</td>\n",
       "      <td>4.09</td>\n",
       "      <td>6.53</td>\n",
       "      <td>9.78</td>\n",
       "      <td>14.01</td>\n",
       "      <td>19.39</td>\n",
       "      <td>26.11</td>\n",
       "      <td>34.35</td>\n",
       "      <td>44.32</td>\n",
       "      <td>56.21</td>\n",
       "      <td>70.20</td>\n",
       "      <td>86.43</td>\n",
       "      <td>105.03</td>\n",
       "      <td>126.07</td>\n",
       "      <td>149.60</td>\n",
       "      <td>175.60</td>\n",
       "      <td>204.03</td>\n",
       "      <td>234.78</td>\n",
       "      <td>267.74</td>\n",
       "      <td>302.74</td>\n",
       "      <td>339.63</td>\n",
       "      <td>378.23</td>\n",
       "      <td>418.34</td>\n",
       "      <td>459.79</td>\n",
       "      <td>502.42</td>\n",
       "      <td>546.06</td>\n",
       "    </tr>\n",
       "  </tbody>\n",
       "</table>\n",
       "</div>"
      ],
      "text/plain": [
       "                             option_type   time_to_maturity     F   r  \\\n",
       "symbol                                                                  \n",
       "20T_5000K_call                      call                 20  5000   0   \n",
       "20T_3550.0K_put                      put                 20  5000   0   \n",
       "20T_6450.0K_call                    call                 20  5000   0   \n",
       "20T_4050.0000000000005K_put          put                 20  5000   0   \n",
       "20T_5950.0K_call                    call                 20  5000   0   \n",
       "\n",
       "                                   K    T   K/F   IV   price   delta   gamma  \\\n",
       "symbol                                                                         \n",
       "20T_5000K_call              5,000.00 0.08  0.00 0.25  143.13    0.51    0.00   \n",
       "20T_3550.0K_put             3,550.00 0.08 -0.29 0.36    0.04   -0.00    0.00   \n",
       "20T_6450.0K_call            6,450.00 0.08  0.29 0.32    0.38    0.00    0.00   \n",
       "20T_4050.0000000000005K_put 4,050.00 0.08 -0.19 0.30    0.89   -0.01    0.00   \n",
       "20T_5950.0K_call            5,950.00 0.08  0.19 0.29    2.76    0.02    0.00   \n",
       "\n",
       "                              vega   theta   vanna    volga  -0.30  -0.29  \\\n",
       "symbol                                                                      \n",
       "20T_5000K_call                5.64   -3.58    0.06    -2.86 628.36 602.66   \n",
       "20T_3550.0K_put               0.01   -0.01   -0.01    46.54 127.55 101.20   \n",
       "20T_6450.0K_call              0.12   -0.10    0.08   304.22   3.89   3.75   \n",
       "20T_4050.0000000000005K_put   0.25   -0.19   -0.14   495.70 543.59 495.64   \n",
       "20T_5950.0K_call              0.65   -0.47    0.34 1,008.18  25.62  24.67   \n",
       "\n",
       "                             -0.28  -0.27  -0.26  -0.25  -0.24  -0.23  -0.22  \\\n",
       "symbol                                                                         \n",
       "20T_5000K_call              576.96 551.26 525.57 499.89 474.22 448.58 422.95   \n",
       "20T_3550.0K_put              78.98  60.71  46.05  34.53  25.65  18.91  13.86   \n",
       "20T_6450.0K_call              3.61   3.47   3.32   3.18   3.04   2.90   2.76   \n",
       "20T_4050.0000000000005K_put 448.40 402.12 357.09 313.67 272.27 233.31 197.20   \n",
       "20T_5950.0K_call             23.73  22.78  21.84  20.89  19.95  19.00  18.06   \n",
       "\n",
       "                             -0.21  -0.20  -0.19  -0.18  -0.17  -0.16  -0.15  \\\n",
       "symbol                                                                         \n",
       "20T_5000K_call              397.37 371.83 346.36 320.98 295.71 270.61 245.72   \n",
       "20T_3550.0K_put              10.11   7.36   5.34   3.87   2.79   2.01   1.45   \n",
       "20T_6450.0K_call              2.61   2.47   2.33   2.19   2.05   1.91   1.77   \n",
       "20T_4050.0000000000005K_put 164.30 134.88 109.08  86.92  68.25  52.82  40.31   \n",
       "20T_5950.0K_call             17.11  16.17  15.23  14.29  13.35  12.41  11.48   \n",
       "\n",
       "                             -0.14  -0.13  -0.12  -0.11  -0.10  -0.09  -0.08  \\\n",
       "symbol                                                                         \n",
       "20T_5000K_call              221.12 196.90 173.15 150.04 127.71 106.38  86.26   \n",
       "20T_3550.0K_put               1.03   0.73   0.51   0.35   0.24   0.16   0.10   \n",
       "20T_6450.0K_call              1.63   1.49   1.35   1.21   1.08   0.94   0.81   \n",
       "20T_4050.0000000000005K_put  30.33  22.49  16.42  11.79   8.29   5.68   3.77   \n",
       "20T_5950.0K_call             10.55   9.62   8.70   7.79   6.89   6.00   5.14   \n",
       "\n",
       "                             -0.07  -0.06  -0.05  -0.04  -0.03  -0.02  -0.01  \\\n",
       "symbol                                                                         \n",
       "20T_5000K_call               67.62  50.72  35.84  23.26  13.21   5.91   1.48   \n",
       "20T_3550.0K_put               0.06   0.03   0.01  -0.00  -0.01  -0.01  -0.00   \n",
       "20T_6450.0K_call              0.68   0.56   0.44   0.33   0.23   0.14   0.06   \n",
       "20T_4050.0000000000005K_put   2.39   1.42   0.75   0.32   0.07  -0.05  -0.06   \n",
       "20T_5950.0K_call              4.29   3.48   2.70   1.98   1.33   0.76   0.31   \n",
       "\n",
       "                             0.00  0.01  0.02  0.03  0.04  0.05  0.06  0.07  \\\n",
       "symbol                                                                        \n",
       "20T_5000K_call               0.00  1.46  5.79 12.84 22.40 34.26 48.15 63.82   \n",
       "20T_3550.0K_put              0.00  0.01  0.01  0.02  0.03  0.04  0.06  0.07   \n",
       "20T_6450.0K_call             0.00 -0.04 -0.04 -0.01  0.07  0.22  0.44  0.75   \n",
       "20T_4050.0000000000005K_put  0.00  0.12  0.28  0.48  0.70  0.95  1.21  1.48   \n",
       "20T_5950.0K_call             0.00 -0.13 -0.03  0.37  1.12  2.33  4.09  6.53   \n",
       "\n",
       "                             0.08  0.09   0.10   0.11   0.12   0.13   0.14  \\\n",
       "symbol                                                                       \n",
       "20T_5000K_call              81.02 99.51 119.10 139.58 160.80 182.62 204.93   \n",
       "20T_3550.0K_put              0.08  0.09   0.10   0.12   0.13   0.14   0.16   \n",
       "20T_6450.0K_call             1.19  1.79   2.58   3.60   4.91   6.59   8.70   \n",
       "20T_4050.0000000000005K_put  1.76  2.04   2.34   2.63   2.93   3.23   3.54   \n",
       "20T_5950.0K_call             9.78 14.01  19.39  26.11  34.35  44.32  56.21   \n",
       "\n",
       "                              0.15   0.16   0.17   0.18   0.19   0.20   0.21  \\\n",
       "symbol                                                                         \n",
       "20T_5000K_call              227.63 250.65 273.92 297.39 321.03 344.79 368.66   \n",
       "20T_3550.0K_put               0.17   0.18   0.20   0.21   0.22   0.24   0.25   \n",
       "20T_6450.0K_call             11.34  14.62  18.65  23.57  29.52  36.66  45.17   \n",
       "20T_4050.0000000000005K_put   3.85   4.15   4.46   4.77   5.08   5.39   5.71   \n",
       "20T_5950.0K_call             70.20  86.43 105.03 126.07 149.60 175.60 204.03   \n",
       "\n",
       "                              0.22   0.23   0.24   0.25   0.26   0.27   0.28  \\\n",
       "symbol                                                                         \n",
       "20T_5000K_call              392.60 416.62 440.68 464.79 488.93 513.10 537.29   \n",
       "20T_3550.0K_put               0.26   0.28   0.29   0.30   0.32   0.33   0.34   \n",
       "20T_6450.0K_call             55.19  66.91  80.48  96.03 113.70 133.57 155.71   \n",
       "20T_4050.0000000000005K_put   6.02   6.33   6.64   6.95   7.27   7.58   7.89   \n",
       "20T_5950.0K_call            234.78 267.74 302.74 339.63 378.23 418.34 459.79   \n",
       "\n",
       "                              0.29   0.30  \n",
       "symbol                                     \n",
       "20T_5000K_call              561.49 585.71  \n",
       "20T_3550.0K_put               0.36   0.37  \n",
       "20T_6450.0K_call            180.13 206.84  \n",
       "20T_4050.0000000000005K_put   8.21   8.52  \n",
       "20T_5950.0K_call            502.42 546.06  "
      ]
     },
     "execution_count": 82,
     "metadata": {},
     "output_type": "execute_result"
    }
   ],
   "source": [
    "market_data_df"
   ]
  },
  {
   "cell_type": "code",
   "execution_count": 83,
   "metadata": {},
   "outputs": [],
   "source": [
    "atm_market_data = market_data_df.loc[market_data_df['F']==market_data_df['K']]\n",
    "atm_qty = -50000 / atm_market_data['theta']\n",
    "atm_scenario = atm_market_data.loc[:, ['theta'] + slide_to_compute]\n",
    "atm_scenario = atm_scenario.drop(0, axis=1)\n",
    "atm_scenario.rename(columns={'theta': 0}, inplace=True)\n",
    "atm_scenario = atm_scenario.sort_index(axis=1)\n",
    "atm_scenario = atm_scenario.multiply(atm_qty, axis=0)"
   ]
  },
  {
   "cell_type": "code",
   "execution_count": 84,
   "metadata": {},
   "outputs": [],
   "source": [
    "target_hedge_portfolio_scenario = atm_scenario*-1\n",
    "otm_market_data = market_data_df.loc[market_data_df['F']!=market_data_df['K']]"
   ]
  },
  {
   "cell_type": "code",
   "execution_count": 85,
   "metadata": {},
   "outputs": [],
   "source": [
    "target_scenario = [-0.3, -0.2, 0.2, 0.3]"
   ]
  },
  {
   "cell_type": "code",
   "execution_count": 86,
   "metadata": {},
   "outputs": [
    {
     "name": "stdout",
     "output_type": "stream",
     "text": [
      "symbol\n",
      "20T_3550.0K_put               112,047.83\n",
      "20T_6450.0K_call               70,048.94\n",
      "20T_4050.0000000000005K_put   -41,021.26\n",
      "20T_5950.0K_call              -40,964.49\n",
      "dtype: float64\n"
     ]
    }
   ],
   "source": [
    "X = otm_market_data[target_scenario].transpose().values\n",
    "b = target_hedge_portfolio_scenario[target_scenario].iloc[0].values\n",
    "\n",
    "w = np.linalg.solve(X, b)\n",
    "\n",
    "weights = pd.Series(w, index=otm_market_data.index)\n",
    "\n",
    "print(weights)\n"
   ]
  },
  {
   "cell_type": "code",
   "execution_count": 87,
   "metadata": {},
   "outputs": [],
   "source": [
    "otm_scenario = otm_market_data.loc[:, ['theta'] + slide_to_compute]\n",
    "otm_scenario = otm_scenario.drop(0, axis=1)\n",
    "otm_scenario.rename(columns={'theta': 0}, inplace=True)\n",
    "otm_scenario = otm_scenario.sort_index(axis=1)\n",
    "otm_scenario = otm_scenario.multiply(weights, axis=0)"
   ]
  },
  {
   "cell_type": "code",
   "execution_count": 88,
   "metadata": {},
   "outputs": [],
   "source": [
    "total_scenario = atm_scenario.sum() + otm_scenario.sum()"
   ]
  },
  {
   "cell_type": "code",
   "execution_count": 89,
   "metadata": {},
   "outputs": [
    {
     "data": {
      "application/vnd.plotly.v1+json": {
       "config": {
        "plotlyServerURL": "https://plot.ly"
       },
       "data": [
        {
         "hovertemplate": "variable=0<br>index=%{x}<br>value=%{y}<extra></extra>",
         "legendgroup": "0",
         "line": {
          "color": "#636efa",
          "dash": "solid"
         },
         "marker": {
          "symbol": "circle"
         },
         "mode": "lines",
         "name": "0",
         "orientation": "v",
         "showlegend": true,
         "type": "scatter",
         "x": [
          -0.3,
          -0.29,
          -0.28,
          -0.27,
          -0.26,
          -0.25,
          -0.24,
          -0.23,
          -0.22,
          -0.21,
          -0.2,
          -0.19,
          -0.18,
          -0.17,
          -0.16,
          -0.15,
          -0.14,
          -0.13,
          -0.12,
          -0.11,
          -0.1,
          -0.09,
          -0.08,
          -0.07,
          -0.06,
          -0.05,
          -0.04,
          -0.03,
          -0.02,
          -0.01,
          0,
          0.01,
          0.02,
          0.03,
          0.04,
          0.05,
          0.06,
          0.07,
          0.08,
          0.09,
          0.1,
          0.11,
          0.12,
          0.13,
          0.14,
          0.15,
          0.16,
          0.17,
          0.18,
          0.19,
          0.2,
          0.21,
          0.22,
          0.23,
          0.24,
          0.25,
          0.26,
          0.27,
          0.28,
          0.29,
          0.3
         ],
         "xaxis": "x",
         "y": [
          -1.862645149230957e-9,
          -1316449.3090170976,
          -2198471.026934932,
          -2676730.843626639,
          -2802902.803885578,
          -2643046.4238615306,
          -2270086.0795232384,
          -1756890.1251786593,
          -1170783.2098959796,
          -569717.8782779984,
          -9.313225746154785e-10,
          504624.193972433,
          922703.3517386466,
          1243840.5281772232,
          1466748.9089101665,
          1596947.3809178923,
          1644452.6692621992,
          1621758.4221824782,
          1542271.6454102953,
          1419249.4356897282,
          1265181.1045109006,
          1091507.1022718926,
          908552.1387806897,
          725562.3535106943,
          550762.2217306838,
          391377.0340555114,
          253596.2221705945,
          142478.73478051784,
          61821.8756117881,
          14027.24703724387,
          -31128.385474919363,
          19110.495070672965,
          69233.24758203173,
          146861.30387653285,
          247280.2130011043,
          364778.4310958976,
          492871.62412970327,
          624525.5271663046,
          752372.646394672,
          868928.6061726571,
          966821.4208349034,
          1039049.5953174706,
          1079282.0706477896,
          1082204.9819687912,
          1043908.2123340082,
          962290.8004622501,
          837450.9987165029,
          672017.0439998182,
          471371.0628797617,
          243722.58472031448,
          0,
          -246453.53967910912,
          -480371.65087018907,
          -685213.8887560377,
          -843924.378474419,
          -939739.1407176219,
          -956976.0572126517,
          -881743.850889408,
          -702516.0481737712,
          -410531.2447350994,
          1.862645149230957e-9
         ],
         "yaxis": "y"
        }
       ],
       "layout": {
        "legend": {
         "title": {
          "text": "variable"
         },
         "tracegroupgap": 0
        },
        "margin": {
         "t": 60
        },
        "template": {
         "data": {
          "bar": [
           {
            "error_x": {
             "color": "#2a3f5f"
            },
            "error_y": {
             "color": "#2a3f5f"
            },
            "marker": {
             "line": {
              "color": "#E5ECF6",
              "width": 0.5
             },
             "pattern": {
              "fillmode": "overlay",
              "size": 10,
              "solidity": 0.2
             }
            },
            "type": "bar"
           }
          ],
          "barpolar": [
           {
            "marker": {
             "line": {
              "color": "#E5ECF6",
              "width": 0.5
             },
             "pattern": {
              "fillmode": "overlay",
              "size": 10,
              "solidity": 0.2
             }
            },
            "type": "barpolar"
           }
          ],
          "carpet": [
           {
            "aaxis": {
             "endlinecolor": "#2a3f5f",
             "gridcolor": "white",
             "linecolor": "white",
             "minorgridcolor": "white",
             "startlinecolor": "#2a3f5f"
            },
            "baxis": {
             "endlinecolor": "#2a3f5f",
             "gridcolor": "white",
             "linecolor": "white",
             "minorgridcolor": "white",
             "startlinecolor": "#2a3f5f"
            },
            "type": "carpet"
           }
          ],
          "choropleth": [
           {
            "colorbar": {
             "outlinewidth": 0,
             "ticks": ""
            },
            "type": "choropleth"
           }
          ],
          "contour": [
           {
            "colorbar": {
             "outlinewidth": 0,
             "ticks": ""
            },
            "colorscale": [
             [
              0,
              "#0d0887"
             ],
             [
              0.1111111111111111,
              "#46039f"
             ],
             [
              0.2222222222222222,
              "#7201a8"
             ],
             [
              0.3333333333333333,
              "#9c179e"
             ],
             [
              0.4444444444444444,
              "#bd3786"
             ],
             [
              0.5555555555555556,
              "#d8576b"
             ],
             [
              0.6666666666666666,
              "#ed7953"
             ],
             [
              0.7777777777777778,
              "#fb9f3a"
             ],
             [
              0.8888888888888888,
              "#fdca26"
             ],
             [
              1,
              "#f0f921"
             ]
            ],
            "type": "contour"
           }
          ],
          "contourcarpet": [
           {
            "colorbar": {
             "outlinewidth": 0,
             "ticks": ""
            },
            "type": "contourcarpet"
           }
          ],
          "heatmap": [
           {
            "colorbar": {
             "outlinewidth": 0,
             "ticks": ""
            },
            "colorscale": [
             [
              0,
              "#0d0887"
             ],
             [
              0.1111111111111111,
              "#46039f"
             ],
             [
              0.2222222222222222,
              "#7201a8"
             ],
             [
              0.3333333333333333,
              "#9c179e"
             ],
             [
              0.4444444444444444,
              "#bd3786"
             ],
             [
              0.5555555555555556,
              "#d8576b"
             ],
             [
              0.6666666666666666,
              "#ed7953"
             ],
             [
              0.7777777777777778,
              "#fb9f3a"
             ],
             [
              0.8888888888888888,
              "#fdca26"
             ],
             [
              1,
              "#f0f921"
             ]
            ],
            "type": "heatmap"
           }
          ],
          "heatmapgl": [
           {
            "colorbar": {
             "outlinewidth": 0,
             "ticks": ""
            },
            "colorscale": [
             [
              0,
              "#0d0887"
             ],
             [
              0.1111111111111111,
              "#46039f"
             ],
             [
              0.2222222222222222,
              "#7201a8"
             ],
             [
              0.3333333333333333,
              "#9c179e"
             ],
             [
              0.4444444444444444,
              "#bd3786"
             ],
             [
              0.5555555555555556,
              "#d8576b"
             ],
             [
              0.6666666666666666,
              "#ed7953"
             ],
             [
              0.7777777777777778,
              "#fb9f3a"
             ],
             [
              0.8888888888888888,
              "#fdca26"
             ],
             [
              1,
              "#f0f921"
             ]
            ],
            "type": "heatmapgl"
           }
          ],
          "histogram": [
           {
            "marker": {
             "pattern": {
              "fillmode": "overlay",
              "size": 10,
              "solidity": 0.2
             }
            },
            "type": "histogram"
           }
          ],
          "histogram2d": [
           {
            "colorbar": {
             "outlinewidth": 0,
             "ticks": ""
            },
            "colorscale": [
             [
              0,
              "#0d0887"
             ],
             [
              0.1111111111111111,
              "#46039f"
             ],
             [
              0.2222222222222222,
              "#7201a8"
             ],
             [
              0.3333333333333333,
              "#9c179e"
             ],
             [
              0.4444444444444444,
              "#bd3786"
             ],
             [
              0.5555555555555556,
              "#d8576b"
             ],
             [
              0.6666666666666666,
              "#ed7953"
             ],
             [
              0.7777777777777778,
              "#fb9f3a"
             ],
             [
              0.8888888888888888,
              "#fdca26"
             ],
             [
              1,
              "#f0f921"
             ]
            ],
            "type": "histogram2d"
           }
          ],
          "histogram2dcontour": [
           {
            "colorbar": {
             "outlinewidth": 0,
             "ticks": ""
            },
            "colorscale": [
             [
              0,
              "#0d0887"
             ],
             [
              0.1111111111111111,
              "#46039f"
             ],
             [
              0.2222222222222222,
              "#7201a8"
             ],
             [
              0.3333333333333333,
              "#9c179e"
             ],
             [
              0.4444444444444444,
              "#bd3786"
             ],
             [
              0.5555555555555556,
              "#d8576b"
             ],
             [
              0.6666666666666666,
              "#ed7953"
             ],
             [
              0.7777777777777778,
              "#fb9f3a"
             ],
             [
              0.8888888888888888,
              "#fdca26"
             ],
             [
              1,
              "#f0f921"
             ]
            ],
            "type": "histogram2dcontour"
           }
          ],
          "mesh3d": [
           {
            "colorbar": {
             "outlinewidth": 0,
             "ticks": ""
            },
            "type": "mesh3d"
           }
          ],
          "parcoords": [
           {
            "line": {
             "colorbar": {
              "outlinewidth": 0,
              "ticks": ""
             }
            },
            "type": "parcoords"
           }
          ],
          "pie": [
           {
            "automargin": true,
            "type": "pie"
           }
          ],
          "scatter": [
           {
            "fillpattern": {
             "fillmode": "overlay",
             "size": 10,
             "solidity": 0.2
            },
            "type": "scatter"
           }
          ],
          "scatter3d": [
           {
            "line": {
             "colorbar": {
              "outlinewidth": 0,
              "ticks": ""
             }
            },
            "marker": {
             "colorbar": {
              "outlinewidth": 0,
              "ticks": ""
             }
            },
            "type": "scatter3d"
           }
          ],
          "scattercarpet": [
           {
            "marker": {
             "colorbar": {
              "outlinewidth": 0,
              "ticks": ""
             }
            },
            "type": "scattercarpet"
           }
          ],
          "scattergeo": [
           {
            "marker": {
             "colorbar": {
              "outlinewidth": 0,
              "ticks": ""
             }
            },
            "type": "scattergeo"
           }
          ],
          "scattergl": [
           {
            "marker": {
             "colorbar": {
              "outlinewidth": 0,
              "ticks": ""
             }
            },
            "type": "scattergl"
           }
          ],
          "scattermapbox": [
           {
            "marker": {
             "colorbar": {
              "outlinewidth": 0,
              "ticks": ""
             }
            },
            "type": "scattermapbox"
           }
          ],
          "scatterpolar": [
           {
            "marker": {
             "colorbar": {
              "outlinewidth": 0,
              "ticks": ""
             }
            },
            "type": "scatterpolar"
           }
          ],
          "scatterpolargl": [
           {
            "marker": {
             "colorbar": {
              "outlinewidth": 0,
              "ticks": ""
             }
            },
            "type": "scatterpolargl"
           }
          ],
          "scatterternary": [
           {
            "marker": {
             "colorbar": {
              "outlinewidth": 0,
              "ticks": ""
             }
            },
            "type": "scatterternary"
           }
          ],
          "surface": [
           {
            "colorbar": {
             "outlinewidth": 0,
             "ticks": ""
            },
            "colorscale": [
             [
              0,
              "#0d0887"
             ],
             [
              0.1111111111111111,
              "#46039f"
             ],
             [
              0.2222222222222222,
              "#7201a8"
             ],
             [
              0.3333333333333333,
              "#9c179e"
             ],
             [
              0.4444444444444444,
              "#bd3786"
             ],
             [
              0.5555555555555556,
              "#d8576b"
             ],
             [
              0.6666666666666666,
              "#ed7953"
             ],
             [
              0.7777777777777778,
              "#fb9f3a"
             ],
             [
              0.8888888888888888,
              "#fdca26"
             ],
             [
              1,
              "#f0f921"
             ]
            ],
            "type": "surface"
           }
          ],
          "table": [
           {
            "cells": {
             "fill": {
              "color": "#EBF0F8"
             },
             "line": {
              "color": "white"
             }
            },
            "header": {
             "fill": {
              "color": "#C8D4E3"
             },
             "line": {
              "color": "white"
             }
            },
            "type": "table"
           }
          ]
         },
         "layout": {
          "annotationdefaults": {
           "arrowcolor": "#2a3f5f",
           "arrowhead": 0,
           "arrowwidth": 1
          },
          "autotypenumbers": "strict",
          "coloraxis": {
           "colorbar": {
            "outlinewidth": 0,
            "ticks": ""
           }
          },
          "colorscale": {
           "diverging": [
            [
             0,
             "#8e0152"
            ],
            [
             0.1,
             "#c51b7d"
            ],
            [
             0.2,
             "#de77ae"
            ],
            [
             0.3,
             "#f1b6da"
            ],
            [
             0.4,
             "#fde0ef"
            ],
            [
             0.5,
             "#f7f7f7"
            ],
            [
             0.6,
             "#e6f5d0"
            ],
            [
             0.7,
             "#b8e186"
            ],
            [
             0.8,
             "#7fbc41"
            ],
            [
             0.9,
             "#4d9221"
            ],
            [
             1,
             "#276419"
            ]
           ],
           "sequential": [
            [
             0,
             "#0d0887"
            ],
            [
             0.1111111111111111,
             "#46039f"
            ],
            [
             0.2222222222222222,
             "#7201a8"
            ],
            [
             0.3333333333333333,
             "#9c179e"
            ],
            [
             0.4444444444444444,
             "#bd3786"
            ],
            [
             0.5555555555555556,
             "#d8576b"
            ],
            [
             0.6666666666666666,
             "#ed7953"
            ],
            [
             0.7777777777777778,
             "#fb9f3a"
            ],
            [
             0.8888888888888888,
             "#fdca26"
            ],
            [
             1,
             "#f0f921"
            ]
           ],
           "sequentialminus": [
            [
             0,
             "#0d0887"
            ],
            [
             0.1111111111111111,
             "#46039f"
            ],
            [
             0.2222222222222222,
             "#7201a8"
            ],
            [
             0.3333333333333333,
             "#9c179e"
            ],
            [
             0.4444444444444444,
             "#bd3786"
            ],
            [
             0.5555555555555556,
             "#d8576b"
            ],
            [
             0.6666666666666666,
             "#ed7953"
            ],
            [
             0.7777777777777778,
             "#fb9f3a"
            ],
            [
             0.8888888888888888,
             "#fdca26"
            ],
            [
             1,
             "#f0f921"
            ]
           ]
          },
          "colorway": [
           "#636efa",
           "#EF553B",
           "#00cc96",
           "#ab63fa",
           "#FFA15A",
           "#19d3f3",
           "#FF6692",
           "#B6E880",
           "#FF97FF",
           "#FECB52"
          ],
          "font": {
           "color": "#2a3f5f"
          },
          "geo": {
           "bgcolor": "white",
           "lakecolor": "white",
           "landcolor": "#E5ECF6",
           "showlakes": true,
           "showland": true,
           "subunitcolor": "white"
          },
          "hoverlabel": {
           "align": "left"
          },
          "hovermode": "closest",
          "mapbox": {
           "style": "light"
          },
          "paper_bgcolor": "white",
          "plot_bgcolor": "#E5ECF6",
          "polar": {
           "angularaxis": {
            "gridcolor": "white",
            "linecolor": "white",
            "ticks": ""
           },
           "bgcolor": "#E5ECF6",
           "radialaxis": {
            "gridcolor": "white",
            "linecolor": "white",
            "ticks": ""
           }
          },
          "scene": {
           "xaxis": {
            "backgroundcolor": "#E5ECF6",
            "gridcolor": "white",
            "gridwidth": 2,
            "linecolor": "white",
            "showbackground": true,
            "ticks": "",
            "zerolinecolor": "white"
           },
           "yaxis": {
            "backgroundcolor": "#E5ECF6",
            "gridcolor": "white",
            "gridwidth": 2,
            "linecolor": "white",
            "showbackground": true,
            "ticks": "",
            "zerolinecolor": "white"
           },
           "zaxis": {
            "backgroundcolor": "#E5ECF6",
            "gridcolor": "white",
            "gridwidth": 2,
            "linecolor": "white",
            "showbackground": true,
            "ticks": "",
            "zerolinecolor": "white"
           }
          },
          "shapedefaults": {
           "line": {
            "color": "#2a3f5f"
           }
          },
          "ternary": {
           "aaxis": {
            "gridcolor": "white",
            "linecolor": "white",
            "ticks": ""
           },
           "baxis": {
            "gridcolor": "white",
            "linecolor": "white",
            "ticks": ""
           },
           "bgcolor": "#E5ECF6",
           "caxis": {
            "gridcolor": "white",
            "linecolor": "white",
            "ticks": ""
           }
          },
          "title": {
           "x": 0.05
          },
          "xaxis": {
           "automargin": true,
           "gridcolor": "white",
           "linecolor": "white",
           "ticks": "",
           "title": {
            "standoff": 15
           },
           "zerolinecolor": "white",
           "zerolinewidth": 2
          },
          "yaxis": {
           "automargin": true,
           "gridcolor": "white",
           "linecolor": "white",
           "ticks": "",
           "title": {
            "standoff": 15
           },
           "zerolinecolor": "white",
           "zerolinewidth": 2
          }
         }
        },
        "xaxis": {
         "anchor": "y",
         "domain": [
          0,
          1
         ],
         "title": {
          "text": "index"
         }
        },
        "yaxis": {
         "anchor": "x",
         "domain": [
          0,
          1
         ],
         "title": {
          "text": "value"
         }
        }
       }
      }
     },
     "metadata": {},
     "output_type": "display_data"
    }
   ],
   "source": [
    "px.line(total_scenario)"
   ]
  },
  {
   "cell_type": "code",
   "execution_count": 5,
   "metadata": {},
   "outputs": [],
   "source": [
    "slide_df = market_data_df.loc[:, [-0.05, -0.04, -0.03, -0.02, -0.01, 0.01, 0.02, 0.03, 0.04, 0.05]] \n",
    "theta = market_data_df['theta']\n",
    "theta.name = 0\n",
    "scenarios = pd.concat([slide_df, theta], axis=1)\n",
    "scenarios = scenarios.transpose().sort_index().transpose()"
   ]
  },
  {
   "cell_type": "code",
   "execution_count": 6,
   "metadata": {},
   "outputs": [
    {
     "data": {
      "text/html": [
       "<div>\n",
       "<style scoped>\n",
       "    .dataframe tbody tr th:only-of-type {\n",
       "        vertical-align: middle;\n",
       "    }\n",
       "\n",
       "    .dataframe tbody tr th {\n",
       "        vertical-align: top;\n",
       "    }\n",
       "\n",
       "    .dataframe thead th {\n",
       "        text-align: right;\n",
       "    }\n",
       "</style>\n",
       "<table border=\"1\" class=\"dataframe\">\n",
       "  <thead>\n",
       "    <tr style=\"text-align: right;\">\n",
       "      <th></th>\n",
       "      <th>-0.05</th>\n",
       "      <th>-0.04</th>\n",
       "      <th>-0.03</th>\n",
       "      <th>-0.02</th>\n",
       "      <th>-0.01</th>\n",
       "      <th>0.00</th>\n",
       "      <th>0.01</th>\n",
       "      <th>0.02</th>\n",
       "      <th>0.03</th>\n",
       "      <th>0.04</th>\n",
       "      <th>0.05</th>\n",
       "    </tr>\n",
       "    <tr>\n",
       "      <th>symbol</th>\n",
       "      <th></th>\n",
       "      <th></th>\n",
       "      <th></th>\n",
       "      <th></th>\n",
       "      <th></th>\n",
       "      <th></th>\n",
       "      <th></th>\n",
       "      <th></th>\n",
       "      <th></th>\n",
       "      <th></th>\n",
       "      <th></th>\n",
       "    </tr>\n",
       "  </thead>\n",
       "  <tbody>\n",
       "    <tr>\n",
       "      <th>20T_4339K_put</th>\n",
       "      <td>5.14</td>\n",
       "      <td>2.62</td>\n",
       "      <td>1.02</td>\n",
       "      <td>0.15</td>\n",
       "      <td>-0.15</td>\n",
       "      <td>-0.74</td>\n",
       "      <td>0.49</td>\n",
       "      <td>1.25</td>\n",
       "      <td>2.22</td>\n",
       "      <td>3.34</td>\n",
       "      <td>4.59</td>\n",
       "    </tr>\n",
       "    <tr>\n",
       "      <th>20T_4564K_put</th>\n",
       "      <td>15.71</td>\n",
       "      <td>8.80</td>\n",
       "      <td>4.08</td>\n",
       "      <td>1.23</td>\n",
       "      <td>-0.04</td>\n",
       "      <td>-1.71</td>\n",
       "      <td>1.12</td>\n",
       "      <td>3.10</td>\n",
       "      <td>5.78</td>\n",
       "      <td>9.01</td>\n",
       "      <td>12.68</td>\n",
       "    </tr>\n",
       "    <tr>\n",
       "      <th>20T_4716K_put</th>\n",
       "      <td>25.99</td>\n",
       "      <td>15.42</td>\n",
       "      <td>7.76</td>\n",
       "      <td>2.82</td>\n",
       "      <td>0.32</td>\n",
       "      <td>-2.57</td>\n",
       "      <td>1.56</td>\n",
       "      <td>4.71</td>\n",
       "      <td>9.21</td>\n",
       "      <td>14.82</td>\n",
       "      <td>21.33</td>\n",
       "    </tr>\n",
       "    <tr>\n",
       "      <th>20T_4828K_put</th>\n",
       "      <td>32.49</td>\n",
       "      <td>20.03</td>\n",
       "      <td>10.63</td>\n",
       "      <td>4.25</td>\n",
       "      <td>0.77</td>\n",
       "      <td>-3.15</td>\n",
       "      <td>1.71</td>\n",
       "      <td>5.63</td>\n",
       "      <td>11.50</td>\n",
       "      <td>19.03</td>\n",
       "      <td>27.97</td>\n",
       "    </tr>\n",
       "    <tr>\n",
       "      <th>20T_4926K_put</th>\n",
       "      <td>35.59</td>\n",
       "      <td>22.62</td>\n",
       "      <td>12.50</td>\n",
       "      <td>5.35</td>\n",
       "      <td>1.20</td>\n",
       "      <td>-3.48</td>\n",
       "      <td>1.64</td>\n",
       "      <td>5.95</td>\n",
       "      <td>12.69</td>\n",
       "      <td>21.61</td>\n",
       "      <td>32.45</td>\n",
       "    </tr>\n",
       "    <tr>\n",
       "      <th>20T_5000K_call</th>\n",
       "      <td>35.84</td>\n",
       "      <td>23.26</td>\n",
       "      <td>13.21</td>\n",
       "      <td>5.91</td>\n",
       "      <td>1.48</td>\n",
       "      <td>-3.58</td>\n",
       "      <td>1.46</td>\n",
       "      <td>5.79</td>\n",
       "      <td>12.84</td>\n",
       "      <td>22.40</td>\n",
       "      <td>34.26</td>\n",
       "    </tr>\n",
       "    <tr>\n",
       "      <th>20T_5104K_call</th>\n",
       "      <td>33.33</td>\n",
       "      <td>22.19</td>\n",
       "      <td>13.04</td>\n",
       "      <td>6.14</td>\n",
       "      <td>1.73</td>\n",
       "      <td>-3.48</td>\n",
       "      <td>1.09</td>\n",
       "      <td>5.06</td>\n",
       "      <td>11.92</td>\n",
       "      <td>21.59</td>\n",
       "      <td>33.95</td>\n",
       "    </tr>\n",
       "    <tr>\n",
       "      <th>20T_5206K_call</th>\n",
       "      <td>28.60</td>\n",
       "      <td>19.44</td>\n",
       "      <td>11.75</td>\n",
       "      <td>5.77</td>\n",
       "      <td>1.78</td>\n",
       "      <td>-3.16</td>\n",
       "      <td>0.67</td>\n",
       "      <td>3.97</td>\n",
       "      <td>10.04</td>\n",
       "      <td>18.93</td>\n",
       "      <td>30.66</td>\n",
       "    </tr>\n",
       "    <tr>\n",
       "      <th>20T_5324K_call</th>\n",
       "      <td>22.06</td>\n",
       "      <td>15.30</td>\n",
       "      <td>9.50</td>\n",
       "      <td>4.86</td>\n",
       "      <td>1.61</td>\n",
       "      <td>-2.62</td>\n",
       "      <td>0.26</td>\n",
       "      <td>2.65</td>\n",
       "      <td>7.37</td>\n",
       "      <td>14.62</td>\n",
       "      <td>24.53</td>\n",
       "    </tr>\n",
       "    <tr>\n",
       "      <th>20T_5516K_call</th>\n",
       "      <td>12.64</td>\n",
       "      <td>8.98</td>\n",
       "      <td>5.76</td>\n",
       "      <td>3.10</td>\n",
       "      <td>1.12</td>\n",
       "      <td>-1.70</td>\n",
       "      <td>-0.10</td>\n",
       "      <td>1.04</td>\n",
       "      <td>3.61</td>\n",
       "      <td>7.86</td>\n",
       "      <td>14.02</td>\n",
       "    </tr>\n",
       "    <tr>\n",
       "      <th>20T_5815K_call</th>\n",
       "      <td>4.45</td>\n",
       "      <td>3.24</td>\n",
       "      <td>2.15</td>\n",
       "      <td>1.22</td>\n",
       "      <td>0.48</td>\n",
       "      <td>-0.72</td>\n",
       "      <td>-0.16</td>\n",
       "      <td>0.08</td>\n",
       "      <td>0.82</td>\n",
       "      <td>2.17</td>\n",
       "      <td>4.27</td>\n",
       "    </tr>\n",
       "  </tbody>\n",
       "</table>\n",
       "</div>"
      ],
      "text/plain": [
       "                -0.05  -0.04  -0.03  -0.02  -0.01  0.00   0.01   0.02   0.03   \\\n",
       "symbol                                                                          \n",
       "20T_4339K_put    5.14   2.62   1.02   0.15  -0.15  -0.74   0.49   1.25   2.22   \n",
       "20T_4564K_put   15.71   8.80   4.08   1.23  -0.04  -1.71   1.12   3.10   5.78   \n",
       "20T_4716K_put   25.99  15.42   7.76   2.82   0.32  -2.57   1.56   4.71   9.21   \n",
       "20T_4828K_put   32.49  20.03  10.63   4.25   0.77  -3.15   1.71   5.63  11.50   \n",
       "20T_4926K_put   35.59  22.62  12.50   5.35   1.20  -3.48   1.64   5.95  12.69   \n",
       "20T_5000K_call  35.84  23.26  13.21   5.91   1.48  -3.58   1.46   5.79  12.84   \n",
       "20T_5104K_call  33.33  22.19  13.04   6.14   1.73  -3.48   1.09   5.06  11.92   \n",
       "20T_5206K_call  28.60  19.44  11.75   5.77   1.78  -3.16   0.67   3.97  10.04   \n",
       "20T_5324K_call  22.06  15.30   9.50   4.86   1.61  -2.62   0.26   2.65   7.37   \n",
       "20T_5516K_call  12.64   8.98   5.76   3.10   1.12  -1.70  -0.10   1.04   3.61   \n",
       "20T_5815K_call   4.45   3.24   2.15   1.22   0.48  -0.72  -0.16   0.08   0.82   \n",
       "\n",
       "                0.04   0.05   \n",
       "symbol                        \n",
       "20T_4339K_put    3.34   4.59  \n",
       "20T_4564K_put    9.01  12.68  \n",
       "20T_4716K_put   14.82  21.33  \n",
       "20T_4828K_put   19.03  27.97  \n",
       "20T_4926K_put   21.61  32.45  \n",
       "20T_5000K_call  22.40  34.26  \n",
       "20T_5104K_call  21.59  33.95  \n",
       "20T_5206K_call  18.93  30.66  \n",
       "20T_5324K_call  14.62  24.53  \n",
       "20T_5516K_call   7.86  14.02  \n",
       "20T_5815K_call   2.17   4.27  "
      ]
     },
     "execution_count": 6,
     "metadata": {},
     "output_type": "execute_result"
    }
   ],
   "source": [
    "scenarios"
   ]
  },
  {
   "cell_type": "code",
   "execution_count": 7,
   "metadata": {},
   "outputs": [],
   "source": [
    "target_scenario = -0.05\n",
    "df = scenarios.drop(target_scenario, axis=1)\n",
    "s = scenarios[target_scenario]"
   ]
  },
  {
   "cell_type": "code",
   "execution_count": 8,
   "metadata": {},
   "outputs": [
    {
     "name": "stdout",
     "output_type": "stream",
     "text": [
      "Optimal weights:\n",
      " symbol\n",
      "20T_4339K_put    -10,000.00\n",
      "20T_4564K_put    -10,000.00\n",
      "20T_4716K_put    -10,000.00\n",
      "20T_4828K_put      7,829.54\n",
      "20T_4926K_put     10,000.00\n",
      "20T_5000K_call    10,000.00\n",
      "20T_5104K_call    10,000.00\n",
      "20T_5206K_call    -9,312.29\n",
      "20T_5324K_call   -10,000.00\n",
      "20T_5516K_call   -10,000.00\n",
      "20T_5815K_call   -10,000.00\n",
      "Name: weights, dtype: float64\n",
      "Maximized objective (w^T s): 175775.99706054755\n"
     ]
    }
   ],
   "source": [
    "# Constrain weights between -0.5 and 0.8\n",
    "w_opt, res = maximize_with_bounds(df=df, s=s, w_min=-10000, w_max=10000)\n",
    "\n",
    "print(\"Optimal weights:\\n\", w_opt)\n",
    "print(\"Maximized objective (w^T s):\", float(w_opt.dot(s)))"
   ]
  },
  {
   "cell_type": "code",
   "execution_count": 9,
   "metadata": {},
   "outputs": [
    {
     "data": {
      "text/plain": [
       "-0.30    -8,767,113.32\n",
       "-0.10       281,511.61\n",
       "-0.05       175,776.00\n",
       "-0.04       112,895.34\n",
       "-0.03        58,695.76\n",
       "-0.02        19,793.98\n",
       "-0.01             0.00\n",
       "0.01         17,358.70\n",
       "0.02         46,827.37\n",
       "0.03         80,899.64\n",
       "0.04        110,526.93\n",
       "0.05        125,893.69\n",
       "0.10       -325,206.25\n",
       "0.30    -13,771,373.84\n",
       "dtype: float64"
      ]
     },
     "execution_count": 9,
     "metadata": {},
     "output_type": "execute_result"
    }
   ],
   "source": [
    "market_data_df.loc[:, [-0.3, -0.1, -0.05, -0.04, -0.03, -0.02, -0.01, 0.01, 0.02, 0.03, 0.04, 0.05, 0.1, 0.3]].multiply(w_opt, axis=0).sum(axis=0)"
   ]
  },
  {
   "cell_type": "code",
   "execution_count": 14,
   "metadata": {},
   "outputs": [
    {
     "data": {
      "text/plain": [
       "-0.30    6,283,630.31\n",
       "-0.10    1,277,115.38\n",
       "-0.05      358,406.13\n",
       "-0.04      232,579.61\n",
       "-0.03      132,131.11\n",
       "-0.02       59,064.61\n",
       "-0.01       14,787.91\n",
       " theta     -35,767.74\n",
       "0.01        14,641.39\n",
       "0.02        57,914.54\n",
       "0.03       128,368.92\n",
       "0.04       224,034.80\n",
       "0.05       342,583.56\n",
       "0.10     1,190,964.49\n",
       "0.30     5,857,122.45\n",
       "Name: 20T_5000K_call, dtype: float64"
      ]
     },
     "execution_count": 14,
     "metadata": {},
     "output_type": "execute_result"
    }
   ],
   "source": [
    "market_data_df.loc[:, [-0.3, -0.1, -0.05, -0.04, -0.03, -0.02, -0.01, 'theta', 0.01, 0.02, 0.03, 0.04, 0.05, 0.1, 0.3]].loc['20T_5000K_call']*10_000"
   ]
  },
  {
   "cell_type": "code",
   "execution_count": 11,
   "metadata": {},
   "outputs": [
    {
     "data": {
      "text/plain": [
       "symbol\n",
       "20T_4339K_put    -10,537.45\n",
       "20T_4564K_put    -25,747.21\n",
       "20T_4716K_put    -39,795.96\n",
       "20T_4828K_put     38,579.96\n",
       "20T_4926K_put     54,772.12\n",
       "20T_5000K_call    56,382.64\n",
       "20T_5104K_call    54,681.28\n",
       "20T_5206K_call   -45,872.46\n",
       "20T_5324K_call   -40,355.02\n",
       "20T_5516K_call   -25,451.95\n",
       "20T_5815K_call   -10,215.32\n",
       "dtype: float64"
      ]
     },
     "execution_count": 11,
     "metadata": {},
     "output_type": "execute_result"
    }
   ],
   "source": [
    "market_data_df['vega']* w_opt"
   ]
  },
  {
   "cell_type": "code",
   "execution_count": null,
   "metadata": {},
   "outputs": [],
   "source": []
  }
 ],
 "metadata": {
  "kernelspec": {
   "display_name": "base",
   "language": "python",
   "name": "python3"
  },
  "language_info": {
   "codemirror_mode": {
    "name": "ipython",
    "version": 3
   },
   "file_extension": ".py",
   "mimetype": "text/x-python",
   "name": "python",
   "nbconvert_exporter": "python",
   "pygments_lexer": "ipython3",
   "version": "3.12.4"
  }
 },
 "nbformat": 4,
 "nbformat_minor": 2
}
