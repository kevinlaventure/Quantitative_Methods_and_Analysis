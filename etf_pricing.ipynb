{
 "cells": [
  {
   "cell_type": "code",
   "execution_count": 74,
   "metadata": {},
   "outputs": [],
   "source": [
    "# -------\n",
    "# IMPORT LIBRAIRIES\n",
    "# -------\n",
    "import numpy as np\n",
    "import pandas as pd\n",
    "from python_module.pricing_model import HestonModel\n",
    "pd.options.display.float_format = '{:.2f}'.format"
   ]
  },
  {
   "cell_type": "code",
   "execution_count": 75,
   "metadata": {},
   "outputs": [],
   "source": [
    "# -------\n",
    "# INPUT\n",
    "# -------\n",
    "S0 = 100                  # Initial stock price\n",
    "K = 100                   # Strike price\n",
    "T = 1.0                   # Time to maturity (1 year)\n",
    "r = 0.04                  # Risk-free rate\n",
    "v0 = 0.16**2              # Initial variance\n",
    "theta = 0.20**2           # Long-term variance\n",
    "kappa = 2.0               # Mean reversion speed\n",
    "xi = 2                    # Volatility of variance\n",
    "rho = -0.5                # Correlation between stock and variance\n",
    "n_steps = 252             # Number of time steps (daily)\n",
    "n_simulations = 1000      # Number of Monte Carlo simulations\n",
    "bump = 0.01               # Bump size for delta calculation\n",
    "tc = ((0.01)/100)         # Future transaction cost\n",
    "margin_pct = 0.05         # Percentage of notional for maintenance margin\n",
    "mumtiplier = -1           # Multiplier of the strategy\n",
    "initial_notional = 100    # Initial notional"
   ]
  },
  {
   "cell_type": "code",
   "execution_count": 76,
   "metadata": {},
   "outputs": [],
   "source": [
    "# Simulate prices\n",
    "prices, _ = HestonModel.compute_monte_carlo(S0, K, T, r, v0, theta, kappa, xi, rho, n_simulations, n_steps)"
   ]
  },
  {
   "cell_type": "code",
   "execution_count": 77,
   "metadata": {},
   "outputs": [],
   "source": [
    "\n",
    "results = dict()\n",
    "for simulation in prices:\n",
    "    df_temp = prices[simulation].to_frame('index')\n",
    "    df_temp['index_pct_change'] = df_temp['index'].pct_change().fillna(0)\n",
    "    df_temp['strategy_pct_change'] = df_temp['index_pct_change'].multiply(mumtiplier)\n",
    "    df_temp['strategy_notional'] = df_temp['strategy_pct_change'].add(1).cumprod() * initial_notional\n",
    "    df_temp['delta'] = (df_temp['strategy_notional']*bump*mumtiplier)/(df_temp['index']*bump)\n",
    "    df_temp['delta_cash'] = df_temp['delta']*df_temp['index']\n",
    "    df_temp['d_delta_cash'] = df_temp['delta_cash'].diff().fillna(initial_notional)\n",
    "    rebalancing_cost = (df_temp['d_delta_cash'].abs()*tc).sum()\n",
    "    holding_cost = ((df_temp['delta_cash'].abs()*margin_pct)*(r/360)).sum()\n",
    "    total_cost = rebalancing_cost+holding_cost\n",
    "    results[simulation] = total_cost/initial_notional"
   ]
  },
  {
   "cell_type": "code",
   "execution_count": 78,
   "metadata": {},
   "outputs": [
    {
     "data": {
      "text/plain": [
       "count   10000000.00\n",
       "mean          16.88\n",
       "std            4.03\n",
       "min           11.75\n",
       "25%           14.95\n",
       "50%           15.81\n",
       "75%           17.26\n",
       "max           49.74\n",
       "dtype: float64"
      ]
     },
     "execution_count": 78,
     "metadata": {},
     "output_type": "execute_result"
    }
   ],
   "source": [
    "pd.Series(results).describe()*10000"
   ]
  }
 ],
 "metadata": {
  "kernelspec": {
   "display_name": "base",
   "language": "python",
   "name": "python3"
  },
  "language_info": {
   "codemirror_mode": {
    "name": "ipython",
    "version": 3
   },
   "file_extension": ".py",
   "mimetype": "text/x-python",
   "name": "python",
   "nbconvert_exporter": "python",
   "pygments_lexer": "ipython3",
   "version": "3.12.4"
  }
 },
 "nbformat": 4,
 "nbformat_minor": 2
}
