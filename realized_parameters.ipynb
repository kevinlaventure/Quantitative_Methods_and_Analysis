{
 "cells": [
  {
   "cell_type": "code",
   "execution_count": 12,
   "metadata": {},
   "outputs": [],
   "source": [
    "# -------\n",
    "# IMPORT LIBRAIRIES\n",
    "# -------\n",
    "import numpy as np\n",
    "import pandas as pd\n",
    "import scipy.stats as stats\n",
    "from scipy.optimize import minimize\n",
    "from scipy.optimize import least_squares\n",
    "from sklearn.linear_model import LinearRegression\n",
    "from python_module.pricing_model import SABRModel, BlackScholesModel"
   ]
  },
  {
   "cell_type": "code",
   "execution_count": 13,
   "metadata": {},
   "outputs": [],
   "source": [
    "F = 200\n",
    "T = 1\n",
    "alpha = 0.1\n",
    "rho = -0.25\n",
    "nu = 0.7\n",
    "n_steps = 20\n",
    "n_paths = 100000\n",
    "spot, vol = SABRModel.compute_montecarlo(F=F, T=T, alpha=alpha, beta=1, rho=rho, nu=nu, n_steps=n_steps, n_paths=n_paths)\n",
    "market_mean = spot.to_numpy().flatten().mean()\n",
    "market_std = spot.to_numpy().flatten().std()\n",
    "market_skew = stats.skew(spot.to_numpy().flatten())\n",
    "market_kurtosis = stats.kurtosis(spot.to_numpy().flatten())"
   ]
  },
  {
   "cell_type": "code",
   "execution_count": 14,
   "metadata": {},
   "outputs": [
    {
     "data": {
      "text/plain": [
       "(0.09999999999998323, -0.24999999999701775, 0.6999999999997523)"
      ]
     },
     "execution_count": 14,
     "metadata": {},
     "output_type": "execute_result"
    }
   ],
   "source": [
    "def objective_function(params, F, T, n_steps, n_paths, market_mean, market_std, market_skew, market_kurtosis):\n",
    "\n",
    "    alpha, rho, nu = params\n",
    "    spot, vol = SABRModel.compute_montecarlo(F=F, T=T, alpha=alpha, beta=1, rho=rho, nu=nu, n_steps=n_steps, n_paths=n_paths)\n",
    "    model_mean = spot.to_numpy().flatten().mean()\n",
    "    model_std = spot.to_numpy().flatten().std()\n",
    "    model_skew = stats.skew(spot.to_numpy().flatten())\n",
    "    model_kurtosis = stats.kurtosis(spot.to_numpy().flatten())\n",
    "    errors = np.array([market_mean, market_std, market_skew, market_kurtosis]) - np.array([model_mean, model_std, model_skew, model_kurtosis])\n",
    "    return errors\n",
    "\n",
    "init_guess = [0.1, 0.0, 0.3]\n",
    "bounds = ([1e-6, -0.9999, 1e-6], [1, 0.9999, 3])\n",
    "result = least_squares(objective_function, x0=init_guess, args=(F, T, n_steps, n_paths, market_mean, market_std, market_skew, market_kurtosis), bounds=bounds)\n",
    "calibrated_alpha, calibrated_rho, calibrated_nu = result.x\n",
    "calibrated_alpha, calibrated_rho, calibrated_nu"
   ]
  },
  {
   "cell_type": "code",
   "execution_count": 15,
   "metadata": {},
   "outputs": [],
   "source": [
    "def solve_realized_parameters(F, spot_timeseries, T, n_paths=100000):\n",
    "    n_steps = len(spot_timeseries)\n",
    "    market_mean = spot_timeseries.mean()\n",
    "    market_std = spot_timeseries.std()\n",
    "    market_skew = stats.skew(spot_timeseries)\n",
    "    market_kurtosis = stats.kurtosis(spot_timeseries)\n",
    "\n",
    "    def objective_function(params, F, T, n_steps, n_paths, market_mean, market_std, market_skew, market_kurtosis):\n",
    "\n",
    "        alpha, rho, nu = params\n",
    "        spot, vol = SABRModel.compute_montecarlo(F=F, T=T, alpha=alpha, beta=1, rho=rho, nu=nu, n_steps=n_steps, n_paths=n_paths)\n",
    "        model_mean = spot.to_numpy().flatten().mean()\n",
    "        model_std = spot.to_numpy().flatten().std()\n",
    "        model_skew = stats.skew(spot.to_numpy().flatten())\n",
    "        model_kurtosis = stats.kurtosis(spot.to_numpy().flatten())\n",
    "        errors = np.array([market_mean, market_std, market_skew, market_kurtosis]) - np.array([model_mean, model_std, model_skew, model_kurtosis])\n",
    "        return errors\n",
    "\n",
    "    init_guess = [0.1, 0.0, 0.3]\n",
    "    bounds = ([1e-6, -0.9999, 1e-6], [1, 0.9999, 3])\n",
    "    result = least_squares(objective_function, x0=init_guess, args=(F, T, n_steps, n_paths, market_mean, market_std, market_skew, market_kurtosis), bounds=bounds)\n",
    "    calibrated_alpha, calibrated_rho, calibrated_nu = result.x\n",
    "    return calibrated_alpha, calibrated_rho, calibrated_nu"
   ]
  }
 ],
 "metadata": {
  "kernelspec": {
   "display_name": "base",
   "language": "python",
   "name": "python3"
  },
  "language_info": {
   "codemirror_mode": {
    "name": "ipython",
    "version": 3
   },
   "file_extension": ".py",
   "mimetype": "text/x-python",
   "name": "python",
   "nbconvert_exporter": "python",
   "pygments_lexer": "ipython3",
   "version": "3.12.4"
  }
 },
 "nbformat": 4,
 "nbformat_minor": 2
}
