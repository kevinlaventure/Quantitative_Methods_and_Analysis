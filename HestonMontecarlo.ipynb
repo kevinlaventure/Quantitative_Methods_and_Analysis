{
 "cells": [
  {
   "cell_type": "code",
   "execution_count": 2,
   "id": "df193dad-38f0-4583-b28a-b6d349924f9c",
   "metadata": {},
   "outputs": [],
   "source": [
    "# -------\n",
    "# IMPORT LIBRAIRIES\n",
    "# -------\n",
    "import numpy as np"
   ]
  },
  {
   "cell_type": "code",
   "execution_count": 3,
   "id": "15978523-b45e-4882-af84-95e43c48f9c8",
   "metadata": {},
   "outputs": [],
   "source": [
    "# -------\n",
    "# DEFINE CUSTOM FUNCTION\n",
    "# -------\n",
    "def compute_monte_carlo(S0, K, T, r, v0, theta, kappa, xi, rho, n_simulations, n_steps):\n",
    "    dt = T / n_steps\n",
    "    prices = np.zeros((n_simulations, n_steps + 1))\n",
    "    variances = np.zeros((n_simulations, n_steps + 1))\n",
    "    \n",
    "    # Initial values\n",
    "    prices[:, 0] = S0\n",
    "    variances[:, 0] = v0\n",
    "    \n",
    "    # Generate random numbers for Brownian motions\n",
    "    Z1 = np.random.normal(size=(n_simulations, n_steps))\n",
    "    Z2 = np.random.normal(size=(n_simulations, n_steps))\n",
    "    W1 = Z1\n",
    "    W2 = rho * Z1 + np.sqrt(1 - rho**2) * Z2  # Correlated Brownian motion\n",
    "\n",
    "    for t in range(1, n_steps + 1):\n",
    "        \n",
    "        # Variance process (CIR model)\n",
    "        variances[:, t] = np.maximum(\n",
    "            variances[:, t - 1] + kappa * (theta - variances[:, t - 1]) * dt +\n",
    "            xi * np.sqrt(variances[:, t - 1] * dt) * W2[:, t - 1],\n",
    "            0  # Ensure non-negativity\n",
    "        )\n",
    "        \n",
    "        # Stock price process\n",
    "        prices[:, t] = prices[:, t - 1] * np.exp(\n",
    "            (r - 0.5 * variances[:, t - 1]) * dt +\n",
    "            np.sqrt(variances[:, t - 1] * dt) * W1[:, t - 1]\n",
    "        )\n",
    "\n",
    "    # Compute payoff for European call option\n",
    "    payoffs = np.maximum(prices[:, -1] - K, 0)\n",
    "    option_price = np.exp(-r * T) * np.mean(payoffs)\n",
    "\n",
    "    return option_price"
   ]
  },
  {
   "cell_type": "code",
   "execution_count": 9,
   "id": "63c5eadd-8778-4b45-bd46-edb7d498a845",
   "metadata": {},
   "outputs": [
    {
     "name": "stdout",
     "output_type": "stream",
     "text": [
      "The European call option price is: 9.4100\n"
     ]
    }
   ],
   "source": [
    "# -------\n",
    "# EXAMPLE USAGE\n",
    "# -------\n",
    "S0 = 100                 # Initial stock price\n",
    "K = 100                  # Strike price\n",
    "T = 1.0                  # Time to maturity (1 year)\n",
    "r = 0.05                 # Risk-free rate\n",
    "v0 = 0.15**2             # Initial variance\n",
    "theta = 0.2**2           # Long-term variance\n",
    "kappa = 2.0              # Mean reversion speed\n",
    "xi = 0.5                 # Volatility of variance\n",
    "rho = -0.5               # Correlation between stock and variance\n",
    "n_steps = 252            # Number of time steps (daily)\n",
    "n_simulations = 100_000  # Number of Monte Carlo simulations\n",
    "\n",
    "# Compute option price\n",
    "option_price = compute_monte_carlo(S0, K, T, r, v0, theta, kappa, xi, rho, n_simulations, n_steps)\n",
    "print(f\"The European call option price is: {option_price:.4f}\")"
   ]
  },
  {
   "cell_type": "code",
   "execution_count": null,
   "id": "2b786c91-a2c0-47e9-9d65-d2607617adfb",
   "metadata": {},
   "outputs": [],
   "source": []
  }
 ],
 "metadata": {
  "kernelspec": {
   "display_name": "Python 3 (ipykernel)",
   "language": "python",
   "name": "python3"
  },
  "language_info": {
   "codemirror_mode": {
    "name": "ipython",
    "version": 3
   },
   "file_extension": ".py",
   "mimetype": "text/x-python",
   "name": "python",
   "nbconvert_exporter": "python",
   "pygments_lexer": "ipython3",
   "version": "3.12.4"
  }
 },
 "nbformat": 4,
 "nbformat_minor": 5
}
