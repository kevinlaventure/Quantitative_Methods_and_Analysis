{
 "cells": [
  {
   "cell_type": "code",
   "execution_count": 1,
   "id": "ae5b3a0c",
   "metadata": {},
   "outputs": [],
   "source": [
    "# -------\n",
    "# IMPORT LIBRAIRIES\n",
    "# -------\n",
    "import numpy as np\n",
    "import pandas as pd\n",
    "from python_module.pricing_model import BSMModel\n",
    "\n",
    "pd.options.display.max_rows = 999\n",
    "pd.options.display.max_columns = 999\n",
    "pd.options.display.float_format = '{:,.5f}'.format"
   ]
  },
  {
   "cell_type": "code",
   "execution_count": 2,
   "id": "16ce80e9",
   "metadata": {},
   "outputs": [],
   "source": [
    "def compute_numeric_derivative(pricing_fun, base_params, param_names, h=None):\n",
    "    \"\"\"\n",
    "    Numerically compute derivative(s) of pricing_fun at base_params.\n",
    "\n",
    "    - pricing_fun: callable(**kwargs) -> scalar price\n",
    "    - base_params: dict of parameters to pass to pricing_fun\n",
    "    - param_names: str or (str, str)\n",
    "        * If str -> first derivative w.r.t that parameter (central difference)\n",
    "        * If (p, p) -> second derivative w.r.t p (second central difference)\n",
    "        * If (p, q) with p != q -> mixed second partial d2/dp dq (central)\n",
    "    - h: optional bump size (scalar or dict mapping param->h). If None, automatic h used.\n",
    "\n",
    "    Returns numeric derivative (float).\n",
    "    \"\"\"\n",
    "    import numpy as np\n",
    "\n",
    "    def safe_eval(params):\n",
    "        val = pricing_fun(**params)\n",
    "        a = np.asarray(val)\n",
    "        if a.size != 1:\n",
    "            raise ValueError(\"pricing_fun must return a scalar-like value\")\n",
    "        return float(a.item())\n",
    "\n",
    "    eps = np.finfo(float).eps\n",
    "    # normalize param_names to tuple\n",
    "    if isinstance(param_names, str):\n",
    "        params = (param_names,)\n",
    "    else:\n",
    "        params = tuple(param_names)\n",
    "\n",
    "    # helper to compute adaptive h for a single param\n",
    "    def get_h_for(name, x):\n",
    "        if h is None:\n",
    "            return (eps ** (1/3)) * (abs(x) + 1.0)\n",
    "        if isinstance(h, dict):\n",
    "            return float(h.get(name, (eps ** (1/3)) * (abs(x) + 1.0)))\n",
    "        return float(h)\n",
    "\n",
    "    # single derivative (first)\n",
    "    if len(params) == 1:\n",
    "        p = params[0]\n",
    "        x0 = float(base_params[p])\n",
    "        hh = get_h_for(p, x0)\n",
    "        p_plus = dict(base_params); p_plus[p] = x0 + hh\n",
    "        p_minus = dict(base_params); p_minus[p] = x0 - hh\n",
    "        f_plus = safe_eval(p_plus)\n",
    "        f_minus = safe_eval(p_minus)\n",
    "        return (f_plus - f_minus) / (2.0 * hh)\n",
    "\n",
    "    # two params -> second derivative or mixed partial\n",
    "    if len(params) == 2:\n",
    "        p, q = params\n",
    "        x_p = float(base_params[p])\n",
    "        x_q = float(base_params[q])\n",
    "        h_p = get_h_for(p, x_p)\n",
    "        h_q = get_h_for(q, x_q)\n",
    "\n",
    "        if p == q:\n",
    "            # second derivative w.r.t same parameter\n",
    "            p_plus = dict(base_params); p_plus[p] = x_p + h_p\n",
    "            p_minus = dict(base_params); p_minus[p] = x_p - h_p\n",
    "            f_plus = safe_eval(p_plus)\n",
    "            f0 = safe_eval(base_params)\n",
    "            f_minus = safe_eval(p_minus)\n",
    "            return (f_plus - 2.0 * f0 + f_minus) / (h_p ** 2)\n",
    "        else:\n",
    "            # mixed partial: central 4-point formula\n",
    "            pp = dict(base_params); pp[p] = x_p + h_p; pp[q] = x_q + h_q\n",
    "            pm = dict(base_params); pm[p] = x_p + h_p; pm[q] = x_q - h_q\n",
    "            mp = dict(base_params); mp[p] = x_p - h_p; mp[q] = x_q + h_q\n",
    "            mm = dict(base_params); mm[p] = x_p - h_p; mm[q] = x_q - h_q\n",
    "            f_pp = safe_eval(pp)\n",
    "            f_pm = safe_eval(pm)\n",
    "            f_mp = safe_eval(mp)\n",
    "            f_mm = safe_eval(mm)\n",
    "            return (f_pp - f_pm - f_mp + f_mm) / (4.0 * h_p * h_q)\n",
    "\n",
    "    raise ValueError(\"param_names must be a string or a tuple/list of two strings\")"
   ]
  },
  {
   "cell_type": "code",
   "execution_count": 3,
   "id": "34401d95",
   "metadata": {},
   "outputs": [],
   "source": [
    "# wrapper if your model returns a dict or complex object\n",
    "def price_scalar(**kwargs):\n",
    "    return BSMModel.compute_option_with_forward(**kwargs)  # must return scalar\n",
    "\n",
    "base = dict(F=100, K=100, T=1, r=0, sigma=0.3, option_type='call', compute_greeks=False)\n",
    "\n",
    "delta = compute_numeric_derivative(price_scalar, base, 'F')\n",
    "gamma = compute_numeric_derivative(price_scalar, base, ('F','F'))\n",
    "vega = compute_numeric_derivative(price_scalar, base, ('sigma'))\n",
    "theta = compute_numeric_derivative(price_scalar, base, ('T'))\n",
    "vanna = compute_numeric_derivative(price_scalar, base, ('F','sigma'))\n",
    "volga = compute_numeric_derivative(price_scalar, base, ('sigma','sigma'))"
   ]
  },
  {
   "cell_type": "code",
   "execution_count": 4,
   "id": "ff181775",
   "metadata": {},
   "outputs": [
    {
     "data": {
      "text/plain": [
       "(0.5596176923562872,\n",
       " 0.013149315164148868,\n",
       " 0.39447933090164694,\n",
       " -0.02366875985292543,\n",
       " 0.1972393877324846,\n",
       " -2.958673546784521)"
      ]
     },
     "execution_count": 4,
     "metadata": {},
     "output_type": "execute_result"
    }
   ],
   "source": [
    "delta, gamma, vega/100, theta/-250, vanna, volga"
   ]
  },
  {
   "cell_type": "code",
   "execution_count": 5,
   "id": "6ca03003",
   "metadata": {},
   "outputs": [
    {
     "data": {
      "text/plain": [
       "{'price': 11.923538474048499,\n",
       " 'delta': 0.5596176923702425,\n",
       " 'gamma': 0.013149311030262964,\n",
       " 'vega': 0.39447933090788895,\n",
       " 'theta': -0.023480912554041007,\n",
       " 'vanna': 0.19723966545394447,\n",
       " 'volga': -2.958594981809167}"
      ]
     },
     "execution_count": 5,
     "metadata": {},
     "output_type": "execute_result"
    }
   ],
   "source": [
    "base = dict(F=100, K=100, T=1, r=0, sigma=0.3, option_type='call', compute_greeks=True)\n",
    "BSMModel.compute_option_with_forward(**base)"
   ]
  },
  {
   "cell_type": "code",
   "execution_count": 6,
   "id": "b996b91f",
   "metadata": {},
   "outputs": [
    {
     "data": {
      "text/plain": [
       "{'total_pnl': -0.023504778274613614,\n",
       " 'delta_pnl': 0.0,\n",
       " 'gamma_pnl': 0.0,\n",
       " 'theta_pnl': -0.02329455610519933,\n",
       " 'vega_pnl': 0.0,\n",
       " 'vanna_pnl': 0.0,\n",
       " 'volga_pnl': -0.0,\n",
       " 'unexplained_pnl': -0.00021022216941428418}"
      ]
     },
     "execution_count": 6,
     "metadata": {},
     "output_type": "execute_result"
    }
   ],
   "source": [
    "BSMModel.compute_pnl_attribution(F_start=100, F_end=100, sigma_start=0.30, sigma_end=0.30, T_start=252/252, T_end=251/252, K=100, r=0, option_type='call')"
   ]
  },
  {
   "cell_type": "code",
   "execution_count": 7,
   "id": "711e0a41",
   "metadata": {},
   "outputs": [
    {
     "data": {
      "text/plain": [
       "{'total_pnl': 0.3943297954008713,\n",
       " 'delta_pnl': 0.0,\n",
       " 'gamma_pnl': 0.0,\n",
       " 'theta_pnl': 0.0,\n",
       " 'vega_pnl': 0.3944793309078893,\n",
       " 'vanna_pnl': 0.0,\n",
       " 'volga_pnl': -0.00014792974909045862,\n",
       " 'unexplained_pnl': -1.605757927514162e-06}"
      ]
     },
     "execution_count": 7,
     "metadata": {},
     "output_type": "execute_result"
    }
   ],
   "source": [
    "BSMModel.compute_pnl_attribution(F_start=100, F_end=100, sigma_start=0.30, sigma_end=0.31, T_start=252/252, T_end=252/252, K=100, r=0, option_type='call')"
   ]
  },
  {
   "cell_type": "code",
   "execution_count": 11,
   "id": "03dd83b7",
   "metadata": {},
   "outputs": [
    {
     "data": {
      "text/plain": [
       "{'total_pnl': 4.924775558524523,\n",
       " 'delta_pnl': 2.7980884618512123,\n",
       " 'gamma_pnl': 0.16436638787828706,\n",
       " 'theta_pnl': -0.02329455610519933,\n",
       " 'vega_pnl': 1.9723966545394442,\n",
       " 'vanna_pnl': 0.049309916363486105,\n",
       " 'volga_pnl': -0.0036982437272614567,\n",
       " 'unexplained_pnl': -0.03239306227544603}"
      ]
     },
     "execution_count": 11,
     "metadata": {},
     "output_type": "execute_result"
    }
   ],
   "source": [
    "BSMModel.compute_pnl_attribution(F_start=100, F_end=105, sigma_start=0.30, sigma_end=0.35, T_start=252/252, T_end=251/252, K=100, r=0, option_type='call')"
   ]
  },
  {
   "cell_type": "code",
   "execution_count": null,
   "id": "24b53781",
   "metadata": {},
   "outputs": [],
   "source": []
  }
 ],
 "metadata": {
  "kernelspec": {
   "display_name": "base",
   "language": "python",
   "name": "python3"
  },
  "language_info": {
   "codemirror_mode": {
    "name": "ipython",
    "version": 3
   },
   "file_extension": ".py",
   "mimetype": "text/x-python",
   "name": "python",
   "nbconvert_exporter": "python",
   "pygments_lexer": "ipython3",
   "version": "3.12.4"
  }
 },
 "nbformat": 4,
 "nbformat_minor": 5
}
