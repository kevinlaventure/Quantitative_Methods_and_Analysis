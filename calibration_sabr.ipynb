{
 "cells": [
  {
   "cell_type": "code",
   "execution_count": 1,
   "metadata": {},
   "outputs": [
    {
     "name": "stdout",
     "output_type": "stream",
     "text": [
      "Calibration Results:\n",
      "alpha (σ0): 0.2033\n",
      "beta       : 0.8959\n",
      "rho        : -0.1844\n",
      "nu (vol-vol): 0.4334\n",
      "\n",
      "Optimizer diagnostic:\n",
      "`gtol` termination condition is satisfied.\n"
     ]
    }
   ],
   "source": [
    "import numpy as np\n",
    "import pandas as pd\n",
    "from scipy.optimize import least_squares\n",
    "\n",
    "def sabr_implied_vol(F, K, T, alpha, beta, rho, nu, eps=1e-12):\n",
    "    if abs(F - K) < eps:\n",
    "        # ATM approximate formula\n",
    "        return alpha / (F**((1 - beta)/2))\n",
    "    \n",
    "    FK_avg = (F * K)**((1 - beta) / 2)\n",
    "    log_FK = np.log(F / K)\n",
    "    \n",
    "    z = (nu / alpha) * FK_avg * log_FK\n",
    "    x_z = np.log((np.sqrt(1 - 2*rho*z + z**2) + z - rho) / (1 - rho))\n",
    "    \n",
    "    if abs(z) < eps:\n",
    "        zx = 1.0\n",
    "    else:\n",
    "        zx = z / x_z\n",
    "    \n",
    "    return (alpha / FK_avg) * zx\n",
    "\n",
    "def sabr_calibration_error(params, F, strikes, T, market_vols):\n",
    "    alpha, beta, rho, nu = params\n",
    "    model_vols = [\n",
    "        sabr_implied_vol(F, K, T, alpha, beta, rho, nu) \n",
    "        for K in strikes\n",
    "    ]\n",
    "    errors = np.array(market_vols) - np.array(model_vols)\n",
    "    return errors\n",
    "\n",
    "# Synthetic example\n",
    "alpha_true = 0.2\n",
    "beta_true  = 0.9\n",
    "rho_true   = -0.2\n",
    "nu_true    = 0.4\n",
    "\n",
    "F = 100.0\n",
    "T = 1.0\n",
    "strikes = np.array([80, 90, 95, 100, 105, 110, 120])\n",
    "\n",
    "# Generate synthetic data\n",
    "synthetic_vols = [\n",
    "    sabr_implied_vol(F, K, T, alpha_true, beta_true, rho_true, nu_true)\n",
    "    for K in strikes\n",
    "]\n",
    "noise_level = 0.001\n",
    "market_vols = np.array(synthetic_vols) + np.random.normal(0, noise_level, len(synthetic_vols))\n",
    "\n",
    "initial_guess = [0.1, 0.5, 0.0, 0.3]\n",
    "result = least_squares(\n",
    "    sabr_calibration_error,\n",
    "    x0=initial_guess,\n",
    "    args=(F, strikes, T, market_vols),\n",
    "    bounds=([1e-6, 0.0, -0.9999, 1e-6], [1.0, 1.0, 0.9999, 5.0])\n",
    ")\n",
    "\n",
    "alpha_calib, beta_calib, rho_calib, nu_calib = result.x\n",
    "\n",
    "print(\"Calibration Results:\")\n",
    "print(f\"alpha (σ0): {alpha_calib:.4f}\")\n",
    "print(f\"beta       : {beta_calib:.4f}\")\n",
    "print(f\"rho        : {rho_calib:.4f}\")\n",
    "print(f\"nu (vol-vol): {nu_calib:.4f}\")\n",
    "print(\"\\nOptimizer diagnostic:\")\n",
    "print(result.message)\n"
   ]
  }
 ],
 "metadata": {
  "kernelspec": {
   "display_name": "base",
   "language": "python",
   "name": "python3"
  },
  "language_info": {
   "codemirror_mode": {
    "name": "ipython",
    "version": 3
   },
   "file_extension": ".py",
   "mimetype": "text/x-python",
   "name": "python",
   "nbconvert_exporter": "python",
   "pygments_lexer": "ipython3",
   "version": "3.12.4"
  }
 },
 "nbformat": 4,
 "nbformat_minor": 2
}
