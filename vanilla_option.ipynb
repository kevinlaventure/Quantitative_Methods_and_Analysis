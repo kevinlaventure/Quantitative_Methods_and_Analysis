{
 "cells": [
  {
   "cell_type": "markdown",
   "metadata": {},
   "source": [
    "### Import"
   ]
  },
  {
   "cell_type": "code",
   "execution_count": null,
   "metadata": {},
   "outputs": [],
   "source": [
    "# -------\n",
    "# IMPORT LIBRAIRIES\n",
    "# -------\n",
    "import numpy as np\n",
    "import pandas as pd\n",
    "from tqdm import tqdm\n",
    "import plotly.graph_objects as go\n",
    "from python_module.pricing_model import BSMModel\n",
    "from python_module.pricing_model import HestonHullWhiteModel\n",
    "\n",
    "pd.options.display.max_rows = 999\n",
    "pd.options.display.max_columns = 999\n",
    "pd.options.display.float_format = '{:,.2f}'.format"
   ]
  },
  {
   "cell_type": "markdown",
   "metadata": {},
   "source": [
    "### Sensitivity"
   ]
  },
  {
   "cell_type": "code",
   "execution_count": null,
   "metadata": {},
   "outputs": [],
   "source": [
    "S           = 100\n",
    "K           = 100\n",
    "T_min       = 1 \n",
    "T_max       = 250\n",
    "sigma       = 0.2\n",
    "r           = 0\n",
    "option_type = 'call'\n",
    "\n",
    "S_list = np.linspace(80, 120, 100)\n",
    "T_list = [T_min/250, T_max/250]\n",
    "results = dict()\n",
    "for S in tqdm(S_list):\n",
    "    for T in T_list:\n",
    "        pricing_results = BSMModel.compute_option_with_spot(S=S, K=K, T=T, r=r, g=0, q=0, sigma=sigma, option_type=option_type, compute_greeks=True)\n",
    "        results[(S, T)] = pricing_results\n",
    "results_df = pd.DataFrame(results).transpose()\n",
    "results_df.index.names = ['S', 'T']\n",
    "results_df = results_df.reset_index()\n",
    "for field in ['price', 'delta', 'vega', 'theta', 'vanna', 'volga']:\n",
    "    for T in [T_max, T_min]:\n",
    "        t = T / 250\n",
    "        df_temp = results_df[results_df['T'] == t]\n",
    "        fig = go.Figure()\n",
    "        fig.add_trace(go.Scatter(x=df_temp['S'], y=df_temp[field], mode='lines', name=f'T={T:.0f}'))\n",
    "        fig.update_layout(title=f'{field.capitalize()} vs S for T={T:.2f}', xaxis_title='S', yaxis_title=field.capitalize())\n",
    "        fig.show()"
   ]
  },
  {
   "cell_type": "markdown",
   "metadata": {},
   "source": [
    "### HestonHullWhiteModel"
   ]
  },
  {
   "cell_type": "code",
   "execution_count": 9,
   "metadata": {},
   "outputs": [
    {
     "name": "stdout",
     "output_type": "stream",
     "text": [
      "call price,  7.927970425907604\n"
     ]
    }
   ],
   "source": [
    "# -------\n",
    "# Price vanilla option without stochastic rates\n",
    "# -------\n",
    "\n",
    "# Define input parameters for Heston Hull White model\n",
    "S0 = 100.0        # Initial stock price\n",
    "v0 = 0.2**2       # Initial variance\n",
    "r0 = 0.00         # Initial short rate\n",
    "b0 = 0.0          # Initial state variable for bonds\n",
    "\n",
    "# Variance process parameters\n",
    "kappa_v = 1.0     # Mean reversion speed for variance\n",
    "theta_v = 0.2**2  # Long-term variance\n",
    "sigma_v = 0.2     # Volatility of variance\n",
    "\n",
    "# Interest rate process parameters\n",
    "kappa_r = 10.0     # Mean reversion speed for rates\n",
    "theta_r = 0.00    # Long-term interest rate\n",
    "sigma_r = 0.00001  # Volatility of interest rate\n",
    "\n",
    "# Correlation parameters\n",
    "rho_sv = -0.5     # Stock-variance correlation\n",
    "rho_sr = 0.9      # Stock-rate correlation\n",
    "rho_vr = -0.5     # Variance-rate correlation\n",
    "\n",
    "# Simulation parameters\n",
    "T = 1.0           # Time horizon in years\n",
    "M = 252           # Number of simulations\n",
    "N = 10000         # Number of time steps\n",
    "seed = True       # Use seed for reproducibility\n",
    "seed_value = 44   # Seed value\n",
    "\n",
    "S, v, r = HestonHullWhiteModel.compute_montecarlo(\n",
    "    S0=S0, v0=v0, r0=r0, b0=b0,\n",
    "    kappa_v=kappa_v, theta_v=theta_v, sigma_v=sigma_v,\n",
    "    kappa_r=kappa_r, theta_r=theta_r, sigma_r=sigma_r,\n",
    "    rho_sv=rho_sv, rho_sr=rho_sr, rho_vr=rho_vr,\n",
    "    T=T, N=N, M=M,\n",
    "    seed=seed, seed_value=seed_value)\n",
    "call_price = (pd.DataFrame(S).iloc[-1].add(-100).clip(lower=0).multiply(np.exp(-pd.DataFrame(r).multiply((T / M)).sum()))).mean()\n",
    "print('call price, ', call_price)"
   ]
  },
  {
   "cell_type": "code",
   "execution_count": 10,
   "metadata": {},
   "outputs": [
    {
     "name": "stdout",
     "output_type": "stream",
     "text": [
      "call price,  7.917979234888703\n"
     ]
    }
   ],
   "source": [
    "# -------\n",
    "# Add stochastic rates - > decrease eq vol to line up with previous price\n",
    "# -------\n",
    "\n",
    "v0 = 0.16**2       # Initial variance\n",
    "theta_v = 0.16**2  # Long-term variance\n",
    "sigma_r = 0.5  # Volatility of interest rate\n",
    "S, v, r = HestonHullWhiteModel.compute_montecarlo(\n",
    "    S0=S0, v0=v0, r0=r0, b0=b0,\n",
    "    kappa_v=kappa_v, theta_v=theta_v, sigma_v=sigma_v,\n",
    "    kappa_r=kappa_r, theta_r=theta_r, sigma_r=sigma_r,\n",
    "    rho_sv=rho_sv, rho_sr=rho_sr, rho_vr=rho_vr,\n",
    "    T=T, N=N, M=M,\n",
    "    seed=seed, seed_value=seed_value)\n",
    "call_price = (pd.DataFrame(S).iloc[-1].add(-100).clip(lower=0).multiply(np.exp(-pd.DataFrame(r).multiply((T / M)).sum()))).mean()\n",
    "print('call price, ', call_price)"
   ]
  },
  {
   "cell_type": "markdown",
   "metadata": {
    "vscode": {
     "languageId": "raw"
    }
   },
   "source": [
    "### Numerical Derivative and P&L attribution"
   ]
  },
  {
   "cell_type": "code",
   "execution_count": 11,
   "metadata": {},
   "outputs": [],
   "source": [
    "def compute_numeric_derivative(pricing_fun, base_params, param_names, h=None):\n",
    "    \"\"\"\n",
    "    Numerically compute derivative(s) of pricing_fun at base_params.\n",
    "\n",
    "    - pricing_fun: callable(**kwargs) -> scalar price\n",
    "    - base_params: dict of parameters to pass to pricing_fun\n",
    "    - param_names: str or (str, str)\n",
    "        * If str -> first derivative w.r.t that parameter (central difference)\n",
    "        * If (p, p) -> second derivative w.r.t p (second central difference)\n",
    "        * If (p, q) with p != q -> mixed second partial d2/dp dq (central)\n",
    "    - h: optional bump size (scalar or dict mapping param->h). If None, automatic h used.\n",
    "\n",
    "    Returns numeric derivative (float).\n",
    "    \"\"\"\n",
    "    import numpy as np\n",
    "\n",
    "    def safe_eval(params):\n",
    "        val = pricing_fun(**params)\n",
    "        a = np.asarray(val)\n",
    "        if a.size != 1:\n",
    "            raise ValueError(\"pricing_fun must return a scalar-like value\")\n",
    "        return float(a.item())\n",
    "\n",
    "    eps = np.finfo(float).eps\n",
    "    # normalize param_names to tuple\n",
    "    if isinstance(param_names, str):\n",
    "        params = (param_names,)\n",
    "    else:\n",
    "        params = tuple(param_names)\n",
    "\n",
    "    # helper to compute adaptive h for a single param\n",
    "    def get_h_for(name, x):\n",
    "        if h is None:\n",
    "            return (eps ** (1/3)) * (abs(x) + 1.0)\n",
    "        if isinstance(h, dict):\n",
    "            return float(h.get(name, (eps ** (1/3)) * (abs(x) + 1.0)))\n",
    "        return float(h)\n",
    "\n",
    "    # single derivative (first)\n",
    "    if len(params) == 1:\n",
    "        p = params[0]\n",
    "        x0 = float(base_params[p])\n",
    "        hh = get_h_for(p, x0)\n",
    "        p_plus = dict(base_params); p_plus[p] = x0 + hh\n",
    "        p_minus = dict(base_params); p_minus[p] = x0 - hh\n",
    "        f_plus = safe_eval(p_plus)\n",
    "        f_minus = safe_eval(p_minus)\n",
    "        return (f_plus - f_minus) / (2.0 * hh)\n",
    "\n",
    "    # two params -> second derivative or mixed partial\n",
    "    if len(params) == 2:\n",
    "        p, q = params\n",
    "        x_p = float(base_params[p])\n",
    "        x_q = float(base_params[q])\n",
    "        h_p = get_h_for(p, x_p)\n",
    "        h_q = get_h_for(q, x_q)\n",
    "\n",
    "        if p == q:\n",
    "            # second derivative w.r.t same parameter\n",
    "            p_plus = dict(base_params); p_plus[p] = x_p + h_p\n",
    "            p_minus = dict(base_params); p_minus[p] = x_p - h_p\n",
    "            f_plus = safe_eval(p_plus)\n",
    "            f0 = safe_eval(base_params)\n",
    "            f_minus = safe_eval(p_minus)\n",
    "            return (f_plus - 2.0 * f0 + f_minus) / (h_p ** 2)\n",
    "        else:\n",
    "            # mixed partial: central 4-point formula\n",
    "            pp = dict(base_params); pp[p] = x_p + h_p; pp[q] = x_q + h_q\n",
    "            pm = dict(base_params); pm[p] = x_p + h_p; pm[q] = x_q - h_q\n",
    "            mp = dict(base_params); mp[p] = x_p - h_p; mp[q] = x_q + h_q\n",
    "            mm = dict(base_params); mm[p] = x_p - h_p; mm[q] = x_q - h_q\n",
    "            f_pp = safe_eval(pp)\n",
    "            f_pm = safe_eval(pm)\n",
    "            f_mp = safe_eval(mp)\n",
    "            f_mm = safe_eval(mm)\n",
    "            return (f_pp - f_pm - f_mp + f_mm) / (4.0 * h_p * h_q)\n",
    "\n",
    "    raise ValueError(\"param_names must be a string or a tuple/list of two strings\")"
   ]
  },
  {
   "cell_type": "code",
   "execution_count": 12,
   "metadata": {},
   "outputs": [],
   "source": [
    "# wrapper if your model returns a dict or complex object\n",
    "def price_scalar(**kwargs):\n",
    "    return BSMModel.compute_option_with_forward(**kwargs)  # must return scalar\n",
    "\n",
    "base = dict(F=100, K=100, T=1, r=0, sigma=0.3, option_type='call', compute_greeks=False)\n",
    "\n",
    "delta = compute_numeric_derivative(price_scalar, base, 'F')\n",
    "gamma = compute_numeric_derivative(price_scalar, base, ('F','F'))\n",
    "vega = compute_numeric_derivative(price_scalar, base, ('sigma'))\n",
    "theta = compute_numeric_derivative(price_scalar, base, ('T'))\n",
    "vanna = compute_numeric_derivative(price_scalar, base, ('F','sigma'))\n",
    "volga = compute_numeric_derivative(price_scalar, base, ('sigma','sigma'))"
   ]
  },
  {
   "cell_type": "code",
   "execution_count": 13,
   "metadata": {},
   "outputs": [
    {
     "data": {
      "text/plain": [
       "(0.5596176923562872,\n",
       " 0.013149315164148868,\n",
       " 0.39447933090164694,\n",
       " -0.02366875985292543,\n",
       " 0.1972393877324846,\n",
       " -2.958673546784521)"
      ]
     },
     "execution_count": 13,
     "metadata": {},
     "output_type": "execute_result"
    }
   ],
   "source": [
    "delta, gamma, vega/100, theta/-250, vanna, volga"
   ]
  },
  {
   "cell_type": "code",
   "execution_count": 14,
   "metadata": {},
   "outputs": [
    {
     "data": {
      "text/plain": [
       "{'price': 11.923538474048499,\n",
       " 'delta': 0.5596176923702425,\n",
       " 'gamma': 0.013149311030262964,\n",
       " 'vega': 0.39447933090788895,\n",
       " 'theta': -0.023480912554041007,\n",
       " 'vanna': 0.19723966545394447,\n",
       " 'volga': -2.958594981809167}"
      ]
     },
     "execution_count": 14,
     "metadata": {},
     "output_type": "execute_result"
    }
   ],
   "source": [
    "base = dict(F=100, K=100, T=1, r=0, sigma=0.3, option_type='call', compute_greeks=True)\n",
    "BSMModel.compute_option_with_forward(**base)"
   ]
  },
  {
   "cell_type": "code",
   "execution_count": 15,
   "metadata": {},
   "outputs": [
    {
     "data": {
      "text/plain": [
       "{'total_pnl': -0.023504778274613614,\n",
       " 'delta_pnl': 0.0,\n",
       " 'gamma_pnl': 0.0,\n",
       " 'theta_pnl': -0.02329455610519933,\n",
       " 'vega_pnl': 0.0,\n",
       " 'vanna_pnl': 0.0,\n",
       " 'volga_pnl': -0.0,\n",
       " 'unexplained_pnl': -0.00021022216941428418}"
      ]
     },
     "execution_count": 15,
     "metadata": {},
     "output_type": "execute_result"
    }
   ],
   "source": [
    "BSMModel.compute_pnl_attribution(F_start=100, F_end=100, sigma_start=0.30, sigma_end=0.30, T_start=252/252, T_end=251/252, K=100, r=0, option_type='call')"
   ]
  },
  {
   "cell_type": "markdown",
   "metadata": {},
   "source": [
    "### Numerical computation of E[Greek]"
   ]
  },
  {
   "cell_type": "code",
   "execution_count": 16,
   "metadata": {},
   "outputs": [
    {
     "name": "stderr",
     "output_type": "stream",
     "text": [
      "100%|██████████| 253/253 [01:07<00:00,  3.76it/s]"
     ]
    },
    {
     "name": "stdout",
     "output_type": "stream",
     "text": [
      "8.513813160920856\n",
      "8.513813160920856\n"
     ]
    },
    {
     "name": "stderr",
     "output_type": "stream",
     "text": [
      "\n"
     ]
    }
   ],
   "source": [
    "S = 100\n",
    "K = 100\n",
    "T = 1\n",
    "r = 0.0\n",
    "g = 0.0\n",
    "q = 0.0\n",
    "sigma = 0.2\n",
    "n_steps = 252\n",
    "n_paths = 1000\n",
    "option_type = 'call'\n",
    "price_df = BSMModel.compute_montecarlo(S=S, T=T, r=r, g=g, q=q, sigma=sigma, n_steps=n_steps, n_paths=n_paths)\n",
    "t_df = price_df.copy()\n",
    "t_df.loc[:, :] = T / n_steps\n",
    "t_df = t_df.sort_index(ascending=False).cumsum().sort_index()\n",
    "t_df = t_df - (T / n_steps)\n",
    "# Compute average slide\n",
    "bump = -0.3\n",
    "greek = price_df.copy()\n",
    "greek.loc[:, :] = np.nan\n",
    "\n",
    "for index in tqdm(price_df.index):\n",
    "    for column in price_df.columns:\n",
    "        \n",
    "        S = price_df.loc[index, column]\n",
    "        T = t_df.loc[index, column]\n",
    "        \n",
    "        result = BSMModel.compute_option_with_spot(S=S, K=K, T=T, r=r, g=g, q=q, sigma=sigma, option_type=option_type, compute_greeks=True)\n",
    "        delta_pnl = result['delta'] * S * 0.3\n",
    "        \n",
    "        pv_bumped = BSMModel.compute_option_with_spot(S=S*(1+bump), K=K, T=T, r=r, g=g, q=q, sigma=sigma, option_type=option_type, compute_greeks=False)\n",
    "        option_pnl = pv_bumped - result['price']\n",
    "        \n",
    "        greek.loc[index, column] = option_pnl + delta_pnl\n",
    "        \n",
    "print(greek.iloc[:-1].mean().mean())\n",
    "print(greek.iloc[:-1].mean(axis=1).mean())"
   ]
  },
  {
   "cell_type": "code",
   "execution_count": null,
   "metadata": {},
   "outputs": [],
   "source": []
  }
 ],
 "metadata": {
  "kernelspec": {
   "display_name": "base",
   "language": "python",
   "name": "python3"
  },
  "language_info": {
   "codemirror_mode": {
    "name": "ipython",
    "version": 3
   },
   "file_extension": ".py",
   "mimetype": "text/x-python",
   "name": "python",
   "nbconvert_exporter": "python",
   "pygments_lexer": "ipython3",
   "version": "3.12.4"
  }
 },
 "nbformat": 4,
 "nbformat_minor": 4
}
