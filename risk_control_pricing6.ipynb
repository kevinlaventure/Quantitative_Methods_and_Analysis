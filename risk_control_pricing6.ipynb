{
 "cells": [
  {
   "cell_type": "markdown",
   "id": "54b7de81",
   "metadata": {},
   "source": [
    "### __Option Pricing on S&P 500 Daily Risk Control 10% Index__"
   ]
  },
  {
   "cell_type": "markdown",
   "id": "9a75ab45",
   "metadata": {},
   "source": [
    "__The S&P 500 Daily Risk Control 10% Index (SPXT10UE) is part of S&P Dow Jones Risk Control Indices familly and use the below parameters__"
   ]
  },
  {
   "cell_type": "markdown",
   "id": "c7bfd07f",
   "metadata": {},
   "source": [
    "| ***Index Name*** | ***Underlying Risk Index*** | ***Risk Control Level*** | ***Maximum Leverage*** | ***Interest Rate*** | ***Volatility Calculation*** | ***Return Frequency for Volatility*** | ***Lag to Rebalancing Date*** | ***Decay Factor (Short-Term)*** | ***Decay Factor (Long-Term)*** | ***Rebalancing Frequency*** | ***Launch Date*** | ***Bloomberg Tickers***                                                           |\n",
    "|------------------------------------------------|------------------------------------------------------|------------------------|----------------------|-------------------------|----------------------------|--------------------------------------|-----------------------------|-------------------------------|------------------------------|---------------------------|---------------|---------------------------------------------------------------------------------|\n",
    "| S&P 500 Daily Risk Control 10% Index|S&P 500 Total Return: SPTR (USD) | 10% | 150%                 | SOFR + 0.02963*         | Exponentially weighted    | Daily                                | 2 days                      | 94%                           | 97%                          | Daily                     | 10-Sep-09     | ***Excess Return:*** SPXT5UE (USD)|\n"
   ]
  },
  {
   "cell_type": "markdown",
   "id": "e060355f",
   "metadata": {},
   "source": [
    "__The S&P 500 Daily Risk Control indices are computed using the below methodology__"
   ]
  },
  {
   "cell_type": "markdown",
   "id": "9997ca58",
   "metadata": {},
   "source": [
    "$$\n",
    "\\text{Risk Control ER Index Value}_t \n",
    "= \n",
    "\\text{RiskControlERIndexValue}_{rb}\n",
    "\\,\\times\\,\n",
    "\\Biggl[\n",
    "1\n",
    "\\;+\\;\n",
    "K_{rb}\\,\\biggl(\\frac{\\text{UnderlyingIndex}_t}{\\text{UnderlyingIndex}_{t-1}} \\;-\\; 1\\biggr)\n",
    "\\;-\\;\n",
    "K_{rb}\\,\\Bigl(\n",
    "  \\prod_{i=rb+1}^{t}\\bigl(1 + \\text{InterestRate}_{i-1} \\times \\frac{D_{i-1,i}}{360}\\bigr)\n",
    "  \\;-\\; 1\n",
    "\\Bigr)\n",
    "\\Biggr]\n",
    "$$\n"
   ]
  },
  {
   "cell_type": "markdown",
   "id": "c4f86557",
   "metadata": {},
   "source": [
    "$$\n",
    "K_{rb} \n",
    "= \n",
    "\\min\\!\\Bigl(\\text{Max }K,\\;\\frac{\\text{Target Volatility}}{\\text{Realized Volatility}_{rb-d}}\\Bigr)\n",
    "$$\n"
   ]
  },
  {
   "cell_type": "markdown",
   "id": "6ab48fce",
   "metadata": {},
   "source": [
    "$$\n",
    "\\text{RealizedVolatility}_t \n",
    "  = \\max\\bigl(\\text{RealizedVolatility}_{S,t}, \\text{RealizedVolatility}_{L,t}\\bigr)\n",
    "$$"
   ]
  },
  {
   "cell_type": "markdown",
   "id": "d237f59c",
   "metadata": {},
   "source": [
    "$$\n",
    "\\text{RealizedVolatility}_{S,t} \n",
    "  = \\sqrt{\\frac{252}{n}\\,\\text{Variance}_{S,t}}\n",
    "$$"
   ]
  },
  {
   "cell_type": "markdown",
   "id": "836ad14c",
   "metadata": {},
   "source": [
    "$$\n",
    "\\text{RealizedVolatility}_{L,t}\n",
    "  = \\sqrt{\\frac{252}{n}\\,\\text{Variance}_{L,t}}\n",
    "$$"
   ]
  },
  {
   "cell_type": "markdown",
   "id": "c9993e9d",
   "metadata": {},
   "source": [
    "$$\n",
    "\\text{Variance}_{S,t}\n",
    "  = \\lambda_S\\,\\text{Variance}_{S,t-1}\n",
    "   + \\bigl(1 - \\lambda_S\\bigr)\\,\\left[\n",
    "       \\ln\\!\\Bigl(\\frac{\\text{UnderlyingIndex}_t}{\\text{UnderlyingIndex}_{t-n}}\\Bigr)\n",
    "     \\right]^2\n",
    "$$"
   ]
  },
  {
   "cell_type": "markdown",
   "id": "e2df0209",
   "metadata": {},
   "source": [
    "$$\n",
    "\\text{Variance}_{L,t}\n",
    "  = \\lambda_L\\,\\text{Variance}_{L,t-1}\n",
    "   + \\bigl(1 - \\lambda_L\\bigr)\\,\\left[\n",
    "       \\ln\\!\\Bigl(\\frac{\\text{UnderlyingIndex}_t}{\\text{UnderlyingIndex}_{t-n}}\\Bigr)\n",
    "     \\right]^2\n",
    "$$"
   ]
  },
  {
   "cell_type": "code",
   "execution_count": 34,
   "id": "f5ace26e",
   "metadata": {},
   "outputs": [],
   "source": [
    "# Import librairies\n",
    "import numpy as np\n",
    "import pandas as pd\n",
    "from typing import Dict\n",
    "import plotly.express as px"
   ]
  },
  {
   "cell_type": "code",
   "execution_count": 35,
   "id": "9470b9fa",
   "metadata": {},
   "outputs": [],
   "source": [
    "# Define the function to simulate Heston-Hull-White paths with risk control\n",
    "def simulate_hhw_paths_with_risk_control(\n",
    "    # Heston-Hull-White model parameters\n",
    "    S0: float,\n",
    "    v0: float,\n",
    "    r0: float,\n",
    "    b0: float,\n",
    "    kappa_v: float,\n",
    "    theta_v: float,\n",
    "    sigma_v: float,\n",
    "    kappa_r: float,\n",
    "    theta_r: float,\n",
    "    sigma_r: float,\n",
    "    rho_sv: float,\n",
    "    rho_sr: float,\n",
    "    rho_vr: float,\n",
    "    T: float,\n",
    "    N: int,\n",
    "    M: int,\n",
    "    seed: int,\n",
    "\n",
    "    # Risk control parameters\n",
    "    initial_realized_variance: float,\n",
    "    target_volatility: float = 0.1,\n",
    "    lambda_s: float = 0.94,\n",
    "    lambda_l: float = 0.97,\n",
    "    max_k: float = 1.5,\n",
    "    lag: int = 2,\n",
    "    initial_risk_control_index_value: float = 100.0,\n",
    "    interest_rate_basis: float = 0.02963,\n",
    "    \n",
    ") -> Dict[int, Dict[str, np.ndarray]]:\n",
    "    \"\"\"\n",
    "    Simulate Monte Carlo paths under the Heston-Hull-White model and compute risk control index.\n",
    "    \n",
    "    Returns a dictionary where each key corresponds to a path index, and the value is a dictionary\n",
    "    containing numpy arrays for each variable:\n",
    "    - 'S': simulated asset prices\n",
    "    - 'v': simulated variances  \n",
    "    - 'r': simulated short rates\n",
    "    - 'risky_asset_returns': asset returns\n",
    "    - 'variance_s': short-run EWMA variance\n",
    "    - 'variance_l': long-run EWMA variance\n",
    "    - 'volatility_s_annualized': annualized short-run volatility\n",
    "    - 'volatility_l_annualized': annualized long-run volatility\n",
    "    - 'realized_volatility': max of short/long volatilities (lagged)\n",
    "    - 'K': leverage factor\n",
    "    - 'interest_rate': adjusted interest rate\n",
    "    - 'risk_control_index_returns': risk control index returns\n",
    "    - 'risk_control_index_value': cumulative risk control index level\n",
    "    \"\"\"\n",
    "    dt = T / M\n",
    "\n",
    "    # Build correlation matrix and its Cholesky factor\n",
    "    corr = np.array([\n",
    "        [1.0, rho_sv, rho_sr],\n",
    "        [rho_sv, 1.0, rho_vr],\n",
    "        [rho_sr, rho_vr, 1.0]\n",
    "    ])\n",
    "    L = np.linalg.cholesky(corr)\n",
    "\n",
    "    # Arrays to store paths\n",
    "    S = np.zeros((M + 1, N))\n",
    "    v = np.zeros((M + 1, N))\n",
    "    r = np.zeros((M + 1, N))\n",
    "    S[0, :] = S0\n",
    "    v[0, :] = v0\n",
    "    r[0, :] = r0\n",
    "\n",
    "    rng = np.random.default_rng(seed)\n",
    "    \n",
    "    # Simulate HHW paths\n",
    "    for t in range(1, M + 1):\n",
    "        # Generate correlated increments\n",
    "        Z = rng.standard_normal((3, N))\n",
    "        dW = (L @ Z) * np.sqrt(dt)\n",
    "        dW1, dW2, dW3 = dW[0], dW[1], dW[2]\n",
    "\n",
    "        # Full-truncation Euler for variance\n",
    "        v_prev = np.maximum(v[t-1, :], 0.0)\n",
    "        v[t, :] = (\n",
    "            v[t-1, :]\n",
    "            + kappa_v * (theta_v - v_prev) * dt\n",
    "            + sigma_v * np.sqrt(v_prev) * dW2\n",
    "        )\n",
    "        v[t, :] = np.maximum(v[t, :], 0.0)\n",
    "\n",
    "        # Hull-White short rate\n",
    "        r[t, :] = (\n",
    "            r[t-1, :]\n",
    "            + kappa_r * (theta_r - r[t-1, :]) * dt\n",
    "            + sigma_r * dW3\n",
    "        )\n",
    "\n",
    "        # Asset price log-Euler\n",
    "        S[t, :] = (\n",
    "            S[t-1, :]\n",
    "            * np.exp((r[t-1, :] + b0 - 0.5 * v_prev) * dt + np.sqrt(v_prev) * dW1)\n",
    "        )\n",
    "\n",
    "    # Process each path and compute risk control index\n",
    "    results = {}\n",
    "    rc_levels = {}\n",
    "    s_levels = {}\n",
    "    \n",
    "    for i in range(N):\n",
    "        # Extract path data\n",
    "        S_path = S[:, i]\n",
    "        v_path = v[:, i]\n",
    "        r_path = r[:, i]\n",
    "        \n",
    "        # 1. Compute risky asset returns\n",
    "        risky_asset_returns = np.zeros(M + 1)\n",
    "        risky_asset_returns[1:] = (S_path[1:] - S_path[:-1]) / S_path[:-1]\n",
    "        \n",
    "        # 2. EWMA variances\n",
    "        variance_s = np.zeros(M + 1)\n",
    "        variance_l = np.zeros(M + 1)\n",
    "        variance_s[0] = initial_realized_variance\n",
    "        variance_l[0] = initial_realized_variance\n",
    "        \n",
    "        for j in range(1, M + 1):\n",
    "            r2 = risky_asset_returns[j] ** 2 if not np.isnan(risky_asset_returns[j]) else 0.0\n",
    "            # Short-run variance\n",
    "            variance_s[j] = (1 - lambda_s) * r2 + lambda_s * variance_s[j - 1]\n",
    "            # Long-run variance\n",
    "            variance_l[j] = (1 - lambda_l) * r2 + lambda_l * variance_l[j - 1]\n",
    "        \n",
    "        # 3. Annualized volatilities\n",
    "        volatility_s_annualized = np.sqrt(variance_s * 252)\n",
    "        volatility_l_annualized = np.sqrt(variance_l * 252)\n",
    "        \n",
    "        # 4. Realized volatility (max of the two), lagged and back-filled\n",
    "        realized_volatility = np.maximum(volatility_s_annualized, volatility_l_annualized)\n",
    "        \n",
    "        # Apply lag and back-fill (reproduce pandas shift(lag).bfill() behavior)\n",
    "        if lag > 0:\n",
    "            realized_volatility_lagged = np.zeros_like(realized_volatility)\n",
    "            realized_volatility_lagged[lag:] = realized_volatility[:-lag]\n",
    "            # Back-fill: fill first 'lag' positions with the first shifted value\n",
    "            # This reproduces df.shift(lag).bfill() behavior\n",
    "            realized_volatility_lagged[:lag] = realized_volatility[0]\n",
    "            realized_volatility = realized_volatility_lagged\n",
    "        \n",
    "        # 5. Leverage factor K, capped at max_k\n",
    "        K = np.minimum(target_volatility / realized_volatility, max_k)\n",
    "        \n",
    "        # 6. Interest rate (shifted by 1)\n",
    "        interest_rate = np.zeros(M + 1)\n",
    "        interest_rate[1:] = (r_path[:-1] + interest_rate_basis)\n",
    "        \n",
    "        # 7. Risk control index returns\n",
    "        risk_control_index_returns = K * (risky_asset_returns - interest_rate / 252)\n",
    "        \n",
    "        # 8. Cumulative index level\n",
    "        # Handle NaN values by setting them to 0\n",
    "        risk_control_index_returns = np.where(np.isnan(risk_control_index_returns), \n",
    "                                            0.0, risk_control_index_returns)\n",
    "        \n",
    "        risk_control_index_value = np.zeros(M + 1)\n",
    "        risk_control_index_value[0] = initial_risk_control_index_value\n",
    "        \n",
    "        for j in range(1, M + 1):\n",
    "            risk_control_index_value[j] = (risk_control_index_value[j-1] * \n",
    "                                         (1 + risk_control_index_returns[j]))\n",
    "        \n",
    "        # Store results for this path\n",
    "        results[i] = {\n",
    "            'S': S_path,\n",
    "            'v': v_path,\n",
    "            'r': r_path,\n",
    "            'risky_asset_returns': risky_asset_returns,\n",
    "            'variance_s': variance_s,\n",
    "            'variance_l': variance_l,\n",
    "            'volatility_s_annualized': volatility_s_annualized,\n",
    "            'volatility_l_annualized': volatility_l_annualized,\n",
    "            'realized_volatility': realized_volatility,\n",
    "            'K': K,\n",
    "            'interest_rate': interest_rate,\n",
    "            'risk_control_index_returns': risk_control_index_returns,\n",
    "            'risk_control_index_value': risk_control_index_value\n",
    "        }\n",
    "        s_levels[i] = S_path\n",
    "        rc_levels[i] = risk_control_index_value\n",
    "    \n",
    "    return s_levels, rc_levels, results"
   ]
  },
  {
   "cell_type": "code",
   "execution_count": null,
   "id": "98cceb40",
   "metadata": {},
   "outputs": [
    {
     "name": "stdout",
     "output_type": "stream",
     "text": [
      "Forward: 100.0003, ATM Call Price: 4.0027\n"
     ]
    }
   ],
   "source": [
    "# Define parameters for the simulation ~ Black-Scholes\n",
    "params = {\n",
    "    # Heston-Hull-White model parameters\n",
    "    'S0': 100.0, \n",
    "    'v0': 0.2**2, \n",
    "    'r0': 0.03, \n",
    "    'b0': 0.02963,\n",
    "    \n",
    "    # Heston parameters\n",
    "    'kappa_v': 10.0, \n",
    "    'theta_v': 0.2**2, \n",
    "    'sigma_v': 0.0001,\n",
    "\n",
    "    # Hull-White parameters\n",
    "    'kappa_r': 10.0, \n",
    "    'theta_r': 0.03, \n",
    "    'sigma_r': 0.0001,\n",
    "\n",
    "    # Correlation parameters\n",
    "    'rho_sv': 0.0, \n",
    "    'rho_sr': 0.0, \n",
    "    'rho_vr': 0.0,\n",
    "\n",
    "    # Simulation parameters\n",
    "    'T': 1.0, \n",
    "    'N': 50000, \n",
    "    'M': 252, \n",
    "    'seed': 42,\n",
    "\n",
    "    # Risk control parameters\n",
    "    'initial_realized_variance': 0.2**2 / 252\n",
    "}\n",
    "\n",
    "s_levels, rc_levels, results = simulate_hhw_paths_with_risk_control(**params)\n",
    "df_rc = pd.DataFrame(rc_levels)\n",
    "df_s = pd.DataFrame(s_levels)\n",
    "forward = df_rc.iloc[-1].mean()\n",
    "atm_call_price = (df_rc.iloc[-1]-100).clip(lower=0).mean()\n",
    "print(f\"Forward: {forward:.4f}, ATM Call Price: {atm_call_price:.4f}\")"
   ]
  },
  {
   "cell_type": "code",
   "execution_count": null,
   "id": "502e06b2",
   "metadata": {},
   "outputs": [
    {
     "name": "stdout",
     "output_type": "stream",
     "text": [
      "Forward: 100.0155, ATM Call Price: 3.9467\n"
     ]
    }
   ],
   "source": [
    "new_params = params.copy()\n",
    "new_params['sigma_v'] = 0.9\n",
    "s_levels, rc_levels, results = simulate_hhw_paths_with_risk_control(**new_params)\n",
    "df_rc = pd.DataFrame(rc_levels)\n",
    "df_s = pd.DataFrame(s_levels)\n",
    "forward = df_rc.iloc[-1].mean()\n",
    "atm_call_price = (df_rc.iloc[-1]-100).clip(lower=0).mean()\n",
    "print(f\"Forward: {forward:.4f}, ATM Call Price: {atm_call_price:.4f}\")"
   ]
  },
  {
   "cell_type": "code",
   "execution_count": null,
   "id": "b3bfb7f7",
   "metadata": {},
   "outputs": [
    {
     "name": "stdout",
     "output_type": "stream",
     "text": [
      "Forward: 100.0318, ATM Call Price: 3.5412\n"
     ]
    }
   ],
   "source": [
    "new_params = params.copy()\n",
    "new_params['kappa_v'] = 1.0\n",
    "new_params['sigma_v'] = 0.9\n",
    "s_levels, rc_levels, results = simulate_hhw_paths_with_risk_control(**new_params)\n",
    "df_rc = pd.DataFrame(rc_levels)\n",
    "df_s = pd.DataFrame(s_levels)\n",
    "forward = df_rc.iloc[-1].mean()\n",
    "atm_call_price = (df_rc.iloc[-1]-100).clip(lower=0).mean()\n",
    "print(f\"Forward: {forward:.4f}, ATM Call Price: {atm_call_price:.4f}\")"
   ]
  },
  {
   "cell_type": "code",
   "execution_count": null,
   "id": "062c1b98",
   "metadata": {},
   "outputs": [
    {
     "name": "stdout",
     "output_type": "stream",
     "text": [
      "Forward: 99.9933, ATM Call Price: 3.5410\n"
     ]
    }
   ],
   "source": [
    "new_params = params.copy()\n",
    "new_params['kappa_v'] = 1.0\n",
    "new_params['sigma_v'] = 0.9\n",
    "new_params['rho_sv'] = -0.9\n",
    "s_levels, rc_levels, results = simulate_hhw_paths_with_risk_control(**new_params)\n",
    "df_rc = pd.DataFrame(rc_levels)\n",
    "df_s = pd.DataFrame(s_levels)\n",
    "forward = df_rc.iloc[-1].mean()\n",
    "atm_call_price = (df_rc.iloc[-1]-100).clip(lower=0).mean()\n",
    "print(f\"Forward: {forward:.4f}, ATM Call Price: {atm_call_price:.4f}\")"
   ]
  },
  {
   "cell_type": "code",
   "execution_count": null,
   "id": "922e0a72",
   "metadata": {},
   "outputs": [
    {
     "name": "stdout",
     "output_type": "stream",
     "text": [
      "Forward: 99.9942, ATM Call Price: 3.5752\n"
     ]
    }
   ],
   "source": [
    "new_params = params.copy()\n",
    "new_params['kappa_v'] = 1.0\n",
    "new_params['sigma_v'] = 0.9\n",
    "new_params['rho_sv'] = 0.9\n",
    "s_levels, rc_levels, results = simulate_hhw_paths_with_risk_control(**new_params)\n",
    "df_rc = pd.DataFrame(rc_levels)\n",
    "df_s = pd.DataFrame(s_levels)\n",
    "forward = df_rc.iloc[-1].mean()\n",
    "atm_call_price = (df_rc.iloc[-1]-100).clip(lower=0).mean()\n",
    "print(f\"Forward: {forward:.4f}, ATM Call Price: {atm_call_price:.4f}\")"
   ]
  },
  {
   "cell_type": "code",
   "execution_count": 43,
   "id": "52518e80",
   "metadata": {},
   "outputs": [
    {
     "name": "stdout",
     "output_type": "stream",
     "text": [
      "Forward: 99.9942, ATM Call Price: 3.5752\n"
     ]
    }
   ],
   "source": [
    "new_params = params.copy()\n",
    "new_params['kappa_v'] = 1.0\n",
    "new_params['sigma_v'] = 0.9\n",
    "new_params['rho_sv'] = 0.9\n",
    "new_params['sigma_r'] = 0.01\n",
    "s_levels, rc_levels, results = simulate_hhw_paths_with_risk_control(**new_params)\n",
    "df_rc = pd.DataFrame(rc_levels)\n",
    "df_s = pd.DataFrame(s_levels)\n",
    "forward = df_rc.iloc[-1].mean()\n",
    "atm_call_price = (df_rc.iloc[-1]-100).clip(lower=0).mean()\n",
    "print(f\"Forward: {forward:.4f}, ATM Call Price: {atm_call_price:.4f}\")"
   ]
  },
  {
   "cell_type": "code",
   "execution_count": 44,
   "id": "b6d52a1a",
   "metadata": {},
   "outputs": [
    {
     "name": "stdout",
     "output_type": "stream",
     "text": [
      "Forward: 99.9942, ATM Call Price: 3.5752\n"
     ]
    }
   ],
   "source": [
    "new_params = params.copy()\n",
    "new_params['kappa_v'] = 1.0\n",
    "new_params['sigma_v'] = 0.9\n",
    "new_params['rho_sv'] = 0.9\n",
    "new_params['kappa_r'] = 0.1\n",
    "new_params['sigma_r'] = 0.01\n",
    "s_levels, rc_levels, results = simulate_hhw_paths_with_risk_control(**new_params)\n",
    "df_rc = pd.DataFrame(rc_levels)\n",
    "df_s = pd.DataFrame(s_levels)\n",
    "forward = df_rc.iloc[-1].mean()\n",
    "atm_call_price = (df_rc.iloc[-1]-100).clip(lower=0).mean()\n",
    "print(f\"Forward: {forward:.4f}, ATM Call Price: {atm_call_price:.4f}\")"
   ]
  },
  {
   "cell_type": "code",
   "execution_count": 48,
   "id": "1252d863",
   "metadata": {},
   "outputs": [
    {
     "name": "stdout",
     "output_type": "stream",
     "text": [
      "Forward: 99.9942, ATM Call Price: 3.5751\n"
     ]
    }
   ],
   "source": [
    "new_params = params.copy()\n",
    "new_params['kappa_v'] = 1.0\n",
    "new_params['sigma_v'] = 0.9\n",
    "new_params['rho_sv'] = 0.9\n",
    "new_params['kappa_r'] = 0.1\n",
    "new_params['sigma_r'] = 0.01\n",
    "new_params['rho_sr'] = -0.3\n",
    "s_levels, rc_levels, results = simulate_hhw_paths_with_risk_control(**new_params)\n",
    "df_rc = pd.DataFrame(rc_levels)\n",
    "df_s = pd.DataFrame(s_levels)\n",
    "forward = df_rc.iloc[-1].mean()\n",
    "atm_call_price = (df_rc.iloc[-1]-100).clip(lower=0).mean()\n",
    "print(f\"Forward: {forward:.4f}, ATM Call Price: {atm_call_price:.4f}\")"
   ]
  },
  {
   "cell_type": "code",
   "execution_count": 55,
   "id": "bfc3c872",
   "metadata": {},
   "outputs": [
    {
     "name": "stdout",
     "output_type": "stream",
     "text": [
      "Forward: 99.9942, ATM Call Price: 3.5750\n"
     ]
    }
   ],
   "source": [
    "new_params = params.copy()\n",
    "new_params['kappa_v'] = 1.0\n",
    "new_params['sigma_v'] = 0.9\n",
    "new_params['rho_sv'] = 0.9\n",
    "new_params['kappa_r'] = 0.1\n",
    "new_params['sigma_r'] = 0.01\n",
    "new_params['rho_sr'] = -0.3\n",
    "new_params['rho_vr'] = -0.3\n",
    "s_levels, rc_levels, results = simulate_hhw_paths_with_risk_control(**new_params)\n",
    "df_rc = pd.DataFrame(rc_levels)\n",
    "df_s = pd.DataFrame(s_levels)\n",
    "forward = df_rc.iloc[-1].mean()\n",
    "atm_call_price = (df_rc.iloc[-1]-100).clip(lower=0).mean()\n",
    "print(f\"Forward: {forward:.4f}, ATM Call Price: {atm_call_price:.4f}\")"
   ]
  },
  {
   "cell_type": "code",
   "execution_count": 57,
   "id": "af4e3ead",
   "metadata": {},
   "outputs": [
    {
     "name": "stdout",
     "output_type": "stream",
     "text": [
      "Forward: 99.9870, ATM Call Price: 3.3638\n"
     ]
    }
   ],
   "source": [
    "new_params = params.copy()\n",
    "new_params['kappa_v'] = 1.0\n",
    "new_params['sigma_v'] = 0.9\n",
    "new_params['rho_sv'] = 0.9\n",
    "new_params['kappa_r'] = 0.1\n",
    "new_params['sigma_r'] = 0.01\n",
    "new_params['rho_sr'] = -0.3\n",
    "new_params['rho_vr'] = -0.3\n",
    "new_params['initial_realized_variance'] = 0.3**2 / 252\n",
    "s_levels, rc_levels, results = simulate_hhw_paths_with_risk_control(**new_params)\n",
    "df_rc = pd.DataFrame(rc_levels)\n",
    "df_s = pd.DataFrame(s_levels)\n",
    "forward = df_rc.iloc[-1].mean()\n",
    "atm_call_price = (df_rc.iloc[-1]-100).clip(lower=0).mean()\n",
    "print(f\"Forward: {forward:.4f}, ATM Call Price: {atm_call_price:.4f}\")"
   ]
  },
  {
   "cell_type": "code",
   "execution_count": null,
   "id": "b81661cb",
   "metadata": {},
   "outputs": [],
   "source": []
  }
 ],
 "metadata": {
  "kernelspec": {
   "display_name": "base",
   "language": "python",
   "name": "python3"
  },
  "language_info": {
   "codemirror_mode": {
    "name": "ipython",
    "version": 3
   },
   "file_extension": ".py",
   "mimetype": "text/x-python",
   "name": "python",
   "nbconvert_exporter": "python",
   "pygments_lexer": "ipython3",
   "version": "3.12.4"
  }
 },
 "nbformat": 4,
 "nbformat_minor": 5
}
