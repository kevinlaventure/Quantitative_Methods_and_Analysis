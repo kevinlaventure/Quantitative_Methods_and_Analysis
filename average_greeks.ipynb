{
 "cells": [
  {
   "cell_type": "code",
   "execution_count": 1,
   "id": "5d0e250e",
   "metadata": {},
   "outputs": [],
   "source": [
    "# -------\n",
    "# IMPORT LIBRAIRIES\n",
    "# -------\n",
    "import numpy as np\n",
    "import pandas as pd\n",
    "from tqdm import tqdm\n",
    "import plotly.graph_objects as go\n",
    "from python_module.pricing_model import BSMModel\n",
    "\n",
    "pd.options.display.max_rows = 999\n",
    "pd.options.display.max_columns = 999\n",
    "pd.options.display.float_format = '{:,.2f}'.format"
   ]
  },
  {
   "cell_type": "code",
   "execution_count": 2,
   "id": "380f0498",
   "metadata": {},
   "outputs": [],
   "source": [
    "S = 100\n",
    "T = 1\n",
    "r = 0.05\n",
    "g = 0.02\n",
    "q = 0.01\n",
    "sigma = 0.2\n",
    "n_steps = 252\n",
    "n_paths = 10"
   ]
  },
  {
   "cell_type": "code",
   "execution_count": 3,
   "id": "ae9d2fae",
   "metadata": {},
   "outputs": [],
   "source": [
    "results = BSMModel.compute_montecarlo(S=S, T=T, r=r, g=g, q=q, sigma=sigma, n_steps=n_steps, n_paths=n_paths)"
   ]
  }
 ],
 "metadata": {
  "kernelspec": {
   "display_name": "base",
   "language": "python",
   "name": "python3"
  },
  "language_info": {
   "codemirror_mode": {
    "name": "ipython",
    "version": 3
   },
   "file_extension": ".py",
   "mimetype": "text/x-python",
   "name": "python",
   "nbconvert_exporter": "python",
   "pygments_lexer": "ipython3",
   "version": "3.12.4"
  }
 },
 "nbformat": 4,
 "nbformat_minor": 5
}
