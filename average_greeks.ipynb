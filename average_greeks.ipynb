{
 "cells": [
  {
   "cell_type": "code",
   "execution_count": 2,
   "id": "5d0e250e",
   "metadata": {},
   "outputs": [],
   "source": [
    "# -------\n",
    "# IMPORT LIBRAIRIES\n",
    "# -------\n",
    "import numpy as np\n",
    "import pandas as pd\n",
    "from tqdm import tqdm\n",
    "import plotly.graph_objects as go\n",
    "from python_module.pricing_model import BSMModel\n",
    "\n",
    "pd.options.display.max_rows = 999\n",
    "pd.options.display.max_columns = 999\n",
    "pd.options.display.float_format = '{:,.5f}'.format"
   ]
  },
  {
   "cell_type": "code",
   "execution_count": 3,
   "id": "380f0498",
   "metadata": {},
   "outputs": [],
   "source": [
    "S = 100\n",
    "K = 100\n",
    "T = 1\n",
    "r = 0.0\n",
    "g = 0.0\n",
    "q = 0.0\n",
    "sigma = 0.2\n",
    "n_steps = 252\n",
    "n_paths = 1000\n",
    "option_type = 'call'"
   ]
  },
  {
   "cell_type": "code",
   "execution_count": 4,
   "id": "ae9d2fae",
   "metadata": {},
   "outputs": [],
   "source": [
    "price_df = BSMModel.compute_montecarlo(S=S, T=T, r=r, g=g, q=q, sigma=sigma, n_steps=n_steps, n_paths=n_paths)\n",
    "t_df = price_df.copy()\n",
    "t_df.loc[:, :] = T / n_steps\n",
    "t_df = t_df.sort_index(ascending=False).cumsum().sort_index()\n",
    "t_df = t_df - (T / n_steps)"
   ]
  },
  {
   "cell_type": "code",
   "execution_count": 5,
   "id": "cc305fb9-a2d4-4d3e-a076-13a1c1879767",
   "metadata": {},
   "outputs": [
    {
     "name": "stderr",
     "output_type": "stream",
     "text": [
      "100%|██████████| 253/253 [00:54<00:00,  4.68it/s]"
     ]
    },
    {
     "name": "stdout",
     "output_type": "stream",
     "text": [
      "0.020205258721020365\n",
      "0.02020525872102036\n"
     ]
    },
    {
     "name": "stderr",
     "output_type": "stream",
     "text": [
      "\n"
     ]
    }
   ],
   "source": [
    "# Compute average delta\n",
    "greek = price_df.copy()\n",
    "greek.loc[:, :] = np.nan\n",
    "for index in tqdm(price_df.index):\n",
    "    for column in price_df.columns:\n",
    "        S = price_df.loc[index, column]\n",
    "        T = t_df.loc[index, column]\n",
    "        result = BSMModel.compute_option_with_spot(S=S, K=K, T=T, r=r, g=g, q=q, sigma=sigma, option_type=option_type, compute_greeks=True)\n",
    "        greek.loc[index, column] = result['gamma']\n",
    "print(greek.iloc[:-1].mean().mean())\n",
    "print(greek.iloc[:-1].mean(axis=1).mean())"
   ]
  },
  {
   "cell_type": "code",
   "execution_count": 6,
   "id": "059bc5e7-0def-4485-83c6-c6404ce2d917",
   "metadata": {},
   "outputs": [
    {
     "name": "stderr",
     "output_type": "stream",
     "text": [
      "100%|██████████| 253/253 [01:06<00:00,  3.83it/s]"
     ]
    },
    {
     "name": "stdout",
     "output_type": "stream",
     "text": [
      "8.513813160920856\n",
      "8.513813160920856\n"
     ]
    },
    {
     "name": "stderr",
     "output_type": "stream",
     "text": [
      "\n"
     ]
    }
   ],
   "source": [
    "# Compute average slide\n",
    "bump = -0.3\n",
    "greek = price_df.copy()\n",
    "greek.loc[:, :] = np.nan\n",
    "\n",
    "for index in tqdm(price_df.index):\n",
    "    for column in price_df.columns:\n",
    "        \n",
    "        S = price_df.loc[index, column]\n",
    "        T = t_df.loc[index, column]\n",
    "        \n",
    "        result = BSMModel.compute_option_with_spot(S=S, K=K, T=T, r=r, g=g, q=q, sigma=sigma, option_type=option_type, compute_greeks=True)\n",
    "        delta_pnl = result['delta'] * S * 0.3\n",
    "        \n",
    "        pv_bumped = BSMModel.compute_option_with_spot(S=S*(1+bump), K=K, T=T, r=r, g=g, q=q, sigma=sigma, option_type=option_type, compute_greeks=False)\n",
    "        option_pnl = pv_bumped - result['price']\n",
    "        \n",
    "        greek.loc[index, column] = option_pnl + delta_pnl\n",
    "        \n",
    "print(greek.iloc[:-1].mean().mean())\n",
    "print(greek.iloc[:-1].mean(axis=1).mean())"
   ]
  }
 ],
 "metadata": {
  "kernelspec": {
   "display_name": "base",
   "language": "python",
   "name": "python3"
  },
  "language_info": {
   "codemirror_mode": {
    "name": "ipython",
    "version": 3
   },
   "file_extension": ".py",
   "mimetype": "text/x-python",
   "name": "python",
   "nbconvert_exporter": "python",
   "pygments_lexer": "ipython3",
   "version": "3.12.4"
  }
 },
 "nbformat": 4,
 "nbformat_minor": 5
}
