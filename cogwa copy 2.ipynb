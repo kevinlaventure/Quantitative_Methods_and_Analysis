{
 "cells": [
  {
   "cell_type": "code",
   "execution_count": 1,
   "id": "9ec2dad3",
   "metadata": {},
   "outputs": [],
   "source": [
    "import numpy as np\n",
    "import pandas as pd\n",
    "import plotly.express as px\n",
    "from sklearn.metrics import r2_score\n",
    "from sklearn.linear_model import Lasso\n",
    "from sklearn.linear_model import LinearRegression\n",
    "from python_module.pricing_model import BSMModel, SABRModel\n",
    "from python_module.weights_optimization import find_min_abs_weights, fast_find_min_abs_weights"
   ]
  },
  {
   "cell_type": "code",
   "execution_count": 2,
   "id": "8ed27dc2",
   "metadata": {},
   "outputs": [],
   "source": [
    "# Market Data Generation Inputs\n",
    "F = 100\n",
    "T = 1\n",
    "alpha = 0.2\n",
    "beta = 1\n",
    "rho = -0.9\n",
    "nu = 0.3\n",
    "r = 0"
   ]
  },
  {
   "cell_type": "code",
   "execution_count": 3,
   "id": "de25482f",
   "metadata": {},
   "outputs": [],
   "source": [
    "# Generate options\n",
    "results = dict()\n",
    "for K in range(60, 141, 1):\n",
    "    option_type = 'call' if K > F else 'put'\n",
    "    out = SABRModel.compute_option(F, K, T, alpha, beta, rho, nu, r, option_type=option_type)\n",
    "    out['option_type'] = option_type\n",
    "    out['delta_call'] = SABRModel.compute_option(F, K, T, alpha, beta, rho, nu, r, option_type='call')['delta']\n",
    "    results[K] = out"
   ]
  },
  {
   "cell_type": "code",
   "execution_count": 4,
   "id": "6bf5a2e3",
   "metadata": {},
   "outputs": [],
   "source": [
    "# Generate Weights\n",
    "df = pd.DataFrame(results)\n",
    "df = df.transpose()\n",
    "df['weight'] = (1 / np.power(df.index, 2)) * 1_000_000"
   ]
  },
  {
   "cell_type": "code",
   "execution_count": 5,
   "id": "013a222b",
   "metadata": {},
   "outputs": [],
   "source": [
    "# Compute COG\n",
    "X = df[['gamma', 'vanna', 'volga']]\n",
    "y = df['theta']\n",
    "model = LinearRegression(fit_intercept=False)\n",
    "model.fit(X.values, y.values)\n",
    "y_pred = model.predict(X.values)\n",
    "coef = model.coef_\n",
    "r2 = r2_score(y.values, y_pred)\n",
    "cogwa = (X * (coef))\n",
    "cogwa.columns = ['costof_gamma', 'costof_vanna', 'costof_volga']\n",
    "df = pd.concat([df, cogwa], axis=1)\n",
    "df['costof_other'] = df['theta'] - df[['costof_gamma', 'costof_vanna', 'costof_volga']].sum(axis=1)"
   ]
  },
  {
   "cell_type": "code",
   "execution_count": 6,
   "id": "3299cab3",
   "metadata": {},
   "outputs": [],
   "source": [
    "# Delta Bucketing\n",
    "bins = [0, 0.25, 0.5, 0.75, 1]\n",
    "labels = ['0-0.25', '0.25-0.5', '0.5-0.75', '0.75-1']\n",
    "df['delta_bucket'] = pd.cut(df['delta_call'], bins=bins, labels=labels)"
   ]
  },
  {
   "cell_type": "code",
   "execution_count": 7,
   "id": "8d800c53",
   "metadata": {},
   "outputs": [],
   "source": [
    "# Compute adjusted ref risk for portfolio reduction\n",
    "risk_ref = 'theta'\n",
    "df[f'pos_{risk_ref}'] = df[risk_ref] * df['weight']"
   ]
  },
  {
   "cell_type": "code",
   "execution_count": 8,
   "id": "0c9e07df",
   "metadata": {},
   "outputs": [],
   "source": [
    "# Compute weight_reduction with discrete approach\n",
    "df['risk_bucket'] = list(df['delta_bucket'].map(df.groupby('delta_bucket', observed=True)[f'pos_{risk_ref}'].sum().to_dict()))\n",
    "df['qty_to_trade'] = df['risk_bucket'] / df[risk_ref]\n",
    "df['min_qty_to_trade'] = list(df['delta_bucket'].map(df.groupby('delta_bucket', observed=True)['qty_to_trade'].min().to_dict())) \n",
    "df['weight_reduction'] = (df['qty_to_trade']==df['min_qty_to_trade']) * df['min_qty_to_trade']\n",
    "df['weight_reduction'] = df['weight_reduction'].replace(0, np.nan)"
   ]
  },
  {
   "cell_type": "code",
   "execution_count": 9,
   "id": "e98b6d8a",
   "metadata": {},
   "outputs": [],
   "source": [
    "# Compute weight_reduction with optimized approach\n",
    "index_cog = df[['costof_gamma', 'costof_vanna', 'costof_volga', 'costof_other']].multiply(df['weight'], axis=0).sum()\n",
    "weights = fast_find_min_abs_weights(df, index_cog, combination_size=4)\n",
    "df.loc[weights.index, 'weight_opt'] = weights.values\n",
    "opt_cog = df[['costof_gamma', 'costof_vanna', 'costof_volga', 'costof_other']].multiply(df['weight_opt'], axis=0).sum()"
   ]
  },
  {
   "cell_type": "raw",
   "id": "8ebffe13",
   "metadata": {
    "vscode": {
     "languageId": "raw"
    }
   },
   "source": [
    "# Compute weight_reduction with optimized approach\n",
    "index_cog = df[['costof_gamma', 'costof_vanna', 'costof_volga', 'costof_other']].multiply(df['weight'], axis=0).sum()\n",
    "weights = find_min_abs_weights(df, index_cog, combination_size=4)\n",
    "df.loc[weights.index, 'weight_opt'] = weights.values\n",
    "opt_cog = df[['costof_gamma', 'costof_vanna', 'costof_volga', 'costof_other']].multiply(df['weight_opt'], axis=0).sum()"
   ]
  },
  {
   "cell_type": "code",
   "execution_count": 10,
   "id": "1145abdc",
   "metadata": {},
   "outputs": [
    {
     "data": {
      "application/vnd.plotly.v1+json": {
       "config": {
        "plotlyServerURL": "https://plot.ly"
       },
       "data": [
        {
         "hovertemplate": "variable=weight<br>index=%{x}<br>value=%{y}<extra></extra>",
         "legendgroup": "weight",
         "marker": {
          "color": "#636efa",
          "symbol": "circle"
         },
         "mode": "markers",
         "name": "weight",
         "orientation": "v",
         "showlegend": true,
         "type": "scatter",
         "x": [
          60,
          61,
          62,
          63,
          64,
          65,
          66,
          67,
          68,
          69,
          70,
          71,
          72,
          73,
          74,
          75,
          76,
          77,
          78,
          79,
          80,
          81,
          82,
          83,
          84,
          85,
          86,
          87,
          88,
          89,
          90,
          91,
          92,
          93,
          94,
          95,
          96,
          97,
          98,
          99,
          100,
          101,
          102,
          103,
          104,
          105,
          106,
          107,
          108,
          109,
          110,
          111,
          112,
          113,
          114,
          115,
          116,
          117,
          118,
          119,
          120,
          121,
          122,
          123,
          124,
          125,
          126,
          127,
          128,
          129,
          130,
          131,
          132,
          133,
          134,
          135,
          136,
          137,
          138,
          139,
          140
         ],
         "xaxis": "x",
         "y": [
          277.77777777777777,
          268.7449610319806,
          260.1456815816858,
          251.95263290501387,
          244.140625,
          236.68639053254438,
          229.5684113865932,
          222.76676319893073,
          216.26297577854672,
          210.03990758244066,
          204.08163265306123,
          198.37333862328902,
          192.9012345679012,
          187.65246762994934,
          182.61504747991233,
          177.7777777777778,
          173.13019390581718,
          168.66250632484397,
          164.3655489809336,
          160.2307322544464,
          156.25,
          152.41579027587258,
          148.720999405116,
          145.15894904920887,
          141.7233560090703,
          138.4083044982699,
          135.20822065981613,
          132.1178491214163,
          129.13223140495867,
          126.24668602449185,
          123.4567901234568,
          120.75836251660427,
          118.14744801512288,
          115.62030292519366,
          113.17338162064283,
          110.80332409972299,
          108.50694444444444,
          106.28122010840686,
          104.12328196584757,
          102.03040506070809,
          100,
          98.02960494069208,
          96.11687812379854,
          94.25959091337543,
          92.45562130177514,
          90.70294784580499,
          88.999644001424,
          87.34387282732116,
          85.73388203017832,
          84.167999326656,
          82.64462809917356,
          81.16224332440548,
          79.71938775510203,
          78.31466833737959,
          76.94675284702986,
          75.61436672967864,
          74.31629013079666,
          73.05135510263716,
          71.81844297615628,
          70.61648188687239,
          69.44444444444444,
          68.30134553650706,
          67.18624025799515,
          66.09822195782932,
          65.03642039542144,
          64,
          62.98815822625347,
          62.00012400024801,
          61.03515625,
          60.09254251547383,
          59.171597633136095,
          58.27166249053086,
          57.3921028466483,
          56.532308214144386,
          55.69169079973268,
          54.869684499314126,
          54.06574394463668,
          53.27934359848686,
          52.509976895610166,
          51.75715542673775,
          51.02040816326531
         ],
         "yaxis": "y"
        },
        {
         "hovertemplate": "variable=weight_reduction<br>index=%{x}<br>value=%{y}<extra></extra>",
         "legendgroup": "weight_reduction",
         "marker": {
          "color": "#EF553B",
          "symbol": "circle"
         },
         "mode": "markers",
         "name": "weight_reduction",
         "orientation": "v",
         "showlegend": true,
         "type": "scatter",
         "x": [
          60,
          61,
          62,
          63,
          64,
          65,
          66,
          67,
          68,
          69,
          70,
          71,
          72,
          73,
          74,
          75,
          76,
          77,
          78,
          79,
          80,
          81,
          82,
          83,
          84,
          85,
          86,
          87,
          88,
          89,
          90,
          91,
          92,
          93,
          94,
          95,
          96,
          97,
          98,
          99,
          100,
          101,
          102,
          103,
          104,
          105,
          106,
          107,
          108,
          109,
          110,
          111,
          112,
          113,
          114,
          115,
          116,
          117,
          118,
          119,
          120,
          121,
          122,
          123,
          124,
          125,
          126,
          127,
          128,
          129,
          130,
          131,
          132,
          133,
          134,
          135,
          136,
          137,
          138,
          139,
          140
         ],
         "xaxis": "x",
         "y": [
          null,
          null,
          null,
          null,
          null,
          null,
          null,
          null,
          null,
          null,
          null,
          null,
          null,
          null,
          null,
          null,
          null,
          null,
          null,
          null,
          null,
          null,
          null,
          null,
          null,
          null,
          null,
          null,
          2739.6704800679454,
          null,
          null,
          null,
          null,
          null,
          null,
          null,
          null,
          null,
          null,
          1384.7401013467538,
          null,
          null,
          1010.7928631719572,
          null,
          null,
          null,
          null,
          null,
          null,
          null,
          null,
          null,
          null,
          null,
          null,
          834.1854251723403,
          null,
          null,
          null,
          null,
          null,
          null,
          null,
          null,
          null,
          null,
          null,
          null,
          null,
          null,
          null,
          null,
          null,
          null,
          null,
          null,
          null,
          null,
          null,
          null,
          null
         ],
         "yaxis": "y"
        },
        {
         "hovertemplate": "variable=weight_opt<br>index=%{x}<br>value=%{y}<extra></extra>",
         "legendgroup": "weight_opt",
         "marker": {
          "color": "#00cc96",
          "symbol": "circle"
         },
         "mode": "markers",
         "name": "weight_opt",
         "orientation": "v",
         "showlegend": true,
         "type": "scatter",
         "x": [
          60,
          61,
          62,
          63,
          64,
          65,
          66,
          67,
          68,
          69,
          70,
          71,
          72,
          73,
          74,
          75,
          76,
          77,
          78,
          79,
          80,
          81,
          82,
          83,
          84,
          85,
          86,
          87,
          88,
          89,
          90,
          91,
          92,
          93,
          94,
          95,
          96,
          97,
          98,
          99,
          100,
          101,
          102,
          103,
          104,
          105,
          106,
          107,
          108,
          109,
          110,
          111,
          112,
          113,
          114,
          115,
          116,
          117,
          118,
          119,
          120,
          121,
          122,
          123,
          124,
          125,
          126,
          127,
          128,
          129,
          130,
          131,
          132,
          133,
          134,
          135,
          136,
          137,
          138,
          139,
          140
         ],
         "xaxis": "x",
         "y": [
          null,
          null,
          null,
          null,
          null,
          null,
          null,
          null,
          null,
          null,
          null,
          null,
          null,
          null,
          null,
          null,
          null,
          null,
          null,
          4762.362634379518,
          817.0087814942094,
          null,
          null,
          null,
          null,
          null,
          null,
          null,
          null,
          null,
          null,
          null,
          null,
          null,
          null,
          null,
          null,
          null,
          null,
          null,
          null,
          null,
          null,
          null,
          null,
          null,
          null,
          null,
          null,
          null,
          null,
          null,
          null,
          null,
          944.9733138747497,
          1742.7877094283426,
          null,
          null,
          null,
          null,
          null,
          null,
          null,
          null,
          null,
          null,
          null,
          null,
          null,
          null,
          null,
          null,
          null,
          null,
          null,
          null,
          null,
          null,
          null,
          null,
          null
         ],
         "yaxis": "y"
        }
       ],
       "layout": {
        "legend": {
         "title": {
          "text": "variable"
         },
         "tracegroupgap": 0
        },
        "margin": {
         "t": 60
        },
        "template": {
         "data": {
          "bar": [
           {
            "error_x": {
             "color": "#2a3f5f"
            },
            "error_y": {
             "color": "#2a3f5f"
            },
            "marker": {
             "line": {
              "color": "#E5ECF6",
              "width": 0.5
             },
             "pattern": {
              "fillmode": "overlay",
              "size": 10,
              "solidity": 0.2
             }
            },
            "type": "bar"
           }
          ],
          "barpolar": [
           {
            "marker": {
             "line": {
              "color": "#E5ECF6",
              "width": 0.5
             },
             "pattern": {
              "fillmode": "overlay",
              "size": 10,
              "solidity": 0.2
             }
            },
            "type": "barpolar"
           }
          ],
          "carpet": [
           {
            "aaxis": {
             "endlinecolor": "#2a3f5f",
             "gridcolor": "white",
             "linecolor": "white",
             "minorgridcolor": "white",
             "startlinecolor": "#2a3f5f"
            },
            "baxis": {
             "endlinecolor": "#2a3f5f",
             "gridcolor": "white",
             "linecolor": "white",
             "minorgridcolor": "white",
             "startlinecolor": "#2a3f5f"
            },
            "type": "carpet"
           }
          ],
          "choropleth": [
           {
            "colorbar": {
             "outlinewidth": 0,
             "ticks": ""
            },
            "type": "choropleth"
           }
          ],
          "contour": [
           {
            "colorbar": {
             "outlinewidth": 0,
             "ticks": ""
            },
            "colorscale": [
             [
              0,
              "#0d0887"
             ],
             [
              0.1111111111111111,
              "#46039f"
             ],
             [
              0.2222222222222222,
              "#7201a8"
             ],
             [
              0.3333333333333333,
              "#9c179e"
             ],
             [
              0.4444444444444444,
              "#bd3786"
             ],
             [
              0.5555555555555556,
              "#d8576b"
             ],
             [
              0.6666666666666666,
              "#ed7953"
             ],
             [
              0.7777777777777778,
              "#fb9f3a"
             ],
             [
              0.8888888888888888,
              "#fdca26"
             ],
             [
              1,
              "#f0f921"
             ]
            ],
            "type": "contour"
           }
          ],
          "contourcarpet": [
           {
            "colorbar": {
             "outlinewidth": 0,
             "ticks": ""
            },
            "type": "contourcarpet"
           }
          ],
          "heatmap": [
           {
            "colorbar": {
             "outlinewidth": 0,
             "ticks": ""
            },
            "colorscale": [
             [
              0,
              "#0d0887"
             ],
             [
              0.1111111111111111,
              "#46039f"
             ],
             [
              0.2222222222222222,
              "#7201a8"
             ],
             [
              0.3333333333333333,
              "#9c179e"
             ],
             [
              0.4444444444444444,
              "#bd3786"
             ],
             [
              0.5555555555555556,
              "#d8576b"
             ],
             [
              0.6666666666666666,
              "#ed7953"
             ],
             [
              0.7777777777777778,
              "#fb9f3a"
             ],
             [
              0.8888888888888888,
              "#fdca26"
             ],
             [
              1,
              "#f0f921"
             ]
            ],
            "type": "heatmap"
           }
          ],
          "heatmapgl": [
           {
            "colorbar": {
             "outlinewidth": 0,
             "ticks": ""
            },
            "colorscale": [
             [
              0,
              "#0d0887"
             ],
             [
              0.1111111111111111,
              "#46039f"
             ],
             [
              0.2222222222222222,
              "#7201a8"
             ],
             [
              0.3333333333333333,
              "#9c179e"
             ],
             [
              0.4444444444444444,
              "#bd3786"
             ],
             [
              0.5555555555555556,
              "#d8576b"
             ],
             [
              0.6666666666666666,
              "#ed7953"
             ],
             [
              0.7777777777777778,
              "#fb9f3a"
             ],
             [
              0.8888888888888888,
              "#fdca26"
             ],
             [
              1,
              "#f0f921"
             ]
            ],
            "type": "heatmapgl"
           }
          ],
          "histogram": [
           {
            "marker": {
             "pattern": {
              "fillmode": "overlay",
              "size": 10,
              "solidity": 0.2
             }
            },
            "type": "histogram"
           }
          ],
          "histogram2d": [
           {
            "colorbar": {
             "outlinewidth": 0,
             "ticks": ""
            },
            "colorscale": [
             [
              0,
              "#0d0887"
             ],
             [
              0.1111111111111111,
              "#46039f"
             ],
             [
              0.2222222222222222,
              "#7201a8"
             ],
             [
              0.3333333333333333,
              "#9c179e"
             ],
             [
              0.4444444444444444,
              "#bd3786"
             ],
             [
              0.5555555555555556,
              "#d8576b"
             ],
             [
              0.6666666666666666,
              "#ed7953"
             ],
             [
              0.7777777777777778,
              "#fb9f3a"
             ],
             [
              0.8888888888888888,
              "#fdca26"
             ],
             [
              1,
              "#f0f921"
             ]
            ],
            "type": "histogram2d"
           }
          ],
          "histogram2dcontour": [
           {
            "colorbar": {
             "outlinewidth": 0,
             "ticks": ""
            },
            "colorscale": [
             [
              0,
              "#0d0887"
             ],
             [
              0.1111111111111111,
              "#46039f"
             ],
             [
              0.2222222222222222,
              "#7201a8"
             ],
             [
              0.3333333333333333,
              "#9c179e"
             ],
             [
              0.4444444444444444,
              "#bd3786"
             ],
             [
              0.5555555555555556,
              "#d8576b"
             ],
             [
              0.6666666666666666,
              "#ed7953"
             ],
             [
              0.7777777777777778,
              "#fb9f3a"
             ],
             [
              0.8888888888888888,
              "#fdca26"
             ],
             [
              1,
              "#f0f921"
             ]
            ],
            "type": "histogram2dcontour"
           }
          ],
          "mesh3d": [
           {
            "colorbar": {
             "outlinewidth": 0,
             "ticks": ""
            },
            "type": "mesh3d"
           }
          ],
          "parcoords": [
           {
            "line": {
             "colorbar": {
              "outlinewidth": 0,
              "ticks": ""
             }
            },
            "type": "parcoords"
           }
          ],
          "pie": [
           {
            "automargin": true,
            "type": "pie"
           }
          ],
          "scatter": [
           {
            "fillpattern": {
             "fillmode": "overlay",
             "size": 10,
             "solidity": 0.2
            },
            "type": "scatter"
           }
          ],
          "scatter3d": [
           {
            "line": {
             "colorbar": {
              "outlinewidth": 0,
              "ticks": ""
             }
            },
            "marker": {
             "colorbar": {
              "outlinewidth": 0,
              "ticks": ""
             }
            },
            "type": "scatter3d"
           }
          ],
          "scattercarpet": [
           {
            "marker": {
             "colorbar": {
              "outlinewidth": 0,
              "ticks": ""
             }
            },
            "type": "scattercarpet"
           }
          ],
          "scattergeo": [
           {
            "marker": {
             "colorbar": {
              "outlinewidth": 0,
              "ticks": ""
             }
            },
            "type": "scattergeo"
           }
          ],
          "scattergl": [
           {
            "marker": {
             "colorbar": {
              "outlinewidth": 0,
              "ticks": ""
             }
            },
            "type": "scattergl"
           }
          ],
          "scattermapbox": [
           {
            "marker": {
             "colorbar": {
              "outlinewidth": 0,
              "ticks": ""
             }
            },
            "type": "scattermapbox"
           }
          ],
          "scatterpolar": [
           {
            "marker": {
             "colorbar": {
              "outlinewidth": 0,
              "ticks": ""
             }
            },
            "type": "scatterpolar"
           }
          ],
          "scatterpolargl": [
           {
            "marker": {
             "colorbar": {
              "outlinewidth": 0,
              "ticks": ""
             }
            },
            "type": "scatterpolargl"
           }
          ],
          "scatterternary": [
           {
            "marker": {
             "colorbar": {
              "outlinewidth": 0,
              "ticks": ""
             }
            },
            "type": "scatterternary"
           }
          ],
          "surface": [
           {
            "colorbar": {
             "outlinewidth": 0,
             "ticks": ""
            },
            "colorscale": [
             [
              0,
              "#0d0887"
             ],
             [
              0.1111111111111111,
              "#46039f"
             ],
             [
              0.2222222222222222,
              "#7201a8"
             ],
             [
              0.3333333333333333,
              "#9c179e"
             ],
             [
              0.4444444444444444,
              "#bd3786"
             ],
             [
              0.5555555555555556,
              "#d8576b"
             ],
             [
              0.6666666666666666,
              "#ed7953"
             ],
             [
              0.7777777777777778,
              "#fb9f3a"
             ],
             [
              0.8888888888888888,
              "#fdca26"
             ],
             [
              1,
              "#f0f921"
             ]
            ],
            "type": "surface"
           }
          ],
          "table": [
           {
            "cells": {
             "fill": {
              "color": "#EBF0F8"
             },
             "line": {
              "color": "white"
             }
            },
            "header": {
             "fill": {
              "color": "#C8D4E3"
             },
             "line": {
              "color": "white"
             }
            },
            "type": "table"
           }
          ]
         },
         "layout": {
          "annotationdefaults": {
           "arrowcolor": "#2a3f5f",
           "arrowhead": 0,
           "arrowwidth": 1
          },
          "autotypenumbers": "strict",
          "coloraxis": {
           "colorbar": {
            "outlinewidth": 0,
            "ticks": ""
           }
          },
          "colorscale": {
           "diverging": [
            [
             0,
             "#8e0152"
            ],
            [
             0.1,
             "#c51b7d"
            ],
            [
             0.2,
             "#de77ae"
            ],
            [
             0.3,
             "#f1b6da"
            ],
            [
             0.4,
             "#fde0ef"
            ],
            [
             0.5,
             "#f7f7f7"
            ],
            [
             0.6,
             "#e6f5d0"
            ],
            [
             0.7,
             "#b8e186"
            ],
            [
             0.8,
             "#7fbc41"
            ],
            [
             0.9,
             "#4d9221"
            ],
            [
             1,
             "#276419"
            ]
           ],
           "sequential": [
            [
             0,
             "#0d0887"
            ],
            [
             0.1111111111111111,
             "#46039f"
            ],
            [
             0.2222222222222222,
             "#7201a8"
            ],
            [
             0.3333333333333333,
             "#9c179e"
            ],
            [
             0.4444444444444444,
             "#bd3786"
            ],
            [
             0.5555555555555556,
             "#d8576b"
            ],
            [
             0.6666666666666666,
             "#ed7953"
            ],
            [
             0.7777777777777778,
             "#fb9f3a"
            ],
            [
             0.8888888888888888,
             "#fdca26"
            ],
            [
             1,
             "#f0f921"
            ]
           ],
           "sequentialminus": [
            [
             0,
             "#0d0887"
            ],
            [
             0.1111111111111111,
             "#46039f"
            ],
            [
             0.2222222222222222,
             "#7201a8"
            ],
            [
             0.3333333333333333,
             "#9c179e"
            ],
            [
             0.4444444444444444,
             "#bd3786"
            ],
            [
             0.5555555555555556,
             "#d8576b"
            ],
            [
             0.6666666666666666,
             "#ed7953"
            ],
            [
             0.7777777777777778,
             "#fb9f3a"
            ],
            [
             0.8888888888888888,
             "#fdca26"
            ],
            [
             1,
             "#f0f921"
            ]
           ]
          },
          "colorway": [
           "#636efa",
           "#EF553B",
           "#00cc96",
           "#ab63fa",
           "#FFA15A",
           "#19d3f3",
           "#FF6692",
           "#B6E880",
           "#FF97FF",
           "#FECB52"
          ],
          "font": {
           "color": "#2a3f5f"
          },
          "geo": {
           "bgcolor": "white",
           "lakecolor": "white",
           "landcolor": "#E5ECF6",
           "showlakes": true,
           "showland": true,
           "subunitcolor": "white"
          },
          "hoverlabel": {
           "align": "left"
          },
          "hovermode": "closest",
          "mapbox": {
           "style": "light"
          },
          "paper_bgcolor": "white",
          "plot_bgcolor": "#E5ECF6",
          "polar": {
           "angularaxis": {
            "gridcolor": "white",
            "linecolor": "white",
            "ticks": ""
           },
           "bgcolor": "#E5ECF6",
           "radialaxis": {
            "gridcolor": "white",
            "linecolor": "white",
            "ticks": ""
           }
          },
          "scene": {
           "xaxis": {
            "backgroundcolor": "#E5ECF6",
            "gridcolor": "white",
            "gridwidth": 2,
            "linecolor": "white",
            "showbackground": true,
            "ticks": "",
            "zerolinecolor": "white"
           },
           "yaxis": {
            "backgroundcolor": "#E5ECF6",
            "gridcolor": "white",
            "gridwidth": 2,
            "linecolor": "white",
            "showbackground": true,
            "ticks": "",
            "zerolinecolor": "white"
           },
           "zaxis": {
            "backgroundcolor": "#E5ECF6",
            "gridcolor": "white",
            "gridwidth": 2,
            "linecolor": "white",
            "showbackground": true,
            "ticks": "",
            "zerolinecolor": "white"
           }
          },
          "shapedefaults": {
           "line": {
            "color": "#2a3f5f"
           }
          },
          "ternary": {
           "aaxis": {
            "gridcolor": "white",
            "linecolor": "white",
            "ticks": ""
           },
           "baxis": {
            "gridcolor": "white",
            "linecolor": "white",
            "ticks": ""
           },
           "bgcolor": "#E5ECF6",
           "caxis": {
            "gridcolor": "white",
            "linecolor": "white",
            "ticks": ""
           }
          },
          "title": {
           "x": 0.05
          },
          "xaxis": {
           "automargin": true,
           "gridcolor": "white",
           "linecolor": "white",
           "ticks": "",
           "title": {
            "standoff": 15
           },
           "zerolinecolor": "white",
           "zerolinewidth": 2
          },
          "yaxis": {
           "automargin": true,
           "gridcolor": "white",
           "linecolor": "white",
           "ticks": "",
           "title": {
            "standoff": 15
           },
           "zerolinecolor": "white",
           "zerolinewidth": 2
          }
         }
        },
        "xaxis": {
         "anchor": "y",
         "domain": [
          0,
          1
         ],
         "title": {
          "text": "index"
         }
        },
        "yaxis": {
         "anchor": "x",
         "domain": [
          0,
          1
         ],
         "title": {
          "text": "value"
         }
        }
       }
      }
     },
     "metadata": {},
     "output_type": "display_data"
    }
   ],
   "source": [
    "px.scatter(df[['weight', 'weight_reduction', 'weight_opt']])"
   ]
  },
  {
   "cell_type": "code",
   "execution_count": 11,
   "id": "e3294456",
   "metadata": {},
   "outputs": [
    {
     "data": {
      "text/html": [
       "<div>\n",
       "<style scoped>\n",
       "    .dataframe tbody tr th:only-of-type {\n",
       "        vertical-align: middle;\n",
       "    }\n",
       "\n",
       "    .dataframe tbody tr th {\n",
       "        vertical-align: top;\n",
       "    }\n",
       "\n",
       "    .dataframe thead th {\n",
       "        text-align: right;\n",
       "    }\n",
       "</style>\n",
       "<table border=\"1\" class=\"dataframe\">\n",
       "  <thead>\n",
       "    <tr style=\"text-align: right;\">\n",
       "      <th></th>\n",
       "      <th>IV</th>\n",
       "      <th>price</th>\n",
       "      <th>delta</th>\n",
       "      <th>gamma</th>\n",
       "      <th>vega</th>\n",
       "      <th>theta</th>\n",
       "      <th>vanna</th>\n",
       "      <th>volga</th>\n",
       "      <th>option_type</th>\n",
       "      <th>delta_call</th>\n",
       "      <th>...</th>\n",
       "      <th>costof_vanna</th>\n",
       "      <th>costof_volga</th>\n",
       "      <th>costof_other</th>\n",
       "      <th>delta_bucket</th>\n",
       "      <th>pos_theta</th>\n",
       "      <th>risk_bucket</th>\n",
       "      <th>qty_to_trade</th>\n",
       "      <th>min_qty_to_trade</th>\n",
       "      <th>weight_reduction</th>\n",
       "      <th>weight_opt</th>\n",
       "    </tr>\n",
       "  </thead>\n",
       "  <tbody>\n",
       "    <tr>\n",
       "      <th>60</th>\n",
       "      <td>0.26088</td>\n",
       "      <td>0.190562</td>\n",
       "      <td>-0.018375</td>\n",
       "      <td>0.001727</td>\n",
       "      <td>0.045054</td>\n",
       "      <td>-0.002332</td>\n",
       "      <td>-0.31563</td>\n",
       "      <td>65.920132</td>\n",
       "      <td>put</td>\n",
       "      <td>0.981625</td>\n",
       "      <td>...</td>\n",
       "      <td>-0.000673</td>\n",
       "      <td>-0.000231</td>\n",
       "      <td>-0.000061</td>\n",
       "      <td>0.75-1</td>\n",
       "      <td>-0.647794</td>\n",
       "      <td>-36.147061</td>\n",
       "      <td>15500.066294</td>\n",
       "      <td>2739.670480</td>\n",
       "      <td>NaN</td>\n",
       "      <td>NaN</td>\n",
       "    </tr>\n",
       "    <tr>\n",
       "      <th>61</th>\n",
       "      <td>0.258927</td>\n",
       "      <td>0.21695</td>\n",
       "      <td>-0.020751</td>\n",
       "      <td>0.001929</td>\n",
       "      <td>0.049954</td>\n",
       "      <td>-0.002566</td>\n",
       "      <td>-0.343327</td>\n",
       "      <td>69.986695</td>\n",
       "      <td>put</td>\n",
       "      <td>0.979249</td>\n",
       "      <td>...</td>\n",
       "      <td>-0.000732</td>\n",
       "      <td>-0.000245</td>\n",
       "      <td>-0.000062</td>\n",
       "      <td>0.75-1</td>\n",
       "      <td>-0.689701</td>\n",
       "      <td>-36.147061</td>\n",
       "      <td>14084.858289</td>\n",
       "      <td>2739.670480</td>\n",
       "      <td>NaN</td>\n",
       "      <td>NaN</td>\n",
       "    </tr>\n",
       "    <tr>\n",
       "      <th>62</th>\n",
       "      <td>0.256999</td>\n",
       "      <td>0.246412</td>\n",
       "      <td>-0.023374</td>\n",
       "      <td>0.002149</td>\n",
       "      <td>0.055236</td>\n",
       "      <td>-0.002817</td>\n",
       "      <td>-0.37216</td>\n",
       "      <td>74.006661</td>\n",
       "      <td>put</td>\n",
       "      <td>0.976626</td>\n",
       "      <td>...</td>\n",
       "      <td>-0.000793</td>\n",
       "      <td>-0.000259</td>\n",
       "      <td>-0.000062</td>\n",
       "      <td>0.75-1</td>\n",
       "      <td>-0.732717</td>\n",
       "      <td>-36.147061</td>\n",
       "      <td>12833.748831</td>\n",
       "      <td>2739.670480</td>\n",
       "      <td>NaN</td>\n",
       "      <td>NaN</td>\n",
       "    </tr>\n",
       "    <tr>\n",
       "      <th>63</th>\n",
       "      <td>0.255095</td>\n",
       "      <td>0.279231</td>\n",
       "      <td>-0.026264</td>\n",
       "      <td>0.002388</td>\n",
       "      <td>0.060909</td>\n",
       "      <td>-0.003083</td>\n",
       "      <td>-0.402015</td>\n",
       "      <td>77.941864</td>\n",
       "      <td>put</td>\n",
       "      <td>0.973736</td>\n",
       "      <td>...</td>\n",
       "      <td>-0.000857</td>\n",
       "      <td>-0.000273</td>\n",
       "      <td>-0.000062</td>\n",
       "      <td>0.75-1</td>\n",
       "      <td>-0.776734</td>\n",
       "      <td>-36.147061</td>\n",
       "      <td>11725.178164</td>\n",
       "      <td>2739.670480</td>\n",
       "      <td>NaN</td>\n",
       "      <td>NaN</td>\n",
       "    </tr>\n",
       "    <tr>\n",
       "      <th>64</th>\n",
       "      <td>0.253214</td>\n",
       "      <td>0.315711</td>\n",
       "      <td>-0.02944</td>\n",
       "      <td>0.002645</td>\n",
       "      <td>0.066986</td>\n",
       "      <td>-0.003365</td>\n",
       "      <td>-0.432757</td>\n",
       "      <td>81.751983</td>\n",
       "      <td>put</td>\n",
       "      <td>0.97056</td>\n",
       "      <td>...</td>\n",
       "      <td>-0.000922</td>\n",
       "      <td>-0.000286</td>\n",
       "      <td>-0.000062</td>\n",
       "      <td>0.75-1</td>\n",
       "      <td>-0.821635</td>\n",
       "      <td>-36.147061</td>\n",
       "      <td>10740.740603</td>\n",
       "      <td>2739.670480</td>\n",
       "      <td>NaN</td>\n",
       "      <td>NaN</td>\n",
       "    </tr>\n",
       "    <tr>\n",
       "      <th>...</th>\n",
       "      <td>...</td>\n",
       "      <td>...</td>\n",
       "      <td>...</td>\n",
       "      <td>...</td>\n",
       "      <td>...</td>\n",
       "      <td>...</td>\n",
       "      <td>...</td>\n",
       "      <td>...</td>\n",
       "      <td>...</td>\n",
       "      <td>...</td>\n",
       "      <td>...</td>\n",
       "      <td>...</td>\n",
       "      <td>...</td>\n",
       "      <td>...</td>\n",
       "      <td>...</td>\n",
       "      <td>...</td>\n",
       "      <td>...</td>\n",
       "      <td>...</td>\n",
       "      <td>...</td>\n",
       "      <td>...</td>\n",
       "      <td>...</td>\n",
       "    </tr>\n",
       "    <tr>\n",
       "      <th>136</th>\n",
       "      <td>0.15499</td>\n",
       "      <td>0.159837</td>\n",
       "      <td>0.028299</td>\n",
       "      <td>0.004182</td>\n",
       "      <td>0.06482</td>\n",
       "      <td>-0.001993</td>\n",
       "      <td>0.862125</td>\n",
       "      <td>164.356283</td>\n",
       "      <td>call</td>\n",
       "      <td>0.028299</td>\n",
       "      <td>...</td>\n",
       "      <td>0.001838</td>\n",
       "      <td>-0.000575</td>\n",
       "      <td>0.000056</td>\n",
       "      <td>0-0.25</td>\n",
       "      <td>-0.107772</td>\n",
       "      <td>-9.232552</td>\n",
       "      <td>4631.679085</td>\n",
       "      <td>834.185425</td>\n",
       "      <td>NaN</td>\n",
       "      <td>NaN</td>\n",
       "    </tr>\n",
       "    <tr>\n",
       "      <th>137</th>\n",
       "      <td>0.153985</td>\n",
       "      <td>0.135433</td>\n",
       "      <td>0.024567</td>\n",
       "      <td>0.00374</td>\n",
       "      <td>0.057595</td>\n",
       "      <td>-0.00176</td>\n",
       "      <td>0.793467</td>\n",
       "      <td>156.108876</td>\n",
       "      <td>call</td>\n",
       "      <td>0.024567</td>\n",
       "      <td>...</td>\n",
       "      <td>0.001691</td>\n",
       "      <td>-0.000546</td>\n",
       "      <td>0.000057</td>\n",
       "      <td>0-0.25</td>\n",
       "      <td>-0.093754</td>\n",
       "      <td>-9.232552</td>\n",
       "      <td>5246.73472</td>\n",
       "      <td>834.185425</td>\n",
       "      <td>NaN</td>\n",
       "      <td>NaN</td>\n",
       "    </tr>\n",
       "    <tr>\n",
       "      <th>138</th>\n",
       "      <td>0.15299</td>\n",
       "      <td>0.114308</td>\n",
       "      <td>0.021241</td>\n",
       "      <td>0.00333</td>\n",
       "      <td>0.050952</td>\n",
       "      <td>-0.001547</td>\n",
       "      <td>0.726613</td>\n",
       "      <td>147.412162</td>\n",
       "      <td>call</td>\n",
       "      <td>0.021241</td>\n",
       "      <td>...</td>\n",
       "      <td>0.001549</td>\n",
       "      <td>-0.000516</td>\n",
       "      <td>0.000058</td>\n",
       "      <td>0-0.25</td>\n",
       "      <td>-0.081215</td>\n",
       "      <td>-9.232552</td>\n",
       "      <td>5969.333498</td>\n",
       "      <td>834.185425</td>\n",
       "      <td>NaN</td>\n",
       "      <td>NaN</td>\n",
       "    </tr>\n",
       "    <tr>\n",
       "      <th>139</th>\n",
       "      <td>0.152005</td>\n",
       "      <td>0.096096</td>\n",
       "      <td>0.018291</td>\n",
       "      <td>0.002952</td>\n",
       "      <td>0.044877</td>\n",
       "      <td>-0.001353</td>\n",
       "      <td>0.662035</td>\n",
       "      <td>138.392003</td>\n",
       "      <td>call</td>\n",
       "      <td>0.018291</td>\n",
       "      <td>...</td>\n",
       "      <td>0.001411</td>\n",
       "      <td>-0.000484</td>\n",
       "      <td>0.000058</td>\n",
       "      <td>0-0.25</td>\n",
       "      <td>-0.070052</td>\n",
       "      <td>-9.232552</td>\n",
       "      <td>6821.37639</td>\n",
       "      <td>834.185425</td>\n",
       "      <td>NaN</td>\n",
       "      <td>NaN</td>\n",
       "    </tr>\n",
       "    <tr>\n",
       "      <th>140</th>\n",
       "      <td>0.151028</td>\n",
       "      <td>0.080461</td>\n",
       "      <td>0.015685</td>\n",
       "      <td>0.002605</td>\n",
       "      <td>0.03935</td>\n",
       "      <td>-0.001179</td>\n",
       "      <td>0.600138</td>\n",
       "      <td>129.171297</td>\n",
       "      <td>call</td>\n",
       "      <td>0.015685</td>\n",
       "      <td>...</td>\n",
       "      <td>0.001279</td>\n",
       "      <td>-0.000452</td>\n",
       "      <td>0.000057</td>\n",
       "      <td>0-0.25</td>\n",
       "      <td>-0.060161</td>\n",
       "      <td>-9.232552</td>\n",
       "      <td>7829.795562</td>\n",
       "      <td>834.185425</td>\n",
       "      <td>NaN</td>\n",
       "      <td>NaN</td>\n",
       "    </tr>\n",
       "  </tbody>\n",
       "</table>\n",
       "<p>81 rows × 22 columns</p>\n",
       "</div>"
      ],
      "text/plain": [
       "           IV     price     delta     gamma      vega     theta     vanna  \\\n",
       "60    0.26088  0.190562 -0.018375  0.001727  0.045054 -0.002332  -0.31563   \n",
       "61   0.258927   0.21695 -0.020751  0.001929  0.049954 -0.002566 -0.343327   \n",
       "62   0.256999  0.246412 -0.023374  0.002149  0.055236 -0.002817  -0.37216   \n",
       "63   0.255095  0.279231 -0.026264  0.002388  0.060909 -0.003083 -0.402015   \n",
       "64   0.253214  0.315711  -0.02944  0.002645  0.066986 -0.003365 -0.432757   \n",
       "..        ...       ...       ...       ...       ...       ...       ...   \n",
       "136   0.15499  0.159837  0.028299  0.004182   0.06482 -0.001993  0.862125   \n",
       "137  0.153985  0.135433  0.024567   0.00374  0.057595  -0.00176  0.793467   \n",
       "138   0.15299  0.114308  0.021241   0.00333  0.050952 -0.001547  0.726613   \n",
       "139  0.152005  0.096096  0.018291  0.002952  0.044877 -0.001353  0.662035   \n",
       "140  0.151028  0.080461  0.015685  0.002605   0.03935 -0.001179  0.600138   \n",
       "\n",
       "          volga option_type delta_call  ...  costof_vanna costof_volga  \\\n",
       "60    65.920132         put   0.981625  ...     -0.000673    -0.000231   \n",
       "61    69.986695         put   0.979249  ...     -0.000732    -0.000245   \n",
       "62    74.006661         put   0.976626  ...     -0.000793    -0.000259   \n",
       "63    77.941864         put   0.973736  ...     -0.000857    -0.000273   \n",
       "64    81.751983         put    0.97056  ...     -0.000922    -0.000286   \n",
       "..          ...         ...        ...  ...           ...          ...   \n",
       "136  164.356283        call   0.028299  ...      0.001838    -0.000575   \n",
       "137  156.108876        call   0.024567  ...      0.001691    -0.000546   \n",
       "138  147.412162        call   0.021241  ...      0.001549    -0.000516   \n",
       "139  138.392003        call   0.018291  ...      0.001411    -0.000484   \n",
       "140  129.171297        call   0.015685  ...      0.001279    -0.000452   \n",
       "\n",
       "    costof_other delta_bucket pos_theta risk_bucket  qty_to_trade  \\\n",
       "60     -0.000061       0.75-1 -0.647794  -36.147061  15500.066294   \n",
       "61     -0.000062       0.75-1 -0.689701  -36.147061  14084.858289   \n",
       "62     -0.000062       0.75-1 -0.732717  -36.147061  12833.748831   \n",
       "63     -0.000062       0.75-1 -0.776734  -36.147061  11725.178164   \n",
       "64     -0.000062       0.75-1 -0.821635  -36.147061  10740.740603   \n",
       "..           ...          ...       ...         ...           ...   \n",
       "136     0.000056       0-0.25 -0.107772   -9.232552   4631.679085   \n",
       "137     0.000057       0-0.25 -0.093754   -9.232552    5246.73472   \n",
       "138     0.000058       0-0.25 -0.081215   -9.232552   5969.333498   \n",
       "139     0.000058       0-0.25 -0.070052   -9.232552    6821.37639   \n",
       "140     0.000057       0-0.25 -0.060161   -9.232552   7829.795562   \n",
       "\n",
       "     min_qty_to_trade weight_reduction  weight_opt  \n",
       "60        2739.670480              NaN         NaN  \n",
       "61        2739.670480              NaN         NaN  \n",
       "62        2739.670480              NaN         NaN  \n",
       "63        2739.670480              NaN         NaN  \n",
       "64        2739.670480              NaN         NaN  \n",
       "..                ...              ...         ...  \n",
       "136        834.185425              NaN         NaN  \n",
       "137        834.185425              NaN         NaN  \n",
       "138        834.185425              NaN         NaN  \n",
       "139        834.185425              NaN         NaN  \n",
       "140        834.185425              NaN         NaN  \n",
       "\n",
       "[81 rows x 22 columns]"
      ]
     },
     "execution_count": 11,
     "metadata": {},
     "output_type": "execute_result"
    }
   ],
   "source": [
    "df"
   ]
  },
  {
   "cell_type": "code",
   "execution_count": null,
   "id": "df7f5a71",
   "metadata": {},
   "outputs": [],
   "source": []
  }
 ],
 "metadata": {
  "kernelspec": {
   "display_name": "base",
   "language": "python",
   "name": "python3"
  },
  "language_info": {
   "codemirror_mode": {
    "name": "ipython",
    "version": 3
   },
   "file_extension": ".py",
   "mimetype": "text/x-python",
   "name": "python",
   "nbconvert_exporter": "python",
   "pygments_lexer": "ipython3",
   "version": "3.12.4"
  }
 },
 "nbformat": 4,
 "nbformat_minor": 5
}
