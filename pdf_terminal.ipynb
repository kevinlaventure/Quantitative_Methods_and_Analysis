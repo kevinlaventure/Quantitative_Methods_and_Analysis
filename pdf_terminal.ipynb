{
 "cells": [
  {
   "cell_type": "code",
   "execution_count": 458,
   "metadata": {},
   "outputs": [],
   "source": [
    "# -------\n",
    "# IMPORT LIBRAIRIES\n",
    "# -------\n",
    "import numpy as np\n",
    "import pandas as pd\n",
    "import plotly.express as px\n",
    "import plotly.graph_objects as go\n",
    "from scipy.optimize import minimize, least_squares\n",
    "from sklearn.linear_model import LinearRegression, Lasso\n",
    "from python_module.pricing_model import SABRModel, BlackScholesModel"
   ]
  },
  {
   "cell_type": "code",
   "execution_count": 459,
   "metadata": {},
   "outputs": [],
   "source": [
    "# -------\n",
    "# PARAMETERS\n",
    "# -------\n",
    "F = 100\n",
    "T = 1\n",
    "alpha = 0.1\n",
    "beta = 1\n",
    "rho = -0.\n",
    "nu = 0.0001\n",
    "n_steps = 250\n",
    "n_paths = 100"
   ]
  },
  {
   "cell_type": "code",
   "execution_count": 460,
   "metadata": {},
   "outputs": [],
   "source": [
    "# -------\n",
    "# MONTECARLO\n",
    "# -------\n",
    "spot, vol = SABRModel.compute_montecarlo(F=F, T=T, alpha=alpha, beta=beta, rho=rho, nu=nu, n_steps=n_steps, n_paths=n_paths, seed=False)\n",
    "spot = np.round(spot, 2)"
   ]
  },
  {
   "cell_type": "code",
   "execution_count": 461,
   "metadata": {},
   "outputs": [],
   "source": [
    "# -------\n",
    "# PDF FROM TERMINAL DISTRIBUTION WITH TRUE PARAMETERS\n",
    "# -------\n",
    "dk = 1\n",
    "r  = 0\n",
    "pdf_dict = dict()\n",
    "for K in spot.iloc[-1].sort_values():\n",
    "    a = SABRModel.compute_option(F, K+dk, T, alpha, beta, rho, nu, r, option_type='call')['price']\n",
    "    b = SABRModel.compute_option(F, K, T, alpha, beta, rho, nu, r, option_type='call')['price']\n",
    "    c = SABRModel.compute_option(F, K-dk, T, alpha, beta, rho, nu, r, option_type='call')['price']\n",
    "    pdf_dict[K] = (a -2*b + c)/(dk**2)"
   ]
  },
  {
   "cell_type": "code",
   "execution_count": 462,
   "metadata": {},
   "outputs": [],
   "source": [
    "# -------\n",
    "# PDF FROM TERMINAL DISTRIBUTION WITH WRONG PARAMETERS\n",
    "# -------\n",
    "\n",
    "# Parameter overriding \n",
    "alpha = 0.1\n",
    "beta = 1\n",
    "rho = 0.\n",
    "nu = 1\n",
    "\n",
    "\n",
    "dk = 1\n",
    "r  = 0\n",
    "pdf_dict2 = dict()\n",
    "for K in spot.iloc[-1].sort_values():\n",
    "    a = SABRModel.compute_option(F, K+dk, T, alpha, beta, rho, nu, r, option_type='call')['price']\n",
    "    b = SABRModel.compute_option(F, K, T, alpha, beta, rho, nu, r, option_type='call')['price']\n",
    "    c = SABRModel.compute_option(F, K-dk, T, alpha, beta, rho, nu, r, option_type='call')['price']\n",
    "    pdf_dict2[K] = (a -2*b + c)/(dk**2)"
   ]
  },
  {
   "cell_type": "code",
   "execution_count": 463,
   "metadata": {},
   "outputs": [
    {
     "data": {
      "application/vnd.plotly.v1+json": {
       "config": {
        "plotlyServerURL": "https://plot.ly"
       },
       "data": [
        {
         "mode": "lines+markers",
         "name": "pdf_true_param",
         "type": "scatter",
         "x": [
          80.95,
          80.97,
          81.19,
          81.59,
          82.09,
          82.66,
          83.17,
          84.67,
          85.32,
          85.52,
          87.1,
          87.36,
          88.23,
          88.68,
          89.17,
          89.59,
          89.73,
          90.87,
          91.15,
          91.83,
          91.99,
          92.65,
          92.87,
          93.44,
          94.13,
          94.47,
          94.53,
          94.89,
          95.2,
          95.39,
          95.53,
          95.85,
          95.89,
          96.03,
          96.17,
          96.33,
          96.48,
          96.61,
          96.71,
          97.73,
          97.81,
          98.11,
          98.38,
          98.41,
          98.58,
          98.62,
          98.66,
          99.44,
          99.71,
          100.1,
          100.37,
          100.45,
          101.05,
          101.12,
          101.38,
          101.76,
          101.85,
          101.99,
          102.03,
          102.47,
          102.48,
          103.21,
          103.22,
          103.63,
          104.15,
          104.9,
          104.94,
          105.06,
          105.2,
          105.29,
          105.92,
          106.42,
          106.49,
          106.69,
          106.74,
          107.74,
          107.76,
          107.86,
          108.25,
          108.26,
          108.43,
          108.79,
          108.91,
          109.22,
          111.01,
          111.38,
          112.3,
          112.61,
          113.56,
          113.71,
          113.91,
          116.72,
          116.76,
          119.88,
          121.02,
          121.99,
          127.66,
          128,
          133.61
         ],
         "y": [
          0.005883562998889147,
          0.005912070491149279,
          0.0062319357110283136,
          0.0068432166025189645,
          0.007661638085039613,
          0.008668402738919667,
          0.009635220167254488,
          0.012824055974760995,
          0.014352440685769352,
          0.014838536706179184,
          0.018893486732935116,
          0.019589431643382227,
          0.021952606763491644,
          0.023186135704122535,
          0.02452901700380039,
          0.025673989294361377,
          0.02605346261995578,
          0.029074149274265437,
          0.02979002302203071,
          0.03147020163729053,
          0.031851854542367164,
          0.03336240594263984,
          0.03384105523116432,
          0.03501701994682094,
          0.03630520755379507,
          0.0368808907821645,
          0.03697824033117314,
          0.037534848714358304,
          0.037975460256689075,
          0.03822735466997784,
          0.03840397937786122,
          0.03877863699273831,
          0.038822596468008896,
          0.03897137867638634,
          0.03911222125269376,
          0.039263394025553566,
          0.03939557388508064,
          0.039502617124341555,
          0.039580191342885485,
          0.04013259766015409,
          0.04015744898975271,
          0.040226727743252866,
          0.04025689733766313,
          0.04025837503699137,
          0.04025969673757146,
          0.040258269279966896,
          0.04025618183140267,
          0.0400849694684311,
          0.03996886770234909,
          0.03975103027168814,
          0.039566287562401214,
          0.03950632377834751,
          0.038982636699870454,
          0.03891325066906859,
          0.038640868059601985,
          0.0382023804402607,
          0.03809171880022433,
          0.037914536700363044,
          0.0378628002241328,
          0.037262037934802095,
          0.03724772658967623,
          0.03612909096651862,
          0.03611279974352044,
          0.0354239861820318,
          0.034495584384668376,
          0.03306232186783831,
          0.03298311155420208,
          0.03274394820120463,
          0.032462112754213734,
          0.032279396050764575,
          0.03097002222096279,
          0.029898816406326745,
          0.029746982596062566,
          0.02931098507244556,
          0.029201511542197522,
          0.02698244809229422,
          0.026937657498375955,
          0.026713562881312214,
          0.02583802869202856,
          0.025815560304547347,
          0.025433572953247108,
          0.02462518921294432,
          0.024356131172556417,
          0.02366265831614811,
          0.019750598954246357,
          0.018971487168647272,
          0.01709339675721644,
          0.016481617562551065,
          0.01468009451830632,
          0.01440626225408792,
          0.014045827663521138,
          0.009574877703257378,
          0.009519400572010284,
          0.005876142900572923,
          0.004858844543570662,
          0.004110279602097755,
          0.0014050115151602593,
          0.0013110202806128068,
          0.00038924765874798206
         ]
        },
        {
         "mode": "lines+markers",
         "name": "pdf_wrong_param",
         "type": "scatter",
         "x": [
          80.95,
          80.97,
          81.19,
          81.59,
          82.09,
          82.66,
          83.17,
          84.67,
          85.32,
          85.52,
          87.1,
          87.36,
          88.23,
          88.68,
          89.17,
          89.59,
          89.73,
          90.87,
          91.15,
          91.83,
          91.99,
          92.65,
          92.87,
          93.44,
          94.13,
          94.47,
          94.53,
          94.89,
          95.2,
          95.39,
          95.53,
          95.85,
          95.89,
          96.03,
          96.17,
          96.33,
          96.48,
          96.61,
          96.71,
          97.73,
          97.81,
          98.11,
          98.38,
          98.41,
          98.58,
          98.62,
          98.66,
          99.44,
          99.71,
          100.1,
          100.37,
          100.45,
          101.05,
          101.12,
          101.38,
          101.76,
          101.85,
          101.99,
          102.03,
          102.47,
          102.48,
          103.21,
          103.22,
          103.63,
          104.15,
          104.9,
          104.94,
          105.06,
          105.2,
          105.29,
          105.92,
          106.42,
          106.49,
          106.69,
          106.74,
          107.74,
          107.76,
          107.86,
          108.25,
          108.26,
          108.43,
          108.79,
          108.91,
          109.22,
          111.01,
          111.38,
          112.3,
          112.61,
          113.56,
          113.71,
          113.91,
          116.72,
          116.76,
          119.88,
          121.02,
          121.99,
          127.66,
          128,
          133.61
         ],
         "y": [
          0.0051725343384987355,
          0.005186328490410119,
          0.005340969560990061,
          0.00563630759570799,
          0.006032955166290321,
          0.006525747224756628,
          0.007006920878907863,
          0.008678974670772277,
          0.009542441324228434,
          0.009827393925505135,
          0.012443307239010437,
          0.012942840015782053,
          0.014776291685350884,
          0.01582957496273707,
          0.017063934952673776,
          0.018197976827039497,
          0.0185920732193523,
          0.022111208128322346,
          0.02306145189541553,
          0.025508938066465703,
          0.026112825739971868,
          0.02870908856841936,
          0.02960931453353055,
          0.03201007646522669,
          0.035013399171766935,
          0.03651318797727754,
          0.03677814178015382,
          0.038364231691240036,
          0.03971722307211678,
          0.04053611819070113,
          0.04113274404588907,
          0.04246899146676952,
          0.042632877922876844,
          0.043200158528748034,
          0.04375677388578936,
          0.0443784321205527,
          0.044945801094485205,
          0.04542434990558064,
          0.04578354779420124,
          0.04890957968390808,
          0.04910663864663434,
          0.04977403658682533,
          0.050273142560328665,
          0.050322417853941204,
          0.05057766491083271,
          0.050631727099016643,
          0.05068347849942256,
          0.051217258336180294,
          0.051186858519372436,
          0.05094730462198527,
          0.05064851228537037,
          0.050539590901585996,
          0.04943919649529249,
          0.0492797357302166,
          0.04863453932404127,
          0.04755137380719532,
          0.04727231276567778,
          0.04682231888581612,
          0.04669032100250092,
          0.04514650534724751,
          0.045109610542965584,
          0.042242444210820906,
          0.04220115868287877,
          0.04047460144461468,
          0.03821748318571849,
          0.034917737290555806,
          0.034742293354920406,
          0.034217037534894246,
          0.033606697315768486,
          0.03321599943760489,
          0.030530307749081942,
          0.028478887207818104,
          0.028198418655879465,
          0.027406918887486142,
          0.027211381152536518,
          0.023511572741305997,
          0.02344184624111989,
          0.0230957942846004,
          0.021787489648815495,
          0.021754810154650528,
          0.02120589116914573,
          0.020084699720104737,
          0.019723335611100623,
          0.018818092442167256,
          0.014344452311522815,
          0.013566891152308358,
          0.011824887719733113,
          0.011294779544478217,
          0.009829708980342744,
          0.0096187446265521,
          0.009345492123712162,
          0.006321766488103009,
          0.0062879264120052625,
          0.00420922666741852,
          0.0036655060694279484,
          0.003269511379732748,
          0.001773130535573486,
          0.0017140222644940195,
          0.0010182757270547071
         ]
        }
       ],
       "layout": {
        "template": {
         "data": {
          "bar": [
           {
            "error_x": {
             "color": "#2a3f5f"
            },
            "error_y": {
             "color": "#2a3f5f"
            },
            "marker": {
             "line": {
              "color": "#E5ECF6",
              "width": 0.5
             },
             "pattern": {
              "fillmode": "overlay",
              "size": 10,
              "solidity": 0.2
             }
            },
            "type": "bar"
           }
          ],
          "barpolar": [
           {
            "marker": {
             "line": {
              "color": "#E5ECF6",
              "width": 0.5
             },
             "pattern": {
              "fillmode": "overlay",
              "size": 10,
              "solidity": 0.2
             }
            },
            "type": "barpolar"
           }
          ],
          "carpet": [
           {
            "aaxis": {
             "endlinecolor": "#2a3f5f",
             "gridcolor": "white",
             "linecolor": "white",
             "minorgridcolor": "white",
             "startlinecolor": "#2a3f5f"
            },
            "baxis": {
             "endlinecolor": "#2a3f5f",
             "gridcolor": "white",
             "linecolor": "white",
             "minorgridcolor": "white",
             "startlinecolor": "#2a3f5f"
            },
            "type": "carpet"
           }
          ],
          "choropleth": [
           {
            "colorbar": {
             "outlinewidth": 0,
             "ticks": ""
            },
            "type": "choropleth"
           }
          ],
          "contour": [
           {
            "colorbar": {
             "outlinewidth": 0,
             "ticks": ""
            },
            "colorscale": [
             [
              0,
              "#0d0887"
             ],
             [
              0.1111111111111111,
              "#46039f"
             ],
             [
              0.2222222222222222,
              "#7201a8"
             ],
             [
              0.3333333333333333,
              "#9c179e"
             ],
             [
              0.4444444444444444,
              "#bd3786"
             ],
             [
              0.5555555555555556,
              "#d8576b"
             ],
             [
              0.6666666666666666,
              "#ed7953"
             ],
             [
              0.7777777777777778,
              "#fb9f3a"
             ],
             [
              0.8888888888888888,
              "#fdca26"
             ],
             [
              1,
              "#f0f921"
             ]
            ],
            "type": "contour"
           }
          ],
          "contourcarpet": [
           {
            "colorbar": {
             "outlinewidth": 0,
             "ticks": ""
            },
            "type": "contourcarpet"
           }
          ],
          "heatmap": [
           {
            "colorbar": {
             "outlinewidth": 0,
             "ticks": ""
            },
            "colorscale": [
             [
              0,
              "#0d0887"
             ],
             [
              0.1111111111111111,
              "#46039f"
             ],
             [
              0.2222222222222222,
              "#7201a8"
             ],
             [
              0.3333333333333333,
              "#9c179e"
             ],
             [
              0.4444444444444444,
              "#bd3786"
             ],
             [
              0.5555555555555556,
              "#d8576b"
             ],
             [
              0.6666666666666666,
              "#ed7953"
             ],
             [
              0.7777777777777778,
              "#fb9f3a"
             ],
             [
              0.8888888888888888,
              "#fdca26"
             ],
             [
              1,
              "#f0f921"
             ]
            ],
            "type": "heatmap"
           }
          ],
          "heatmapgl": [
           {
            "colorbar": {
             "outlinewidth": 0,
             "ticks": ""
            },
            "colorscale": [
             [
              0,
              "#0d0887"
             ],
             [
              0.1111111111111111,
              "#46039f"
             ],
             [
              0.2222222222222222,
              "#7201a8"
             ],
             [
              0.3333333333333333,
              "#9c179e"
             ],
             [
              0.4444444444444444,
              "#bd3786"
             ],
             [
              0.5555555555555556,
              "#d8576b"
             ],
             [
              0.6666666666666666,
              "#ed7953"
             ],
             [
              0.7777777777777778,
              "#fb9f3a"
             ],
             [
              0.8888888888888888,
              "#fdca26"
             ],
             [
              1,
              "#f0f921"
             ]
            ],
            "type": "heatmapgl"
           }
          ],
          "histogram": [
           {
            "marker": {
             "pattern": {
              "fillmode": "overlay",
              "size": 10,
              "solidity": 0.2
             }
            },
            "type": "histogram"
           }
          ],
          "histogram2d": [
           {
            "colorbar": {
             "outlinewidth": 0,
             "ticks": ""
            },
            "colorscale": [
             [
              0,
              "#0d0887"
             ],
             [
              0.1111111111111111,
              "#46039f"
             ],
             [
              0.2222222222222222,
              "#7201a8"
             ],
             [
              0.3333333333333333,
              "#9c179e"
             ],
             [
              0.4444444444444444,
              "#bd3786"
             ],
             [
              0.5555555555555556,
              "#d8576b"
             ],
             [
              0.6666666666666666,
              "#ed7953"
             ],
             [
              0.7777777777777778,
              "#fb9f3a"
             ],
             [
              0.8888888888888888,
              "#fdca26"
             ],
             [
              1,
              "#f0f921"
             ]
            ],
            "type": "histogram2d"
           }
          ],
          "histogram2dcontour": [
           {
            "colorbar": {
             "outlinewidth": 0,
             "ticks": ""
            },
            "colorscale": [
             [
              0,
              "#0d0887"
             ],
             [
              0.1111111111111111,
              "#46039f"
             ],
             [
              0.2222222222222222,
              "#7201a8"
             ],
             [
              0.3333333333333333,
              "#9c179e"
             ],
             [
              0.4444444444444444,
              "#bd3786"
             ],
             [
              0.5555555555555556,
              "#d8576b"
             ],
             [
              0.6666666666666666,
              "#ed7953"
             ],
             [
              0.7777777777777778,
              "#fb9f3a"
             ],
             [
              0.8888888888888888,
              "#fdca26"
             ],
             [
              1,
              "#f0f921"
             ]
            ],
            "type": "histogram2dcontour"
           }
          ],
          "mesh3d": [
           {
            "colorbar": {
             "outlinewidth": 0,
             "ticks": ""
            },
            "type": "mesh3d"
           }
          ],
          "parcoords": [
           {
            "line": {
             "colorbar": {
              "outlinewidth": 0,
              "ticks": ""
             }
            },
            "type": "parcoords"
           }
          ],
          "pie": [
           {
            "automargin": true,
            "type": "pie"
           }
          ],
          "scatter": [
           {
            "fillpattern": {
             "fillmode": "overlay",
             "size": 10,
             "solidity": 0.2
            },
            "type": "scatter"
           }
          ],
          "scatter3d": [
           {
            "line": {
             "colorbar": {
              "outlinewidth": 0,
              "ticks": ""
             }
            },
            "marker": {
             "colorbar": {
              "outlinewidth": 0,
              "ticks": ""
             }
            },
            "type": "scatter3d"
           }
          ],
          "scattercarpet": [
           {
            "marker": {
             "colorbar": {
              "outlinewidth": 0,
              "ticks": ""
             }
            },
            "type": "scattercarpet"
           }
          ],
          "scattergeo": [
           {
            "marker": {
             "colorbar": {
              "outlinewidth": 0,
              "ticks": ""
             }
            },
            "type": "scattergeo"
           }
          ],
          "scattergl": [
           {
            "marker": {
             "colorbar": {
              "outlinewidth": 0,
              "ticks": ""
             }
            },
            "type": "scattergl"
           }
          ],
          "scattermapbox": [
           {
            "marker": {
             "colorbar": {
              "outlinewidth": 0,
              "ticks": ""
             }
            },
            "type": "scattermapbox"
           }
          ],
          "scatterpolar": [
           {
            "marker": {
             "colorbar": {
              "outlinewidth": 0,
              "ticks": ""
             }
            },
            "type": "scatterpolar"
           }
          ],
          "scatterpolargl": [
           {
            "marker": {
             "colorbar": {
              "outlinewidth": 0,
              "ticks": ""
             }
            },
            "type": "scatterpolargl"
           }
          ],
          "scatterternary": [
           {
            "marker": {
             "colorbar": {
              "outlinewidth": 0,
              "ticks": ""
             }
            },
            "type": "scatterternary"
           }
          ],
          "surface": [
           {
            "colorbar": {
             "outlinewidth": 0,
             "ticks": ""
            },
            "colorscale": [
             [
              0,
              "#0d0887"
             ],
             [
              0.1111111111111111,
              "#46039f"
             ],
             [
              0.2222222222222222,
              "#7201a8"
             ],
             [
              0.3333333333333333,
              "#9c179e"
             ],
             [
              0.4444444444444444,
              "#bd3786"
             ],
             [
              0.5555555555555556,
              "#d8576b"
             ],
             [
              0.6666666666666666,
              "#ed7953"
             ],
             [
              0.7777777777777778,
              "#fb9f3a"
             ],
             [
              0.8888888888888888,
              "#fdca26"
             ],
             [
              1,
              "#f0f921"
             ]
            ],
            "type": "surface"
           }
          ],
          "table": [
           {
            "cells": {
             "fill": {
              "color": "#EBF0F8"
             },
             "line": {
              "color": "white"
             }
            },
            "header": {
             "fill": {
              "color": "#C8D4E3"
             },
             "line": {
              "color": "white"
             }
            },
            "type": "table"
           }
          ]
         },
         "layout": {
          "annotationdefaults": {
           "arrowcolor": "#2a3f5f",
           "arrowhead": 0,
           "arrowwidth": 1
          },
          "autotypenumbers": "strict",
          "coloraxis": {
           "colorbar": {
            "outlinewidth": 0,
            "ticks": ""
           }
          },
          "colorscale": {
           "diverging": [
            [
             0,
             "#8e0152"
            ],
            [
             0.1,
             "#c51b7d"
            ],
            [
             0.2,
             "#de77ae"
            ],
            [
             0.3,
             "#f1b6da"
            ],
            [
             0.4,
             "#fde0ef"
            ],
            [
             0.5,
             "#f7f7f7"
            ],
            [
             0.6,
             "#e6f5d0"
            ],
            [
             0.7,
             "#b8e186"
            ],
            [
             0.8,
             "#7fbc41"
            ],
            [
             0.9,
             "#4d9221"
            ],
            [
             1,
             "#276419"
            ]
           ],
           "sequential": [
            [
             0,
             "#0d0887"
            ],
            [
             0.1111111111111111,
             "#46039f"
            ],
            [
             0.2222222222222222,
             "#7201a8"
            ],
            [
             0.3333333333333333,
             "#9c179e"
            ],
            [
             0.4444444444444444,
             "#bd3786"
            ],
            [
             0.5555555555555556,
             "#d8576b"
            ],
            [
             0.6666666666666666,
             "#ed7953"
            ],
            [
             0.7777777777777778,
             "#fb9f3a"
            ],
            [
             0.8888888888888888,
             "#fdca26"
            ],
            [
             1,
             "#f0f921"
            ]
           ],
           "sequentialminus": [
            [
             0,
             "#0d0887"
            ],
            [
             0.1111111111111111,
             "#46039f"
            ],
            [
             0.2222222222222222,
             "#7201a8"
            ],
            [
             0.3333333333333333,
             "#9c179e"
            ],
            [
             0.4444444444444444,
             "#bd3786"
            ],
            [
             0.5555555555555556,
             "#d8576b"
            ],
            [
             0.6666666666666666,
             "#ed7953"
            ],
            [
             0.7777777777777778,
             "#fb9f3a"
            ],
            [
             0.8888888888888888,
             "#fdca26"
            ],
            [
             1,
             "#f0f921"
            ]
           ]
          },
          "colorway": [
           "#636efa",
           "#EF553B",
           "#00cc96",
           "#ab63fa",
           "#FFA15A",
           "#19d3f3",
           "#FF6692",
           "#B6E880",
           "#FF97FF",
           "#FECB52"
          ],
          "font": {
           "color": "#2a3f5f"
          },
          "geo": {
           "bgcolor": "white",
           "lakecolor": "white",
           "landcolor": "#E5ECF6",
           "showlakes": true,
           "showland": true,
           "subunitcolor": "white"
          },
          "hoverlabel": {
           "align": "left"
          },
          "hovermode": "closest",
          "mapbox": {
           "style": "light"
          },
          "paper_bgcolor": "white",
          "plot_bgcolor": "#E5ECF6",
          "polar": {
           "angularaxis": {
            "gridcolor": "white",
            "linecolor": "white",
            "ticks": ""
           },
           "bgcolor": "#E5ECF6",
           "radialaxis": {
            "gridcolor": "white",
            "linecolor": "white",
            "ticks": ""
           }
          },
          "scene": {
           "xaxis": {
            "backgroundcolor": "#E5ECF6",
            "gridcolor": "white",
            "gridwidth": 2,
            "linecolor": "white",
            "showbackground": true,
            "ticks": "",
            "zerolinecolor": "white"
           },
           "yaxis": {
            "backgroundcolor": "#E5ECF6",
            "gridcolor": "white",
            "gridwidth": 2,
            "linecolor": "white",
            "showbackground": true,
            "ticks": "",
            "zerolinecolor": "white"
           },
           "zaxis": {
            "backgroundcolor": "#E5ECF6",
            "gridcolor": "white",
            "gridwidth": 2,
            "linecolor": "white",
            "showbackground": true,
            "ticks": "",
            "zerolinecolor": "white"
           }
          },
          "shapedefaults": {
           "line": {
            "color": "#2a3f5f"
           }
          },
          "ternary": {
           "aaxis": {
            "gridcolor": "white",
            "linecolor": "white",
            "ticks": ""
           },
           "baxis": {
            "gridcolor": "white",
            "linecolor": "white",
            "ticks": ""
           },
           "bgcolor": "#E5ECF6",
           "caxis": {
            "gridcolor": "white",
            "linecolor": "white",
            "ticks": ""
           }
          },
          "title": {
           "x": 0.05
          },
          "xaxis": {
           "automargin": true,
           "gridcolor": "white",
           "linecolor": "white",
           "ticks": "",
           "title": {
            "standoff": 15
           },
           "zerolinecolor": "white",
           "zerolinewidth": 2
          },
          "yaxis": {
           "automargin": true,
           "gridcolor": "white",
           "linecolor": "white",
           "ticks": "",
           "title": {
            "standoff": 15
           },
           "zerolinecolor": "white",
           "zerolinewidth": 2
          }
         }
        }
       }
      }
     },
     "metadata": {},
     "output_type": "display_data"
    },
    {
     "name": "stdout",
     "output_type": "stream",
     "text": [
      "sum of log likelyhood with true parameters > sum of log likelyhood with wrong parameters : True\n"
     ]
    }
   ],
   "source": [
    "# -------\n",
    "# COMPARING LOG LIKELYHOOD COMPUTED FROM PDF WITH TRUE AND WRONG PARAMETERS\n",
    "# -------\n",
    "pdf_true_param = pd.Series(pdf_dict, name='pdf_true_param')\n",
    "pdf_wrong_param = pd.Series(pdf_dict2, name='pdf_wrong_param')\n",
    "df = pd.concat([pdf_true_param, pdf_wrong_param], axis=1)\n",
    "\n",
    "fig = go.Figure()\n",
    "fig.add_trace(go.Scatter(x=df.index, y=df['pdf_true_param'].values, mode='lines+markers', name='pdf_true_param'))\n",
    "fig.add_trace(go.Scatter(x=df.index, y=df['pdf_wrong_param'].values, mode='lines+markers', name='pdf_wrong_param'))\n",
    "fig.show()\n",
    "\n",
    "df = np.log(df)\n",
    "mle_would_work = df.sum()['pdf_true_param'] >= df.sum()['pdf_wrong_param']\n",
    "\n",
    "print(f'sum of log likelyhood with true parameters > sum of log likelyhood with wrong parameters : {mle_would_work}')"
   ]
  }
 ],
 "metadata": {
  "kernelspec": {
   "display_name": "base",
   "language": "python",
   "name": "python3"
  },
  "language_info": {
   "codemirror_mode": {
    "name": "ipython",
    "version": 3
   },
   "file_extension": ".py",
   "mimetype": "text/x-python",
   "name": "python",
   "nbconvert_exporter": "python",
   "pygments_lexer": "ipython3",
   "version": "3.12.4"
  }
 },
 "nbformat": 4,
 "nbformat_minor": 2
}
