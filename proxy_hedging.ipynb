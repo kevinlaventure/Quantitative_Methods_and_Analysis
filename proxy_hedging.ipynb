{
 "cells": [
  {
   "cell_type": "code",
   "execution_count": 1,
   "metadata": {},
   "outputs": [],
   "source": [
    "import numpy as np\n",
    "import pandas as pd\n",
    "from tqdm.auto import tqdm\n",
    "from scipy.optimize import minimize\n",
    "from sklearn.feature_selection import RFE\n",
    "from python_module import blackscholes, sabr\n",
    "from sklearn.preprocessing import StandardScaler\n",
    "from sklearn.linear_model import LinearRegression, Lasso\n",
    "\n",
    "#pd.set_option('display.max_rows', 50)\n",
    "#pd.set_option('display.max_columns', 50)\n",
    "#pd.set_option('display.width', 100)"
   ]
  },
  {
   "cell_type": "code",
   "execution_count": 2,
   "metadata": {},
   "outputs": [],
   "source": [
    "# -------\n",
    "# BATCH COMPUTATION FUNCTION\n",
    "# -------\n",
    "def batch_compute_sabr_option(option_contract_specs_df, F, alpha, beta, rho, nu, r):\n",
    "    results = dict()\n",
    "    for i in option_contract_specs_df.index:\n",
    "        K, T, Qty = option_contract_specs_df.loc[i]\n",
    "        option_type = 'call' if K >= F else 'put'\n",
    "        option_symbol = f'{int(T*250)}T {K}K european {option_type}'\n",
    "        sigma = sabr.compute_vol(F=F, K=K, T=T, alpha=alpha, beta=beta, rho=rho, nu=nu)\n",
    "        bs_pricing = blackscholes.compute_option(S=F, K=K, T=T, r=r, sigma=sigma, option_type=option_type, compute_greeks=True)\n",
    "        results[option_symbol] = {'K': K, 'T': T, 'Qty': Qty,'sigma': sigma, 'option_type': option_type, **bs_pricing}\n",
    "    results_df = pd.DataFrame.from_dict(results, orient='index')\n",
    "    return results_df\n"
   ]
  },
  {
   "cell_type": "code",
   "execution_count": 3,
   "metadata": {},
   "outputs": [
    {
     "name": "stdout",
     "output_type": "stream",
     "text": [
      "Minimum found at x = [0.2 0.  1. ]\n",
      "Minimum value = 1.6289333560458238e-12\n"
     ]
    }
   ],
   "source": [
    "# -------\n",
    "# OPTION PORTFOLIO SAMPLE\n",
    "# -------\n",
    "strikes = np.linspace(start=85, stop=115, num=30, dtype=int)\n",
    "maturities = np.linspace(start=1/250, stop=60/250, num=30)\n",
    "strikes, maturities = np.meshgrid(strikes, maturities)\n",
    "option_contract_specs_df = pd.DataFrame((zip(strikes.ravel(), maturities.ravel())))\n",
    "option_contract_specs_df.columns = ['K', 'T']\n",
    "\n",
    "# Add random quantities\n",
    "np.random.seed(42)\n",
    "option_contract_specs_df['Qty'] = np.random.normal(size=option_contract_specs_df.shape[0])\n",
    "\n",
    "# Known parameters\n",
    "F = 100\n",
    "beta = 1\n",
    "r = 0\n",
    "\n",
    "# Unknown parameters\n",
    "alpha = 0.2\n",
    "rho = 0.0\n",
    "nu = 1\n",
    "\n",
    "# Create 'market' option portfolio \n",
    "option_portfolio_df = batch_compute_sabr_option(option_contract_specs_df=option_contract_specs_df, F=F, alpha=alpha, beta=beta, rho=rho, nu=nu, r=r)\n",
    "\n",
    "# -------\n",
    "# FIT SABR MODEL: RECOVER UNKNOWN PARAMETERS\n",
    "# -------\n",
    "\n",
    "def objective_function(params, option_contract_specs_df_, market_vol_, F_, r_):\n",
    "    alpha_, rho_, nu_ = params\n",
    "    option_portfolio_df_ = batch_compute_sabr_option(option_contract_specs_df=option_contract_specs_df_, F=F_, alpha=alpha_, beta=1, rho=rho_, nu=nu_, r=r_)\n",
    "    model_vol_ = option_portfolio_df_['sigma'].to_numpy()\n",
    "    error = np.sum((market_vol_-model_vol_)**2)\n",
    "    return error\n",
    "\n",
    "x0 = [0.1, 0, 0.01]\n",
    "bounds = [(0.001, 10), (-0.99, 0.99), (0.001, 10)]\n",
    "\n",
    "option_contract_specs_df = option_portfolio_df[['K', 'T', 'Qty']].copy()\n",
    "market_vol = option_portfolio_df['sigma'].to_numpy()\n",
    "\n",
    "result = minimize(objective_function, x0, args=(option_contract_specs_df, market_vol, F, r), bounds=bounds)\n",
    "\n",
    "print(\"Minimum found at x =\", np.round(result.x, 2))\n",
    "print(\"Minimum value =\", result.fun)\n",
    "alpha, rho, nu = result.x"
   ]
  },
  {
   "cell_type": "code",
   "execution_count": 4,
   "metadata": {},
   "outputs": [],
   "source": [
    "# -------\n",
    "# COMPUTE OPTION PORTFOLIO SCENARIO PNL\n",
    "# -------\n",
    "bump_pnl = dict()\n",
    "init_pv = option_portfolio_df['price'].to_numpy()\n",
    "pnl_df = pd.DataFrame(index=option_portfolio_df.index)\n",
    "for F in np.linspace(start=95, stop=105, num=3):\n",
    "    for alpha in np.linspace(start=0.1, stop=0.5, num=3):\n",
    "        for rho in np.linspace(start=-0.9, stop=0.9, num=3):\n",
    "            for nu in np.linspace(start=0.01, stop=2, num=3):\n",
    "                option_portfolio_bumped_df = batch_compute_sabr_option(\n",
    "                    option_contract_specs_df=option_contract_specs_df, \n",
    "                    F=F, \n",
    "                    alpha=alpha, \n",
    "                    beta=beta, \n",
    "                    rho=rho, \n",
    "                    nu=nu, \n",
    "                    r=r)\n",
    "                pv_bumped = option_portfolio_bumped_df['price'].to_numpy()\n",
    "                pnl_df.loc[:, f\"F {F:.2f}, alpha {alpha:.2f}, rho {rho:.2f}, nu {nu:.2f}\"] = pv_bumped - init_pv\n",
    "y = pnl_df.multiply(option_portfolio_df['Qty'], axis=0).sum()\n",
    "X = pnl_df.transpose()\n",
    "y.name = 'y'"
   ]
  },
  {
   "cell_type": "code",
   "execution_count": null,
   "metadata": {},
   "outputs": [
    {
     "data": {
      "application/vnd.jupyter.widget-view+json": {
       "model_id": "8305f95009904153a5e17cd686c1f4b9",
       "version_major": 2,
       "version_minor": 0
      },
      "text/plain": [
       "  0%|          | 0/890 [00:00<?, ?it/s]"
      ]
     },
     "metadata": {},
     "output_type": "display_data"
    }
   ],
   "source": [
    "# -------\n",
    "# GREEDY ALGORITH FOR FEATURE SELECTION\n",
    "# -------\n",
    "target_nb_feature = 10\n",
    "columns = list(X.columns)\n",
    "nb_iteration = len(columns) - target_nb_feature\n",
    "model = LinearRegression(fit_intercept=False)\n",
    "error_results = dict()\n",
    "for i in tqdm(range(nb_iteration)):\n",
    "    abs_pnl_error_dict = dict()\n",
    "    for col in columns:\n",
    "        columns_to_keep = [x for x in columns if x != col]\n",
    "        X_ = X[columns_to_keep]\n",
    "        model.fit(X_, y)\n",
    "        y_ = X_.multiply(model.coef_, axis=1).sum(axis=1)\n",
    "        error = (y-y_).abs().mean()\n",
    "        abs_pnl_error_dict[col] = error\n",
    "    feature_to_remove =  min(abs_pnl_error_dict, key=abs_pnl_error_dict.get)\n",
    "    columns.remove(feature_to_remove)\n",
    "    error_results[len(columns)] = min(abs_pnl_error_dict, key=abs_pnl_error_dict.get)\n",
    "X_ = X[columns]\n",
    "model.fit(X_, y)\n",
    "y_greedy = X_.multiply(model.coef_, axis=1).sum(axis=1)\n",
    "y_greedy.name = 'y_greedy'"
   ]
  },
  {
   "cell_type": "code",
   "execution_count": null,
   "metadata": {},
   "outputs": [],
   "source": [
    "# -------\n",
    "# LASSO REGRESSION\n",
    "# -------\n",
    "scaler = StandardScaler()\n",
    "X_scaled = scaler.fit_transform(X)\n",
    "\n",
    "# Fit Lasso regression\n",
    "lasso = Lasso(alpha=0.4, max_iter=1000000)\n",
    "lasso.fit(X_scaled, y)\n",
    "\n",
    "# Get the coefficients\n",
    "coefficients = lasso.coef_\n",
    "coefficients = pd.Series(coefficients)\n",
    "coefficients.index = X.columns\n",
    "coefficients = coefficients.replace(0, np.nan).dropna()\n",
    "print(coefficients.shape[0])\n",
    "\n",
    "X_ = X[coefficients.index]\n",
    "model.fit(X_, y)\n",
    "y_lasso = X_.multiply(model.coef_, axis=1).sum(axis=1)\n",
    "y_lasso.name = 'y_lasso'"
   ]
  },
  {
   "cell_type": "code",
   "execution_count": null,
   "metadata": {},
   "outputs": [],
   "source": [
    "# -------\n",
    "# RFE\n",
    "# -------\n",
    "n_features_to_select = 10\n",
    "estimator = LinearRegression()\n",
    "rfe = RFE(estimator, n_features_to_select=n_features_to_select)\n",
    "rfe.fit(X, y)\n",
    "selected_features_mask = rfe.support_\n",
    "rfe_feature = X.loc[:, selected_features_mask].columns\n",
    "X_ = X[rfe_feature]\n",
    "model.fit(X_, y)\n",
    "y_rfe = X_.multiply(model.coef_, axis=1).sum(axis=1)\n",
    "y_rfe.name = 'y_rfe'"
   ]
  },
  {
   "cell_type": "code",
   "execution_count": null,
   "metadata": {},
   "outputs": [],
   "source": [
    "# -------\n",
    "# GREEDY LASSO REGRESSION\n",
    "# -------\n",
    "scaler = StandardScaler()\n",
    "X_scaled = scaler.fit_transform(X)\n",
    "\n",
    "# Fit Lasso regression\n",
    "penalty = 0.0\n",
    "nb_feature = 100\n",
    "while nb_feature > 50:\n",
    "    penalty = penalty + 0.01\n",
    "    lasso = Lasso(alpha=penalty, max_iter=1000000)\n",
    "    lasso.fit(X_scaled, y)\n",
    "    coefficients = lasso.coef_\n",
    "    coefficients = pd.Series(coefficients)\n",
    "    coefficients.index = X.columns\n",
    "    coefficients = coefficients.replace(0, np.nan).dropna()\n",
    "    nb_feature = coefficients.shape[0]\n",
    "\n",
    "target_nb_feature = 10\n",
    "columns = list(coefficients.index)\n",
    "nb_iteration = len(columns) - target_nb_feature\n",
    "model = LinearRegression(fit_intercept=False)\n",
    "error_results = dict()\n",
    "for i in tqdm(range(nb_iteration)):\n",
    "    abs_pnl_error_dict = dict()\n",
    "    for col in columns:\n",
    "        columns_to_keep = [x for x in columns if x != col]\n",
    "        X_ = X[columns_to_keep]\n",
    "        model.fit(X_, y)\n",
    "        y_ = X_.multiply(model.coef_, axis=1).sum(axis=1)\n",
    "        error = (y-y_).abs().mean()\n",
    "        abs_pnl_error_dict[col] = error\n",
    "    feature_to_remove =  min(abs_pnl_error_dict, key=abs_pnl_error_dict.get)\n",
    "    columns.remove(feature_to_remove)\n",
    "    error_results[len(columns)] = min(abs_pnl_error_dict, key=abs_pnl_error_dict.get)\n",
    "X_ = X[columns]\n",
    "model.fit(X_, y)\n",
    "y_greedy_lasso = X_.multiply(model.coef_, axis=1).sum(axis=1)\n",
    "y_greedy_lasso.name = 'y_greedy_lasso'"
   ]
  },
  {
   "cell_type": "code",
   "execution_count": null,
   "metadata": {},
   "outputs": [],
   "source": [
    "# -------\n",
    "# PERFORMANCE SUMMARY\n",
    "# -------\n",
    "summary = pd.concat([y, y_greedy, y_lasso, y_rfe, y_greedy_lasso], axis=1)\n",
    "(summary['y']-summary['y_greedy']).abs().sum(), (summary['y']-summary['y_lasso']).abs().sum(), (summary['y']-summary['y_rfe']).abs().sum(), (summary['y']-summary['y_greedy_lasso']).abs().sum()"
   ]
  },
  {
   "cell_type": "code",
   "execution_count": null,
   "metadata": {},
   "outputs": [],
   "source": [
    "pd.set_option('display.max_rows', 100)\n",
    "summary.sort_values('y')"
   ]
  },
  {
   "cell_type": "code",
   "execution_count": null,
   "metadata": {},
   "outputs": [],
   "source": []
  }
 ],
 "metadata": {
  "kernelspec": {
   "display_name": "base",
   "language": "python",
   "name": "python3"
  },
  "language_info": {
   "codemirror_mode": {
    "name": "ipython",
    "version": 3
   },
   "file_extension": ".py",
   "mimetype": "text/x-python",
   "name": "python",
   "nbconvert_exporter": "python",
   "pygments_lexer": "ipython3",
   "version": "3.12.4"
  }
 },
 "nbformat": 4,
 "nbformat_minor": 2
}
