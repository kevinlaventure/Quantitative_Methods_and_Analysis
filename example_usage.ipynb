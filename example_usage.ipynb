{
 "cells": [
  {
   "cell_type": "code",
   "execution_count": 1,
   "metadata": {},
   "outputs": [],
   "source": [
    "import numpy as np\n",
    "import pandas as pd\n",
    "from python_module.pricing_model import BlackScholesModel, SABRModel"
   ]
  },
  {
   "cell_type": "code",
   "execution_count": 3,
   "metadata": {},
   "outputs": [
    {
     "data": {
      "text/plain": [
       "{'price': 7.965567455405804,\n",
       " 'delta': 0.539827837277029,\n",
       " 'gamma': 0.01984762737385059,\n",
       " 'vega': 0.39695254747701175,\n",
       " 'theta': -0.015878101899080472,\n",
       " 'vanna': 0.19847627373850588,\n",
       " 'volga': -1.9847627373850592}"
      ]
     },
     "execution_count": 3,
     "metadata": {},
     "output_type": "execute_result"
    }
   ],
   "source": [
    "# -------\n",
    "# BLACKSHOES OPTION PRICING\n",
    "# -------\n",
    "BlackScholesModel.compute_option(S=100, K=100, T=1, r=0, sigma=0.2, option_type='call', compute_greeks=True)"
   ]
  },
  {
   "cell_type": "code",
   "execution_count": 9,
   "metadata": {},
   "outputs": [
    {
     "data": {
      "text/plain": [
       "{'IV': 0.21666666666666667,\n",
       " 'price': 8.626871797199783,\n",
       " 'delta': 0.5431343589859989,\n",
       " 'gamma': 0.018304990159640683,\n",
       " 'vega': 0.39660812012554814,\n",
       " 'theta': -0.017186351872107087,\n",
       " 'vanna': 0.19830406006277407,\n",
       " 'volga': -2.1482939840133857}"
      ]
     },
     "execution_count": 9,
     "metadata": {},
     "output_type": "execute_result"
    }
   ],
   "source": [
    "# -------\n",
    "# SABR OPTION PRICING\n",
    "# -------\n",
    "SABRModel.compute_option(F=100, K=100, T=1, alpha=0.2, beta=1, rho=0.0, nu=1, r=0, option_type='call')"
   ]
  },
  {
   "cell_type": "code",
   "execution_count": null,
   "metadata": {},
   "outputs": [],
   "source": []
  }
 ],
 "metadata": {
  "kernelspec": {
   "display_name": "base",
   "language": "python",
   "name": "python3"
  },
  "language_info": {
   "codemirror_mode": {
    "name": "ipython",
    "version": 3
   },
   "file_extension": ".py",
   "mimetype": "text/x-python",
   "name": "python",
   "nbconvert_exporter": "python",
   "pygments_lexer": "ipython3",
   "version": "3.12.4"
  }
 },
 "nbformat": 4,
 "nbformat_minor": 2
}
