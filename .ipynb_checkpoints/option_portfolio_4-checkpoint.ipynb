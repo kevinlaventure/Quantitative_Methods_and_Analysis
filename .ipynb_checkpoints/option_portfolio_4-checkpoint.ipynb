{
 "cells": [
  {
   "cell_type": "code",
   "execution_count": 2,
   "metadata": {},
   "outputs": [],
   "source": [
    "# -------\n",
    "# IMPORT LIBRAIRIES\n",
    "# -------\n",
    "import numpy as np\n",
    "import pandas as pd\n",
    "import plotly.express as px\n",
    "from python_module.pricing_model import SABRModel\n",
    "from python_module.tools import maximize_with_bounds\n",
    "\n",
    "pd.options.display.max_rows = 999\n",
    "pd.options.display.max_columns = 999\n",
    "pd.options.display.float_format = '{:,.2f}'.format"
   ]
  },
  {
   "cell_type": "code",
   "execution_count": 52,
   "metadata": {},
   "outputs": [],
   "source": [
    "# -------\n",
    "# INPUTS\n",
    "# -------\n",
    "\n",
    "# Pricing parameters\n",
    "F     = 5000\n",
    "alpha = 0.15\n",
    "beta  = 1.0\n",
    "rho   = -0.\n",
    "nu    = 1.5\n",
    "r     = 0\n",
    "atm_bd = 5\n",
    "tail_bd = 5\n",
    "\n",
    "# Scenario parameters\n",
    "scenario_min = -0.3\n",
    "scenario_max = 0.3\n",
    "scenario_step = 0.05\n",
    "\n",
    "option_strikes = [-0.1, -0.05, -0.01, 0]\n",
    "\n",
    "target_gamma = 10_000_000\n",
    "features = ['gamma_cash', 'theta', -0.1, -0.3]"
   ]
  },
  {
   "cell_type": "code",
   "execution_count": 89,
   "metadata": {},
   "outputs": [
    {
     "data": {
      "text/html": [
       "<div>\n",
       "<style scoped>\n",
       "    .dataframe tbody tr th:only-of-type {\n",
       "        vertical-align: middle;\n",
       "    }\n",
       "\n",
       "    .dataframe tbody tr th {\n",
       "        vertical-align: top;\n",
       "    }\n",
       "\n",
       "    .dataframe thead th {\n",
       "        text-align: right;\n",
       "    }\n",
       "</style>\n",
       "<table border=\"1\" class=\"dataframe\">\n",
       "  <thead>\n",
       "    <tr style=\"text-align: right;\">\n",
       "      <th>symbol</th>\n",
       "      <th>5T_4500.0K_put</th>\n",
       "      <th>5T_4750.0K_put</th>\n",
       "      <th>5T_4950.0K_put</th>\n",
       "      <th>5T_5000K_call</th>\n",
       "    </tr>\n",
       "  </thead>\n",
       "  <tbody>\n",
       "    <tr>\n",
       "      <th>gamma_cash</th>\n",
       "      <td>749.20</td>\n",
       "      <td>643,463.52</td>\n",
       "      <td>8,889,404.28</td>\n",
       "      <td>10,000,000.00</td>\n",
       "    </tr>\n",
       "    <tr>\n",
       "      <th>theta</th>\n",
       "      <td>-4.47</td>\n",
       "      <td>-3,161.23</td>\n",
       "      <td>-40,438.33</td>\n",
       "      <td>-45,338.13</td>\n",
       "    </tr>\n",
       "    <tr>\n",
       "      <th>-0.10</th>\n",
       "      <td>408,016.21</td>\n",
       "      <td>2,613,952.59</td>\n",
       "      <td>2,888,531.41</td>\n",
       "      <td>2,238,075.63</td>\n",
       "    </tr>\n",
       "    <tr>\n",
       "      <th>-0.30</th>\n",
       "      <td>10,675,085.28</td>\n",
       "      <td>13,179,361.78</td>\n",
       "      <td>10,201,622.66</td>\n",
       "      <td>7,621,017.53</td>\n",
       "    </tr>\n",
       "  </tbody>\n",
       "</table>\n",
       "</div>"
      ],
      "text/plain": [
       "symbol       5T_4500.0K_put  5T_4750.0K_put  5T_4950.0K_put  5T_5000K_call\n",
       " gamma_cash          749.20      643,463.52    8,889,404.28  10,000,000.00\n",
       " theta                -4.47       -3,161.23      -40,438.33     -45,338.13\n",
       "-0.10            408,016.21    2,613,952.59    2,888,531.41   2,238,075.63\n",
       "-0.30         10,675,085.28   13,179,361.78   10,201,622.66   7,621,017.53"
      ]
     },
     "execution_count": 89,
     "metadata": {},
     "output_type": "execute_result"
    }
   ],
   "source": [
    "# Scenario parameters\n",
    "num = int((scenario_max-scenario_min)/0.01 + 1)\n",
    "slide_to_compute = list(np.round(np.linspace(start=scenario_min, stop=scenario_max, num=num), 2))\n",
    "\n",
    "# Option portfolio\n",
    "market_data_list = list()\n",
    "for strike in option_strikes:\n",
    "    K = F * (1+strike)\n",
    "    T = tail_bd / 250\n",
    "    option_type = 'call' if K >= F else 'put'\n",
    "    market_pricing_results = SABRModel.compute_option(F, K, T, alpha, beta, rho, nu, r, option_type, slide_list=slide_to_compute)\n",
    "    market_data_list.append({\n",
    "        'symbol': f\"{tail_bd}T_{K}K_{option_type}\",\n",
    "        'option_type': option_type, \n",
    "        'time_to_maturity': tail_bd, \n",
    "        'F':F, 'r': r, 'K': K, 'T': T, 'K/F': (K/F) - 1 ,**market_pricing_results})\n",
    "\n",
    "market_data_df = pd.DataFrame(market_data_list)\n",
    "market_data_df = market_data_df.set_index('symbol')\n",
    "market_data_df = market_data_df.drop(0, axis=1)\n",
    "market_data_df[0] = market_data_df['theta']\n",
    "\n",
    "# Compute target quantity\n",
    "market_data_df['gamma_cash'] = (market_data_df['gamma']*(F**2)) / 100\n",
    "atm_symbol = market_data_df[market_data_df['K']==F].index[0]\n",
    "qty = target_gamma / market_data_df.loc[atm_symbol, 'gamma_cash']\n",
    "\n",
    "# Select Features\n",
    "M = market_data_df[features].transpose()*qty\n",
    "M"
   ]
  },
  {
   "cell_type": "code",
   "execution_count": 161,
   "metadata": {},
   "outputs": [
    {
     "data": {
      "text/html": [
       "<div>\n",
       "<style scoped>\n",
       "    .dataframe tbody tr th:only-of-type {\n",
       "        vertical-align: middle;\n",
       "    }\n",
       "\n",
       "    .dataframe tbody tr th {\n",
       "        vertical-align: top;\n",
       "    }\n",
       "\n",
       "    .dataframe thead th {\n",
       "        text-align: right;\n",
       "    }\n",
       "</style>\n",
       "<table border=\"1\" class=\"dataframe\">\n",
       "  <thead>\n",
       "    <tr style=\"text-align: right;\">\n",
       "      <th></th>\n",
       "      <th>option_type</th>\n",
       "      <th>time_to_maturity</th>\n",
       "      <th>F</th>\n",
       "      <th>r</th>\n",
       "      <th>K</th>\n",
       "      <th>T</th>\n",
       "      <th>K/F</th>\n",
       "      <th>IV</th>\n",
       "      <th>price</th>\n",
       "      <th>delta</th>\n",
       "      <th>gamma</th>\n",
       "      <th>vega</th>\n",
       "      <th>theta</th>\n",
       "      <th>vanna</th>\n",
       "      <th>volga</th>\n",
       "      <th>-0.30</th>\n",
       "      <th>-0.29</th>\n",
       "      <th>-0.28</th>\n",
       "      <th>-0.27</th>\n",
       "      <th>-0.26</th>\n",
       "      <th>-0.25</th>\n",
       "      <th>-0.24</th>\n",
       "      <th>-0.23</th>\n",
       "      <th>-0.22</th>\n",
       "      <th>-0.21</th>\n",
       "      <th>-0.20</th>\n",
       "      <th>-0.19</th>\n",
       "      <th>-0.18</th>\n",
       "      <th>-0.17</th>\n",
       "      <th>-0.16</th>\n",
       "      <th>-0.15</th>\n",
       "      <th>-0.14</th>\n",
       "      <th>-0.13</th>\n",
       "      <th>-0.12</th>\n",
       "      <th>-0.11</th>\n",
       "      <th>-0.10</th>\n",
       "      <th>-0.09</th>\n",
       "      <th>-0.08</th>\n",
       "      <th>-0.07</th>\n",
       "      <th>-0.06</th>\n",
       "      <th>-0.05</th>\n",
       "      <th>-0.04</th>\n",
       "      <th>-0.03</th>\n",
       "      <th>-0.02</th>\n",
       "      <th>-0.01</th>\n",
       "      <th>0.01</th>\n",
       "      <th>0.02</th>\n",
       "      <th>0.03</th>\n",
       "      <th>0.04</th>\n",
       "      <th>0.05</th>\n",
       "      <th>0.06</th>\n",
       "      <th>0.07</th>\n",
       "      <th>0.08</th>\n",
       "      <th>0.09</th>\n",
       "      <th>0.10</th>\n",
       "      <th>0.11</th>\n",
       "      <th>0.12</th>\n",
       "      <th>0.13</th>\n",
       "      <th>0.14</th>\n",
       "      <th>0.15</th>\n",
       "      <th>0.16</th>\n",
       "      <th>0.17</th>\n",
       "      <th>0.18</th>\n",
       "      <th>0.19</th>\n",
       "      <th>0.20</th>\n",
       "      <th>0.21</th>\n",
       "      <th>0.22</th>\n",
       "      <th>0.23</th>\n",
       "      <th>0.24</th>\n",
       "      <th>0.25</th>\n",
       "      <th>0.26</th>\n",
       "      <th>0.27</th>\n",
       "      <th>0.28</th>\n",
       "      <th>0.29</th>\n",
       "      <th>0.30</th>\n",
       "      <th>0</th>\n",
       "      <th>gamma_cash</th>\n",
       "    </tr>\n",
       "    <tr>\n",
       "      <th>symbol</th>\n",
       "      <th></th>\n",
       "      <th></th>\n",
       "      <th></th>\n",
       "      <th></th>\n",
       "      <th></th>\n",
       "      <th></th>\n",
       "      <th></th>\n",
       "      <th></th>\n",
       "      <th></th>\n",
       "      <th></th>\n",
       "      <th></th>\n",
       "      <th></th>\n",
       "      <th></th>\n",
       "      <th></th>\n",
       "      <th></th>\n",
       "      <th></th>\n",
       "      <th></th>\n",
       "      <th></th>\n",
       "      <th></th>\n",
       "      <th></th>\n",
       "      <th></th>\n",
       "      <th></th>\n",
       "      <th></th>\n",
       "      <th></th>\n",
       "      <th></th>\n",
       "      <th></th>\n",
       "      <th></th>\n",
       "      <th></th>\n",
       "      <th></th>\n",
       "      <th></th>\n",
       "      <th></th>\n",
       "      <th></th>\n",
       "      <th></th>\n",
       "      <th></th>\n",
       "      <th></th>\n",
       "      <th></th>\n",
       "      <th></th>\n",
       "      <th></th>\n",
       "      <th></th>\n",
       "      <th></th>\n",
       "      <th></th>\n",
       "      <th></th>\n",
       "      <th></th>\n",
       "      <th></th>\n",
       "      <th></th>\n",
       "      <th></th>\n",
       "      <th></th>\n",
       "      <th></th>\n",
       "      <th></th>\n",
       "      <th></th>\n",
       "      <th></th>\n",
       "      <th></th>\n",
       "      <th></th>\n",
       "      <th></th>\n",
       "      <th></th>\n",
       "      <th></th>\n",
       "      <th></th>\n",
       "      <th></th>\n",
       "      <th></th>\n",
       "      <th></th>\n",
       "      <th></th>\n",
       "      <th></th>\n",
       "      <th></th>\n",
       "      <th></th>\n",
       "      <th></th>\n",
       "      <th></th>\n",
       "      <th></th>\n",
       "      <th></th>\n",
       "      <th></th>\n",
       "      <th></th>\n",
       "      <th></th>\n",
       "      <th></th>\n",
       "      <th></th>\n",
       "      <th></th>\n",
       "      <th></th>\n",
       "      <th></th>\n",
       "      <th></th>\n",
       "    </tr>\n",
       "  </thead>\n",
       "  <tbody>\n",
       "    <tr>\n",
       "      <th>5T_4500.0K_put</th>\n",
       "      <td>put</td>\n",
       "      <td>5</td>\n",
       "      <td>5000</td>\n",
       "      <td>0</td>\n",
       "      <td>4,500.00</td>\n",
       "      <td>0.02</td>\n",
       "      <td>-0.10</td>\n",
       "      <td>0.17</td>\n",
       "      <td>0.00</td>\n",
       "      <td>-0.00</td>\n",
       "      <td>0.00</td>\n",
       "      <td>0.00</td>\n",
       "      <td>-0.00</td>\n",
       "      <td>-0.00</td>\n",
       "      <td>2.61</td>\n",
       "      <td>999.99</td>\n",
       "      <td>949.99</td>\n",
       "      <td>899.99</td>\n",
       "      <td>849.99</td>\n",
       "      <td>799.99</td>\n",
       "      <td>749.99</td>\n",
       "      <td>699.99</td>\n",
       "      <td>649.99</td>\n",
       "      <td>599.99</td>\n",
       "      <td>549.99</td>\n",
       "      <td>499.99</td>\n",
       "      <td>449.99</td>\n",
       "      <td>399.99</td>\n",
       "      <td>350.00</td>\n",
       "      <td>300.03</td>\n",
       "      <td>250.16</td>\n",
       "      <td>200.68</td>\n",
       "      <td>152.43</td>\n",
       "      <td>107.27</td>\n",
       "      <td>68.19</td>\n",
       "      <td>38.22</td>\n",
       "      <td>18.56</td>\n",
       "      <td>7.77</td>\n",
       "      <td>2.81</td>\n",
       "      <td>0.89</td>\n",
       "      <td>0.25</td>\n",
       "      <td>0.07</td>\n",
       "      <td>0.02</td>\n",
       "      <td>0.00</td>\n",
       "      <td>0.00</td>\n",
       "      <td>0.00</td>\n",
       "      <td>0.00</td>\n",
       "      <td>0.00</td>\n",
       "      <td>0.00</td>\n",
       "      <td>0.00</td>\n",
       "      <td>0.00</td>\n",
       "      <td>0.00</td>\n",
       "      <td>0.00</td>\n",
       "      <td>0.00</td>\n",
       "      <td>0.00</td>\n",
       "      <td>0.00</td>\n",
       "      <td>0.00</td>\n",
       "      <td>0.00</td>\n",
       "      <td>0.01</td>\n",
       "      <td>0.01</td>\n",
       "      <td>0.01</td>\n",
       "      <td>0.01</td>\n",
       "      <td>0.01</td>\n",
       "      <td>0.01</td>\n",
       "      <td>0.01</td>\n",
       "      <td>0.01</td>\n",
       "      <td>0.01</td>\n",
       "      <td>0.01</td>\n",
       "      <td>0.01</td>\n",
       "      <td>0.01</td>\n",
       "      <td>0.01</td>\n",
       "      <td>0.01</td>\n",
       "      <td>0.01</td>\n",
       "      <td>0.01</td>\n",
       "      <td>0.01</td>\n",
       "      <td>-0.00</td>\n",
       "      <td>0.07</td>\n",
       "    </tr>\n",
       "    <tr>\n",
       "      <th>5T_4750.0K_put</th>\n",
       "      <td>put</td>\n",
       "      <td>5</td>\n",
       "      <td>5000</td>\n",
       "      <td>0</td>\n",
       "      <td>4,750.00</td>\n",
       "      <td>0.02</td>\n",
       "      <td>-0.05</td>\n",
       "      <td>0.16</td>\n",
       "      <td>0.38</td>\n",
       "      <td>-0.01</td>\n",
       "      <td>0.00</td>\n",
       "      <td>0.19</td>\n",
       "      <td>-0.30</td>\n",
       "      <td>-0.39</td>\n",
       "      <td>645.59</td>\n",
       "      <td>1,234.58</td>\n",
       "      <td>1,185.08</td>\n",
       "      <td>1,135.58</td>\n",
       "      <td>1,086.08</td>\n",
       "      <td>1,036.58</td>\n",
       "      <td>987.08</td>\n",
       "      <td>937.59</td>\n",
       "      <td>888.09</td>\n",
       "      <td>838.59</td>\n",
       "      <td>789.09</td>\n",
       "      <td>739.59</td>\n",
       "      <td>690.09</td>\n",
       "      <td>640.59</td>\n",
       "      <td>591.10</td>\n",
       "      <td>541.60</td>\n",
       "      <td>492.10</td>\n",
       "      <td>442.60</td>\n",
       "      <td>393.10</td>\n",
       "      <td>343.62</td>\n",
       "      <td>294.16</td>\n",
       "      <td>244.86</td>\n",
       "      <td>196.06</td>\n",
       "      <td>148.70</td>\n",
       "      <td>104.64</td>\n",
       "      <td>66.67</td>\n",
       "      <td>37.46</td>\n",
       "      <td>18.05</td>\n",
       "      <td>7.17</td>\n",
       "      <td>2.14</td>\n",
       "      <td>0.34</td>\n",
       "      <td>0.23</td>\n",
       "      <td>0.65</td>\n",
       "      <td>1.13</td>\n",
       "      <td>1.63</td>\n",
       "      <td>2.13</td>\n",
       "      <td>2.63</td>\n",
       "      <td>3.13</td>\n",
       "      <td>3.63</td>\n",
       "      <td>4.13</td>\n",
       "      <td>4.64</td>\n",
       "      <td>5.14</td>\n",
       "      <td>5.64</td>\n",
       "      <td>6.14</td>\n",
       "      <td>6.64</td>\n",
       "      <td>7.14</td>\n",
       "      <td>7.64</td>\n",
       "      <td>8.15</td>\n",
       "      <td>8.65</td>\n",
       "      <td>9.15</td>\n",
       "      <td>9.65</td>\n",
       "      <td>10.15</td>\n",
       "      <td>10.65</td>\n",
       "      <td>11.15</td>\n",
       "      <td>11.66</td>\n",
       "      <td>12.16</td>\n",
       "      <td>12.66</td>\n",
       "      <td>13.16</td>\n",
       "      <td>13.66</td>\n",
       "      <td>14.16</td>\n",
       "      <td>14.66</td>\n",
       "      <td>-0.30</td>\n",
       "      <td>60.28</td>\n",
       "    </tr>\n",
       "    <tr>\n",
       "      <th>5T_4950.0K_put</th>\n",
       "      <td>put</td>\n",
       "      <td>5</td>\n",
       "      <td>5000</td>\n",
       "      <td>0</td>\n",
       "      <td>4,950.00</td>\n",
       "      <td>0.02</td>\n",
       "      <td>-0.01</td>\n",
       "      <td>0.15</td>\n",
       "      <td>21.95</td>\n",
       "      <td>-0.31</td>\n",
       "      <td>0.00</td>\n",
       "      <td>2.51</td>\n",
       "      <td>-3.79</td>\n",
       "      <td>-1.08</td>\n",
       "      <td>369.61</td>\n",
       "      <td>955.64</td>\n",
       "      <td>921.38</td>\n",
       "      <td>887.13</td>\n",
       "      <td>852.88</td>\n",
       "      <td>818.63</td>\n",
       "      <td>784.37</td>\n",
       "      <td>750.12</td>\n",
       "      <td>715.87</td>\n",
       "      <td>681.62</td>\n",
       "      <td>647.36</td>\n",
       "      <td>613.11</td>\n",
       "      <td>578.86</td>\n",
       "      <td>544.60</td>\n",
       "      <td>510.35</td>\n",
       "      <td>476.10</td>\n",
       "      <td>441.85</td>\n",
       "      <td>407.59</td>\n",
       "      <td>373.34</td>\n",
       "      <td>339.09</td>\n",
       "      <td>304.84</td>\n",
       "      <td>270.58</td>\n",
       "      <td>236.33</td>\n",
       "      <td>202.10</td>\n",
       "      <td>167.91</td>\n",
       "      <td>133.92</td>\n",
       "      <td>100.53</td>\n",
       "      <td>68.74</td>\n",
       "      <td>40.40</td>\n",
       "      <td>18.13</td>\n",
       "      <td>4.36</td>\n",
       "      <td>3.93</td>\n",
       "      <td>13.69</td>\n",
       "      <td>26.81</td>\n",
       "      <td>41.55</td>\n",
       "      <td>56.95</td>\n",
       "      <td>72.58</td>\n",
       "      <td>88.30</td>\n",
       "      <td>104.04</td>\n",
       "      <td>119.78</td>\n",
       "      <td>135.53</td>\n",
       "      <td>151.27</td>\n",
       "      <td>167.02</td>\n",
       "      <td>182.77</td>\n",
       "      <td>198.52</td>\n",
       "      <td>214.26</td>\n",
       "      <td>230.01</td>\n",
       "      <td>245.76</td>\n",
       "      <td>261.51</td>\n",
       "      <td>277.25</td>\n",
       "      <td>293.00</td>\n",
       "      <td>308.75</td>\n",
       "      <td>324.49</td>\n",
       "      <td>340.24</td>\n",
       "      <td>355.99</td>\n",
       "      <td>371.74</td>\n",
       "      <td>387.48</td>\n",
       "      <td>403.23</td>\n",
       "      <td>418.98</td>\n",
       "      <td>434.73</td>\n",
       "      <td>450.47</td>\n",
       "      <td>-3.79</td>\n",
       "      <td>832.71</td>\n",
       "    </tr>\n",
       "    <tr>\n",
       "      <th>5T_5000K_call</th>\n",
       "      <td>call</td>\n",
       "      <td>5</td>\n",
       "      <td>5000</td>\n",
       "      <td>0</td>\n",
       "      <td>5,000.00</td>\n",
       "      <td>0.02</td>\n",
       "      <td>0.00</td>\n",
       "      <td>0.15</td>\n",
       "      <td>42.47</td>\n",
       "      <td>0.50</td>\n",
       "      <td>0.00</td>\n",
       "      <td>2.82</td>\n",
       "      <td>-4.25</td>\n",
       "      <td>0.03</td>\n",
       "      <td>-0.21</td>\n",
       "      <td>713.90</td>\n",
       "      <td>688.69</td>\n",
       "      <td>663.47</td>\n",
       "      <td>638.26</td>\n",
       "      <td>613.05</td>\n",
       "      <td>587.84</td>\n",
       "      <td>562.62</td>\n",
       "      <td>537.41</td>\n",
       "      <td>512.20</td>\n",
       "      <td>486.99</td>\n",
       "      <td>461.78</td>\n",
       "      <td>436.56</td>\n",
       "      <td>411.35</td>\n",
       "      <td>386.14</td>\n",
       "      <td>360.93</td>\n",
       "      <td>335.71</td>\n",
       "      <td>310.50</td>\n",
       "      <td>285.29</td>\n",
       "      <td>260.08</td>\n",
       "      <td>234.86</td>\n",
       "      <td>209.65</td>\n",
       "      <td>184.44</td>\n",
       "      <td>159.23</td>\n",
       "      <td>134.04</td>\n",
       "      <td>108.90</td>\n",
       "      <td>83.97</td>\n",
       "      <td>59.66</td>\n",
       "      <td>36.99</td>\n",
       "      <td>17.80</td>\n",
       "      <td>4.69</td>\n",
       "      <td>4.64</td>\n",
       "      <td>17.50</td>\n",
       "      <td>36.19</td>\n",
       "      <td>58.28</td>\n",
       "      <td>82.01</td>\n",
       "      <td>106.42</td>\n",
       "      <td>131.09</td>\n",
       "      <td>155.84</td>\n",
       "      <td>180.62</td>\n",
       "      <td>205.41</td>\n",
       "      <td>230.19</td>\n",
       "      <td>254.98</td>\n",
       "      <td>279.77</td>\n",
       "      <td>304.55</td>\n",
       "      <td>329.34</td>\n",
       "      <td>354.13</td>\n",
       "      <td>378.92</td>\n",
       "      <td>403.71</td>\n",
       "      <td>428.49</td>\n",
       "      <td>453.28</td>\n",
       "      <td>478.07</td>\n",
       "      <td>502.86</td>\n",
       "      <td>527.64</td>\n",
       "      <td>552.43</td>\n",
       "      <td>577.22</td>\n",
       "      <td>602.01</td>\n",
       "      <td>626.79</td>\n",
       "      <td>651.58</td>\n",
       "      <td>676.37</td>\n",
       "      <td>701.16</td>\n",
       "      <td>-4.25</td>\n",
       "      <td>936.75</td>\n",
       "    </tr>\n",
       "  </tbody>\n",
       "</table>\n",
       "</div>"
      ],
      "text/plain": [
       "                option_type   time_to_maturity     F   r        K    T   K/F  \\\n",
       "symbol                                                                         \n",
       "5T_4500.0K_put          put                  5  5000   0 4,500.00 0.02 -0.10   \n",
       "5T_4750.0K_put          put                  5  5000   0 4,750.00 0.02 -0.05   \n",
       "5T_4950.0K_put          put                  5  5000   0 4,950.00 0.02 -0.01   \n",
       "5T_5000K_call          call                  5  5000   0 5,000.00 0.02  0.00   \n",
       "\n",
       "                 IV   price   delta   gamma   vega   theta   vanna   volga  \\\n",
       "symbol                                                                       \n",
       "5T_4500.0K_put 0.17    0.00   -0.00    0.00   0.00   -0.00   -0.00    2.61   \n",
       "5T_4750.0K_put 0.16    0.38   -0.01    0.00   0.19   -0.30   -0.39  645.59   \n",
       "5T_4950.0K_put 0.15   21.95   -0.31    0.00   2.51   -3.79   -1.08  369.61   \n",
       "5T_5000K_call  0.15   42.47    0.50    0.00   2.82   -4.25    0.03   -0.21   \n",
       "\n",
       "                  -0.30    -0.29    -0.28    -0.27    -0.26  -0.25  -0.24  \\\n",
       "symbol                                                                      \n",
       "5T_4500.0K_put   999.99   949.99   899.99   849.99   799.99 749.99 699.99   \n",
       "5T_4750.0K_put 1,234.58 1,185.08 1,135.58 1,086.08 1,036.58 987.08 937.59   \n",
       "5T_4950.0K_put   955.64   921.38   887.13   852.88   818.63 784.37 750.12   \n",
       "5T_5000K_call    713.90   688.69   663.47   638.26   613.05 587.84 562.62   \n",
       "\n",
       "                -0.23  -0.22  -0.21  -0.20  -0.19  -0.18  -0.17  -0.16  -0.15  \\\n",
       "symbol                                                                          \n",
       "5T_4500.0K_put 649.99 599.99 549.99 499.99 449.99 399.99 350.00 300.03 250.16   \n",
       "5T_4750.0K_put 888.09 838.59 789.09 739.59 690.09 640.59 591.10 541.60 492.10   \n",
       "5T_4950.0K_put 715.87 681.62 647.36 613.11 578.86 544.60 510.35 476.10 441.85   \n",
       "5T_5000K_call  537.41 512.20 486.99 461.78 436.56 411.35 386.14 360.93 335.71   \n",
       "\n",
       "                -0.14  -0.13  -0.12  -0.11  -0.10  -0.09  -0.08  -0.07  -0.06  \\\n",
       "symbol                                                                          \n",
       "5T_4500.0K_put 200.68 152.43 107.27  68.19  38.22  18.56   7.77   2.81   0.89   \n",
       "5T_4750.0K_put 442.60 393.10 343.62 294.16 244.86 196.06 148.70 104.64  66.67   \n",
       "5T_4950.0K_put 407.59 373.34 339.09 304.84 270.58 236.33 202.10 167.91 133.92   \n",
       "5T_5000K_call  310.50 285.29 260.08 234.86 209.65 184.44 159.23 134.04 108.90   \n",
       "\n",
       "                -0.05  -0.04  -0.03  -0.02  -0.01  0.01  0.02  0.03  0.04  \\\n",
       "symbol                                                                      \n",
       "5T_4500.0K_put   0.25   0.07   0.02   0.00   0.00  0.00  0.00  0.00  0.00   \n",
       "5T_4750.0K_put  37.46  18.05   7.17   2.14   0.34  0.23  0.65  1.13  1.63   \n",
       "5T_4950.0K_put 100.53  68.74  40.40  18.13   4.36  3.93 13.69 26.81 41.55   \n",
       "5T_5000K_call   83.97  59.66  36.99  17.80   4.69  4.64 17.50 36.19 58.28   \n",
       "\n",
       "                0.05   0.06   0.07   0.08   0.09   0.10   0.11   0.12   0.13  \\\n",
       "symbol                                                                         \n",
       "5T_4500.0K_put  0.00   0.00   0.00   0.00   0.00   0.00   0.00   0.00   0.00   \n",
       "5T_4750.0K_put  2.13   2.63   3.13   3.63   4.13   4.64   5.14   5.64   6.14   \n",
       "5T_4950.0K_put 56.95  72.58  88.30 104.04 119.78 135.53 151.27 167.02 182.77   \n",
       "5T_5000K_call  82.01 106.42 131.09 155.84 180.62 205.41 230.19 254.98 279.77   \n",
       "\n",
       "                 0.14   0.15   0.16   0.17   0.18   0.19   0.20   0.21   0.22  \\\n",
       "symbol                                                                          \n",
       "5T_4500.0K_put   0.01   0.01   0.01   0.01   0.01   0.01   0.01   0.01   0.01   \n",
       "5T_4750.0K_put   6.64   7.14   7.64   8.15   8.65   9.15   9.65  10.15  10.65   \n",
       "5T_4950.0K_put 198.52 214.26 230.01 245.76 261.51 277.25 293.00 308.75 324.49   \n",
       "5T_5000K_call  304.55 329.34 354.13 378.92 403.71 428.49 453.28 478.07 502.86   \n",
       "\n",
       "                 0.23   0.24   0.25   0.26   0.27   0.28   0.29   0.30     0  \\\n",
       "symbol                                                                         \n",
       "5T_4500.0K_put   0.01   0.01   0.01   0.01   0.01   0.01   0.01   0.01 -0.00   \n",
       "5T_4750.0K_put  11.15  11.66  12.16  12.66  13.16  13.66  14.16  14.66 -0.30   \n",
       "5T_4950.0K_put 340.24 355.99 371.74 387.48 403.23 418.98 434.73 450.47 -3.79   \n",
       "5T_5000K_call  527.64 552.43 577.22 602.01 626.79 651.58 676.37 701.16 -4.25   \n",
       "\n",
       "                 gamma_cash  \n",
       "symbol                       \n",
       "5T_4500.0K_put         0.07  \n",
       "5T_4750.0K_put        60.28  \n",
       "5T_4950.0K_put       832.71  \n",
       "5T_5000K_call        936.75  "
      ]
     },
     "execution_count": 161,
     "metadata": {},
     "output_type": "execute_result"
    }
   ],
   "source": [
    "market_data_df"
   ]
  },
  {
   "cell_type": "code",
   "execution_count": 185,
   "metadata": {},
   "outputs": [
    {
     "data": {
      "text/plain": [
       "symbol\n",
       "5T_4500.0K_put   108,353,153.96\n",
       "5T_4750.0K_put       153,102.90\n",
       "5T_4950.0K_put        11,968.70\n",
       "5T_5000K_call         10,675.21\n",
       "Name: theta, dtype: float64"
      ]
     },
     "execution_count": 185,
     "metadata": {},
     "output_type": "execute_result"
    }
   ],
   "source": [
    "(market_data_df.loc[atm_symbol, 'theta'] / market_data_df['theta']) * qty"
   ]
  },
  {
   "cell_type": "code",
   "execution_count": 177,
   "metadata": {},
   "outputs": [
    {
     "data": {
      "text/plain": [
       "4.247049010234898"
      ]
     },
     "execution_count": 177,
     "metadata": {},
     "output_type": "execute_result"
    }
   ],
   "source": []
  },
  {
   "cell_type": "code",
   "execution_count": null,
   "metadata": {},
   "outputs": [],
   "source": []
  },
  {
   "cell_type": "code",
   "execution_count": 115,
   "metadata": {},
   "outputs": [],
   "source": [
    "X = market_data_df[features].transpose().values\n",
    "b = [\n",
    "    market_data_df.loc[atm_symbol, features[0]]*qty, \n",
    "    market_data_df.loc[atm_symbol, features[1]]*qty*0, \n",
    "    market_data_df.loc[atm_symbol, features[2]]*qty,\n",
    "    market_data_df.loc[atm_symbol, features[3]]*qty]"
   ]
  },
  {
   "cell_type": "code",
   "execution_count": 153,
   "metadata": {},
   "outputs": [],
   "source": [
    "X = market_data_df[features].transpose().values\n",
    "b = [\n",
    "    market_data_df.loc[atm_symbol, features[0]]*qty, \n",
    "    0, \n",
    "    market_data_df.loc[atm_symbol, features[2]]*qty,\n",
    "    market_data_df.loc[atm_symbol, features[3]]*qty]"
   ]
  },
  {
   "cell_type": "code",
   "execution_count": 155,
   "metadata": {},
   "outputs": [
    {
     "name": "stdout",
     "output_type": "stream",
     "text": [
      "symbol\n",
      "5T_4500.0K_put    -1,631,227.95\n",
      "5T_4750.0K_put     4,544,228.05\n",
      "5T_4950.0K_put   -11,744,713.35\n",
      "5T_5000K_call     10,158,743.43\n",
      "dtype: float64\n"
     ]
    }
   ],
   "source": [
    "w = np.linalg.solve(X, b)\n",
    "weights = pd.Series(w, index=market_data_df.index)\n",
    "print(weights)"
   ]
  },
  {
   "cell_type": "code",
   "execution_count": 156,
   "metadata": {},
   "outputs": [
    {
     "data": {
      "text/plain": [
       "symbol\n",
       "5T_4500.0K_put          -395.32\n",
       "5T_4750.0K_put       858,596.30\n",
       "5T_4950.0K_put   -29,499,453.56\n",
       "5T_5000K_call     28,655,662.10\n",
       "dtype: float64"
      ]
     },
     "execution_count": 156,
     "metadata": {},
     "output_type": "execute_result"
    }
   ],
   "source": [
    "market_data_df['vega']*weights"
   ]
  },
  {
   "cell_type": "code",
   "execution_count": 159,
   "metadata": {},
   "outputs": [
    {
     "data": {
      "application/vnd.plotly.v1+json": {
       "config": {
        "plotlyServerURL": "https://plot.ly"
       },
       "data": [
        {
         "hovertemplate": "variable=0<br>index=%{x}<br>value=%{y}<extra></extra>",
         "legendgroup": "0",
         "line": {
          "color": "#636efa",
          "dash": "solid"
         },
         "marker": {
          "symbol": "circle"
         },
         "mode": "lines",
         "name": "0",
         "orientation": "v",
         "showlegend": true,
         "type": "scatter",
         "x": [
          -0.3,
          -0.29,
          -0.28,
          -0.27,
          -0.26,
          -0.25,
          -0.24,
          -0.23,
          -0.22,
          -0.21,
          -0.2,
          -0.19,
          -0.18,
          -0.17,
          -0.16,
          -0.15,
          -0.14,
          -0.13,
          -0.12,
          -0.11,
          -0.1,
          -0.09,
          -0.08,
          -0.07,
          -0.06,
          -0.05,
          -0.04,
          -0.03,
          -0.02,
          -0.01,
          0,
          0.01,
          0.02,
          0.03,
          0.04,
          0.05,
          0.06,
          0.07,
          0.08,
          0.09,
          0.1,
          0.11,
          0.12,
          0.13,
          0.14,
          0.15,
          0.16,
          0.17,
          0.18,
          0.19,
          0.2,
          0.21,
          0.22,
          0.23,
          0.24,
          0.25,
          0.26,
          0.27,
          0.28,
          0.29,
          0.3
         ],
         "xaxis": "x",
         "y": [
          7621017.529981613,
          10411781.016866684,
          13202544.503745079,
          15993307.990595818,
          18784071.477212906,
          21574834.96212101,
          24365598.434483528,
          27156361.815350533,
          29947124.53809929,
          32737882.62471485,
          35528609.059529305,
          38319128.74781513,
          41108377.01637125,
          43890407.56881666,
          46635494.51578283,
          49214686.7330122,
          51159947.72029495,
          51109242.015384674,
          46044436.43358135,
          31234005.87875843,
          2238075.6274027824,
          -41321626.906526804,
          -92941489.8990736,
          -139529049.2140937,
          -165081356.85424232,
          -157908890.9936427,
          -119256808.88622749,
          -66126888.24875271,
          -22314803.904940873,
          -2029957.9206435457,
          0,
          2086990.3881358057,
          19969977.970163524,
          57920696.24117917,
          111433966.72988969,
          173923538.7484311,
          240589099.66586196,
          308903162.9159367,
          377790692.661427,
          446859396.91052747,
          515981371.4110527,
          585118215.9596548,
          654259065.158777,
          723400968.3645782,
          792543145.4792614,
          861685393.4492598,
          930827659.7805157,
          999969930.9018159,
          1069112203.2859492,
          1138254476.0074935,
          1207396748.8205986,
          1276539021.6590033,
          1345681294.5045047,
          1414823567.352057,
          1483965840.2002015,
          1553108113.0485296,
          1622250385.896902,
          1691392658.7452965,
          1760534931.593688,
          1829677204.442092,
          1898819477.290492
         ],
         "yaxis": "y"
        }
       ],
       "layout": {
        "autosize": true,
        "legend": {
         "title": {
          "text": "variable"
         },
         "tracegroupgap": 0
        },
        "margin": {
         "t": 60
        },
        "template": {
         "data": {
          "bar": [
           {
            "error_x": {
             "color": "#2a3f5f"
            },
            "error_y": {
             "color": "#2a3f5f"
            },
            "marker": {
             "line": {
              "color": "#E5ECF6",
              "width": 0.5
             },
             "pattern": {
              "fillmode": "overlay",
              "size": 10,
              "solidity": 0.2
             }
            },
            "type": "bar"
           }
          ],
          "barpolar": [
           {
            "marker": {
             "line": {
              "color": "#E5ECF6",
              "width": 0.5
             },
             "pattern": {
              "fillmode": "overlay",
              "size": 10,
              "solidity": 0.2
             }
            },
            "type": "barpolar"
           }
          ],
          "carpet": [
           {
            "aaxis": {
             "endlinecolor": "#2a3f5f",
             "gridcolor": "white",
             "linecolor": "white",
             "minorgridcolor": "white",
             "startlinecolor": "#2a3f5f"
            },
            "baxis": {
             "endlinecolor": "#2a3f5f",
             "gridcolor": "white",
             "linecolor": "white",
             "minorgridcolor": "white",
             "startlinecolor": "#2a3f5f"
            },
            "type": "carpet"
           }
          ],
          "choropleth": [
           {
            "colorbar": {
             "outlinewidth": 0,
             "ticks": ""
            },
            "type": "choropleth"
           }
          ],
          "contour": [
           {
            "colorbar": {
             "outlinewidth": 0,
             "ticks": ""
            },
            "colorscale": [
             [
              0,
              "#0d0887"
             ],
             [
              0.1111111111111111,
              "#46039f"
             ],
             [
              0.2222222222222222,
              "#7201a8"
             ],
             [
              0.3333333333333333,
              "#9c179e"
             ],
             [
              0.4444444444444444,
              "#bd3786"
             ],
             [
              0.5555555555555556,
              "#d8576b"
             ],
             [
              0.6666666666666666,
              "#ed7953"
             ],
             [
              0.7777777777777778,
              "#fb9f3a"
             ],
             [
              0.8888888888888888,
              "#fdca26"
             ],
             [
              1,
              "#f0f921"
             ]
            ],
            "type": "contour"
           }
          ],
          "contourcarpet": [
           {
            "colorbar": {
             "outlinewidth": 0,
             "ticks": ""
            },
            "type": "contourcarpet"
           }
          ],
          "heatmap": [
           {
            "colorbar": {
             "outlinewidth": 0,
             "ticks": ""
            },
            "colorscale": [
             [
              0,
              "#0d0887"
             ],
             [
              0.1111111111111111,
              "#46039f"
             ],
             [
              0.2222222222222222,
              "#7201a8"
             ],
             [
              0.3333333333333333,
              "#9c179e"
             ],
             [
              0.4444444444444444,
              "#bd3786"
             ],
             [
              0.5555555555555556,
              "#d8576b"
             ],
             [
              0.6666666666666666,
              "#ed7953"
             ],
             [
              0.7777777777777778,
              "#fb9f3a"
             ],
             [
              0.8888888888888888,
              "#fdca26"
             ],
             [
              1,
              "#f0f921"
             ]
            ],
            "type": "heatmap"
           }
          ],
          "heatmapgl": [
           {
            "colorbar": {
             "outlinewidth": 0,
             "ticks": ""
            },
            "colorscale": [
             [
              0,
              "#0d0887"
             ],
             [
              0.1111111111111111,
              "#46039f"
             ],
             [
              0.2222222222222222,
              "#7201a8"
             ],
             [
              0.3333333333333333,
              "#9c179e"
             ],
             [
              0.4444444444444444,
              "#bd3786"
             ],
             [
              0.5555555555555556,
              "#d8576b"
             ],
             [
              0.6666666666666666,
              "#ed7953"
             ],
             [
              0.7777777777777778,
              "#fb9f3a"
             ],
             [
              0.8888888888888888,
              "#fdca26"
             ],
             [
              1,
              "#f0f921"
             ]
            ],
            "type": "heatmapgl"
           }
          ],
          "histogram": [
           {
            "marker": {
             "pattern": {
              "fillmode": "overlay",
              "size": 10,
              "solidity": 0.2
             }
            },
            "type": "histogram"
           }
          ],
          "histogram2d": [
           {
            "colorbar": {
             "outlinewidth": 0,
             "ticks": ""
            },
            "colorscale": [
             [
              0,
              "#0d0887"
             ],
             [
              0.1111111111111111,
              "#46039f"
             ],
             [
              0.2222222222222222,
              "#7201a8"
             ],
             [
              0.3333333333333333,
              "#9c179e"
             ],
             [
              0.4444444444444444,
              "#bd3786"
             ],
             [
              0.5555555555555556,
              "#d8576b"
             ],
             [
              0.6666666666666666,
              "#ed7953"
             ],
             [
              0.7777777777777778,
              "#fb9f3a"
             ],
             [
              0.8888888888888888,
              "#fdca26"
             ],
             [
              1,
              "#f0f921"
             ]
            ],
            "type": "histogram2d"
           }
          ],
          "histogram2dcontour": [
           {
            "colorbar": {
             "outlinewidth": 0,
             "ticks": ""
            },
            "colorscale": [
             [
              0,
              "#0d0887"
             ],
             [
              0.1111111111111111,
              "#46039f"
             ],
             [
              0.2222222222222222,
              "#7201a8"
             ],
             [
              0.3333333333333333,
              "#9c179e"
             ],
             [
              0.4444444444444444,
              "#bd3786"
             ],
             [
              0.5555555555555556,
              "#d8576b"
             ],
             [
              0.6666666666666666,
              "#ed7953"
             ],
             [
              0.7777777777777778,
              "#fb9f3a"
             ],
             [
              0.8888888888888888,
              "#fdca26"
             ],
             [
              1,
              "#f0f921"
             ]
            ],
            "type": "histogram2dcontour"
           }
          ],
          "mesh3d": [
           {
            "colorbar": {
             "outlinewidth": 0,
             "ticks": ""
            },
            "type": "mesh3d"
           }
          ],
          "parcoords": [
           {
            "line": {
             "colorbar": {
              "outlinewidth": 0,
              "ticks": ""
             }
            },
            "type": "parcoords"
           }
          ],
          "pie": [
           {
            "automargin": true,
            "type": "pie"
           }
          ],
          "scatter": [
           {
            "fillpattern": {
             "fillmode": "overlay",
             "size": 10,
             "solidity": 0.2
            },
            "type": "scatter"
           }
          ],
          "scatter3d": [
           {
            "line": {
             "colorbar": {
              "outlinewidth": 0,
              "ticks": ""
             }
            },
            "marker": {
             "colorbar": {
              "outlinewidth": 0,
              "ticks": ""
             }
            },
            "type": "scatter3d"
           }
          ],
          "scattercarpet": [
           {
            "marker": {
             "colorbar": {
              "outlinewidth": 0,
              "ticks": ""
             }
            },
            "type": "scattercarpet"
           }
          ],
          "scattergeo": [
           {
            "marker": {
             "colorbar": {
              "outlinewidth": 0,
              "ticks": ""
             }
            },
            "type": "scattergeo"
           }
          ],
          "scattergl": [
           {
            "marker": {
             "colorbar": {
              "outlinewidth": 0,
              "ticks": ""
             }
            },
            "type": "scattergl"
           }
          ],
          "scattermapbox": [
           {
            "marker": {
             "colorbar": {
              "outlinewidth": 0,
              "ticks": ""
             }
            },
            "type": "scattermapbox"
           }
          ],
          "scatterpolar": [
           {
            "marker": {
             "colorbar": {
              "outlinewidth": 0,
              "ticks": ""
             }
            },
            "type": "scatterpolar"
           }
          ],
          "scatterpolargl": [
           {
            "marker": {
             "colorbar": {
              "outlinewidth": 0,
              "ticks": ""
             }
            },
            "type": "scatterpolargl"
           }
          ],
          "scatterternary": [
           {
            "marker": {
             "colorbar": {
              "outlinewidth": 0,
              "ticks": ""
             }
            },
            "type": "scatterternary"
           }
          ],
          "surface": [
           {
            "colorbar": {
             "outlinewidth": 0,
             "ticks": ""
            },
            "colorscale": [
             [
              0,
              "#0d0887"
             ],
             [
              0.1111111111111111,
              "#46039f"
             ],
             [
              0.2222222222222222,
              "#7201a8"
             ],
             [
              0.3333333333333333,
              "#9c179e"
             ],
             [
              0.4444444444444444,
              "#bd3786"
             ],
             [
              0.5555555555555556,
              "#d8576b"
             ],
             [
              0.6666666666666666,
              "#ed7953"
             ],
             [
              0.7777777777777778,
              "#fb9f3a"
             ],
             [
              0.8888888888888888,
              "#fdca26"
             ],
             [
              1,
              "#f0f921"
             ]
            ],
            "type": "surface"
           }
          ],
          "table": [
           {
            "cells": {
             "fill": {
              "color": "#EBF0F8"
             },
             "line": {
              "color": "white"
             }
            },
            "header": {
             "fill": {
              "color": "#C8D4E3"
             },
             "line": {
              "color": "white"
             }
            },
            "type": "table"
           }
          ]
         },
         "layout": {
          "annotationdefaults": {
           "arrowcolor": "#2a3f5f",
           "arrowhead": 0,
           "arrowwidth": 1
          },
          "autotypenumbers": "strict",
          "coloraxis": {
           "colorbar": {
            "outlinewidth": 0,
            "ticks": ""
           }
          },
          "colorscale": {
           "diverging": [
            [
             0,
             "#8e0152"
            ],
            [
             0.1,
             "#c51b7d"
            ],
            [
             0.2,
             "#de77ae"
            ],
            [
             0.3,
             "#f1b6da"
            ],
            [
             0.4,
             "#fde0ef"
            ],
            [
             0.5,
             "#f7f7f7"
            ],
            [
             0.6,
             "#e6f5d0"
            ],
            [
             0.7,
             "#b8e186"
            ],
            [
             0.8,
             "#7fbc41"
            ],
            [
             0.9,
             "#4d9221"
            ],
            [
             1,
             "#276419"
            ]
           ],
           "sequential": [
            [
             0,
             "#0d0887"
            ],
            [
             0.1111111111111111,
             "#46039f"
            ],
            [
             0.2222222222222222,
             "#7201a8"
            ],
            [
             0.3333333333333333,
             "#9c179e"
            ],
            [
             0.4444444444444444,
             "#bd3786"
            ],
            [
             0.5555555555555556,
             "#d8576b"
            ],
            [
             0.6666666666666666,
             "#ed7953"
            ],
            [
             0.7777777777777778,
             "#fb9f3a"
            ],
            [
             0.8888888888888888,
             "#fdca26"
            ],
            [
             1,
             "#f0f921"
            ]
           ],
           "sequentialminus": [
            [
             0,
             "#0d0887"
            ],
            [
             0.1111111111111111,
             "#46039f"
            ],
            [
             0.2222222222222222,
             "#7201a8"
            ],
            [
             0.3333333333333333,
             "#9c179e"
            ],
            [
             0.4444444444444444,
             "#bd3786"
            ],
            [
             0.5555555555555556,
             "#d8576b"
            ],
            [
             0.6666666666666666,
             "#ed7953"
            ],
            [
             0.7777777777777778,
             "#fb9f3a"
            ],
            [
             0.8888888888888888,
             "#fdca26"
            ],
            [
             1,
             "#f0f921"
            ]
           ]
          },
          "colorway": [
           "#636efa",
           "#EF553B",
           "#00cc96",
           "#ab63fa",
           "#FFA15A",
           "#19d3f3",
           "#FF6692",
           "#B6E880",
           "#FF97FF",
           "#FECB52"
          ],
          "font": {
           "color": "#2a3f5f"
          },
          "geo": {
           "bgcolor": "white",
           "lakecolor": "white",
           "landcolor": "#E5ECF6",
           "showlakes": true,
           "showland": true,
           "subunitcolor": "white"
          },
          "hoverlabel": {
           "align": "left"
          },
          "hovermode": "closest",
          "mapbox": {
           "style": "light"
          },
          "paper_bgcolor": "white",
          "plot_bgcolor": "#E5ECF6",
          "polar": {
           "angularaxis": {
            "gridcolor": "white",
            "linecolor": "white",
            "ticks": ""
           },
           "bgcolor": "#E5ECF6",
           "radialaxis": {
            "gridcolor": "white",
            "linecolor": "white",
            "ticks": ""
           }
          },
          "scene": {
           "xaxis": {
            "backgroundcolor": "#E5ECF6",
            "gridcolor": "white",
            "gridwidth": 2,
            "linecolor": "white",
            "showbackground": true,
            "ticks": "",
            "zerolinecolor": "white"
           },
           "yaxis": {
            "backgroundcolor": "#E5ECF6",
            "gridcolor": "white",
            "gridwidth": 2,
            "linecolor": "white",
            "showbackground": true,
            "ticks": "",
            "zerolinecolor": "white"
           },
           "zaxis": {
            "backgroundcolor": "#E5ECF6",
            "gridcolor": "white",
            "gridwidth": 2,
            "linecolor": "white",
            "showbackground": true,
            "ticks": "",
            "zerolinecolor": "white"
           }
          },
          "shapedefaults": {
           "line": {
            "color": "#2a3f5f"
           }
          },
          "ternary": {
           "aaxis": {
            "gridcolor": "white",
            "linecolor": "white",
            "ticks": ""
           },
           "baxis": {
            "gridcolor": "white",
            "linecolor": "white",
            "ticks": ""
           },
           "bgcolor": "#E5ECF6",
           "caxis": {
            "gridcolor": "white",
            "linecolor": "white",
            "ticks": ""
           }
          },
          "title": {
           "x": 0.05
          },
          "xaxis": {
           "automargin": true,
           "gridcolor": "white",
           "linecolor": "white",
           "ticks": "",
           "title": {
            "standoff": 15
           },
           "zerolinecolor": "white",
           "zerolinewidth": 2
          },
          "yaxis": {
           "automargin": true,
           "gridcolor": "white",
           "linecolor": "white",
           "ticks": "",
           "title": {
            "standoff": 15
           },
           "zerolinecolor": "white",
           "zerolinewidth": 2
          }
         }
        },
        "xaxis": {
         "anchor": "y",
         "autorange": true,
         "domain": [
          0,
          1
         ],
         "range": [
          -0.3,
          0.3
         ],
         "title": {
          "text": "index"
         },
         "type": "linear"
        },
        "yaxis": {
         "anchor": "x",
         "autorange": true,
         "domain": [
          0,
          1
         ],
         "range": [
          -279742514.3067275,
          2013480634.7429774
         ],
         "title": {
          "text": "value"
         },
         "type": "linear"
        }
       }
      },
      "image/png": "[encoded data removed]",
      "text/html": [
       "<div>                            <div id=\"01863ca5-173e-4fa9-ae41-688b02263b16\" class=\"plotly-graph-div\" style=\"height:525px; width:100%;\"></div>            <script type=\"text/javascript\">                require([\"plotly\"], function(Plotly) {                    window.PLOTLYENV=window.PLOTLYENV || {};                                    if (document.getElementById(\"01863ca5-173e-4fa9-ae41-688b02263b16\")) {                    Plotly.newPlot(                        \"01863ca5-173e-4fa9-ae41-688b02263b16\",                        [{\"hovertemplate\":\"variable=0\\u003cbr\\u003eindex=%{x}\\u003cbr\\u003evalue=%{y}\\u003cextra\\u003e\\u003c\\u002fextra\\u003e\",\"legendgroup\":\"0\",\"line\":{\"color\":\"#636efa\",\"dash\":\"solid\"},\"marker\":{\"symbol\":\"circle\"},\"mode\":\"lines\",\"name\":\"0\",\"orientation\":\"v\",\"showlegend\":true,\"x\":[-0.3,-0.29,-0.28,-0.27,-0.26,-0.25,-0.24,-0.23,-0.22,-0.21,-0.2,-0.19,-0.18,-0.17,-0.16,-0.15,-0.14,-0.13,-0.12,-0.11,-0.1,-0.09,-0.08,-0.07,-0.06,-0.05,-0.04,-0.03,-0.02,-0.01,0,0.01,0.02,0.03,0.04,0.05,0.06,0.07,0.08,0.09,0.1,0.11,0.12,0.13,0.14,0.15,0.16,0.17,0.18,0.19,0.2,0.21,0.22,0.23,0.24,0.25,0.26,0.27,0.28,0.29,0.3],\"xaxis\":\"x\",\"y\":[7621017.529981613,10411781.016866684,13202544.503745079,15993307.990595818,18784071.477212906,21574834.96212101,24365598.434483528,27156361.815350533,29947124.53809929,32737882.62471485,35528609.059529305,38319128.74781513,41108377.01637125,43890407.56881666,46635494.51578283,49214686.7330122,51159947.72029495,51109242.015384674,46044436.43358135,31234005.87875843,2238075.6274027824,-41321626.906526804,-92941489.8990736,-139529049.2140937,-165081356.85424232,-157908890.9936427,-119256808.88622749,-66126888.24875271,-22314803.904940873,-2029957.9206435457,0.0,2086990.3881358057,19969977.970163524,57920696.24117917,111433966.72988969,173923538.7484311,240589099.66586196,308903162.9159367,377790692.661427,446859396.91052747,515981371.4110527,585118215.9596548,654259065.158777,723400968.3645782,792543145.4792614,861685393.4492598,930827659.7805157,999969930.9018159,1069112203.2859492,1138254476.0074935,1207396748.8205986,1276539021.6590033,1345681294.5045047,1414823567.352057,1483965840.2002015,1553108113.0485296,1622250385.896902,1691392658.7452965,1760534931.593688,1829677204.442092,1898819477.290492],\"yaxis\":\"y\",\"type\":\"scatter\"}],                        {\"template\":{\"data\":{\"histogram2dcontour\":[{\"type\":\"histogram2dcontour\",\"colorbar\":{\"outlinewidth\":0,\"ticks\":\"\"},\"colorscale\":[[0.0,\"#0d0887\"],[0.1111111111111111,\"#46039f\"],[0.2222222222222222,\"#7201a8\"],[0.3333333333333333,\"#9c179e\"],[0.4444444444444444,\"#bd3786\"],[0.5555555555555556,\"#d8576b\"],[0.6666666666666666,\"#ed7953\"],[0.7777777777777778,\"#fb9f3a\"],[0.8888888888888888,\"#fdca26\"],[1.0,\"#f0f921\"]]}],\"choropleth\":[{\"type\":\"choropleth\",\"colorbar\":{\"outlinewidth\":0,\"ticks\":\"\"}}],\"histogram2d\":[{\"type\":\"histogram2d\",\"colorbar\":{\"outlinewidth\":0,\"ticks\":\"\"},\"colorscale\":[[0.0,\"#0d0887\"],[0.1111111111111111,\"#46039f\"],[0.2222222222222222,\"#7201a8\"],[0.3333333333333333,\"#9c179e\"],[0.4444444444444444,\"#bd3786\"],[0.5555555555555556,\"#d8576b\"],[0.6666666666666666,\"#ed7953\"],[0.7777777777777778,\"#fb9f3a\"],[0.8888888888888888,\"#fdca26\"],[1.0,\"#f0f921\"]]}],\"heatmap\":[{\"type\":\"heatmap\",\"colorbar\":{\"outlinewidth\":0,\"ticks\":\"\"},\"colorscale\":[[0.0,\"#0d0887\"],[0.1111111111111111,\"#46039f\"],[0.2222222222222222,\"#7201a8\"],[0.3333333333333333,\"#9c179e\"],[0.4444444444444444,\"#bd3786\"],[0.5555555555555556,\"#d8576b\"],[0.6666666666666666,\"#ed7953\"],[0.7777777777777778,\"#fb9f3a\"],[0.8888888888888888,\"#fdca26\"],[1.0,\"#f0f921\"]]}],\"heatmapgl\":[{\"type\":\"heatmapgl\",\"colorbar\":{\"outlinewidth\":0,\"ticks\":\"\"},\"colorscale\":[[0.0,\"#0d0887\"],[0.1111111111111111,\"#46039f\"],[0.2222222222222222,\"#7201a8\"],[0.3333333333333333,\"#9c179e\"],[0.4444444444444444,\"#bd3786\"],[0.5555555555555556,\"#d8576b\"],[0.6666666666666666,\"#ed7953\"],[0.7777777777777778,\"#fb9f3a\"],[0.8888888888888888,\"#fdca26\"],[1.0,\"#f0f921\"]]}],\"contourcarpet\":[{\"type\":\"contourcarpet\",\"colorbar\":{\"outlinewidth\":0,\"ticks\":\"\"}}],\"contour\":[{\"type\":\"contour\",\"colorbar\":{\"outlinewidth\":0,\"ticks\":\"\"},\"colorscale\":[[0.0,\"#0d0887\"],[0.1111111111111111,\"#46039f\"],[0.2222222222222222,\"#7201a8\"],[0.3333333333333333,\"#9c179e\"],[0.4444444444444444,\"#bd3786\"],[0.5555555555555556,\"#d8576b\"],[0.6666666666666666,\"#ed7953\"],[0.7777777777777778,\"#fb9f3a\"],[0.8888888888888888,\"#fdca26\"],[1.0,\"#f0f921\"]]}],\"surface\":[{\"type\":\"surface\",\"colorbar\":{\"outlinewidth\":0,\"ticks\":\"\"},\"colorscale\":[[0.0,\"#0d0887\"],[0.1111111111111111,\"#46039f\"],[0.2222222222222222,\"#7201a8\"],[0.3333333333333333,\"#9c179e\"],[0.4444444444444444,\"#bd3786\"],[0.5555555555555556,\"#d8576b\"],[0.6666666666666666,\"#ed7953\"],[0.7777777777777778,\"#fb9f3a\"],[0.8888888888888888,\"#fdca26\"],[1.0,\"#f0f921\"]]}],\"mesh3d\":[{\"type\":\"mesh3d\",\"colorbar\":{\"outlinewidth\":0,\"ticks\":\"\"}}],\"scatter\":[{\"fillpattern\":{\"fillmode\":\"overlay\",\"size\":10,\"solidity\":0.2},\"type\":\"scatter\"}],\"parcoords\":[{\"type\":\"parcoords\",\"line\":{\"colorbar\":{\"outlinewidth\":0,\"ticks\":\"\"}}}],\"scatterpolargl\":[{\"type\":\"scatterpolargl\",\"marker\":{\"colorbar\":{\"outlinewidth\":0,\"ticks\":\"\"}}}],\"bar\":[{\"error_x\":{\"color\":\"#2a3f5f\"},\"error_y\":{\"color\":\"#2a3f5f\"},\"marker\":{\"line\":{\"color\":\"#E5ECF6\",\"width\":0.5},\"pattern\":{\"fillmode\":\"overlay\",\"size\":10,\"solidity\":0.2}},\"type\":\"bar\"}],\"scattergeo\":[{\"type\":\"scattergeo\",\"marker\":{\"colorbar\":{\"outlinewidth\":0,\"ticks\":\"\"}}}],\"scatterpolar\":[{\"type\":\"scatterpolar\",\"marker\":{\"colorbar\":{\"outlinewidth\":0,\"ticks\":\"\"}}}],\"histogram\":[{\"marker\":{\"pattern\":{\"fillmode\":\"overlay\",\"size\":10,\"solidity\":0.2}},\"type\":\"histogram\"}],\"scattergl\":[{\"type\":\"scattergl\",\"marker\":{\"colorbar\":{\"outlinewidth\":0,\"ticks\":\"\"}}}],\"scatter3d\":[{\"type\":\"scatter3d\",\"line\":{\"colorbar\":{\"outlinewidth\":0,\"ticks\":\"\"}},\"marker\":{\"colorbar\":{\"outlinewidth\":0,\"ticks\":\"\"}}}],\"scattermapbox\":[{\"type\":\"scattermapbox\",\"marker\":{\"colorbar\":{\"outlinewidth\":0,\"ticks\":\"\"}}}],\"scatterternary\":[{\"type\":\"scatterternary\",\"marker\":{\"colorbar\":{\"outlinewidth\":0,\"ticks\":\"\"}}}],\"scattercarpet\":[{\"type\":\"scattercarpet\",\"marker\":{\"colorbar\":{\"outlinewidth\":0,\"ticks\":\"\"}}}],\"carpet\":[{\"aaxis\":{\"endlinecolor\":\"#2a3f5f\",\"gridcolor\":\"white\",\"linecolor\":\"white\",\"minorgridcolor\":\"white\",\"startlinecolor\":\"#2a3f5f\"},\"baxis\":{\"endlinecolor\":\"#2a3f5f\",\"gridcolor\":\"white\",\"linecolor\":\"white\",\"minorgridcolor\":\"white\",\"startlinecolor\":\"#2a3f5f\"},\"type\":\"carpet\"}],\"table\":[{\"cells\":{\"fill\":{\"color\":\"#EBF0F8\"},\"line\":{\"color\":\"white\"}},\"header\":{\"fill\":{\"color\":\"#C8D4E3\"},\"line\":{\"color\":\"white\"}},\"type\":\"table\"}],\"barpolar\":[{\"marker\":{\"line\":{\"color\":\"#E5ECF6\",\"width\":0.5},\"pattern\":{\"fillmode\":\"overlay\",\"size\":10,\"solidity\":0.2}},\"type\":\"barpolar\"}],\"pie\":[{\"automargin\":true,\"type\":\"pie\"}]},\"layout\":{\"autotypenumbers\":\"strict\",\"colorway\":[\"#636efa\",\"#EF553B\",\"#00cc96\",\"#ab63fa\",\"#FFA15A\",\"#19d3f3\",\"#FF6692\",\"#B6E880\",\"#FF97FF\",\"#FECB52\"],\"font\":{\"color\":\"#2a3f5f\"},\"hovermode\":\"closest\",\"hoverlabel\":{\"align\":\"left\"},\"paper_bgcolor\":\"white\",\"plot_bgcolor\":\"#E5ECF6\",\"polar\":{\"bgcolor\":\"#E5ECF6\",\"angularaxis\":{\"gridcolor\":\"white\",\"linecolor\":\"white\",\"ticks\":\"\"},\"radialaxis\":{\"gridcolor\":\"white\",\"linecolor\":\"white\",\"ticks\":\"\"}},\"ternary\":{\"bgcolor\":\"#E5ECF6\",\"aaxis\":{\"gridcolor\":\"white\",\"linecolor\":\"white\",\"ticks\":\"\"},\"baxis\":{\"gridcolor\":\"white\",\"linecolor\":\"white\",\"ticks\":\"\"},\"caxis\":{\"gridcolor\":\"white\",\"linecolor\":\"white\",\"ticks\":\"\"}},\"coloraxis\":{\"colorbar\":{\"outlinewidth\":0,\"ticks\":\"\"}},\"colorscale\":{\"sequential\":[[0.0,\"#0d0887\"],[0.1111111111111111,\"#46039f\"],[0.2222222222222222,\"#7201a8\"],[0.3333333333333333,\"#9c179e\"],[0.4444444444444444,\"#bd3786\"],[0.5555555555555556,\"#d8576b\"],[0.6666666666666666,\"#ed7953\"],[0.7777777777777778,\"#fb9f3a\"],[0.8888888888888888,\"#fdca26\"],[1.0,\"#f0f921\"]],\"sequentialminus\":[[0.0,\"#0d0887\"],[0.1111111111111111,\"#46039f\"],[0.2222222222222222,\"#7201a8\"],[0.3333333333333333,\"#9c179e\"],[0.4444444444444444,\"#bd3786\"],[0.5555555555555556,\"#d8576b\"],[0.6666666666666666,\"#ed7953\"],[0.7777777777777778,\"#fb9f3a\"],[0.8888888888888888,\"#fdca26\"],[1.0,\"#f0f921\"]],\"diverging\":[[0,\"#8e0152\"],[0.1,\"#c51b7d\"],[0.2,\"#de77ae\"],[0.3,\"#f1b6da\"],[0.4,\"#fde0ef\"],[0.5,\"#f7f7f7\"],[0.6,\"#e6f5d0\"],[0.7,\"#b8e186\"],[0.8,\"#7fbc41\"],[0.9,\"#4d9221\"],[1,\"#276419\"]]},\"xaxis\":{\"gridcolor\":\"white\",\"linecolor\":\"white\",\"ticks\":\"\",\"title\":{\"standoff\":15},\"zerolinecolor\":\"white\",\"automargin\":true,\"zerolinewidth\":2},\"yaxis\":{\"gridcolor\":\"white\",\"linecolor\":\"white\",\"ticks\":\"\",\"title\":{\"standoff\":15},\"zerolinecolor\":\"white\",\"automargin\":true,\"zerolinewidth\":2},\"scene\":{\"xaxis\":{\"backgroundcolor\":\"#E5ECF6\",\"gridcolor\":\"white\",\"linecolor\":\"white\",\"showbackground\":true,\"ticks\":\"\",\"zerolinecolor\":\"white\",\"gridwidth\":2},\"yaxis\":{\"backgroundcolor\":\"#E5ECF6\",\"gridcolor\":\"white\",\"linecolor\":\"white\",\"showbackground\":true,\"ticks\":\"\",\"zerolinecolor\":\"white\",\"gridwidth\":2},\"zaxis\":{\"backgroundcolor\":\"#E5ECF6\",\"gridcolor\":\"white\",\"linecolor\":\"white\",\"showbackground\":true,\"ticks\":\"\",\"zerolinecolor\":\"white\",\"gridwidth\":2}},\"shapedefaults\":{\"line\":{\"color\":\"#2a3f5f\"}},\"annotationdefaults\":{\"arrowcolor\":\"#2a3f5f\",\"arrowhead\":0,\"arrowwidth\":1},\"geo\":{\"bgcolor\":\"white\",\"landcolor\":\"#E5ECF6\",\"subunitcolor\":\"white\",\"showland\":true,\"showlakes\":true,\"lakecolor\":\"white\"},\"title\":{\"x\":0.05},\"mapbox\":{\"style\":\"light\"}}},\"xaxis\":{\"anchor\":\"y\",\"domain\":[0.0,1.0],\"title\":{\"text\":\"index\"}},\"yaxis\":{\"anchor\":\"x\",\"domain\":[0.0,1.0],\"title\":{\"text\":\"value\"}},\"legend\":{\"title\":{\"text\":\"variable\"},\"tracegroupgap\":0},\"margin\":{\"t\":60}},                        {\"responsive\": true}                    ).then(function(){\n",
       "                            \n",
       "var gd = document.getElementById('01863ca5-173e-4fa9-ae41-688b02263b16');\n",
       "var x = new MutationObserver(function (mutations, observer) {{\n",
       "        var display = window.getComputedStyle(gd).display;\n",
       "        if (!display || display === 'none') {{\n",
       "            console.log([gd, 'removed!']);\n",
       "            Plotly.purge(gd);\n",
       "            observer.disconnect();\n",
       "        }}\n",
       "}});\n",
       "\n",
       "// Listen for the removal of the full notebook cells\n",
       "var notebookContainer = gd.closest('#notebook-container');\n",
       "if (notebookContainer) {{\n",
       "    x.observe(notebookContainer, {childList: true});\n",
       "}}\n",
       "\n",
       "// Listen for the clearing of the current output cell\n",
       "var outputEl = gd.closest('.output');\n",
       "if (outputEl) {{\n",
       "    x.observe(outputEl, {childList: true});\n",
       "}}\n",
       "\n",
       "                        })                };                });            </script>        </div>"
      ]
     },
     "metadata": {},
     "output_type": "display_data"
    }
   ],
   "source": [
    "px.line(market_data_df.loc[:, slide_to_compute].multiply(weights, axis=0).sum(axis=0).sort_index())"
   ]
  },
  {
   "cell_type": "code",
   "execution_count": null,
   "metadata": {},
   "outputs": [],
   "source": []
  }
 ],
 "metadata": {
  "kernelspec": {
   "display_name": "Python 3 (ipykernel)",
   "language": "python",
   "name": "python3"
  },
  "language_info": {
   "codemirror_mode": {
    "name": "ipython",
    "version": 3
   },
   "file_extension": ".py",
   "mimetype": "text/x-python",
   "name": "python",
   "nbconvert_exporter": "python",
   "pygments_lexer": "ipython3",
   "version": "3.12.4"
  }
 },
 "nbformat": 4,
 "nbformat_minor": 4
}
