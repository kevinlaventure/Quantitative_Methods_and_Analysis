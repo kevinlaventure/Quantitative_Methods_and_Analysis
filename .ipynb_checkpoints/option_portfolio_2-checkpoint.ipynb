{
 "cells": [
  {
   "cell_type": "code",
   "execution_count": 5,
   "metadata": {},
   "outputs": [],
   "source": [
    "# -------\n",
    "# IMPORT LIBRAIRIES\n",
    "# -------\n",
    "import numpy as np\n",
    "import pandas as pd\n",
    "from python_module.pricing_model import SABRModel\n",
    "from python_module.tools import maximize_with_bounds\n",
    "\n",
    "pd.options.display.max_rows = 999\n",
    "pd.options.display.max_columns = 999\n",
    "pd.options.display.float_format = '{:,.2f}'.format"
   ]
  },
  {
   "cell_type": "code",
   "execution_count": 17,
   "metadata": {},
   "outputs": [],
   "source": [
    "# -------\n",
    "# INPUTS\n",
    "# -------\n",
    "\n",
    "# Pricing parameters\n",
    "F     = 5000\n",
    "alpha = 0.25\n",
    "beta  = 1.0\n",
    "rho   = -0.\n",
    "nu    = 1.5\n",
    "r     = 0\n",
    "bd = 20\n",
    "tail_bd = 20\n",
    "\n",
    "# Scenario parameters\n",
    "scenario_min = -0.3\n",
    "scenario_max = 0.3\n",
    "scenario_step = 0.05\n",
    "\n",
    "option_strikes = [-0.3, 0.3]\n",
    "flat_scenarios = [-0.3, 0.3]"
   ]
  },
  {
   "cell_type": "code",
   "execution_count": 19,
   "metadata": {},
   "outputs": [],
   "source": [
    "# Scenario parameters\n",
    "num = int((scenario_max-scenario_min)/0.01 + 1)\n",
    "slide_to_compute = list(np.round(np.linspace(start=scenario_min, stop=scenario_max, num=num), 2))\n",
    "\n",
    "\n",
    "strike_list = []\n",
    "T = bd / 250\n",
    "for delta in [-0.01, -0.1, -0.2, -0.3, -0.4, 0.4, 0.3, 0.2, 0.1, 0.01]:\n",
    "    option_type = 'call' if delta > 0 else 'put'\n",
    "    K = SABRModel.solve_delta_strike(F=F, T=T, alpha=alpha, beta=beta, rho=rho, nu=nu, r=r, option_type=option_type, target_delta=delta)\n",
    "    K = int(K)\n",
    "    strike_list.append(K)\n",
    "strike_list.append(F)\n",
    "strike_list = sorted(strike_list)\n",
    "\n",
    "market_data_list = list()\n",
    "for K in strike_list:\n",
    "\n",
    "    option_type = 'call' if K >= F else 'put'\n",
    "    \n",
    "    market_pricing_results = SABRModel.compute_option(F, K, T, alpha, beta, rho, nu, r, option_type, slide_list=slide_to_compute)\n",
    "\n",
    "    market_data_list.append({\n",
    "        'symbol': f\"{bd}T_{K}K_{option_type}\",\n",
    "        'option_type': option_type, \n",
    "        'time_to_maturity': bd, \n",
    "        'F':F, 'r': r, 'F': F, 'K': K, 'T': T, **market_pricing_results})\n",
    "\n",
    "market_data_df = pd.DataFrame(market_data_list)\n",
    "market_data_df = market_data_df.set_index('symbol')"
   ]
  },
  {
   "cell_type": "code",
   "execution_count": 32,
   "metadata": {},
   "outputs": [],
   "source": [
    "# OTM Scenarios\n",
    "scenarios = market_data_df.loc[:, ['theta'] + slide_to_compute]\n",
    "scenarios = scenarios.drop(0, axis=1)\n",
    "scenarios.rename(columns={'theta': 0}, inplace=True)\n",
    "scenarios = scenarios.sort_index(axis=1)\n",
    "scenarios = scenarios.transpose()"
   ]
  },
  {
   "cell_type": "code",
   "execution_count": 46,
   "metadata": {},
   "outputs": [],
   "source": [
    "target_scenario = -0.01\n",
    "df = scenarios.transpose().drop(target_scenario, axis=1)\n",
    "s = scenarios.transpose()[target_scenario]"
   ]
  },
  {
   "cell_type": "code",
   "execution_count": 48,
   "metadata": {},
   "outputs": [
    {
     "name": "stdout",
     "output_type": "stream",
     "text": [
      "Optimal weights:\n",
      " symbol\n",
      "20T_4339K_put    0.00\n",
      "20T_4564K_put    0.00\n",
      "20T_4716K_put    0.00\n",
      "20T_4828K_put    0.00\n",
      "20T_4926K_put    0.00\n",
      "20T_5000K_call   0.00\n",
      "20T_5104K_call   0.00\n",
      "20T_5206K_call   0.00\n",
      "20T_5324K_call   0.00\n",
      "20T_5516K_call   0.00\n",
      "20T_5815K_call   0.00\n",
      "Name: weights, dtype: float64\n",
      "Maximized objective (w^T s): 0.0\n"
     ]
    }
   ],
   "source": [
    "# Constrain weights between -0.5 and 0.8\n",
    "w_opt, res = maximize_with_bounds(df=df, s=s, w_min=-10000, w_max=10000)\n",
    "\n",
    "print(\"Optimal weights:\\n\", w_opt)\n",
    "print(\"Maximized objective (w^T s):\", float(w_opt.dot(s)))"
   ]
  },
  {
   "cell_type": "code",
   "execution_count": 9,
   "metadata": {},
   "outputs": [
    {
     "data": {
      "text/plain": [
       "-0.30    -8,767,113.32\n",
       "-0.10       281,511.61\n",
       "-0.05       175,776.00\n",
       "-0.04       112,895.34\n",
       "-0.03        58,695.76\n",
       "-0.02        19,793.98\n",
       "-0.01             0.00\n",
       "0.01         17,358.70\n",
       "0.02         46,827.37\n",
       "0.03         80,899.64\n",
       "0.04        110,526.93\n",
       "0.05        125,893.69\n",
       "0.10       -325,206.25\n",
       "0.30    -13,771,373.84\n",
       "dtype: float64"
      ]
     },
     "execution_count": 9,
     "metadata": {},
     "output_type": "execute_result"
    }
   ],
   "source": [
    "market_data_df.loc[:, [-0.3, -0.1, -0.05, -0.04, -0.03, -0.02, -0.01, 0.01, 0.02, 0.03, 0.04, 0.05, 0.1, 0.3]].multiply(w_opt, axis=0).sum(axis=0)"
   ]
  },
  {
   "cell_type": "code",
   "execution_count": 14,
   "metadata": {},
   "outputs": [
    {
     "data": {
      "text/plain": [
       "-0.30    6,283,630.31\n",
       "-0.10    1,277,115.38\n",
       "-0.05      358,406.13\n",
       "-0.04      232,579.61\n",
       "-0.03      132,131.11\n",
       "-0.02       59,064.61\n",
       "-0.01       14,787.91\n",
       " theta     -35,767.74\n",
       "0.01        14,641.39\n",
       "0.02        57,914.54\n",
       "0.03       128,368.92\n",
       "0.04       224,034.80\n",
       "0.05       342,583.56\n",
       "0.10     1,190,964.49\n",
       "0.30     5,857,122.45\n",
       "Name: 20T_5000K_call, dtype: float64"
      ]
     },
     "execution_count": 14,
     "metadata": {},
     "output_type": "execute_result"
    }
   ],
   "source": [
    "market_data_df.loc[:, [-0.3, -0.1, -0.05, -0.04, -0.03, -0.02, -0.01, 'theta', 0.01, 0.02, 0.03, 0.04, 0.05, 0.1, 0.3]].loc['20T_5000K_call']*10_000"
   ]
  },
  {
   "cell_type": "code",
   "execution_count": 11,
   "metadata": {},
   "outputs": [
    {
     "data": {
      "text/plain": [
       "symbol\n",
       "20T_4339K_put    -10,537.45\n",
       "20T_4564K_put    -25,747.21\n",
       "20T_4716K_put    -39,795.96\n",
       "20T_4828K_put     38,579.96\n",
       "20T_4926K_put     54,772.12\n",
       "20T_5000K_call    56,382.64\n",
       "20T_5104K_call    54,681.28\n",
       "20T_5206K_call   -45,872.46\n",
       "20T_5324K_call   -40,355.02\n",
       "20T_5516K_call   -25,451.95\n",
       "20T_5815K_call   -10,215.32\n",
       "dtype: float64"
      ]
     },
     "execution_count": 11,
     "metadata": {},
     "output_type": "execute_result"
    }
   ],
   "source": [
    "market_data_df['vega']* w_opt"
   ]
  },
  {
   "cell_type": "code",
   "execution_count": null,
   "metadata": {},
   "outputs": [],
   "source": []
  }
 ],
 "metadata": {
  "kernelspec": {
   "display_name": "Python 3 (ipykernel)",
   "language": "python",
   "name": "python3"
  },
  "language_info": {
   "codemirror_mode": {
    "name": "ipython",
    "version": 3
   },
   "file_extension": ".py",
   "mimetype": "text/x-python",
   "name": "python",
   "nbconvert_exporter": "python",
   "pygments_lexer": "ipython3",
   "version": "3.12.4"
  }
 },
 "nbformat": 4,
 "nbformat_minor": 4
}
