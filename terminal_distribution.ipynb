{
 "cells": [
  {
   "cell_type": "code",
   "execution_count": 15,
   "metadata": {},
   "outputs": [],
   "source": [
    "# -------\n",
    "# IMPORT LIBRAIRIES\n",
    "# -------\n",
    "import numpy as np\n",
    "import pandas as pd\n",
    "import plotly.express as px\n",
    "import plotly.graph_objects as go\n",
    "from scipy.optimize import minimize, least_squares\n",
    "from sklearn.linear_model import LinearRegression, Lasso\n",
    "from python_module.pricing_model import SABRModel, BlackScholesModel"
   ]
  },
  {
   "cell_type": "code",
   "execution_count": 16,
   "metadata": {},
   "outputs": [],
   "source": [
    "# -------\n",
    "# PARAMETERS\n",
    "# -------\n",
    "F = 100\n",
    "T = 20/250\n",
    "alpha = 0.1\n",
    "beta = 1\n",
    "rho = -0.\n",
    "nu = 0.0001\n",
    "n_steps = 20\n",
    "n_paths = 100"
   ]
  },
  {
   "cell_type": "code",
   "execution_count": 17,
   "metadata": {},
   "outputs": [],
   "source": [
    "# -------\n",
    "# MONTECARLO\n",
    "# -------\n",
    "spot, vol = SABRModel.compute_montecarlo(F=F, T=T, alpha=alpha, beta=beta, rho=rho, nu=nu, n_steps=n_steps, n_paths=n_paths, seed=False)\n",
    "spot = np.round(spot, 2)"
   ]
  },
  {
   "cell_type": "code",
   "execution_count": 19,
   "metadata": {},
   "outputs": [],
   "source": [
    "# -------\n",
    "# PDF FROM TERMINAL DISTRIBUTION WITH TRUE PARAMETERS\n",
    "# -------\n",
    "dk = 1\n",
    "r  = 0\n",
    "pdf_dict = dict()\n",
    "for K in spot.iloc[-1].sort_values():\n",
    "    a = SABRModel.compute_option(F, K+dk, T, alpha, beta, rho, nu, r, option_type='call')['price']\n",
    "    b = SABRModel.compute_option(F, K, T, alpha, beta, rho, nu, r, option_type='call')['price']\n",
    "    c = SABRModel.compute_option(F, K-dk, T, alpha, beta, rho, nu, r, option_type='call')['price']\n",
    "    pdf_dict[K] = (a -2*b + c)/(dk**2)"
   ]
  },
  {
   "cell_type": "code",
   "execution_count": 20,
   "metadata": {},
   "outputs": [],
   "source": [
    "# -------\n",
    "# PDF FROM TERMINAL DISTRIBUTION WITH WRONG PARAMETERS\n",
    "# -------\n",
    "\n",
    "# Parameter overriding \n",
    "alpha = 0.1\n",
    "beta = 1\n",
    "rho = 0.9\n",
    "nu = 1\n",
    "\n",
    "\n",
    "dk = 1\n",
    "r  = 0\n",
    "pdf_dict2 = dict()\n",
    "for K in spot.iloc[-1].sort_values():\n",
    "    a = SABRModel.compute_option(F, K+dk, T, alpha, beta, rho, nu, r, option_type='call')['price']\n",
    "    b = SABRModel.compute_option(F, K, T, alpha, beta, rho, nu, r, option_type='call')['price']\n",
    "    c = SABRModel.compute_option(F, K-dk, T, alpha, beta, rho, nu, r, option_type='call')['price']\n",
    "    pdf_dict2[K] = (a -2*b + c)/(dk**2)"
   ]
  },
  {
   "cell_type": "code",
   "execution_count": 21,
   "metadata": {},
   "outputs": [
    {
     "data": {
      "application/vnd.plotly.v1+json": {
       "config": {
        "plotlyServerURL": "https://plot.ly"
       },
       "data": [
        {
         "mode": "lines+markers",
         "name": "pdf_true_param",
         "type": "scatter",
         "x": [
          93.89,
          94.18,
          94.24,
          94.48,
          95.16,
          95.71,
          95.73,
          95.76,
          96.04,
          96.16,
          96.2,
          96.47,
          96.67,
          96.73,
          97.32,
          97.61,
          97.69,
          97.71,
          97.84,
          97.93,
          97.94,
          98.01,
          98.05,
          98.27,
          98.34,
          98.39,
          98.42,
          98.44,
          98.48,
          98.65,
          99.02,
          99.18,
          99.25,
          99.28,
          99.38,
          99.53,
          99.56,
          99.66,
          99.76,
          99.83,
          99.91,
          99.97,
          100,
          100.05,
          100.16,
          100.17,
          100.26,
          100.54,
          100.66,
          100.83,
          100.93,
          101.15,
          101.27,
          101.35,
          101.41,
          101.42,
          101.43,
          101.44,
          101.52,
          101.55,
          101.56,
          101.61,
          101.64,
          101.66,
          101.71,
          101.79,
          101.82,
          101.85,
          101.93,
          102.11,
          102.14,
          102.26,
          102.33,
          102.34,
          102.41,
          102.48,
          102.54,
          102.62,
          102.74,
          102.78,
          102.83,
          102.91,
          102.92,
          102.95,
          103.15,
          103.66,
          103.69,
          103.9,
          103.94,
          104.06,
          104.1,
          104.5,
          104.52,
          104.53,
          104.56,
          106.5
         ],
         "y": [
          0.013492260770490816,
          0.016929432866405136,
          0.017716193578479533,
          0.021135955067038026,
          0.03332345702978046,
          0.04591439603906622,
          0.046415780768541026,
          0.04717324065981643,
          0.05453895540924236,
          0.05784667219879225,
          0.0589673987451107,
          0.06673995462242033,
          0.07268581470599145,
          0.0744923501369783,
          0.09242950286443374,
          0.1010457361373085,
          0.10335977914223804,
          0.10393292169418089,
          0.10759954347422251,
          0.11007143873893455,
          0.11034240463249745,
          0.11221715757562123,
          0.11327041016043182,
          0.118802744682867,
          0.12046152579132752,
          0.12161369339015948,
          0.12229146701970706,
          0.12273755536394759,
          0.12361564110182144,
          0.12712814625958657,
          0.13341927727907432,
          0.13550898688677648,
          0.1362958993721861,
          0.13660892177511386,
          0.13754591536230265,
          0.13863956990498139,
          0.13881281458539974,
          0.13927975009203664,
          0.13957575518263354,
          0.13968090956501555,
          0.1396981331476681,
          0.13963910089246667,
          0.13958651854970583,
          0.1394648116636077,
          0.13904798783539007,
          0.1389999927660739,
          0.13849296600428573,
          0.13607054401101237,
          0.13465503159748948,
          0.13228316540746476,
          0.13069648068373851,
          0.12674065330398676,
          0.12433281909759941,
          0.12263725784350399,
          0.12132079528394968,
          0.12109778167015506,
          0.12087375857755234,
          0.1206487335646429,
          0.11881337093448252,
          0.11810949793568426,
          0.11787304272478494,
          0.11667738380197434,
          0.11594956249627941,
          0.11546013445582304,
          0.11422227444147026,
          0.11220129053063488,
          0.11143129761452641,
          0.11065502579883457,
          0.10855590745961585,
          0.10369638037519024,
          0.10287050455887226,
          0.0995292321807959,
          0.09755605509945298,
          0.09727292921432529,
          0.09528341375730953,
          0.0932823891733463,
          0.09156000496787797,
          0.0892559971779967,
          0.08579135960588324,
          0.08463596581049337,
          0.08319243177834146,
          0.08088635920157827,
          0.08059854608557515,
          0.07973585388374183,
          0.07402446323353473,
          0.06002052733769503,
          0.05923153448914675,
          0.053842117902164865,
          0.05284360802619581,
          0.04990544265600949,
          0.048945732808872044,
          0.03992435830895191,
          0.0395018164808274,
          0.039291591443228135,
          0.03866511075316614,
          0.011176658370144588
         ]
        },
        {
         "mode": "lines+markers",
         "name": "pdf_wrong_param",
         "type": "scatter",
         "x": [
          93.89,
          94.18,
          94.24,
          94.48,
          95.16,
          95.71,
          95.73,
          95.76,
          96.04,
          96.16,
          96.2,
          96.47,
          96.67,
          96.73,
          97.32,
          97.61,
          97.69,
          97.71,
          97.84,
          97.93,
          97.94,
          98.01,
          98.05,
          98.27,
          98.34,
          98.39,
          98.42,
          98.44,
          98.48,
          98.65,
          99.02,
          99.18,
          99.25,
          99.28,
          99.38,
          99.53,
          99.56,
          99.66,
          99.76,
          99.83,
          99.91,
          99.97,
          100,
          100.05,
          100.16,
          100.17,
          100.26,
          100.54,
          100.66,
          100.83,
          100.93,
          101.15,
          101.27,
          101.35,
          101.41,
          101.42,
          101.43,
          101.44,
          101.52,
          101.55,
          101.56,
          101.61,
          101.64,
          101.66,
          101.71,
          101.79,
          101.82,
          101.85,
          101.93,
          102.11,
          102.14,
          102.26,
          102.33,
          102.34,
          102.41,
          102.48,
          102.54,
          102.62,
          102.74,
          102.78,
          102.83,
          102.91,
          102.92,
          102.95,
          103.15,
          103.66,
          103.69,
          103.9,
          103.94,
          104.06,
          104.1,
          104.5,
          104.52,
          104.53,
          104.56,
          106.5
         ],
         "y": [
          0.0040395171074436576,
          0.006796731204758544,
          0.007516506829503555,
          0.010989242696709312,
          0.02686399434288944,
          0.04658447211424743,
          0.04740405549657112,
          0.04864499850799575,
          0.06081476894181037,
          0.06629012606333617,
          0.06814020121532849,
          0.08081975647827733,
          0.09024033600212533,
          0.09303858866560688,
          0.11863940407536688,
          0.12915523616629798,
          0.1317389562290998,
          0.1323618411628189,
          0.1361783317520775,
          0.13857778390925546,
          0.1388318389644212,
          0.14053894338970707,
          0.1414579528208364,
          0.14576595480122734,
          0.14686921468396008,
          0.14757795191368928,
          0.14797151307464418,
          0.14822070851749203,
          0.14868753581797733,
          0.15020574488467986,
          0.15099144437517253,
          0.15032727638639898,
          0.1498594838709053,
          0.14962720896571113,
          0.14871951379935666,
          0.14699119622412837,
          0.1465954087422645,
          0.145162107143058,
          0.1435619830119137,
          0.14234868636967946,
          0.14087375405799918,
          0.1397090874897131,
          0.13910883104251326,
          0.13808290871389062,
          0.13571998152318088,
          0.1354983303514814,
          0.1334556647308034,
          0.12662133346425009,
          0.123511230922972,
          0.11896569335119267,
          0.11623172637143853,
          0.11011007737186063,
          0.10673300736901226,
          0.10447506387528449,
          0.10278067477973707,
          0.10249831460048497,
          0.10221598242500107,
          0.10193368458352836,
          0.09967728292488687,
          0.0988324406405674,
          0.09855103251998898,
          0.0971457949458312,
          0.09630429672805363,
          0.09574407455277623,
          0.09434654823569133,
          0.09212084309054447,
          0.09128991929018326,
          0.09046122183785599,
          0.0882631762223518,
          0.08338992669022005,
          0.08258864538202815,
          0.07941821727884602,
          0.0775959743329846,
          0.07733736704015826,
          0.07553948856254955,
          0.07376388389516997,
          0.07226028134803997,
          0.07028266227433733,
          0.06737646923587803,
          0.06642423454300683,
          0.06524577562978351,
          0.06338797684493791,
          0.06315817722558137,
          0.062472038131904384,
          0.05802439558390837,
          0.047702583598978165,
          0.04714135861779134,
          0.04335438499127875,
          0.04266093402985405,
          0.04063342397528835,
          0.03997505719337813,
          0.03385867621685623,
          0.03357457894894189,
          0.03343328520048949,
          0.03301241112522568,
          0.013935545362003143
         ]
        }
       ],
       "layout": {
        "template": {
         "data": {
          "bar": [
           {
            "error_x": {
             "color": "#2a3f5f"
            },
            "error_y": {
             "color": "#2a3f5f"
            },
            "marker": {
             "line": {
              "color": "#E5ECF6",
              "width": 0.5
             },
             "pattern": {
              "fillmode": "overlay",
              "size": 10,
              "solidity": 0.2
             }
            },
            "type": "bar"
           }
          ],
          "barpolar": [
           {
            "marker": {
             "line": {
              "color": "#E5ECF6",
              "width": 0.5
             },
             "pattern": {
              "fillmode": "overlay",
              "size": 10,
              "solidity": 0.2
             }
            },
            "type": "barpolar"
           }
          ],
          "carpet": [
           {
            "aaxis": {
             "endlinecolor": "#2a3f5f",
             "gridcolor": "white",
             "linecolor": "white",
             "minorgridcolor": "white",
             "startlinecolor": "#2a3f5f"
            },
            "baxis": {
             "endlinecolor": "#2a3f5f",
             "gridcolor": "white",
             "linecolor": "white",
             "minorgridcolor": "white",
             "startlinecolor": "#2a3f5f"
            },
            "type": "carpet"
           }
          ],
          "choropleth": [
           {
            "colorbar": {
             "outlinewidth": 0,
             "ticks": ""
            },
            "type": "choropleth"
           }
          ],
          "contour": [
           {
            "colorbar": {
             "outlinewidth": 0,
             "ticks": ""
            },
            "colorscale": [
             [
              0,
              "#0d0887"
             ],
             [
              0.1111111111111111,
              "#46039f"
             ],
             [
              0.2222222222222222,
              "#7201a8"
             ],
             [
              0.3333333333333333,
              "#9c179e"
             ],
             [
              0.4444444444444444,
              "#bd3786"
             ],
             [
              0.5555555555555556,
              "#d8576b"
             ],
             [
              0.6666666666666666,
              "#ed7953"
             ],
             [
              0.7777777777777778,
              "#fb9f3a"
             ],
             [
              0.8888888888888888,
              "#fdca26"
             ],
             [
              1,
              "#f0f921"
             ]
            ],
            "type": "contour"
           }
          ],
          "contourcarpet": [
           {
            "colorbar": {
             "outlinewidth": 0,
             "ticks": ""
            },
            "type": "contourcarpet"
           }
          ],
          "heatmap": [
           {
            "colorbar": {
             "outlinewidth": 0,
             "ticks": ""
            },
            "colorscale": [
             [
              0,
              "#0d0887"
             ],
             [
              0.1111111111111111,
              "#46039f"
             ],
             [
              0.2222222222222222,
              "#7201a8"
             ],
             [
              0.3333333333333333,
              "#9c179e"
             ],
             [
              0.4444444444444444,
              "#bd3786"
             ],
             [
              0.5555555555555556,
              "#d8576b"
             ],
             [
              0.6666666666666666,
              "#ed7953"
             ],
             [
              0.7777777777777778,
              "#fb9f3a"
             ],
             [
              0.8888888888888888,
              "#fdca26"
             ],
             [
              1,
              "#f0f921"
             ]
            ],
            "type": "heatmap"
           }
          ],
          "heatmapgl": [
           {
            "colorbar": {
             "outlinewidth": 0,
             "ticks": ""
            },
            "colorscale": [
             [
              0,
              "#0d0887"
             ],
             [
              0.1111111111111111,
              "#46039f"
             ],
             [
              0.2222222222222222,
              "#7201a8"
             ],
             [
              0.3333333333333333,
              "#9c179e"
             ],
             [
              0.4444444444444444,
              "#bd3786"
             ],
             [
              0.5555555555555556,
              "#d8576b"
             ],
             [
              0.6666666666666666,
              "#ed7953"
             ],
             [
              0.7777777777777778,
              "#fb9f3a"
             ],
             [
              0.8888888888888888,
              "#fdca26"
             ],
             [
              1,
              "#f0f921"
             ]
            ],
            "type": "heatmapgl"
           }
          ],
          "histogram": [
           {
            "marker": {
             "pattern": {
              "fillmode": "overlay",
              "size": 10,
              "solidity": 0.2
             }
            },
            "type": "histogram"
           }
          ],
          "histogram2d": [
           {
            "colorbar": {
             "outlinewidth": 0,
             "ticks": ""
            },
            "colorscale": [
             [
              0,
              "#0d0887"
             ],
             [
              0.1111111111111111,
              "#46039f"
             ],
             [
              0.2222222222222222,
              "#7201a8"
             ],
             [
              0.3333333333333333,
              "#9c179e"
             ],
             [
              0.4444444444444444,
              "#bd3786"
             ],
             [
              0.5555555555555556,
              "#d8576b"
             ],
             [
              0.6666666666666666,
              "#ed7953"
             ],
             [
              0.7777777777777778,
              "#fb9f3a"
             ],
             [
              0.8888888888888888,
              "#fdca26"
             ],
             [
              1,
              "#f0f921"
             ]
            ],
            "type": "histogram2d"
           }
          ],
          "histogram2dcontour": [
           {
            "colorbar": {
             "outlinewidth": 0,
             "ticks": ""
            },
            "colorscale": [
             [
              0,
              "#0d0887"
             ],
             [
              0.1111111111111111,
              "#46039f"
             ],
             [
              0.2222222222222222,
              "#7201a8"
             ],
             [
              0.3333333333333333,
              "#9c179e"
             ],
             [
              0.4444444444444444,
              "#bd3786"
             ],
             [
              0.5555555555555556,
              "#d8576b"
             ],
             [
              0.6666666666666666,
              "#ed7953"
             ],
             [
              0.7777777777777778,
              "#fb9f3a"
             ],
             [
              0.8888888888888888,
              "#fdca26"
             ],
             [
              1,
              "#f0f921"
             ]
            ],
            "type": "histogram2dcontour"
           }
          ],
          "mesh3d": [
           {
            "colorbar": {
             "outlinewidth": 0,
             "ticks": ""
            },
            "type": "mesh3d"
           }
          ],
          "parcoords": [
           {
            "line": {
             "colorbar": {
              "outlinewidth": 0,
              "ticks": ""
             }
            },
            "type": "parcoords"
           }
          ],
          "pie": [
           {
            "automargin": true,
            "type": "pie"
           }
          ],
          "scatter": [
           {
            "fillpattern": {
             "fillmode": "overlay",
             "size": 10,
             "solidity": 0.2
            },
            "type": "scatter"
           }
          ],
          "scatter3d": [
           {
            "line": {
             "colorbar": {
              "outlinewidth": 0,
              "ticks": ""
             }
            },
            "marker": {
             "colorbar": {
              "outlinewidth": 0,
              "ticks": ""
             }
            },
            "type": "scatter3d"
           }
          ],
          "scattercarpet": [
           {
            "marker": {
             "colorbar": {
              "outlinewidth": 0,
              "ticks": ""
             }
            },
            "type": "scattercarpet"
           }
          ],
          "scattergeo": [
           {
            "marker": {
             "colorbar": {
              "outlinewidth": 0,
              "ticks": ""
             }
            },
            "type": "scattergeo"
           }
          ],
          "scattergl": [
           {
            "marker": {
             "colorbar": {
              "outlinewidth": 0,
              "ticks": ""
             }
            },
            "type": "scattergl"
           }
          ],
          "scattermapbox": [
           {
            "marker": {
             "colorbar": {
              "outlinewidth": 0,
              "ticks": ""
             }
            },
            "type": "scattermapbox"
           }
          ],
          "scatterpolar": [
           {
            "marker": {
             "colorbar": {
              "outlinewidth": 0,
              "ticks": ""
             }
            },
            "type": "scatterpolar"
           }
          ],
          "scatterpolargl": [
           {
            "marker": {
             "colorbar": {
              "outlinewidth": 0,
              "ticks": ""
             }
            },
            "type": "scatterpolargl"
           }
          ],
          "scatterternary": [
           {
            "marker": {
             "colorbar": {
              "outlinewidth": 0,
              "ticks": ""
             }
            },
            "type": "scatterternary"
           }
          ],
          "surface": [
           {
            "colorbar": {
             "outlinewidth": 0,
             "ticks": ""
            },
            "colorscale": [
             [
              0,
              "#0d0887"
             ],
             [
              0.1111111111111111,
              "#46039f"
             ],
             [
              0.2222222222222222,
              "#7201a8"
             ],
             [
              0.3333333333333333,
              "#9c179e"
             ],
             [
              0.4444444444444444,
              "#bd3786"
             ],
             [
              0.5555555555555556,
              "#d8576b"
             ],
             [
              0.6666666666666666,
              "#ed7953"
             ],
             [
              0.7777777777777778,
              "#fb9f3a"
             ],
             [
              0.8888888888888888,
              "#fdca26"
             ],
             [
              1,
              "#f0f921"
             ]
            ],
            "type": "surface"
           }
          ],
          "table": [
           {
            "cells": {
             "fill": {
              "color": "#EBF0F8"
             },
             "line": {
              "color": "white"
             }
            },
            "header": {
             "fill": {
              "color": "#C8D4E3"
             },
             "line": {
              "color": "white"
             }
            },
            "type": "table"
           }
          ]
         },
         "layout": {
          "annotationdefaults": {
           "arrowcolor": "#2a3f5f",
           "arrowhead": 0,
           "arrowwidth": 1
          },
          "autotypenumbers": "strict",
          "coloraxis": {
           "colorbar": {
            "outlinewidth": 0,
            "ticks": ""
           }
          },
          "colorscale": {
           "diverging": [
            [
             0,
             "#8e0152"
            ],
            [
             0.1,
             "#c51b7d"
            ],
            [
             0.2,
             "#de77ae"
            ],
            [
             0.3,
             "#f1b6da"
            ],
            [
             0.4,
             "#fde0ef"
            ],
            [
             0.5,
             "#f7f7f7"
            ],
            [
             0.6,
             "#e6f5d0"
            ],
            [
             0.7,
             "#b8e186"
            ],
            [
             0.8,
             "#7fbc41"
            ],
            [
             0.9,
             "#4d9221"
            ],
            [
             1,
             "#276419"
            ]
           ],
           "sequential": [
            [
             0,
             "#0d0887"
            ],
            [
             0.1111111111111111,
             "#46039f"
            ],
            [
             0.2222222222222222,
             "#7201a8"
            ],
            [
             0.3333333333333333,
             "#9c179e"
            ],
            [
             0.4444444444444444,
             "#bd3786"
            ],
            [
             0.5555555555555556,
             "#d8576b"
            ],
            [
             0.6666666666666666,
             "#ed7953"
            ],
            [
             0.7777777777777778,
             "#fb9f3a"
            ],
            [
             0.8888888888888888,
             "#fdca26"
            ],
            [
             1,
             "#f0f921"
            ]
           ],
           "sequentialminus": [
            [
             0,
             "#0d0887"
            ],
            [
             0.1111111111111111,
             "#46039f"
            ],
            [
             0.2222222222222222,
             "#7201a8"
            ],
            [
             0.3333333333333333,
             "#9c179e"
            ],
            [
             0.4444444444444444,
             "#bd3786"
            ],
            [
             0.5555555555555556,
             "#d8576b"
            ],
            [
             0.6666666666666666,
             "#ed7953"
            ],
            [
             0.7777777777777778,
             "#fb9f3a"
            ],
            [
             0.8888888888888888,
             "#fdca26"
            ],
            [
             1,
             "#f0f921"
            ]
           ]
          },
          "colorway": [
           "#636efa",
           "#EF553B",
           "#00cc96",
           "#ab63fa",
           "#FFA15A",
           "#19d3f3",
           "#FF6692",
           "#B6E880",
           "#FF97FF",
           "#FECB52"
          ],
          "font": {
           "color": "#2a3f5f"
          },
          "geo": {
           "bgcolor": "white",
           "lakecolor": "white",
           "landcolor": "#E5ECF6",
           "showlakes": true,
           "showland": true,
           "subunitcolor": "white"
          },
          "hoverlabel": {
           "align": "left"
          },
          "hovermode": "closest",
          "mapbox": {
           "style": "light"
          },
          "paper_bgcolor": "white",
          "plot_bgcolor": "#E5ECF6",
          "polar": {
           "angularaxis": {
            "gridcolor": "white",
            "linecolor": "white",
            "ticks": ""
           },
           "bgcolor": "#E5ECF6",
           "radialaxis": {
            "gridcolor": "white",
            "linecolor": "white",
            "ticks": ""
           }
          },
          "scene": {
           "xaxis": {
            "backgroundcolor": "#E5ECF6",
            "gridcolor": "white",
            "gridwidth": 2,
            "linecolor": "white",
            "showbackground": true,
            "ticks": "",
            "zerolinecolor": "white"
           },
           "yaxis": {
            "backgroundcolor": "#E5ECF6",
            "gridcolor": "white",
            "gridwidth": 2,
            "linecolor": "white",
            "showbackground": true,
            "ticks": "",
            "zerolinecolor": "white"
           },
           "zaxis": {
            "backgroundcolor": "#E5ECF6",
            "gridcolor": "white",
            "gridwidth": 2,
            "linecolor": "white",
            "showbackground": true,
            "ticks": "",
            "zerolinecolor": "white"
           }
          },
          "shapedefaults": {
           "line": {
            "color": "#2a3f5f"
           }
          },
          "ternary": {
           "aaxis": {
            "gridcolor": "white",
            "linecolor": "white",
            "ticks": ""
           },
           "baxis": {
            "gridcolor": "white",
            "linecolor": "white",
            "ticks": ""
           },
           "bgcolor": "#E5ECF6",
           "caxis": {
            "gridcolor": "white",
            "linecolor": "white",
            "ticks": ""
           }
          },
          "title": {
           "x": 0.05
          },
          "xaxis": {
           "automargin": true,
           "gridcolor": "white",
           "linecolor": "white",
           "ticks": "",
           "title": {
            "standoff": 15
           },
           "zerolinecolor": "white",
           "zerolinewidth": 2
          },
          "yaxis": {
           "automargin": true,
           "gridcolor": "white",
           "linecolor": "white",
           "ticks": "",
           "title": {
            "standoff": 15
           },
           "zerolinecolor": "white",
           "zerolinewidth": 2
          }
         }
        }
       }
      }
     },
     "metadata": {},
     "output_type": "display_data"
    },
    {
     "name": "stdout",
     "output_type": "stream",
     "text": [
      "sum of log likelyhood with true parameters > sum of log likelyhood with wrong parameters : True\n"
     ]
    }
   ],
   "source": [
    "# -------\n",
    "# COMPARING LOG LIKELYHOOD COMPUTED FROM PDF WITH TRUE AND WRONG PARAMETERS\n",
    "# -------\n",
    "pdf_true_param = pd.Series(pdf_dict, name='pdf_true_param')\n",
    "pdf_wrong_param = pd.Series(pdf_dict2, name='pdf_wrong_param')\n",
    "df = pd.concat([pdf_true_param, pdf_wrong_param], axis=1)\n",
    "\n",
    "fig = go.Figure()\n",
    "fig.add_trace(go.Scatter(x=df.index, y=df['pdf_true_param'].values, mode='lines+markers', name='pdf_true_param'))\n",
    "fig.add_trace(go.Scatter(x=df.index, y=df['pdf_wrong_param'].values, mode='lines+markers', name='pdf_wrong_param'))\n",
    "fig.show()\n",
    "\n",
    "df = np.log(df)\n",
    "mle_would_work = df.sum()['pdf_true_param'] >= df.sum()['pdf_wrong_param']\n",
    "\n",
    "print(f'sum of log likelyhood with true parameters > sum of log likelyhood with wrong parameters : {mle_would_work}')"
   ]
  },
  {
   "cell_type": "code",
   "execution_count": null,
   "metadata": {},
   "outputs": [],
   "source": []
  }
 ],
 "metadata": {
  "kernelspec": {
   "display_name": "base",
   "language": "python",
   "name": "python3"
  },
  "language_info": {
   "codemirror_mode": {
    "name": "ipython",
    "version": 3
   },
   "file_extension": ".py",
   "mimetype": "text/x-python",
   "name": "python",
   "nbconvert_exporter": "python",
   "pygments_lexer": "ipython3",
   "version": "3.12.4"
  }
 },
 "nbformat": 4,
 "nbformat_minor": 2
}
