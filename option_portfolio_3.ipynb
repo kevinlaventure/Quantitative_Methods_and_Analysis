{
 "cells": [
  {
   "cell_type": "code",
   "execution_count": 1,
   "metadata": {},
   "outputs": [],
   "source": [
    "# -------\n",
    "# IMPORT LIBRAIRIES\n",
    "# -------\n",
    "import numpy as np\n",
    "import pandas as pd\n",
    "import plotly.express as px\n",
    "from python_module.pricing_model import SABRModel\n",
    "from python_module.tools import maximize_with_bounds\n",
    "\n",
    "pd.options.display.max_rows = 999\n",
    "pd.options.display.max_columns = 999\n",
    "pd.options.display.float_format = '{:,.2f}'.format"
   ]
  },
  {
   "cell_type": "code",
   "execution_count": 137,
   "metadata": {},
   "outputs": [],
   "source": [
    "# -------\n",
    "# INPUTS\n",
    "# -------\n",
    "\n",
    "# Pricing parameters\n",
    "F     = 5000\n",
    "alpha = 0.25\n",
    "beta  = 1.0\n",
    "rho   = -0.\n",
    "nu    = 1.5\n",
    "r     = 0\n",
    "atm_bd = 20\n",
    "tail_bd = 20\n",
    "\n",
    "# Scenario parameters\n",
    "scenario_min = -0.3\n",
    "scenario_max = 0.3\n",
    "scenario_step = 0.05\n",
    "\n",
    "option_strikes = [-0.3, -0.1, 0]"
   ]
  },
  {
   "cell_type": "code",
   "execution_count": 139,
   "metadata": {},
   "outputs": [],
   "source": [
    "# Scenario parameters\n",
    "num = int((scenario_max-scenario_min)/0.01 + 1)\n",
    "slide_to_compute = list(np.round(np.linspace(start=scenario_min, stop=scenario_max, num=num), 2))\n",
    "\n",
    "# Option portfolio\n",
    "market_data_list = list()\n",
    "for strike in option_strikes:\n",
    "    K = F * (1+strike)\n",
    "    T = tail_bd / 250\n",
    "    option_type = 'call' if K >= F else 'put'\n",
    "    market_pricing_results = SABRModel.compute_option(F, K, T, alpha, beta, rho, nu, r, option_type, slide_list=slide_to_compute)\n",
    "    market_data_list.append({\n",
    "        'symbol': f\"{tail_bd}T_{K}K_{option_type}\",\n",
    "        'option_type': option_type, \n",
    "        'time_to_maturity': tail_bd, \n",
    "        'F':F, 'r': r, 'K': K, 'T': T, 'K/F': (K/F) - 1 ,**market_pricing_results})\n",
    "\n",
    "market_data_df = pd.DataFrame(market_data_list)\n",
    "market_data_df = market_data_df.set_index('symbol')"
   ]
  },
  {
   "cell_type": "code",
   "execution_count": 141,
   "metadata": {},
   "outputs": [],
   "source": [
    "market_data_df['gamma_cash'] = (market_data_df['gamma']*(F**2))/100"
   ]
  },
  {
   "cell_type": "code",
   "execution_count": 159,
   "metadata": {},
   "outputs": [],
   "source": [
    "X = market_data_df[['gamma_cash', 'theta', -0.3]].transpose().values\n",
    "b = [277.75, -3.58, 628.36]"
   ]
  },
  {
   "cell_type": "code",
   "execution_count": 169,
   "metadata": {},
   "outputs": [
    {
     "data": {
      "text/html": [
       "<div>\n",
       "<style scoped>\n",
       "    .dataframe tbody tr th:only-of-type {\n",
       "        vertical-align: middle;\n",
       "    }\n",
       "\n",
       "    .dataframe tbody tr th {\n",
       "        vertical-align: top;\n",
       "    }\n",
       "\n",
       "    .dataframe thead th {\n",
       "        text-align: right;\n",
       "    }\n",
       "</style>\n",
       "<table border=\"1\" class=\"dataframe\">\n",
       "  <thead>\n",
       "    <tr style=\"text-align: right;\">\n",
       "      <th></th>\n",
       "      <th>option_type</th>\n",
       "      <th>time_to_maturity</th>\n",
       "      <th>F</th>\n",
       "      <th>r</th>\n",
       "      <th>K</th>\n",
       "      <th>T</th>\n",
       "      <th>K/F</th>\n",
       "      <th>IV</th>\n",
       "      <th>price</th>\n",
       "      <th>delta</th>\n",
       "      <th>gamma</th>\n",
       "      <th>vega</th>\n",
       "      <th>theta</th>\n",
       "      <th>vanna</th>\n",
       "      <th>volga</th>\n",
       "      <th>-0.30</th>\n",
       "      <th>-0.29</th>\n",
       "      <th>-0.28</th>\n",
       "      <th>-0.27</th>\n",
       "      <th>-0.26</th>\n",
       "      <th>-0.25</th>\n",
       "      <th>-0.24</th>\n",
       "      <th>-0.23</th>\n",
       "      <th>-0.22</th>\n",
       "      <th>-0.21</th>\n",
       "      <th>-0.20</th>\n",
       "      <th>-0.19</th>\n",
       "      <th>-0.18</th>\n",
       "      <th>-0.17</th>\n",
       "      <th>-0.16</th>\n",
       "      <th>-0.15</th>\n",
       "      <th>-0.14</th>\n",
       "      <th>-0.13</th>\n",
       "      <th>-0.12</th>\n",
       "      <th>-0.11</th>\n",
       "      <th>-0.10</th>\n",
       "      <th>-0.09</th>\n",
       "      <th>-0.08</th>\n",
       "      <th>-0.07</th>\n",
       "      <th>-0.06</th>\n",
       "      <th>-0.05</th>\n",
       "      <th>-0.04</th>\n",
       "      <th>-0.03</th>\n",
       "      <th>-0.02</th>\n",
       "      <th>-0.01</th>\n",
       "      <th>0.00</th>\n",
       "      <th>0.01</th>\n",
       "      <th>0.02</th>\n",
       "      <th>0.03</th>\n",
       "      <th>0.04</th>\n",
       "      <th>0.05</th>\n",
       "      <th>0.06</th>\n",
       "      <th>0.07</th>\n",
       "      <th>0.08</th>\n",
       "      <th>0.09</th>\n",
       "      <th>0.10</th>\n",
       "      <th>0.11</th>\n",
       "      <th>0.12</th>\n",
       "      <th>0.13</th>\n",
       "      <th>0.14</th>\n",
       "      <th>0.15</th>\n",
       "      <th>0.16</th>\n",
       "      <th>0.17</th>\n",
       "      <th>0.18</th>\n",
       "      <th>0.19</th>\n",
       "      <th>0.20</th>\n",
       "      <th>0.21</th>\n",
       "      <th>0.22</th>\n",
       "      <th>0.23</th>\n",
       "      <th>0.24</th>\n",
       "      <th>0.25</th>\n",
       "      <th>0.26</th>\n",
       "      <th>0.27</th>\n",
       "      <th>0.28</th>\n",
       "      <th>0.29</th>\n",
       "      <th>0.30</th>\n",
       "      <th>gamma_cash</th>\n",
       "    </tr>\n",
       "    <tr>\n",
       "      <th>symbol</th>\n",
       "      <th></th>\n",
       "      <th></th>\n",
       "      <th></th>\n",
       "      <th></th>\n",
       "      <th></th>\n",
       "      <th></th>\n",
       "      <th></th>\n",
       "      <th></th>\n",
       "      <th></th>\n",
       "      <th></th>\n",
       "      <th></th>\n",
       "      <th></th>\n",
       "      <th></th>\n",
       "      <th></th>\n",
       "      <th></th>\n",
       "      <th></th>\n",
       "      <th></th>\n",
       "      <th></th>\n",
       "      <th></th>\n",
       "      <th></th>\n",
       "      <th></th>\n",
       "      <th></th>\n",
       "      <th></th>\n",
       "      <th></th>\n",
       "      <th></th>\n",
       "      <th></th>\n",
       "      <th></th>\n",
       "      <th></th>\n",
       "      <th></th>\n",
       "      <th></th>\n",
       "      <th></th>\n",
       "      <th></th>\n",
       "      <th></th>\n",
       "      <th></th>\n",
       "      <th></th>\n",
       "      <th></th>\n",
       "      <th></th>\n",
       "      <th></th>\n",
       "      <th></th>\n",
       "      <th></th>\n",
       "      <th></th>\n",
       "      <th></th>\n",
       "      <th></th>\n",
       "      <th></th>\n",
       "      <th></th>\n",
       "      <th></th>\n",
       "      <th></th>\n",
       "      <th></th>\n",
       "      <th></th>\n",
       "      <th></th>\n",
       "      <th></th>\n",
       "      <th></th>\n",
       "      <th></th>\n",
       "      <th></th>\n",
       "      <th></th>\n",
       "      <th></th>\n",
       "      <th></th>\n",
       "      <th></th>\n",
       "      <th></th>\n",
       "      <th></th>\n",
       "      <th></th>\n",
       "      <th></th>\n",
       "      <th></th>\n",
       "      <th></th>\n",
       "      <th></th>\n",
       "      <th></th>\n",
       "      <th></th>\n",
       "      <th></th>\n",
       "      <th></th>\n",
       "      <th></th>\n",
       "      <th></th>\n",
       "      <th></th>\n",
       "      <th></th>\n",
       "      <th></th>\n",
       "      <th></th>\n",
       "      <th></th>\n",
       "      <th></th>\n",
       "    </tr>\n",
       "  </thead>\n",
       "  <tbody>\n",
       "    <tr>\n",
       "      <th>20T_3500.0K_put</th>\n",
       "      <td>put</td>\n",
       "      <td>20</td>\n",
       "      <td>5000</td>\n",
       "      <td>0</td>\n",
       "      <td>3,500.00</td>\n",
       "      <td>0.08</td>\n",
       "      <td>-0.30</td>\n",
       "      <td>0.36</td>\n",
       "      <td>0.03</td>\n",
       "      <td>-0.00</td>\n",
       "      <td>0.00</td>\n",
       "      <td>0.01</td>\n",
       "      <td>-0.01</td>\n",
       "      <td>-0.01</td>\n",
       "      <td>35.62</td>\n",
       "      <td>99.87</td>\n",
       "      <td>77.68</td>\n",
       "      <td>59.49</td>\n",
       "      <td>44.95</td>\n",
       "      <td>33.57</td>\n",
       "      <td>24.83</td>\n",
       "      <td>18.24</td>\n",
       "      <td>13.32</td>\n",
       "      <td>9.69</td>\n",
       "      <td>7.03</td>\n",
       "      <td>5.09</td>\n",
       "      <td>3.68</td>\n",
       "      <td>2.66</td>\n",
       "      <td>1.92</td>\n",
       "      <td>1.38</td>\n",
       "      <td>0.99</td>\n",
       "      <td>0.71</td>\n",
       "      <td>0.50</td>\n",
       "      <td>0.35</td>\n",
       "      <td>0.24</td>\n",
       "      <td>0.16</td>\n",
       "      <td>0.11</td>\n",
       "      <td>0.07</td>\n",
       "      <td>0.04</td>\n",
       "      <td>0.02</td>\n",
       "      <td>0.01</td>\n",
       "      <td>-0.00</td>\n",
       "      <td>-0.00</td>\n",
       "      <td>-0.01</td>\n",
       "      <td>-0.00</td>\n",
       "      <td>0.00</td>\n",
       "      <td>0.00</td>\n",
       "      <td>0.01</td>\n",
       "      <td>0.02</td>\n",
       "      <td>0.02</td>\n",
       "      <td>0.03</td>\n",
       "      <td>0.04</td>\n",
       "      <td>0.05</td>\n",
       "      <td>0.06</td>\n",
       "      <td>0.07</td>\n",
       "      <td>0.08</td>\n",
       "      <td>0.09</td>\n",
       "      <td>0.09</td>\n",
       "      <td>0.10</td>\n",
       "      <td>0.11</td>\n",
       "      <td>0.12</td>\n",
       "      <td>0.13</td>\n",
       "      <td>0.14</td>\n",
       "      <td>0.15</td>\n",
       "      <td>0.16</td>\n",
       "      <td>0.17</td>\n",
       "      <td>0.18</td>\n",
       "      <td>0.19</td>\n",
       "      <td>0.20</td>\n",
       "      <td>0.21</td>\n",
       "      <td>0.22</td>\n",
       "      <td>0.23</td>\n",
       "      <td>0.24</td>\n",
       "      <td>0.25</td>\n",
       "      <td>0.26</td>\n",
       "      <td>0.27</td>\n",
       "      <td>0.36</td>\n",
       "    </tr>\n",
       "    <tr>\n",
       "      <th>20T_4500.0K_put</th>\n",
       "      <td>put</td>\n",
       "      <td>20</td>\n",
       "      <td>5000</td>\n",
       "      <td>0</td>\n",
       "      <td>4,500.00</td>\n",
       "      <td>0.08</td>\n",
       "      <td>-0.10</td>\n",
       "      <td>0.27</td>\n",
       "      <td>13.69</td>\n",
       "      <td>-0.08</td>\n",
       "      <td>0.00</td>\n",
       "      <td>2.05</td>\n",
       "      <td>-1.38</td>\n",
       "      <td>-0.73</td>\n",
       "      <td>1,460.21</td>\n",
       "      <td>870.45</td>\n",
       "      <td>824.45</td>\n",
       "      <td>778.49</td>\n",
       "      <td>732.61</td>\n",
       "      <td>686.83</td>\n",
       "      <td>641.20</td>\n",
       "      <td>595.76</td>\n",
       "      <td>550.60</td>\n",
       "      <td>505.80</td>\n",
       "      <td>461.50</td>\n",
       "      <td>417.86</td>\n",
       "      <td>375.07</td>\n",
       "      <td>333.39</td>\n",
       "      <td>293.09</td>\n",
       "      <td>254.49</td>\n",
       "      <td>217.93</td>\n",
       "      <td>183.76</td>\n",
       "      <td>152.29</td>\n",
       "      <td>123.80</td>\n",
       "      <td>98.47</td>\n",
       "      <td>76.42</td>\n",
       "      <td>57.63</td>\n",
       "      <td>42.01</td>\n",
       "      <td>29.36</td>\n",
       "      <td>19.43</td>\n",
       "      <td>11.92</td>\n",
       "      <td>6.51</td>\n",
       "      <td>2.90</td>\n",
       "      <td>0.78</td>\n",
       "      <td>-0.11</td>\n",
       "      <td>0.00</td>\n",
       "      <td>0.91</td>\n",
       "      <td>2.47</td>\n",
       "      <td>4.53</td>\n",
       "      <td>6.98</td>\n",
       "      <td>9.75</td>\n",
       "      <td>12.76</td>\n",
       "      <td>15.95</td>\n",
       "      <td>19.30</td>\n",
       "      <td>22.76</td>\n",
       "      <td>26.30</td>\n",
       "      <td>29.92</td>\n",
       "      <td>33.59</td>\n",
       "      <td>37.30</td>\n",
       "      <td>41.04</td>\n",
       "      <td>44.81</td>\n",
       "      <td>48.61</td>\n",
       "      <td>52.41</td>\n",
       "      <td>56.23</td>\n",
       "      <td>60.06</td>\n",
       "      <td>63.90</td>\n",
       "      <td>67.74</td>\n",
       "      <td>71.59</td>\n",
       "      <td>75.45</td>\n",
       "      <td>79.30</td>\n",
       "      <td>83.16</td>\n",
       "      <td>87.03</td>\n",
       "      <td>90.89</td>\n",
       "      <td>94.75</td>\n",
       "      <td>98.62</td>\n",
       "      <td>102.49</td>\n",
       "      <td>95.29</td>\n",
       "    </tr>\n",
       "    <tr>\n",
       "      <th>20T_5000K_call</th>\n",
       "      <td>call</td>\n",
       "      <td>20</td>\n",
       "      <td>5000</td>\n",
       "      <td>0</td>\n",
       "      <td>5,000.00</td>\n",
       "      <td>0.08</td>\n",
       "      <td>0.00</td>\n",
       "      <td>0.25</td>\n",
       "      <td>143.13</td>\n",
       "      <td>0.51</td>\n",
       "      <td>0.00</td>\n",
       "      <td>5.64</td>\n",
       "      <td>-3.58</td>\n",
       "      <td>0.06</td>\n",
       "      <td>-2.86</td>\n",
       "      <td>628.36</td>\n",
       "      <td>602.66</td>\n",
       "      <td>576.96</td>\n",
       "      <td>551.26</td>\n",
       "      <td>525.57</td>\n",
       "      <td>499.89</td>\n",
       "      <td>474.22</td>\n",
       "      <td>448.58</td>\n",
       "      <td>422.95</td>\n",
       "      <td>397.37</td>\n",
       "      <td>371.83</td>\n",
       "      <td>346.36</td>\n",
       "      <td>320.98</td>\n",
       "      <td>295.71</td>\n",
       "      <td>270.61</td>\n",
       "      <td>245.72</td>\n",
       "      <td>221.12</td>\n",
       "      <td>196.90</td>\n",
       "      <td>173.15</td>\n",
       "      <td>150.04</td>\n",
       "      <td>127.71</td>\n",
       "      <td>106.38</td>\n",
       "      <td>86.26</td>\n",
       "      <td>67.62</td>\n",
       "      <td>50.72</td>\n",
       "      <td>35.84</td>\n",
       "      <td>23.26</td>\n",
       "      <td>13.21</td>\n",
       "      <td>5.91</td>\n",
       "      <td>1.48</td>\n",
       "      <td>0.00</td>\n",
       "      <td>1.46</td>\n",
       "      <td>5.79</td>\n",
       "      <td>12.84</td>\n",
       "      <td>22.40</td>\n",
       "      <td>34.26</td>\n",
       "      <td>48.15</td>\n",
       "      <td>63.82</td>\n",
       "      <td>81.02</td>\n",
       "      <td>99.51</td>\n",
       "      <td>119.10</td>\n",
       "      <td>139.58</td>\n",
       "      <td>160.80</td>\n",
       "      <td>182.62</td>\n",
       "      <td>204.93</td>\n",
       "      <td>227.63</td>\n",
       "      <td>250.65</td>\n",
       "      <td>273.92</td>\n",
       "      <td>297.39</td>\n",
       "      <td>321.03</td>\n",
       "      <td>344.79</td>\n",
       "      <td>368.66</td>\n",
       "      <td>392.60</td>\n",
       "      <td>416.62</td>\n",
       "      <td>440.68</td>\n",
       "      <td>464.79</td>\n",
       "      <td>488.93</td>\n",
       "      <td>513.10</td>\n",
       "      <td>537.29</td>\n",
       "      <td>561.49</td>\n",
       "      <td>585.71</td>\n",
       "      <td>277.75</td>\n",
       "    </tr>\n",
       "  </tbody>\n",
       "</table>\n",
       "</div>"
      ],
      "text/plain": [
       "                 option_type   time_to_maturity     F   r        K    T   K/F  \\\n",
       "symbol                                                                          \n",
       "20T_3500.0K_put          put                 20  5000   0 3,500.00 0.08 -0.30   \n",
       "20T_4500.0K_put          put                 20  5000   0 4,500.00 0.08 -0.10   \n",
       "20T_5000K_call          call                 20  5000   0 5,000.00 0.08  0.00   \n",
       "\n",
       "                  IV   price   delta   gamma   vega   theta   vanna    volga  \\\n",
       "symbol                                                                         \n",
       "20T_3500.0K_put 0.36    0.03   -0.00    0.00   0.01   -0.01   -0.01    35.62   \n",
       "20T_4500.0K_put 0.27   13.69   -0.08    0.00   2.05   -1.38   -0.73 1,460.21   \n",
       "20T_5000K_call  0.25  143.13    0.51    0.00   5.64   -3.58    0.06    -2.86   \n",
       "\n",
       "                 -0.30  -0.29  -0.28  -0.27  -0.26  -0.25  -0.24  -0.23  \\\n",
       "symbol                                                                    \n",
       "20T_3500.0K_put  99.87  77.68  59.49  44.95  33.57  24.83  18.24  13.32   \n",
       "20T_4500.0K_put 870.45 824.45 778.49 732.61 686.83 641.20 595.76 550.60   \n",
       "20T_5000K_call  628.36 602.66 576.96 551.26 525.57 499.89 474.22 448.58   \n",
       "\n",
       "                 -0.22  -0.21  -0.20  -0.19  -0.18  -0.17  -0.16  -0.15  \\\n",
       "symbol                                                                    \n",
       "20T_3500.0K_put   9.69   7.03   5.09   3.68   2.66   1.92   1.38   0.99   \n",
       "20T_4500.0K_put 505.80 461.50 417.86 375.07 333.39 293.09 254.49 217.93   \n",
       "20T_5000K_call  422.95 397.37 371.83 346.36 320.98 295.71 270.61 245.72   \n",
       "\n",
       "                 -0.14  -0.13  -0.12  -0.11  -0.10  -0.09  -0.08  -0.07  \\\n",
       "symbol                                                                    \n",
       "20T_3500.0K_put   0.71   0.50   0.35   0.24   0.16   0.11   0.07   0.04   \n",
       "20T_4500.0K_put 183.76 152.29 123.80  98.47  76.42  57.63  42.01  29.36   \n",
       "20T_5000K_call  221.12 196.90 173.15 150.04 127.71 106.38  86.26  67.62   \n",
       "\n",
       "                 -0.06  -0.05  -0.04  -0.03  -0.02  -0.01  0.00  0.01  0.02  \\\n",
       "symbol                                                                        \n",
       "20T_3500.0K_put   0.02   0.01  -0.00  -0.00  -0.01  -0.00  0.00  0.00  0.01   \n",
       "20T_4500.0K_put  19.43  11.92   6.51   2.90   0.78  -0.11  0.00  0.91  2.47   \n",
       "20T_5000K_call   50.72  35.84  23.26  13.21   5.91   1.48  0.00  1.46  5.79   \n",
       "\n",
       "                 0.03  0.04  0.05  0.06  0.07  0.08  0.09   0.10   0.11  \\\n",
       "symbol                                                                    \n",
       "20T_3500.0K_put  0.02  0.02  0.03  0.04  0.05  0.06  0.07   0.08   0.09   \n",
       "20T_4500.0K_put  4.53  6.98  9.75 12.76 15.95 19.30 22.76  26.30  29.92   \n",
       "20T_5000K_call  12.84 22.40 34.26 48.15 63.82 81.02 99.51 119.10 139.58   \n",
       "\n",
       "                  0.12   0.13   0.14   0.15   0.16   0.17   0.18   0.19  \\\n",
       "symbol                                                                    \n",
       "20T_3500.0K_put   0.09   0.10   0.11   0.12   0.13   0.14   0.15   0.16   \n",
       "20T_4500.0K_put  33.59  37.30  41.04  44.81  48.61  52.41  56.23  60.06   \n",
       "20T_5000K_call  160.80 182.62 204.93 227.63 250.65 273.92 297.39 321.03   \n",
       "\n",
       "                  0.20   0.21   0.22   0.23   0.24   0.25   0.26   0.27  \\\n",
       "symbol                                                                    \n",
       "20T_3500.0K_put   0.17   0.18   0.19   0.20   0.21   0.22   0.23   0.24   \n",
       "20T_4500.0K_put  63.90  67.74  71.59  75.45  79.30  83.16  87.03  90.89   \n",
       "20T_5000K_call  344.79 368.66 392.60 416.62 440.68 464.79 488.93 513.10   \n",
       "\n",
       "                  0.28   0.29   0.30   gamma_cash  \n",
       "symbol                                             \n",
       "20T_3500.0K_put   0.25   0.26   0.27         0.36  \n",
       "20T_4500.0K_put  94.75  98.62 102.49        95.29  \n",
       "20T_5000K_call  537.29 561.49 585.71       277.75  "
      ]
     },
     "execution_count": 169,
     "metadata": {},
     "output_type": "execute_result"
    }
   ],
   "source": [
    "market_data_df"
   ]
  },
  {
   "cell_type": "code",
   "execution_count": 161,
   "metadata": {},
   "outputs": [
    {
     "data": {
      "text/html": [
       "<div>\n",
       "<style scoped>\n",
       "    .dataframe tbody tr th:only-of-type {\n",
       "        vertical-align: middle;\n",
       "    }\n",
       "\n",
       "    .dataframe tbody tr th {\n",
       "        vertical-align: top;\n",
       "    }\n",
       "\n",
       "    .dataframe thead th {\n",
       "        text-align: right;\n",
       "    }\n",
       "</style>\n",
       "<table border=\"1\" class=\"dataframe\">\n",
       "  <thead>\n",
       "    <tr style=\"text-align: right;\">\n",
       "      <th>symbol</th>\n",
       "      <th>20T_3500.0K_put</th>\n",
       "      <th>20T_4500.0K_put</th>\n",
       "      <th>20T_5000K_call</th>\n",
       "    </tr>\n",
       "  </thead>\n",
       "  <tbody>\n",
       "    <tr>\n",
       "      <th>gamma_cash</th>\n",
       "      <td>0.36</td>\n",
       "      <td>95.29</td>\n",
       "      <td>277.75</td>\n",
       "    </tr>\n",
       "    <tr>\n",
       "      <th>theta</th>\n",
       "      <td>-0.01</td>\n",
       "      <td>-1.38</td>\n",
       "      <td>-3.58</td>\n",
       "    </tr>\n",
       "    <tr>\n",
       "      <th>-0.30</th>\n",
       "      <td>99.87</td>\n",
       "      <td>870.45</td>\n",
       "      <td>628.36</td>\n",
       "    </tr>\n",
       "  </tbody>\n",
       "</table>\n",
       "</div>"
      ],
      "text/plain": [
       "symbol       20T_3500.0K_put  20T_4500.0K_put  20T_5000K_call\n",
       " gamma_cash             0.36            95.29          277.75\n",
       " theta                 -0.01            -1.38           -3.58\n",
       "-0.30                  99.87           870.45          628.36"
      ]
     },
     "execution_count": 161,
     "metadata": {},
     "output_type": "execute_result"
    }
   ],
   "source": [
    "market_data_df[['gamma_cash', 'theta', -0.3]].transpose()"
   ]
  },
  {
   "cell_type": "code",
   "execution_count": 163,
   "metadata": {},
   "outputs": [
    {
     "name": "stdout",
     "output_type": "stream",
     "text": [
      "symbol\n",
      "20T_3500.0K_put   -0.17\n",
      "20T_4500.0K_put    0.03\n",
      "20T_5000K_call     0.99\n",
      "dtype: float64\n"
     ]
    }
   ],
   "source": [
    "w = np.linalg.solve(X, b)\n",
    "weights = pd.Series(w, index=market_data_df.index)\n",
    "print(weights)"
   ]
  },
  {
   "cell_type": "code",
   "execution_count": 165,
   "metadata": {},
   "outputs": [
    {
     "data": {
      "text/html": [
       "<div>\n",
       "<style scoped>\n",
       "    .dataframe tbody tr th:only-of-type {\n",
       "        vertical-align: middle;\n",
       "    }\n",
       "\n",
       "    .dataframe tbody tr th {\n",
       "        vertical-align: top;\n",
       "    }\n",
       "\n",
       "    .dataframe thead th {\n",
       "        text-align: right;\n",
       "    }\n",
       "</style>\n",
       "<table border=\"1\" class=\"dataframe\">\n",
       "  <thead>\n",
       "    <tr style=\"text-align: right;\">\n",
       "      <th></th>\n",
       "      <th>gamma_cash</th>\n",
       "      <th>theta</th>\n",
       "      <th>-0.30</th>\n",
       "    </tr>\n",
       "    <tr>\n",
       "      <th>symbol</th>\n",
       "      <th></th>\n",
       "      <th></th>\n",
       "      <th></th>\n",
       "    </tr>\n",
       "  </thead>\n",
       "  <tbody>\n",
       "    <tr>\n",
       "      <th>20T_3500.0K_put</th>\n",
       "      <td>-0.06</td>\n",
       "      <td>0.00</td>\n",
       "      <td>-17.45</td>\n",
       "    </tr>\n",
       "    <tr>\n",
       "      <th>20T_4500.0K_put</th>\n",
       "      <td>2.52</td>\n",
       "      <td>-0.04</td>\n",
       "      <td>22.99</td>\n",
       "    </tr>\n",
       "    <tr>\n",
       "      <th>20T_5000K_call</th>\n",
       "      <td>275.30</td>\n",
       "      <td>-3.55</td>\n",
       "      <td>622.82</td>\n",
       "    </tr>\n",
       "  </tbody>\n",
       "</table>\n",
       "</div>"
      ],
      "text/plain": [
       "                  gamma_cash   theta  -0.30\n",
       "symbol                                     \n",
       "20T_3500.0K_put        -0.06    0.00 -17.45\n",
       "20T_4500.0K_put         2.52   -0.04  22.99\n",
       "20T_5000K_call        275.30   -3.55 622.82"
      ]
     },
     "execution_count": 165,
     "metadata": {},
     "output_type": "execute_result"
    }
   ],
   "source": [
    "market_data_df[['gamma_cash', 'theta', -0.3]].multiply(weights, axis=0)"
   ]
  },
  {
   "cell_type": "code",
   "execution_count": 167,
   "metadata": {},
   "outputs": [
    {
     "data": {
      "text/plain": [
       " gamma_cash   277.75\n",
       " theta         -3.58\n",
       "-0.30         628.36\n",
       "dtype: float64"
      ]
     },
     "execution_count": 167,
     "metadata": {},
     "output_type": "execute_result"
    }
   ],
   "source": [
    "market_data_df[['gamma_cash', 'theta', -0.3]].multiply(weights, axis=0).sum()"
   ]
  },
  {
   "cell_type": "code",
   "execution_count": 21,
   "metadata": {},
   "outputs": [],
   "source": [
    "# ATM Scenarios\n",
    "atm_market_data = market_data_df.loc[market_data_df['F']==market_data_df['K']]\n",
    "atm_qty = -50000 / atm_market_data['theta']\n",
    "atm_scenario = atm_market_data.loc[:, ['theta'] + slide_to_compute]\n",
    "atm_scenario = atm_scenario.drop(0, axis=1)\n",
    "atm_scenario.rename(columns={'theta': 0}, inplace=True)\n",
    "atm_scenario = atm_scenario.sort_index(axis=1)\n",
    "atm_scenario = atm_scenario.multiply(atm_qty, axis=0)\n",
    "atm_scenario = atm_scenario.iloc[0].transpose()\n",
    "target_hedge_portfolio_scenario = atm_scenario*-1"
   ]
  },
  {
   "cell_type": "code",
   "execution_count": 23,
   "metadata": {},
   "outputs": [],
   "source": [
    "# OTM Scenarios\n",
    "otm_market_data = market_data_df.loc[market_data_df['F']!=market_data_df['K']]\n",
    "otm_scenario = otm_market_data.loc[:, ['theta'] + slide_to_compute]\n",
    "otm_scenario = otm_scenario.drop(0, axis=1)\n",
    "otm_scenario.rename(columns={'theta': 0}, inplace=True)\n",
    "otm_scenario = otm_scenario.sort_index(axis=1)\n",
    "otm_scenario = otm_scenario.transpose()"
   ]
  },
  {
   "cell_type": "code",
   "execution_count": 25,
   "metadata": {},
   "outputs": [
    {
     "name": "stdout",
     "output_type": "stream",
     "text": [
      "symbol\n",
      "20T_3500.0K_put    -86,489.79\n",
      "20T_6500.0K_call   -44,813.79\n",
      "dtype: float64\n"
     ]
    }
   ],
   "source": [
    "X = otm_scenario.loc[flat_scenarios].values\n",
    "b = target_hedge_portfolio_scenario.loc[flat_scenarios].values\n",
    "w = np.linalg.solve(X, b)\n",
    "weights = pd.Series(w, index=otm_market_data.index)\n",
    "print(weights)"
   ]
  },
  {
   "cell_type": "code",
   "execution_count": 27,
   "metadata": {},
   "outputs": [
    {
     "data": {
      "text/html": [
       "<div>\n",
       "<style scoped>\n",
       "    .dataframe tbody tr th:only-of-type {\n",
       "        vertical-align: middle;\n",
       "    }\n",
       "\n",
       "    .dataframe tbody tr th {\n",
       "        vertical-align: top;\n",
       "    }\n",
       "\n",
       "    .dataframe thead th {\n",
       "        text-align: right;\n",
       "    }\n",
       "</style>\n",
       "<table border=\"1\" class=\"dataframe\">\n",
       "  <thead>\n",
       "    <tr style=\"text-align: right;\">\n",
       "      <th>symbol</th>\n",
       "      <th>20T_3500.0K_put</th>\n",
       "      <th>20T_6500.0K_call</th>\n",
       "    </tr>\n",
       "  </thead>\n",
       "  <tbody>\n",
       "    <tr>\n",
       "      <th>-0.30</th>\n",
       "      <td>99.87</td>\n",
       "      <td>3.26</td>\n",
       "    </tr>\n",
       "    <tr>\n",
       "      <th>-0.29</th>\n",
       "      <td>77.68</td>\n",
       "      <td>3.14</td>\n",
       "    </tr>\n",
       "    <tr>\n",
       "      <th>-0.28</th>\n",
       "      <td>59.49</td>\n",
       "      <td>3.02</td>\n",
       "    </tr>\n",
       "    <tr>\n",
       "      <th>-0.27</th>\n",
       "      <td>44.95</td>\n",
       "      <td>2.90</td>\n",
       "    </tr>\n",
       "    <tr>\n",
       "      <th>-0.26</th>\n",
       "      <td>33.57</td>\n",
       "      <td>2.78</td>\n",
       "    </tr>\n",
       "    <tr>\n",
       "      <th>-0.25</th>\n",
       "      <td>24.83</td>\n",
       "      <td>2.66</td>\n",
       "    </tr>\n",
       "    <tr>\n",
       "      <th>-0.24</th>\n",
       "      <td>18.24</td>\n",
       "      <td>2.54</td>\n",
       "    </tr>\n",
       "    <tr>\n",
       "      <th>-0.23</th>\n",
       "      <td>13.32</td>\n",
       "      <td>2.42</td>\n",
       "    </tr>\n",
       "    <tr>\n",
       "      <th>-0.22</th>\n",
       "      <td>9.69</td>\n",
       "      <td>2.31</td>\n",
       "    </tr>\n",
       "    <tr>\n",
       "      <th>-0.21</th>\n",
       "      <td>7.03</td>\n",
       "      <td>2.19</td>\n",
       "    </tr>\n",
       "    <tr>\n",
       "      <th>-0.20</th>\n",
       "      <td>5.09</td>\n",
       "      <td>2.07</td>\n",
       "    </tr>\n",
       "    <tr>\n",
       "      <th>-0.19</th>\n",
       "      <td>3.68</td>\n",
       "      <td>1.95</td>\n",
       "    </tr>\n",
       "    <tr>\n",
       "      <th>-0.18</th>\n",
       "      <td>2.66</td>\n",
       "      <td>1.83</td>\n",
       "    </tr>\n",
       "    <tr>\n",
       "      <th>-0.17</th>\n",
       "      <td>1.92</td>\n",
       "      <td>1.71</td>\n",
       "    </tr>\n",
       "    <tr>\n",
       "      <th>-0.16</th>\n",
       "      <td>1.38</td>\n",
       "      <td>1.60</td>\n",
       "    </tr>\n",
       "    <tr>\n",
       "      <th>-0.15</th>\n",
       "      <td>0.99</td>\n",
       "      <td>1.48</td>\n",
       "    </tr>\n",
       "    <tr>\n",
       "      <th>-0.14</th>\n",
       "      <td>0.71</td>\n",
       "      <td>1.36</td>\n",
       "    </tr>\n",
       "    <tr>\n",
       "      <th>-0.13</th>\n",
       "      <td>0.50</td>\n",
       "      <td>1.25</td>\n",
       "    </tr>\n",
       "    <tr>\n",
       "      <th>-0.12</th>\n",
       "      <td>0.35</td>\n",
       "      <td>1.13</td>\n",
       "    </tr>\n",
       "    <tr>\n",
       "      <th>-0.11</th>\n",
       "      <td>0.24</td>\n",
       "      <td>1.02</td>\n",
       "    </tr>\n",
       "    <tr>\n",
       "      <th>-0.10</th>\n",
       "      <td>0.16</td>\n",
       "      <td>0.90</td>\n",
       "    </tr>\n",
       "    <tr>\n",
       "      <th>-0.09</th>\n",
       "      <td>0.11</td>\n",
       "      <td>0.79</td>\n",
       "    </tr>\n",
       "    <tr>\n",
       "      <th>-0.08</th>\n",
       "      <td>0.07</td>\n",
       "      <td>0.68</td>\n",
       "    </tr>\n",
       "    <tr>\n",
       "      <th>-0.07</th>\n",
       "      <td>0.04</td>\n",
       "      <td>0.57</td>\n",
       "    </tr>\n",
       "    <tr>\n",
       "      <th>-0.06</th>\n",
       "      <td>0.02</td>\n",
       "      <td>0.47</td>\n",
       "    </tr>\n",
       "    <tr>\n",
       "      <th>-0.05</th>\n",
       "      <td>0.01</td>\n",
       "      <td>0.37</td>\n",
       "    </tr>\n",
       "    <tr>\n",
       "      <th>-0.04</th>\n",
       "      <td>-0.00</td>\n",
       "      <td>0.28</td>\n",
       "    </tr>\n",
       "    <tr>\n",
       "      <th>-0.03</th>\n",
       "      <td>-0.00</td>\n",
       "      <td>0.19</td>\n",
       "    </tr>\n",
       "    <tr>\n",
       "      <th>-0.02</th>\n",
       "      <td>-0.01</td>\n",
       "      <td>0.11</td>\n",
       "    </tr>\n",
       "    <tr>\n",
       "      <th>-0.01</th>\n",
       "      <td>-0.00</td>\n",
       "      <td>0.05</td>\n",
       "    </tr>\n",
       "    <tr>\n",
       "      <th>0.00</th>\n",
       "      <td>-0.01</td>\n",
       "      <td>-0.08</td>\n",
       "    </tr>\n",
       "    <tr>\n",
       "      <th>0.01</th>\n",
       "      <td>0.00</td>\n",
       "      <td>-0.03</td>\n",
       "    </tr>\n",
       "    <tr>\n",
       "      <th>0.02</th>\n",
       "      <td>0.01</td>\n",
       "      <td>-0.04</td>\n",
       "    </tr>\n",
       "    <tr>\n",
       "      <th>0.03</th>\n",
       "      <td>0.02</td>\n",
       "      <td>-0.01</td>\n",
       "    </tr>\n",
       "    <tr>\n",
       "      <th>0.04</th>\n",
       "      <td>0.02</td>\n",
       "      <td>0.05</td>\n",
       "    </tr>\n",
       "    <tr>\n",
       "      <th>0.05</th>\n",
       "      <td>0.03</td>\n",
       "      <td>0.17</td>\n",
       "    </tr>\n",
       "    <tr>\n",
       "      <th>0.06</th>\n",
       "      <td>0.04</td>\n",
       "      <td>0.35</td>\n",
       "    </tr>\n",
       "    <tr>\n",
       "      <th>0.07</th>\n",
       "      <td>0.05</td>\n",
       "      <td>0.61</td>\n",
       "    </tr>\n",
       "    <tr>\n",
       "      <th>0.08</th>\n",
       "      <td>0.06</td>\n",
       "      <td>0.97</td>\n",
       "    </tr>\n",
       "    <tr>\n",
       "      <th>0.09</th>\n",
       "      <td>0.07</td>\n",
       "      <td>1.46</td>\n",
       "    </tr>\n",
       "    <tr>\n",
       "      <th>0.10</th>\n",
       "      <td>0.08</td>\n",
       "      <td>2.10</td>\n",
       "    </tr>\n",
       "    <tr>\n",
       "      <th>0.11</th>\n",
       "      <td>0.09</td>\n",
       "      <td>2.94</td>\n",
       "    </tr>\n",
       "    <tr>\n",
       "      <th>0.12</th>\n",
       "      <td>0.09</td>\n",
       "      <td>4.03</td>\n",
       "    </tr>\n",
       "    <tr>\n",
       "      <th>0.13</th>\n",
       "      <td>0.10</td>\n",
       "      <td>5.41</td>\n",
       "    </tr>\n",
       "    <tr>\n",
       "      <th>0.14</th>\n",
       "      <td>0.11</td>\n",
       "      <td>7.16</td>\n",
       "    </tr>\n",
       "    <tr>\n",
       "      <th>0.15</th>\n",
       "      <td>0.12</td>\n",
       "      <td>9.35</td>\n",
       "    </tr>\n",
       "    <tr>\n",
       "      <th>0.16</th>\n",
       "      <td>0.13</td>\n",
       "      <td>12.08</td>\n",
       "    </tr>\n",
       "    <tr>\n",
       "      <th>0.17</th>\n",
       "      <td>0.14</td>\n",
       "      <td>15.46</td>\n",
       "    </tr>\n",
       "    <tr>\n",
       "      <th>0.18</th>\n",
       "      <td>0.15</td>\n",
       "      <td>19.59</td>\n",
       "    </tr>\n",
       "    <tr>\n",
       "      <th>0.19</th>\n",
       "      <td>0.16</td>\n",
       "      <td>24.61</td>\n",
       "    </tr>\n",
       "    <tr>\n",
       "      <th>0.20</th>\n",
       "      <td>0.17</td>\n",
       "      <td>30.68</td>\n",
       "    </tr>\n",
       "    <tr>\n",
       "      <th>0.21</th>\n",
       "      <td>0.18</td>\n",
       "      <td>37.94</td>\n",
       "    </tr>\n",
       "    <tr>\n",
       "      <th>0.22</th>\n",
       "      <td>0.19</td>\n",
       "      <td>46.56</td>\n",
       "    </tr>\n",
       "    <tr>\n",
       "      <th>0.23</th>\n",
       "      <td>0.20</td>\n",
       "      <td>56.71</td>\n",
       "    </tr>\n",
       "    <tr>\n",
       "      <th>0.24</th>\n",
       "      <td>0.21</td>\n",
       "      <td>68.54</td>\n",
       "    </tr>\n",
       "    <tr>\n",
       "      <th>0.25</th>\n",
       "      <td>0.22</td>\n",
       "      <td>82.21</td>\n",
       "    </tr>\n",
       "    <tr>\n",
       "      <th>0.26</th>\n",
       "      <td>0.23</td>\n",
       "      <td>97.86</td>\n",
       "    </tr>\n",
       "    <tr>\n",
       "      <th>0.27</th>\n",
       "      <td>0.24</td>\n",
       "      <td>115.61</td>\n",
       "    </tr>\n",
       "    <tr>\n",
       "      <th>0.28</th>\n",
       "      <td>0.25</td>\n",
       "      <td>135.54</td>\n",
       "    </tr>\n",
       "    <tr>\n",
       "      <th>0.29</th>\n",
       "      <td>0.26</td>\n",
       "      <td>157.73</td>\n",
       "    </tr>\n",
       "    <tr>\n",
       "      <th>0.30</th>\n",
       "      <td>0.27</td>\n",
       "      <td>182.19</td>\n",
       "    </tr>\n",
       "  </tbody>\n",
       "</table>\n",
       "</div>"
      ],
      "text/plain": [
       "symbol  20T_3500.0K_put  20T_6500.0K_call\n",
       "-0.30             99.87              3.26\n",
       "-0.29             77.68              3.14\n",
       "-0.28             59.49              3.02\n",
       "-0.27             44.95              2.90\n",
       "-0.26             33.57              2.78\n",
       "-0.25             24.83              2.66\n",
       "-0.24             18.24              2.54\n",
       "-0.23             13.32              2.42\n",
       "-0.22              9.69              2.31\n",
       "-0.21              7.03              2.19\n",
       "-0.20              5.09              2.07\n",
       "-0.19              3.68              1.95\n",
       "-0.18              2.66              1.83\n",
       "-0.17              1.92              1.71\n",
       "-0.16              1.38              1.60\n",
       "-0.15              0.99              1.48\n",
       "-0.14              0.71              1.36\n",
       "-0.13              0.50              1.25\n",
       "-0.12              0.35              1.13\n",
       "-0.11              0.24              1.02\n",
       "-0.10              0.16              0.90\n",
       "-0.09              0.11              0.79\n",
       "-0.08              0.07              0.68\n",
       "-0.07              0.04              0.57\n",
       "-0.06              0.02              0.47\n",
       "-0.05              0.01              0.37\n",
       "-0.04             -0.00              0.28\n",
       "-0.03             -0.00              0.19\n",
       "-0.02             -0.01              0.11\n",
       "-0.01             -0.00              0.05\n",
       "0.00              -0.01             -0.08\n",
       "0.01               0.00             -0.03\n",
       "0.02               0.01             -0.04\n",
       "0.03               0.02             -0.01\n",
       "0.04               0.02              0.05\n",
       "0.05               0.03              0.17\n",
       "0.06               0.04              0.35\n",
       "0.07               0.05              0.61\n",
       "0.08               0.06              0.97\n",
       "0.09               0.07              1.46\n",
       "0.10               0.08              2.10\n",
       "0.11               0.09              2.94\n",
       "0.12               0.09              4.03\n",
       "0.13               0.10              5.41\n",
       "0.14               0.11              7.16\n",
       "0.15               0.12              9.35\n",
       "0.16               0.13             12.08\n",
       "0.17               0.14             15.46\n",
       "0.18               0.15             19.59\n",
       "0.19               0.16             24.61\n",
       "0.20               0.17             30.68\n",
       "0.21               0.18             37.94\n",
       "0.22               0.19             46.56\n",
       "0.23               0.20             56.71\n",
       "0.24               0.21             68.54\n",
       "0.25               0.22             82.21\n",
       "0.26               0.23             97.86\n",
       "0.27               0.24            115.61\n",
       "0.28               0.25            135.54\n",
       "0.29               0.26            157.73\n",
       "0.30               0.27            182.19"
      ]
     },
     "execution_count": 27,
     "metadata": {},
     "output_type": "execute_result"
    }
   ],
   "source": [
    "otm_scenario"
   ]
  },
  {
   "cell_type": "code",
   "execution_count": 167,
   "metadata": {},
   "outputs": [],
   "source": [
    "total_scenario = atm_scenario + (otm_scenario * weights).sum(axis=1)"
   ]
  },
  {
   "cell_type": "code",
   "execution_count": 168,
   "metadata": {},
   "outputs": [
    {
     "data": {
      "application/vnd.plotly.v1+json": {
       "config": {
        "plotlyServerURL": "https://plot.ly"
       },
       "data": [
        {
         "hovertemplate": "variable=0<br>index=%{x}<br>value=%{y}<extra></extra>",
         "legendgroup": "0",
         "line": {
          "color": "#636efa",
          "dash": "solid"
         },
         "marker": {
          "symbol": "circle"
         },
         "mode": "lines",
         "name": "0",
         "orientation": "v",
         "showlegend": true,
         "type": "scatter",
         "x": [
          -0.3,
          -0.29,
          -0.28,
          -0.27,
          -0.26,
          -0.25,
          -0.24,
          -0.23,
          -0.22,
          -0.21,
          -0.2,
          -0.19,
          -0.18,
          -0.17,
          -0.16,
          -0.15,
          -0.14,
          -0.13,
          -0.12,
          -0.11,
          -0.1,
          -0.09,
          -0.08,
          -0.07,
          -0.06,
          -0.05,
          -0.04,
          -0.03,
          -0.02,
          -0.01,
          0,
          0.01,
          0.02,
          0.03,
          0.04,
          0.05,
          0.06,
          0.07,
          0.08,
          0.09,
          0.1,
          0.11,
          0.12,
          0.13,
          0.14,
          0.15,
          0.16,
          0.17,
          0.18,
          0.19,
          0.2,
          0.21,
          0.22,
          0.23,
          0.24,
          0.25,
          0.26,
          0.27,
          0.28,
          0.29,
          0.3
         ],
         "xaxis": "x",
         "y": [
          0,
          1724998.8952522594,
          3068394.6810879735,
          4064865.6833980237,
          4759695.0304685645,
          5202440.758860147,
          5441606.654419129,
          5521039.9968609605,
          5478100.386206613,
          5343228.830253416,
          5140416.418913507,
          4888127.832950465,
          4600364.858761911,
          4287685.145536702,
          3958089.7786737327,
          3617755.157778268,
          3271617.3824831434,
          2923830.5542352796,
          2578122.1644083397,
          2238064.585220817,
          1907275.0395722091,
          1589549.4226910248,
          1288929.4874612903,
          1009699.4849073698,
          756308.5359237758,
          533219.5612806438,
          344694.36228418915,
          194535.86430469097,
          85819.55051018619,
          20652.816042077724,
          -50000,
          23600.988750687124,
          89994.39144053987,
          196636.86782955946,
          340093.636748517,
          516265.64598479687,
          720617.7800540918,
          948378.4844494632,
          1194691.2503571177,
          1454709.2398807928,
          1723633.503487671,
          1996701.5982686183,
          2269136.933221596,
          2536070.501244679,
          2792446.6836310374,
          3032924.307918563,
          3251783.6193633,
          3442849.505734123,
          3599441.1405075104,
          3714357.9184562787,
          3779910.756410957,
          3788006.0879583945,
          3730286.8333008755,
          3598330.1110481354,
          3383895.6316098827,
          3079212.122464896,
          2677282.7220580657,
          2172185.237515988,
          1559340.6937300116,
          835724.5909900335,
          1.0263005107575192e-09
         ],
         "yaxis": "y"
        }
       ],
       "layout": {
        "autosize": true,
        "legend": {
         "title": {
          "text": "variable"
         },
         "tracegroupgap": 0
        },
        "margin": {
         "t": 60
        },
        "template": {
         "data": {
          "bar": [
           {
            "error_x": {
             "color": "#2a3f5f"
            },
            "error_y": {
             "color": "#2a3f5f"
            },
            "marker": {
             "line": {
              "color": "#E5ECF6",
              "width": 0.5
             },
             "pattern": {
              "fillmode": "overlay",
              "size": 10,
              "solidity": 0.2
             }
            },
            "type": "bar"
           }
          ],
          "barpolar": [
           {
            "marker": {
             "line": {
              "color": "#E5ECF6",
              "width": 0.5
             },
             "pattern": {
              "fillmode": "overlay",
              "size": 10,
              "solidity": 0.2
             }
            },
            "type": "barpolar"
           }
          ],
          "carpet": [
           {
            "aaxis": {
             "endlinecolor": "#2a3f5f",
             "gridcolor": "white",
             "linecolor": "white",
             "minorgridcolor": "white",
             "startlinecolor": "#2a3f5f"
            },
            "baxis": {
             "endlinecolor": "#2a3f5f",
             "gridcolor": "white",
             "linecolor": "white",
             "minorgridcolor": "white",
             "startlinecolor": "#2a3f5f"
            },
            "type": "carpet"
           }
          ],
          "choropleth": [
           {
            "colorbar": {
             "outlinewidth": 0,
             "ticks": ""
            },
            "type": "choropleth"
           }
          ],
          "contour": [
           {
            "colorbar": {
             "outlinewidth": 0,
             "ticks": ""
            },
            "colorscale": [
             [
              0,
              "#0d0887"
             ],
             [
              0.1111111111111111,
              "#46039f"
             ],
             [
              0.2222222222222222,
              "#7201a8"
             ],
             [
              0.3333333333333333,
              "#9c179e"
             ],
             [
              0.4444444444444444,
              "#bd3786"
             ],
             [
              0.5555555555555556,
              "#d8576b"
             ],
             [
              0.6666666666666666,
              "#ed7953"
             ],
             [
              0.7777777777777778,
              "#fb9f3a"
             ],
             [
              0.8888888888888888,
              "#fdca26"
             ],
             [
              1,
              "#f0f921"
             ]
            ],
            "type": "contour"
           }
          ],
          "contourcarpet": [
           {
            "colorbar": {
             "outlinewidth": 0,
             "ticks": ""
            },
            "type": "contourcarpet"
           }
          ],
          "heatmap": [
           {
            "colorbar": {
             "outlinewidth": 0,
             "ticks": ""
            },
            "colorscale": [
             [
              0,
              "#0d0887"
             ],
             [
              0.1111111111111111,
              "#46039f"
             ],
             [
              0.2222222222222222,
              "#7201a8"
             ],
             [
              0.3333333333333333,
              "#9c179e"
             ],
             [
              0.4444444444444444,
              "#bd3786"
             ],
             [
              0.5555555555555556,
              "#d8576b"
             ],
             [
              0.6666666666666666,
              "#ed7953"
             ],
             [
              0.7777777777777778,
              "#fb9f3a"
             ],
             [
              0.8888888888888888,
              "#fdca26"
             ],
             [
              1,
              "#f0f921"
             ]
            ],
            "type": "heatmap"
           }
          ],
          "heatmapgl": [
           {
            "colorbar": {
             "outlinewidth": 0,
             "ticks": ""
            },
            "colorscale": [
             [
              0,
              "#0d0887"
             ],
             [
              0.1111111111111111,
              "#46039f"
             ],
             [
              0.2222222222222222,
              "#7201a8"
             ],
             [
              0.3333333333333333,
              "#9c179e"
             ],
             [
              0.4444444444444444,
              "#bd3786"
             ],
             [
              0.5555555555555556,
              "#d8576b"
             ],
             [
              0.6666666666666666,
              "#ed7953"
             ],
             [
              0.7777777777777778,
              "#fb9f3a"
             ],
             [
              0.8888888888888888,
              "#fdca26"
             ],
             [
              1,
              "#f0f921"
             ]
            ],
            "type": "heatmapgl"
           }
          ],
          "histogram": [
           {
            "marker": {
             "pattern": {
              "fillmode": "overlay",
              "size": 10,
              "solidity": 0.2
             }
            },
            "type": "histogram"
           }
          ],
          "histogram2d": [
           {
            "colorbar": {
             "outlinewidth": 0,
             "ticks": ""
            },
            "colorscale": [
             [
              0,
              "#0d0887"
             ],
             [
              0.1111111111111111,
              "#46039f"
             ],
             [
              0.2222222222222222,
              "#7201a8"
             ],
             [
              0.3333333333333333,
              "#9c179e"
             ],
             [
              0.4444444444444444,
              "#bd3786"
             ],
             [
              0.5555555555555556,
              "#d8576b"
             ],
             [
              0.6666666666666666,
              "#ed7953"
             ],
             [
              0.7777777777777778,
              "#fb9f3a"
             ],
             [
              0.8888888888888888,
              "#fdca26"
             ],
             [
              1,
              "#f0f921"
             ]
            ],
            "type": "histogram2d"
           }
          ],
          "histogram2dcontour": [
           {
            "colorbar": {
             "outlinewidth": 0,
             "ticks": ""
            },
            "colorscale": [
             [
              0,
              "#0d0887"
             ],
             [
              0.1111111111111111,
              "#46039f"
             ],
             [
              0.2222222222222222,
              "#7201a8"
             ],
             [
              0.3333333333333333,
              "#9c179e"
             ],
             [
              0.4444444444444444,
              "#bd3786"
             ],
             [
              0.5555555555555556,
              "#d8576b"
             ],
             [
              0.6666666666666666,
              "#ed7953"
             ],
             [
              0.7777777777777778,
              "#fb9f3a"
             ],
             [
              0.8888888888888888,
              "#fdca26"
             ],
             [
              1,
              "#f0f921"
             ]
            ],
            "type": "histogram2dcontour"
           }
          ],
          "mesh3d": [
           {
            "colorbar": {
             "outlinewidth": 0,
             "ticks": ""
            },
            "type": "mesh3d"
           }
          ],
          "parcoords": [
           {
            "line": {
             "colorbar": {
              "outlinewidth": 0,
              "ticks": ""
             }
            },
            "type": "parcoords"
           }
          ],
          "pie": [
           {
            "automargin": true,
            "type": "pie"
           }
          ],
          "scatter": [
           {
            "fillpattern": {
             "fillmode": "overlay",
             "size": 10,
             "solidity": 0.2
            },
            "type": "scatter"
           }
          ],
          "scatter3d": [
           {
            "line": {
             "colorbar": {
              "outlinewidth": 0,
              "ticks": ""
             }
            },
            "marker": {
             "colorbar": {
              "outlinewidth": 0,
              "ticks": ""
             }
            },
            "type": "scatter3d"
           }
          ],
          "scattercarpet": [
           {
            "marker": {
             "colorbar": {
              "outlinewidth": 0,
              "ticks": ""
             }
            },
            "type": "scattercarpet"
           }
          ],
          "scattergeo": [
           {
            "marker": {
             "colorbar": {
              "outlinewidth": 0,
              "ticks": ""
             }
            },
            "type": "scattergeo"
           }
          ],
          "scattergl": [
           {
            "marker": {
             "colorbar": {
              "outlinewidth": 0,
              "ticks": ""
             }
            },
            "type": "scattergl"
           }
          ],
          "scattermapbox": [
           {
            "marker": {
             "colorbar": {
              "outlinewidth": 0,
              "ticks": ""
             }
            },
            "type": "scattermapbox"
           }
          ],
          "scatterpolar": [
           {
            "marker": {
             "colorbar": {
              "outlinewidth": 0,
              "ticks": ""
             }
            },
            "type": "scatterpolar"
           }
          ],
          "scatterpolargl": [
           {
            "marker": {
             "colorbar": {
              "outlinewidth": 0,
              "ticks": ""
             }
            },
            "type": "scatterpolargl"
           }
          ],
          "scatterternary": [
           {
            "marker": {
             "colorbar": {
              "outlinewidth": 0,
              "ticks": ""
             }
            },
            "type": "scatterternary"
           }
          ],
          "surface": [
           {
            "colorbar": {
             "outlinewidth": 0,
             "ticks": ""
            },
            "colorscale": [
             [
              0,
              "#0d0887"
             ],
             [
              0.1111111111111111,
              "#46039f"
             ],
             [
              0.2222222222222222,
              "#7201a8"
             ],
             [
              0.3333333333333333,
              "#9c179e"
             ],
             [
              0.4444444444444444,
              "#bd3786"
             ],
             [
              0.5555555555555556,
              "#d8576b"
             ],
             [
              0.6666666666666666,
              "#ed7953"
             ],
             [
              0.7777777777777778,
              "#fb9f3a"
             ],
             [
              0.8888888888888888,
              "#fdca26"
             ],
             [
              1,
              "#f0f921"
             ]
            ],
            "type": "surface"
           }
          ],
          "table": [
           {
            "cells": {
             "fill": {
              "color": "#EBF0F8"
             },
             "line": {
              "color": "white"
             }
            },
            "header": {
             "fill": {
              "color": "#C8D4E3"
             },
             "line": {
              "color": "white"
             }
            },
            "type": "table"
           }
          ]
         },
         "layout": {
          "annotationdefaults": {
           "arrowcolor": "#2a3f5f",
           "arrowhead": 0,
           "arrowwidth": 1
          },
          "autotypenumbers": "strict",
          "coloraxis": {
           "colorbar": {
            "outlinewidth": 0,
            "ticks": ""
           }
          },
          "colorscale": {
           "diverging": [
            [
             0,
             "#8e0152"
            ],
            [
             0.1,
             "#c51b7d"
            ],
            [
             0.2,
             "#de77ae"
            ],
            [
             0.3,
             "#f1b6da"
            ],
            [
             0.4,
             "#fde0ef"
            ],
            [
             0.5,
             "#f7f7f7"
            ],
            [
             0.6,
             "#e6f5d0"
            ],
            [
             0.7,
             "#b8e186"
            ],
            [
             0.8,
             "#7fbc41"
            ],
            [
             0.9,
             "#4d9221"
            ],
            [
             1,
             "#276419"
            ]
           ],
           "sequential": [
            [
             0,
             "#0d0887"
            ],
            [
             0.1111111111111111,
             "#46039f"
            ],
            [
             0.2222222222222222,
             "#7201a8"
            ],
            [
             0.3333333333333333,
             "#9c179e"
            ],
            [
             0.4444444444444444,
             "#bd3786"
            ],
            [
             0.5555555555555556,
             "#d8576b"
            ],
            [
             0.6666666666666666,
             "#ed7953"
            ],
            [
             0.7777777777777778,
             "#fb9f3a"
            ],
            [
             0.8888888888888888,
             "#fdca26"
            ],
            [
             1,
             "#f0f921"
            ]
           ],
           "sequentialminus": [
            [
             0,
             "#0d0887"
            ],
            [
             0.1111111111111111,
             "#46039f"
            ],
            [
             0.2222222222222222,
             "#7201a8"
            ],
            [
             0.3333333333333333,
             "#9c179e"
            ],
            [
             0.4444444444444444,
             "#bd3786"
            ],
            [
             0.5555555555555556,
             "#d8576b"
            ],
            [
             0.6666666666666666,
             "#ed7953"
            ],
            [
             0.7777777777777778,
             "#fb9f3a"
            ],
            [
             0.8888888888888888,
             "#fdca26"
            ],
            [
             1,
             "#f0f921"
            ]
           ]
          },
          "colorway": [
           "#636efa",
           "#EF553B",
           "#00cc96",
           "#ab63fa",
           "#FFA15A",
           "#19d3f3",
           "#FF6692",
           "#B6E880",
           "#FF97FF",
           "#FECB52"
          ],
          "font": {
           "color": "#2a3f5f"
          },
          "geo": {
           "bgcolor": "white",
           "lakecolor": "white",
           "landcolor": "#E5ECF6",
           "showlakes": true,
           "showland": true,
           "subunitcolor": "white"
          },
          "hoverlabel": {
           "align": "left"
          },
          "hovermode": "closest",
          "mapbox": {
           "style": "light"
          },
          "paper_bgcolor": "white",
          "plot_bgcolor": "#E5ECF6",
          "polar": {
           "angularaxis": {
            "gridcolor": "white",
            "linecolor": "white",
            "ticks": ""
           },
           "bgcolor": "#E5ECF6",
           "radialaxis": {
            "gridcolor": "white",
            "linecolor": "white",
            "ticks": ""
           }
          },
          "scene": {
           "xaxis": {
            "backgroundcolor": "#E5ECF6",
            "gridcolor": "white",
            "gridwidth": 2,
            "linecolor": "white",
            "showbackground": true,
            "ticks": "",
            "zerolinecolor": "white"
           },
           "yaxis": {
            "backgroundcolor": "#E5ECF6",
            "gridcolor": "white",
            "gridwidth": 2,
            "linecolor": "white",
            "showbackground": true,
            "ticks": "",
            "zerolinecolor": "white"
           },
           "zaxis": {
            "backgroundcolor": "#E5ECF6",
            "gridcolor": "white",
            "gridwidth": 2,
            "linecolor": "white",
            "showbackground": true,
            "ticks": "",
            "zerolinecolor": "white"
           }
          },
          "shapedefaults": {
           "line": {
            "color": "#2a3f5f"
           }
          },
          "ternary": {
           "aaxis": {
            "gridcolor": "white",
            "linecolor": "white",
            "ticks": ""
           },
           "baxis": {
            "gridcolor": "white",
            "linecolor": "white",
            "ticks": ""
           },
           "bgcolor": "#E5ECF6",
           "caxis": {
            "gridcolor": "white",
            "linecolor": "white",
            "ticks": ""
           }
          },
          "title": {
           "x": 0.05
          },
          "xaxis": {
           "automargin": true,
           "gridcolor": "white",
           "linecolor": "white",
           "ticks": "",
           "title": {
            "standoff": 15
           },
           "zerolinecolor": "white",
           "zerolinewidth": 2
          },
          "yaxis": {
           "automargin": true,
           "gridcolor": "white",
           "linecolor": "white",
           "ticks": "",
           "title": {
            "standoff": 15
           },
           "zerolinecolor": "white",
           "zerolinewidth": 2
          }
         }
        },
        "xaxis": {
         "anchor": "y",
         "autorange": true,
         "domain": [
          0,
          1
         ],
         "range": [
          -0.3,
          0.3
         ],
         "title": {
          "text": "index"
         },
         "type": "linear"
        },
        "yaxis": {
         "anchor": "x",
         "autorange": true,
         "domain": [
          0,
          1
         ],
         "range": [
          -359502.2220478311,
          5830542.218908791
         ],
         "title": {
          "text": "value"
         },
         "type": "linear"
        }
       }
      },
      "image/png": "[encoded data removed]"
     },
     "metadata": {},
     "output_type": "display_data"
    }
   ],
   "source": [
    "px.line(total_scenario*(-50000/total_scenario.loc[0]))"
   ]
  },
  {
   "cell_type": "code",
   "execution_count": 169,
   "metadata": {},
   "outputs": [
    {
     "data": {
      "application/vnd.plotly.v1+json": {
       "config": {
        "plotlyServerURL": "https://plot.ly"
       },
       "data": [
        {
         "hovertemplate": "variable=20T_5000K_call<br>index=%{x}<br>value=%{y}<extra></extra>",
         "legendgroup": "20T_5000K_call",
         "line": {
          "color": "#636efa",
          "dash": "solid"
         },
         "marker": {
          "symbol": "circle"
         },
         "mode": "lines",
         "name": "20T_5000K_call",
         "orientation": "v",
         "showlegend": true,
         "type": "scatter",
         "x": [
          -0.3,
          -0.29,
          -0.28,
          -0.27,
          -0.26,
          -0.25,
          -0.24,
          -0.23,
          -0.22,
          -0.21,
          -0.2,
          -0.19,
          -0.18,
          -0.17,
          -0.16,
          -0.15,
          -0.14,
          -0.13,
          -0.12,
          -0.11,
          -0.1,
          -0.09,
          -0.08,
          -0.07,
          -0.06,
          -0.05,
          -0.04,
          -0.03,
          -0.02,
          -0.01,
          0,
          0.01,
          0.02,
          0.03,
          0.04,
          0.05,
          0.06,
          0.07,
          0.08,
          0.09,
          0.1,
          0.11,
          0.12,
          0.13,
          0.14,
          0.15,
          0.16,
          0.17,
          0.18,
          0.19,
          0.2,
          0.21,
          0.22,
          0.23,
          0.24,
          0.25,
          0.26,
          0.27,
          0.28,
          0.29,
          0.3
         ],
         "xaxis": "x",
         "y": [
          8783935.635921232,
          8424592.019072216,
          8065301.203925378,
          7706083.3323538285,
          7346966.146854009,
          6987987.799159761,
          6629200.655682643,
          6270676.426494267,
          5912513.034293829,
          5554843.743054417,
          5197849.177099046,
          4841772.967700024,
          4486941.842936062,
          4133790.989578299,
          3782895.405871182,
          3435007.6515769274,
          3091101.786592713,
          2752422.2634835825,
          2420535.014214275,
          2097375.9304946787,
          1785289.5104524975,
          1487047.995685135,
          1205839.5148735296,
          945213.5267683596,
          708974.2660134877,
          501018.7169435432,
          325124.84636999713,
          184707.10611802476,
          82566.88174312876,
          20672.138612578965,
          -50000,
          20467.318931999453,
          80959.19245731649,
          179447.91524224085,
          313179.98640874244,
          478900.22534894035,
          673081.1217614197,
          892131.0204529511,
          1132563.8456443297,
          1391122.7929763794,
          1664858.522740458,
          1951167.7990418295,
          2247801.1814549062,
          2552848.8549819607,
          2864712.7633813396,
          3182071.6095469785,
          3503843.531201936,
          3829149.6660257215,
          4157280.5313590947,
          4487666.1893807845,
          4819850.515700496,
          5153469.478139213,
          5488233.099885035,
          5823910.671643942,
          6160318.746954341,
          6497311.4713737955,
          6834772.837681841,
          7172610.511235983,
          7510750.923449629,
          7849135.382143265,
          8187716.992864845
         ],
         "yaxis": "y"
        }
       ],
       "layout": {
        "autosize": true,
        "legend": {
         "title": {
          "text": "variable"
         },
         "tracegroupgap": 0
        },
        "margin": {
         "t": 60
        },
        "template": {
         "data": {
          "bar": [
           {
            "error_x": {
             "color": "#2a3f5f"
            },
            "error_y": {
             "color": "#2a3f5f"
            },
            "marker": {
             "line": {
              "color": "#E5ECF6",
              "width": 0.5
             },
             "pattern": {
              "fillmode": "overlay",
              "size": 10,
              "solidity": 0.2
             }
            },
            "type": "bar"
           }
          ],
          "barpolar": [
           {
            "marker": {
             "line": {
              "color": "#E5ECF6",
              "width": 0.5
             },
             "pattern": {
              "fillmode": "overlay",
              "size": 10,
              "solidity": 0.2
             }
            },
            "type": "barpolar"
           }
          ],
          "carpet": [
           {
            "aaxis": {
             "endlinecolor": "#2a3f5f",
             "gridcolor": "white",
             "linecolor": "white",
             "minorgridcolor": "white",
             "startlinecolor": "#2a3f5f"
            },
            "baxis": {
             "endlinecolor": "#2a3f5f",
             "gridcolor": "white",
             "linecolor": "white",
             "minorgridcolor": "white",
             "startlinecolor": "#2a3f5f"
            },
            "type": "carpet"
           }
          ],
          "choropleth": [
           {
            "colorbar": {
             "outlinewidth": 0,
             "ticks": ""
            },
            "type": "choropleth"
           }
          ],
          "contour": [
           {
            "colorbar": {
             "outlinewidth": 0,
             "ticks": ""
            },
            "colorscale": [
             [
              0,
              "#0d0887"
             ],
             [
              0.1111111111111111,
              "#46039f"
             ],
             [
              0.2222222222222222,
              "#7201a8"
             ],
             [
              0.3333333333333333,
              "#9c179e"
             ],
             [
              0.4444444444444444,
              "#bd3786"
             ],
             [
              0.5555555555555556,
              "#d8576b"
             ],
             [
              0.6666666666666666,
              "#ed7953"
             ],
             [
              0.7777777777777778,
              "#fb9f3a"
             ],
             [
              0.8888888888888888,
              "#fdca26"
             ],
             [
              1,
              "#f0f921"
             ]
            ],
            "type": "contour"
           }
          ],
          "contourcarpet": [
           {
            "colorbar": {
             "outlinewidth": 0,
             "ticks": ""
            },
            "type": "contourcarpet"
           }
          ],
          "heatmap": [
           {
            "colorbar": {
             "outlinewidth": 0,
             "ticks": ""
            },
            "colorscale": [
             [
              0,
              "#0d0887"
             ],
             [
              0.1111111111111111,
              "#46039f"
             ],
             [
              0.2222222222222222,
              "#7201a8"
             ],
             [
              0.3333333333333333,
              "#9c179e"
             ],
             [
              0.4444444444444444,
              "#bd3786"
             ],
             [
              0.5555555555555556,
              "#d8576b"
             ],
             [
              0.6666666666666666,
              "#ed7953"
             ],
             [
              0.7777777777777778,
              "#fb9f3a"
             ],
             [
              0.8888888888888888,
              "#fdca26"
             ],
             [
              1,
              "#f0f921"
             ]
            ],
            "type": "heatmap"
           }
          ],
          "heatmapgl": [
           {
            "colorbar": {
             "outlinewidth": 0,
             "ticks": ""
            },
            "colorscale": [
             [
              0,
              "#0d0887"
             ],
             [
              0.1111111111111111,
              "#46039f"
             ],
             [
              0.2222222222222222,
              "#7201a8"
             ],
             [
              0.3333333333333333,
              "#9c179e"
             ],
             [
              0.4444444444444444,
              "#bd3786"
             ],
             [
              0.5555555555555556,
              "#d8576b"
             ],
             [
              0.6666666666666666,
              "#ed7953"
             ],
             [
              0.7777777777777778,
              "#fb9f3a"
             ],
             [
              0.8888888888888888,
              "#fdca26"
             ],
             [
              1,
              "#f0f921"
             ]
            ],
            "type": "heatmapgl"
           }
          ],
          "histogram": [
           {
            "marker": {
             "pattern": {
              "fillmode": "overlay",
              "size": 10,
              "solidity": 0.2
             }
            },
            "type": "histogram"
           }
          ],
          "histogram2d": [
           {
            "colorbar": {
             "outlinewidth": 0,
             "ticks": ""
            },
            "colorscale": [
             [
              0,
              "#0d0887"
             ],
             [
              0.1111111111111111,
              "#46039f"
             ],
             [
              0.2222222222222222,
              "#7201a8"
             ],
             [
              0.3333333333333333,
              "#9c179e"
             ],
             [
              0.4444444444444444,
              "#bd3786"
             ],
             [
              0.5555555555555556,
              "#d8576b"
             ],
             [
              0.6666666666666666,
              "#ed7953"
             ],
             [
              0.7777777777777778,
              "#fb9f3a"
             ],
             [
              0.8888888888888888,
              "#fdca26"
             ],
             [
              1,
              "#f0f921"
             ]
            ],
            "type": "histogram2d"
           }
          ],
          "histogram2dcontour": [
           {
            "colorbar": {
             "outlinewidth": 0,
             "ticks": ""
            },
            "colorscale": [
             [
              0,
              "#0d0887"
             ],
             [
              0.1111111111111111,
              "#46039f"
             ],
             [
              0.2222222222222222,
              "#7201a8"
             ],
             [
              0.3333333333333333,
              "#9c179e"
             ],
             [
              0.4444444444444444,
              "#bd3786"
             ],
             [
              0.5555555555555556,
              "#d8576b"
             ],
             [
              0.6666666666666666,
              "#ed7953"
             ],
             [
              0.7777777777777778,
              "#fb9f3a"
             ],
             [
              0.8888888888888888,
              "#fdca26"
             ],
             [
              1,
              "#f0f921"
             ]
            ],
            "type": "histogram2dcontour"
           }
          ],
          "mesh3d": [
           {
            "colorbar": {
             "outlinewidth": 0,
             "ticks": ""
            },
            "type": "mesh3d"
           }
          ],
          "parcoords": [
           {
            "line": {
             "colorbar": {
              "outlinewidth": 0,
              "ticks": ""
             }
            },
            "type": "parcoords"
           }
          ],
          "pie": [
           {
            "automargin": true,
            "type": "pie"
           }
          ],
          "scatter": [
           {
            "fillpattern": {
             "fillmode": "overlay",
             "size": 10,
             "solidity": 0.2
            },
            "type": "scatter"
           }
          ],
          "scatter3d": [
           {
            "line": {
             "colorbar": {
              "outlinewidth": 0,
              "ticks": ""
             }
            },
            "marker": {
             "colorbar": {
              "outlinewidth": 0,
              "ticks": ""
             }
            },
            "type": "scatter3d"
           }
          ],
          "scattercarpet": [
           {
            "marker": {
             "colorbar": {
              "outlinewidth": 0,
              "ticks": ""
             }
            },
            "type": "scattercarpet"
           }
          ],
          "scattergeo": [
           {
            "marker": {
             "colorbar": {
              "outlinewidth": 0,
              "ticks": ""
             }
            },
            "type": "scattergeo"
           }
          ],
          "scattergl": [
           {
            "marker": {
             "colorbar": {
              "outlinewidth": 0,
              "ticks": ""
             }
            },
            "type": "scattergl"
           }
          ],
          "scattermapbox": [
           {
            "marker": {
             "colorbar": {
              "outlinewidth": 0,
              "ticks": ""
             }
            },
            "type": "scattermapbox"
           }
          ],
          "scatterpolar": [
           {
            "marker": {
             "colorbar": {
              "outlinewidth": 0,
              "ticks": ""
             }
            },
            "type": "scatterpolar"
           }
          ],
          "scatterpolargl": [
           {
            "marker": {
             "colorbar": {
              "outlinewidth": 0,
              "ticks": ""
             }
            },
            "type": "scatterpolargl"
           }
          ],
          "scatterternary": [
           {
            "marker": {
             "colorbar": {
              "outlinewidth": 0,
              "ticks": ""
             }
            },
            "type": "scatterternary"
           }
          ],
          "surface": [
           {
            "colorbar": {
             "outlinewidth": 0,
             "ticks": ""
            },
            "colorscale": [
             [
              0,
              "#0d0887"
             ],
             [
              0.1111111111111111,
              "#46039f"
             ],
             [
              0.2222222222222222,
              "#7201a8"
             ],
             [
              0.3333333333333333,
              "#9c179e"
             ],
             [
              0.4444444444444444,
              "#bd3786"
             ],
             [
              0.5555555555555556,
              "#d8576b"
             ],
             [
              0.6666666666666666,
              "#ed7953"
             ],
             [
              0.7777777777777778,
              "#fb9f3a"
             ],
             [
              0.8888888888888888,
              "#fdca26"
             ],
             [
              1,
              "#f0f921"
             ]
            ],
            "type": "surface"
           }
          ],
          "table": [
           {
            "cells": {
             "fill": {
              "color": "#EBF0F8"
             },
             "line": {
              "color": "white"
             }
            },
            "header": {
             "fill": {
              "color": "#C8D4E3"
             },
             "line": {
              "color": "white"
             }
            },
            "type": "table"
           }
          ]
         },
         "layout": {
          "annotationdefaults": {
           "arrowcolor": "#2a3f5f",
           "arrowhead": 0,
           "arrowwidth": 1
          },
          "autotypenumbers": "strict",
          "coloraxis": {
           "colorbar": {
            "outlinewidth": 0,
            "ticks": ""
           }
          },
          "colorscale": {
           "diverging": [
            [
             0,
             "#8e0152"
            ],
            [
             0.1,
             "#c51b7d"
            ],
            [
             0.2,
             "#de77ae"
            ],
            [
             0.3,
             "#f1b6da"
            ],
            [
             0.4,
             "#fde0ef"
            ],
            [
             0.5,
             "#f7f7f7"
            ],
            [
             0.6,
             "#e6f5d0"
            ],
            [
             0.7,
             "#b8e186"
            ],
            [
             0.8,
             "#7fbc41"
            ],
            [
             0.9,
             "#4d9221"
            ],
            [
             1,
             "#276419"
            ]
           ],
           "sequential": [
            [
             0,
             "#0d0887"
            ],
            [
             0.1111111111111111,
             "#46039f"
            ],
            [
             0.2222222222222222,
             "#7201a8"
            ],
            [
             0.3333333333333333,
             "#9c179e"
            ],
            [
             0.4444444444444444,
             "#bd3786"
            ],
            [
             0.5555555555555556,
             "#d8576b"
            ],
            [
             0.6666666666666666,
             "#ed7953"
            ],
            [
             0.7777777777777778,
             "#fb9f3a"
            ],
            [
             0.8888888888888888,
             "#fdca26"
            ],
            [
             1,
             "#f0f921"
            ]
           ],
           "sequentialminus": [
            [
             0,
             "#0d0887"
            ],
            [
             0.1111111111111111,
             "#46039f"
            ],
            [
             0.2222222222222222,
             "#7201a8"
            ],
            [
             0.3333333333333333,
             "#9c179e"
            ],
            [
             0.4444444444444444,
             "#bd3786"
            ],
            [
             0.5555555555555556,
             "#d8576b"
            ],
            [
             0.6666666666666666,
             "#ed7953"
            ],
            [
             0.7777777777777778,
             "#fb9f3a"
            ],
            [
             0.8888888888888888,
             "#fdca26"
            ],
            [
             1,
             "#f0f921"
            ]
           ]
          },
          "colorway": [
           "#636efa",
           "#EF553B",
           "#00cc96",
           "#ab63fa",
           "#FFA15A",
           "#19d3f3",
           "#FF6692",
           "#B6E880",
           "#FF97FF",
           "#FECB52"
          ],
          "font": {
           "color": "#2a3f5f"
          },
          "geo": {
           "bgcolor": "white",
           "lakecolor": "white",
           "landcolor": "#E5ECF6",
           "showlakes": true,
           "showland": true,
           "subunitcolor": "white"
          },
          "hoverlabel": {
           "align": "left"
          },
          "hovermode": "closest",
          "mapbox": {
           "style": "light"
          },
          "paper_bgcolor": "white",
          "plot_bgcolor": "#E5ECF6",
          "polar": {
           "angularaxis": {
            "gridcolor": "white",
            "linecolor": "white",
            "ticks": ""
           },
           "bgcolor": "#E5ECF6",
           "radialaxis": {
            "gridcolor": "white",
            "linecolor": "white",
            "ticks": ""
           }
          },
          "scene": {
           "xaxis": {
            "backgroundcolor": "#E5ECF6",
            "gridcolor": "white",
            "gridwidth": 2,
            "linecolor": "white",
            "showbackground": true,
            "ticks": "",
            "zerolinecolor": "white"
           },
           "yaxis": {
            "backgroundcolor": "#E5ECF6",
            "gridcolor": "white",
            "gridwidth": 2,
            "linecolor": "white",
            "showbackground": true,
            "ticks": "",
            "zerolinecolor": "white"
           },
           "zaxis": {
            "backgroundcolor": "#E5ECF6",
            "gridcolor": "white",
            "gridwidth": 2,
            "linecolor": "white",
            "showbackground": true,
            "ticks": "",
            "zerolinecolor": "white"
           }
          },
          "shapedefaults": {
           "line": {
            "color": "#2a3f5f"
           }
          },
          "ternary": {
           "aaxis": {
            "gridcolor": "white",
            "linecolor": "white",
            "ticks": ""
           },
           "baxis": {
            "gridcolor": "white",
            "linecolor": "white",
            "ticks": ""
           },
           "bgcolor": "#E5ECF6",
           "caxis": {
            "gridcolor": "white",
            "linecolor": "white",
            "ticks": ""
           }
          },
          "title": {
           "x": 0.05
          },
          "xaxis": {
           "automargin": true,
           "gridcolor": "white",
           "linecolor": "white",
           "ticks": "",
           "title": {
            "standoff": 15
           },
           "zerolinecolor": "white",
           "zerolinewidth": 2
          },
          "yaxis": {
           "automargin": true,
           "gridcolor": "white",
           "linecolor": "white",
           "ticks": "",
           "title": {
            "standoff": 15
           },
           "zerolinecolor": "white",
           "zerolinewidth": 2
          }
         }
        },
        "xaxis": {
         "anchor": "y",
         "autorange": true,
         "domain": [
          0,
          1
         ],
         "range": [
          -0.3,
          0.3
         ],
         "title": {
          "text": "index"
         },
         "type": "linear"
        },
        "yaxis": {
         "anchor": "x",
         "autorange": true,
         "domain": [
          0,
          1
         ],
         "range": [
          -540774.201995624,
          9274709.837916857
         ],
         "title": {
          "text": "value"
         },
         "type": "linear"
        }
       }
      },
      "image/png": "[encoded data removed]"
     },
     "metadata": {},
     "output_type": "display_data"
    }
   ],
   "source": [
    "px.line(atm_scenario)"
   ]
  }
 ],
 "metadata": {
  "kernelspec": {
   "display_name": "Python 3 (ipykernel)",
   "language": "python",
   "name": "python3"
  },
  "language_info": {
   "codemirror_mode": {
    "name": "ipython",
    "version": 3
   },
   "file_extension": ".py",
   "mimetype": "text/x-python",
   "name": "python",
   "nbconvert_exporter": "python",
   "pygments_lexer": "ipython3",
   "version": "3.12.4"
  }
 },
 "nbformat": 4,
 "nbformat_minor": 4
}
